{
 "cells": [
  {
   "cell_type": "raw",
   "metadata": {},
   "source": [
    "This notebook has code for sentiment analysis using different pre-built packages like Textblob, Afinn and SWN( for some reason, this is not working). Look at the end of the document for keyword analysis)"
   ]
  },
  {
   "cell_type": "code",
   "execution_count": 1,
   "metadata": {},
   "outputs": [
    {
     "name": "stderr",
     "output_type": "stream",
     "text": [
      "[nltk_data] Downloading package punkt to\n",
      "[nltk_data]     /Users/sherinnaha/nltk_data...\n",
      "[nltk_data]   Package punkt is already up-to-date!\n",
      "[nltk_data] Downloading package wordnet to\n",
      "[nltk_data]     /Users/sherinnaha/nltk_data...\n",
      "[nltk_data]   Package wordnet is already up-to-date!\n",
      "[nltk_data] Downloading package stopwords to\n",
      "[nltk_data]     /Users/sherinnaha/nltk_data...\n",
      "[nltk_data]   Package stopwords is already up-to-date!\n",
      "[nltk_data] Downloading package averaged_perceptron_tagger to\n",
      "[nltk_data]     /Users/sherinnaha/nltk_data...\n",
      "[nltk_data]   Package averaged_perceptron_tagger is already up-to-\n",
      "[nltk_data]       date!\n",
      "[nltk_data] Downloading package universal_tagset to\n",
      "[nltk_data]     /Users/sherinnaha/nltk_data...\n",
      "[nltk_data]   Package universal_tagset is already up-to-date!\n"
     ]
    }
   ],
   "source": [
    "#imports\n",
    "import csv\n",
    "import re\n",
    "import os\n",
    "import pandas as pd\n",
    "import numpy as np\n",
    "import nltk\n",
    "\n",
    "#for tweet tokenization\n",
    "from nltk import TweetTokenizer\n",
    "tt = TweetTokenizer()\n",
    "\n",
    "from nltk.stem import WordNetLemmatizer\n",
    "from nltk.corpus import sentiwordnet as swn\n",
    "from nltk.stem import PorterStemmer\n",
    "pstem = PorterStemmer()\n",
    "lem = WordNetLemmatizer()\n",
    "\n",
    "\n",
    "from nltk.corpus import stopwords\n",
    "from nltk.tokenize import word_tokenize\n",
    "nltk.download('punkt')\n",
    "nltk.download('wordnet')\n",
    "nltk.download('stopwords')\n",
    "nltk.download('averaged_perceptron_tagger')\n",
    "nltk.download('universal_tagset')\n",
    "\n",
    "from pprint import pprint\n",
    "from datetime import datetime\n",
    "\n",
    "#plotting\n",
    "import matplotlib\n",
    "import matplotlib.pyplot as plt\n",
    "import seaborn as sns\n",
    "import plotly.express as px\n",
    "%matplotlib inline\n",
    "\n",
    "\n",
    "#word count\n",
    "from collections import Counter\n",
    "\n",
    "\n",
    "#sentiment analysis\n",
    "from textblob import TextBlob\n",
    "\n",
    "# spacy for lemmatization\n",
    "import spacy;\n",
    "import en_core_web_sm\n",
    "\n",
    "# Topic modeling\n",
    "# Gensim\n",
    "import gensim\n",
    "import gensim.corpora as corpora\n",
    "from gensim.utils import simple_preprocess\n",
    "from gensim.models import CoherenceModel\n",
    "\n",
    "#escaping html characters\n",
    "from html.parser import HTMLParser\n",
    "html_parser = HTMLParser()"
   ]
  },
  {
   "cell_type": "code",
   "execution_count": 2,
   "metadata": {},
   "outputs": [
    {
     "data": {
      "text/html": [
       "<div>\n",
       "<style scoped>\n",
       "    .dataframe tbody tr th:only-of-type {\n",
       "        vertical-align: middle;\n",
       "    }\n",
       "\n",
       "    .dataframe tbody tr th {\n",
       "        vertical-align: top;\n",
       "    }\n",
       "\n",
       "    .dataframe thead th {\n",
       "        text-align: right;\n",
       "    }\n",
       "</style>\n",
       "<table border=\"1\" class=\"dataframe\">\n",
       "  <thead>\n",
       "    <tr style=\"text-align: right;\">\n",
       "      <th></th>\n",
       "      <th>Unnamed: 0</th>\n",
       "      <th>screen_name</th>\n",
       "      <th>username</th>\n",
       "      <th>user_id</th>\n",
       "      <th>tweet_id</th>\n",
       "      <th>tweet_url</th>\n",
       "      <th>timestamp</th>\n",
       "      <th>timestamp_epochs</th>\n",
       "      <th>text</th>\n",
       "      <th>text_html</th>\n",
       "      <th>...</th>\n",
       "      <th>has_media</th>\n",
       "      <th>img_urls</th>\n",
       "      <th>video_url</th>\n",
       "      <th>likes</th>\n",
       "      <th>retweets</th>\n",
       "      <th>replies</th>\n",
       "      <th>is_replied</th>\n",
       "      <th>is_reply_to</th>\n",
       "      <th>parent_tweet_id</th>\n",
       "      <th>reply_to_users</th>\n",
       "    </tr>\n",
       "  </thead>\n",
       "  <tbody>\n",
       "    <tr>\n",
       "      <th>0</th>\n",
       "      <td>0</td>\n",
       "      <td>KunklerKkunkler</td>\n",
       "      <td>Kathleen Kunkler</td>\n",
       "      <td>1334122008</td>\n",
       "      <td>1256009481042817024</td>\n",
       "      <td>/KunklerKkunkler/status/1256009481042817024</td>\n",
       "      <td>2020-04-30 23:56:10</td>\n",
       "      <td>1588290970</td>\n",
       "      <td>Highlight of the @MorganStanley Multicultural ...</td>\n",
       "      <td>&lt;p class=\"TweetTextSize js-tweet-text tweet-te...</td>\n",
       "      <td>...</td>\n",
       "      <td>False</td>\n",
       "      <td>[]</td>\n",
       "      <td>NaN</td>\n",
       "      <td>2</td>\n",
       "      <td>0</td>\n",
       "      <td>0</td>\n",
       "      <td>False</td>\n",
       "      <td>False</td>\n",
       "      <td>NaN</td>\n",
       "      <td>[]</td>\n",
       "    </tr>\n",
       "    <tr>\n",
       "      <th>1</th>\n",
       "      <td>1</td>\n",
       "      <td>donaldplawson</td>\n",
       "      <td>DonaldPatrickLawson</td>\n",
       "      <td>2800358706</td>\n",
       "      <td>1256000296041447425</td>\n",
       "      <td>/donaldplawson/status/1256000296041447425</td>\n",
       "      <td>2020-04-30 23:19:40</td>\n",
       "      <td>1588288780</td>\n",
       "      <td>Some might even say a hurricane is forming — a...</td>\n",
       "      <td>&lt;p class=\"TweetTextSize js-tweet-text tweet-te...</td>\n",
       "      <td>...</td>\n",
       "      <td>True</td>\n",
       "      <td>['https://pbs.twimg.com/media/EW40UI6WoAA92oC....</td>\n",
       "      <td>NaN</td>\n",
       "      <td>0</td>\n",
       "      <td>0</td>\n",
       "      <td>0</td>\n",
       "      <td>False</td>\n",
       "      <td>True</td>\n",
       "      <td>1.255984e+18</td>\n",
       "      <td>[{'screen_name': 'GemmaActon', 'user_id': '303...</td>\n",
       "    </tr>\n",
       "    <tr>\n",
       "      <th>2</th>\n",
       "      <td>2</td>\n",
       "      <td>Chrisgebb</td>\n",
       "      <td>Christopher Gebbie</td>\n",
       "      <td>837779402</td>\n",
       "      <td>1255987714664607745</td>\n",
       "      <td>/Chrisgebb/status/1255987714664607745</td>\n",
       "      <td>2020-04-30 22:29:40</td>\n",
       "      <td>1588285780</td>\n",
       "      <td>@MorganStanley\\n@POTUS\\nThat's a liehttps://ww...</td>\n",
       "      <td>&lt;p class=\"TweetTextSize js-tweet-text tweet-te...</td>\n",
       "      <td>...</td>\n",
       "      <td>False</td>\n",
       "      <td>[]</td>\n",
       "      <td>NaN</td>\n",
       "      <td>0</td>\n",
       "      <td>0</td>\n",
       "      <td>0</td>\n",
       "      <td>False</td>\n",
       "      <td>False</td>\n",
       "      <td>NaN</td>\n",
       "      <td>[]</td>\n",
       "    </tr>\n",
       "    <tr>\n",
       "      <th>3</th>\n",
       "      <td>3</td>\n",
       "      <td>JohnAByrne</td>\n",
       "      <td>JOHNABYRNE</td>\n",
       "      <td>16574209</td>\n",
       "      <td>1255983976218423297</td>\n",
       "      <td>/JohnAByrne/status/1255983976218423297</td>\n",
       "      <td>2020-04-30 22:14:49</td>\n",
       "      <td>1588284889</td>\n",
       "      <td>Joshua Lah left @jpmorgan in London to get his...</td>\n",
       "      <td>&lt;p class=\"TweetTextSize js-tweet-text tweet-te...</td>\n",
       "      <td>...</td>\n",
       "      <td>True</td>\n",
       "      <td>['https://pbs.twimg.com/media/EW4mxCXU4AEP8JE....</td>\n",
       "      <td>NaN</td>\n",
       "      <td>2</td>\n",
       "      <td>0</td>\n",
       "      <td>0</td>\n",
       "      <td>False</td>\n",
       "      <td>False</td>\n",
       "      <td>NaN</td>\n",
       "      <td>[]</td>\n",
       "    </tr>\n",
       "    <tr>\n",
       "      <th>4</th>\n",
       "      <td>4</td>\n",
       "      <td>PoetsAndQuants</td>\n",
       "      <td>Poets&amp;Quants</td>\n",
       "      <td>128938832</td>\n",
       "      <td>1255983860744990720</td>\n",
       "      <td>/PoetsAndQuants/status/1255983860744990720</td>\n",
       "      <td>2020-04-30 22:14:22</td>\n",
       "      <td>1588284862</td>\n",
       "      <td>Joshua Lah left @jpmorgan in London to get his...</td>\n",
       "      <td>&lt;p class=\"TweetTextSize js-tweet-text tweet-te...</td>\n",
       "      <td>...</td>\n",
       "      <td>True</td>\n",
       "      <td>['https://pbs.twimg.com/media/EW4mqR5U0AApfm_....</td>\n",
       "      <td>NaN</td>\n",
       "      <td>2</td>\n",
       "      <td>0</td>\n",
       "      <td>0</td>\n",
       "      <td>False</td>\n",
       "      <td>False</td>\n",
       "      <td>NaN</td>\n",
       "      <td>[]</td>\n",
       "    </tr>\n",
       "  </tbody>\n",
       "</table>\n",
       "<p>5 rows × 22 columns</p>\n",
       "</div>"
      ],
      "text/plain": [
       "   Unnamed: 0      screen_name             username     user_id  \\\n",
       "0           0  KunklerKkunkler     Kathleen Kunkler  1334122008   \n",
       "1           1    donaldplawson  DonaldPatrickLawson  2800358706   \n",
       "2           2        Chrisgebb   Christopher Gebbie   837779402   \n",
       "3           3       JohnAByrne           JOHNABYRNE    16574209   \n",
       "4           4   PoetsAndQuants         Poets&Quants   128938832   \n",
       "\n",
       "              tweet_id                                    tweet_url  \\\n",
       "0  1256009481042817024  /KunklerKkunkler/status/1256009481042817024   \n",
       "1  1256000296041447425    /donaldplawson/status/1256000296041447425   \n",
       "2  1255987714664607745        /Chrisgebb/status/1255987714664607745   \n",
       "3  1255983976218423297       /JohnAByrne/status/1255983976218423297   \n",
       "4  1255983860744990720   /PoetsAndQuants/status/1255983860744990720   \n",
       "\n",
       "             timestamp  timestamp_epochs  \\\n",
       "0  2020-04-30 23:56:10        1588290970   \n",
       "1  2020-04-30 23:19:40        1588288780   \n",
       "2  2020-04-30 22:29:40        1588285780   \n",
       "3  2020-04-30 22:14:49        1588284889   \n",
       "4  2020-04-30 22:14:22        1588284862   \n",
       "\n",
       "                                                text  \\\n",
       "0  Highlight of the @MorganStanley Multicultural ...   \n",
       "1  Some might even say a hurricane is forming — a...   \n",
       "2  @MorganStanley\\n@POTUS\\nThat's a liehttps://ww...   \n",
       "3  Joshua Lah left @jpmorgan in London to get his...   \n",
       "4  Joshua Lah left @jpmorgan in London to get his...   \n",
       "\n",
       "                                           text_html  ... has_media  \\\n",
       "0  <p class=\"TweetTextSize js-tweet-text tweet-te...  ...     False   \n",
       "1  <p class=\"TweetTextSize js-tweet-text tweet-te...  ...      True   \n",
       "2  <p class=\"TweetTextSize js-tweet-text tweet-te...  ...     False   \n",
       "3  <p class=\"TweetTextSize js-tweet-text tweet-te...  ...      True   \n",
       "4  <p class=\"TweetTextSize js-tweet-text tweet-te...  ...      True   \n",
       "\n",
       "                                            img_urls  video_url likes  \\\n",
       "0                                                 []        NaN     2   \n",
       "1  ['https://pbs.twimg.com/media/EW40UI6WoAA92oC....        NaN     0   \n",
       "2                                                 []        NaN     0   \n",
       "3  ['https://pbs.twimg.com/media/EW4mxCXU4AEP8JE....        NaN     2   \n",
       "4  ['https://pbs.twimg.com/media/EW4mqR5U0AApfm_....        NaN     2   \n",
       "\n",
       "   retweets  replies  is_replied  is_reply_to  parent_tweet_id  \\\n",
       "0         0        0       False        False              NaN   \n",
       "1         0        0       False         True     1.255984e+18   \n",
       "2         0        0       False        False              NaN   \n",
       "3         0        0       False        False              NaN   \n",
       "4         0        0       False        False              NaN   \n",
       "\n",
       "                                      reply_to_users  \n",
       "0                                                 []  \n",
       "1  [{'screen_name': 'GemmaActon', 'user_id': '303...  \n",
       "2                                                 []  \n",
       "3                                                 []  \n",
       "4                                                 []  \n",
       "\n",
       "[5 rows x 22 columns]"
      ]
     },
     "execution_count": 2,
     "metadata": {},
     "output_type": "execute_result"
    }
   ],
   "source": [
    "rb = pd.read_csv('../CSV/ms_tweets_final.csv')\n",
    "rb.head()"
   ]
  },
  {
   "cell_type": "code",
   "execution_count": 3,
   "metadata": {},
   "outputs": [
    {
     "data": {
      "text/html": [
       "<div>\n",
       "<style scoped>\n",
       "    .dataframe tbody tr th:only-of-type {\n",
       "        vertical-align: middle;\n",
       "    }\n",
       "\n",
       "    .dataframe tbody tr th {\n",
       "        vertical-align: top;\n",
       "    }\n",
       "\n",
       "    .dataframe thead th {\n",
       "        text-align: right;\n",
       "    }\n",
       "</style>\n",
       "<table border=\"1\" class=\"dataframe\">\n",
       "  <thead>\n",
       "    <tr style=\"text-align: right;\">\n",
       "      <th></th>\n",
       "      <th>Unnamed: 0</th>\n",
       "      <th>screen_name</th>\n",
       "      <th>username</th>\n",
       "      <th>user_id</th>\n",
       "      <th>tweet_id</th>\n",
       "      <th>tweet_url</th>\n",
       "      <th>timestamp</th>\n",
       "      <th>timestamp_epochs</th>\n",
       "      <th>text</th>\n",
       "      <th>text_html</th>\n",
       "      <th>...</th>\n",
       "      <th>has_media</th>\n",
       "      <th>img_urls</th>\n",
       "      <th>video_url</th>\n",
       "      <th>likes</th>\n",
       "      <th>retweets</th>\n",
       "      <th>replies</th>\n",
       "      <th>is_replied</th>\n",
       "      <th>is_reply_to</th>\n",
       "      <th>parent_tweet_id</th>\n",
       "      <th>reply_to_users</th>\n",
       "    </tr>\n",
       "  </thead>\n",
       "  <tbody>\n",
       "    <tr>\n",
       "      <th>0</th>\n",
       "      <td>0</td>\n",
       "      <td>KunklerKkunkler</td>\n",
       "      <td>Kathleen Kunkler</td>\n",
       "      <td>1334122008</td>\n",
       "      <td>1256009481042817024</td>\n",
       "      <td>/KunklerKkunkler/status/1256009481042817024</td>\n",
       "      <td>2020-04-30 23:56:10</td>\n",
       "      <td>1588290970</td>\n",
       "      <td>Highlight of the @MorganStanley Multicultural ...</td>\n",
       "      <td>&lt;p class=\"TweetTextSize js-tweet-text tweet-te...</td>\n",
       "      <td>...</td>\n",
       "      <td>False</td>\n",
       "      <td>[]</td>\n",
       "      <td>NaN</td>\n",
       "      <td>2</td>\n",
       "      <td>0</td>\n",
       "      <td>0</td>\n",
       "      <td>False</td>\n",
       "      <td>False</td>\n",
       "      <td>NaN</td>\n",
       "      <td>[]</td>\n",
       "    </tr>\n",
       "    <tr>\n",
       "      <th>1</th>\n",
       "      <td>1</td>\n",
       "      <td>donaldplawson</td>\n",
       "      <td>DonaldPatrickLawson</td>\n",
       "      <td>2800358706</td>\n",
       "      <td>1256000296041447425</td>\n",
       "      <td>/donaldplawson/status/1256000296041447425</td>\n",
       "      <td>2020-04-30 23:19:40</td>\n",
       "      <td>1588288780</td>\n",
       "      <td>Some might even say a hurricane is forming — a...</td>\n",
       "      <td>&lt;p class=\"TweetTextSize js-tweet-text tweet-te...</td>\n",
       "      <td>...</td>\n",
       "      <td>True</td>\n",
       "      <td>['https://pbs.twimg.com/media/EW40UI6WoAA92oC....</td>\n",
       "      <td>NaN</td>\n",
       "      <td>0</td>\n",
       "      <td>0</td>\n",
       "      <td>0</td>\n",
       "      <td>False</td>\n",
       "      <td>True</td>\n",
       "      <td>1.255984e+18</td>\n",
       "      <td>[{'screen_name': 'GemmaActon', 'user_id': '303...</td>\n",
       "    </tr>\n",
       "    <tr>\n",
       "      <th>2</th>\n",
       "      <td>2</td>\n",
       "      <td>Chrisgebb</td>\n",
       "      <td>Christopher Gebbie</td>\n",
       "      <td>837779402</td>\n",
       "      <td>1255987714664607745</td>\n",
       "      <td>/Chrisgebb/status/1255987714664607745</td>\n",
       "      <td>2020-04-30 22:29:40</td>\n",
       "      <td>1588285780</td>\n",
       "      <td>@MorganStanley\\n@POTUS\\nThat's a liehttps://ww...</td>\n",
       "      <td>&lt;p class=\"TweetTextSize js-tweet-text tweet-te...</td>\n",
       "      <td>...</td>\n",
       "      <td>False</td>\n",
       "      <td>[]</td>\n",
       "      <td>NaN</td>\n",
       "      <td>0</td>\n",
       "      <td>0</td>\n",
       "      <td>0</td>\n",
       "      <td>False</td>\n",
       "      <td>False</td>\n",
       "      <td>NaN</td>\n",
       "      <td>[]</td>\n",
       "    </tr>\n",
       "    <tr>\n",
       "      <th>3</th>\n",
       "      <td>3</td>\n",
       "      <td>JohnAByrne</td>\n",
       "      <td>JOHNABYRNE</td>\n",
       "      <td>16574209</td>\n",
       "      <td>1255983976218423297</td>\n",
       "      <td>/JohnAByrne/status/1255983976218423297</td>\n",
       "      <td>2020-04-30 22:14:49</td>\n",
       "      <td>1588284889</td>\n",
       "      <td>Joshua Lah left @jpmorgan in London to get his...</td>\n",
       "      <td>&lt;p class=\"TweetTextSize js-tweet-text tweet-te...</td>\n",
       "      <td>...</td>\n",
       "      <td>True</td>\n",
       "      <td>['https://pbs.twimg.com/media/EW4mxCXU4AEP8JE....</td>\n",
       "      <td>NaN</td>\n",
       "      <td>2</td>\n",
       "      <td>0</td>\n",
       "      <td>0</td>\n",
       "      <td>False</td>\n",
       "      <td>False</td>\n",
       "      <td>NaN</td>\n",
       "      <td>[]</td>\n",
       "    </tr>\n",
       "    <tr>\n",
       "      <th>4</th>\n",
       "      <td>4</td>\n",
       "      <td>PoetsAndQuants</td>\n",
       "      <td>Poets&amp;Quants</td>\n",
       "      <td>128938832</td>\n",
       "      <td>1255983860744990720</td>\n",
       "      <td>/PoetsAndQuants/status/1255983860744990720</td>\n",
       "      <td>2020-04-30 22:14:22</td>\n",
       "      <td>1588284862</td>\n",
       "      <td>Joshua Lah left @jpmorgan in London to get his...</td>\n",
       "      <td>&lt;p class=\"TweetTextSize js-tweet-text tweet-te...</td>\n",
       "      <td>...</td>\n",
       "      <td>True</td>\n",
       "      <td>['https://pbs.twimg.com/media/EW4mqR5U0AApfm_....</td>\n",
       "      <td>NaN</td>\n",
       "      <td>2</td>\n",
       "      <td>0</td>\n",
       "      <td>0</td>\n",
       "      <td>False</td>\n",
       "      <td>False</td>\n",
       "      <td>NaN</td>\n",
       "      <td>[]</td>\n",
       "    </tr>\n",
       "  </tbody>\n",
       "</table>\n",
       "<p>5 rows × 22 columns</p>\n",
       "</div>"
      ],
      "text/plain": [
       "   Unnamed: 0      screen_name             username     user_id  \\\n",
       "0           0  KunklerKkunkler     Kathleen Kunkler  1334122008   \n",
       "1           1    donaldplawson  DonaldPatrickLawson  2800358706   \n",
       "2           2        Chrisgebb   Christopher Gebbie   837779402   \n",
       "3           3       JohnAByrne           JOHNABYRNE    16574209   \n",
       "4           4   PoetsAndQuants         Poets&Quants   128938832   \n",
       "\n",
       "              tweet_id                                    tweet_url  \\\n",
       "0  1256009481042817024  /KunklerKkunkler/status/1256009481042817024   \n",
       "1  1256000296041447425    /donaldplawson/status/1256000296041447425   \n",
       "2  1255987714664607745        /Chrisgebb/status/1255987714664607745   \n",
       "3  1255983976218423297       /JohnAByrne/status/1255983976218423297   \n",
       "4  1255983860744990720   /PoetsAndQuants/status/1255983860744990720   \n",
       "\n",
       "             timestamp  timestamp_epochs  \\\n",
       "0  2020-04-30 23:56:10        1588290970   \n",
       "1  2020-04-30 23:19:40        1588288780   \n",
       "2  2020-04-30 22:29:40        1588285780   \n",
       "3  2020-04-30 22:14:49        1588284889   \n",
       "4  2020-04-30 22:14:22        1588284862   \n",
       "\n",
       "                                                text  \\\n",
       "0  Highlight of the @MorganStanley Multicultural ...   \n",
       "1  Some might even say a hurricane is forming — a...   \n",
       "2  @MorganStanley\\n@POTUS\\nThat's a liehttps://ww...   \n",
       "3  Joshua Lah left @jpmorgan in London to get his...   \n",
       "4  Joshua Lah left @jpmorgan in London to get his...   \n",
       "\n",
       "                                           text_html  ... has_media  \\\n",
       "0  <p class=\"TweetTextSize js-tweet-text tweet-te...  ...     False   \n",
       "1  <p class=\"TweetTextSize js-tweet-text tweet-te...  ...      True   \n",
       "2  <p class=\"TweetTextSize js-tweet-text tweet-te...  ...     False   \n",
       "3  <p class=\"TweetTextSize js-tweet-text tweet-te...  ...      True   \n",
       "4  <p class=\"TweetTextSize js-tweet-text tweet-te...  ...      True   \n",
       "\n",
       "                                            img_urls  video_url likes  \\\n",
       "0                                                 []        NaN     2   \n",
       "1  ['https://pbs.twimg.com/media/EW40UI6WoAA92oC....        NaN     0   \n",
       "2                                                 []        NaN     0   \n",
       "3  ['https://pbs.twimg.com/media/EW4mxCXU4AEP8JE....        NaN     2   \n",
       "4  ['https://pbs.twimg.com/media/EW4mqR5U0AApfm_....        NaN     2   \n",
       "\n",
       "   retweets  replies  is_replied  is_reply_to  parent_tweet_id  \\\n",
       "0         0        0       False        False              NaN   \n",
       "1         0        0       False         True     1.255984e+18   \n",
       "2         0        0       False        False              NaN   \n",
       "3         0        0       False        False              NaN   \n",
       "4         0        0       False        False              NaN   \n",
       "\n",
       "                                      reply_to_users  \n",
       "0                                                 []  \n",
       "1  [{'screen_name': 'GemmaActon', 'user_id': '303...  \n",
       "2                                                 []  \n",
       "3                                                 []  \n",
       "4                                                 []  \n",
       "\n",
       "[5 rows x 22 columns]"
      ]
     },
     "execution_count": 3,
     "metadata": {},
     "output_type": "execute_result"
    }
   ],
   "source": [
    "#dropping duplicates\n",
    "rb = rb.drop_duplicates(subset = 'text', keep = 'first').reset_index(drop = True)\n",
    "rb.head()"
   ]
  },
  {
   "cell_type": "code",
   "execution_count": 4,
   "metadata": {},
   "outputs": [
    {
     "data": {
      "text/plain": [
       "(43945, 22)"
      ]
     },
     "execution_count": 4,
     "metadata": {},
     "output_type": "execute_result"
    }
   ],
   "source": [
    "rb.shape"
   ]
  },
  {
   "cell_type": "markdown",
   "metadata": {},
   "source": [
    "# Data Cleaning\n",
    "This does not include Stemming, Lemmatization, Tokenization or Stop Words Removal"
   ]
  },
  {
   "cell_type": "code",
   "execution_count": 5,
   "metadata": {},
   "outputs": [
    {
     "data": {
      "text/plain": [
       "0    highlight of the @morganstanley multicultural ...\n",
       "1    some might even say a hurricane is forming — a...\n",
       "2    @morganstanley\\n@potus\\nthat's a liehttps://ww...\n",
       "3    joshua lah left @jpmorgan in london to get his...\n",
       "4    joshua lah left @jpmorgan in london to get his...\n",
       "Name: text, dtype: object"
      ]
     },
     "execution_count": 5,
     "metadata": {},
     "output_type": "execute_result"
    }
   ],
   "source": [
    "#convert to lower case\n",
    "rb['text'] = rb['text'].str.lower()\n",
    "rb.head()['text']"
   ]
  },
  {
   "cell_type": "code",
   "execution_count": 6,
   "metadata": {},
   "outputs": [
    {
     "name": "stderr",
     "output_type": "stream",
     "text": [
      "//anaconda3/lib/python3.7/site-packages/ipykernel_launcher.py:3: SettingWithCopyWarning: \n",
      "A value is trying to be set on a copy of a slice from a DataFrame.\n",
      "Try using .loc[row_indexer,col_indexer] = value instead\n",
      "\n",
      "See the caveats in the documentation: https://pandas.pydata.org/pandas-docs/stable/user_guide/indexing.html#returning-a-view-versus-a-copy\n",
      "  This is separate from the ipykernel package so we can avoid doing imports until\n"
     ]
    },
    {
     "data": {
      "text/plain": [
       "(43945, 2)"
      ]
     },
     "execution_count": 6,
     "metadata": {},
     "output_type": "execute_result"
    }
   ],
   "source": [
    "#Allocating a separate Dataframe for the tweet text\n",
    "tweets = rb[[\"text\"]]\n",
    "tweets['original_tweet']= tweets['text']\n",
    "tweets.shape"
   ]
  },
  {
   "cell_type": "code",
   "execution_count": 7,
   "metadata": {},
   "outputs": [
    {
     "name": "stderr",
     "output_type": "stream",
     "text": [
      "//anaconda3/lib/python3.7/site-packages/ipykernel_launcher.py:20: SettingWithCopyWarning: \n",
      "A value is trying to be set on a copy of a slice from a DataFrame.\n",
      "Try using .loc[row_indexer,col_indexer] = value instead\n",
      "\n",
      "See the caveats in the documentation: https://pandas.pydata.org/pandas-docs/stable/user_guide/indexing.html#returning-a-view-versus-a-copy\n"
     ]
    }
   ],
   "source": [
    "# get rid of all kinds of strange symbols from text\n",
    "def preprocess(Text):\n",
    "    #Text = Text.str.decode('utf-8')\n",
    "    Text = Text.str.replace(\"(<br/>)\", \"\")\n",
    "    Text = Text.str.replace('(<a).*(>).*(</a>)', '')\n",
    "    Text = Text.str.replace('(&amp)', '')\n",
    "    Text = Text.str.replace('(&gt)', '')\n",
    "    Text = Text.str.replace('(&lt)', '')\n",
    "    Text = Text.str.replace('(\\xa0…)', ' ')  \n",
    "    Text = Text.str.replace('(\\u2066)', ' ')\n",
    "    Text = Text.str.replace('(\\u2069)', ' ')\n",
    "    Text = Text.str.replace('(\\n)', ' ')\n",
    "    Text = Text.str.replace('+', '')\n",
    "    \n",
    "    #removing twitter images URL\n",
    "    Text = Text.str.replace('pic.twitter.com', '')\n",
    "    return Text\n",
    "\n",
    "#apply all the preprocess functions\n",
    "tweets['text'] = preprocess(tweets.text)\n"
   ]
  },
  {
   "cell_type": "code",
   "execution_count": 8,
   "metadata": {},
   "outputs": [
    {
     "data": {
      "text/plain": [
       "'highlight of the  multicultural leadership symposium last year was hearing your story   '"
      ]
     },
     "execution_count": 8,
     "metadata": {},
     "output_type": "execute_result"
    }
   ],
   "source": [
    "#Removing urls\n",
    "tweets = tweets.replace('https?:\\/\\/.*[\\r\\n]*', '', regex = True)\n",
    "\n",
    "\n",
    "#removing hashtags(including the word after #), numbers and twitter handles\n",
    "#removing random symbols after /\n",
    "tweets = tweets.replace(\"[0-9]+\", '', regex = True)\n",
    "tweets = tweets.replace(\"#[a-zA-Z0-9]+\", '', regex = True)\n",
    "tweets = tweets.replace(\"@[a-zA-Z0-9]+\", '', regex = True)\n",
    "tweets = tweets.replace(\"/[a-zA-Z0-9]+\", '', regex = True)\n",
    "tweets['text'][0]"
   ]
  },
  {
   "cell_type": "code",
   "execution_count": 9,
   "metadata": {},
   "outputs": [
    {
     "data": {
      "text/plain": [
       "'highlight of the  multicultural leadership symposium last year was hearing your story   '"
      ]
     },
     "execution_count": 9,
     "metadata": {},
     "output_type": "execute_result"
    }
   ],
   "source": [
    "tweets = tweets.replace(\"[,@!&\\;|'-?\\.$%_]\",'', regex = True)\n",
    "tweets['text'][0]"
   ]
  },
  {
   "cell_type": "code",
   "execution_count": 14,
   "metadata": {},
   "outputs": [],
   "source": [
    "tweets = tweets.replace(\"[\\\\u2018\\\\u2019]\", \"'\", regex = True)"
   ]
  },
  {
   "cell_type": "code",
   "execution_count": 15,
   "metadata": {},
   "outputs": [
    {
     "data": {
      "text/plain": [
       "'highlight of the multicultural leadership symposium last year was hearing your story '"
      ]
     },
     "execution_count": 15,
     "metadata": {},
     "output_type": "execute_result"
    }
   ],
   "source": [
    "tweets.text=tweets.text.astype(str)\n",
    "# remove whitespace and punctuations\n",
    "rm_punc = re.compile(r\"(\\W)\")\n",
    "rm_space = re.compile(r\"(\\s+)\")\n",
    "tweets.text = tweets.text.apply(lambda x: rm_punc.sub(' ', x))\n",
    "tweets.text = tweets.text.apply(lambda x: rm_space.sub(' ', x))\n",
    "tweets['text'][0]"
   ]
  },
  {
   "cell_type": "code",
   "execution_count": 16,
   "metadata": {},
   "outputs": [
    {
     "name": "stderr",
     "output_type": "stream",
     "text": [
      "//anaconda3/lib/python3.7/site-packages/ipykernel_launcher.py:2: DeprecationWarning: The unescape method is deprecated and will be removed in 3.5, use html.unescape() instead.\n",
      "  \n"
     ]
    }
   ],
   "source": [
    "#Escaping HTML Characters\n",
    "tweets.text.apply(lambda x: html_parser.unescape(x))\n",
    "\n",
    "#Setting to ASCII encoding\n",
    "tweets.text.apply(lambda x: x.encode('ascii','ignore'))\n",
    "tweets.text=tweets.text.astype(str)"
   ]
  },
  {
   "cell_type": "code",
   "execution_count": 17,
   "metadata": {},
   "outputs": [
    {
     "data": {
      "text/plain": [
       "'horay for friends'"
      ]
     },
     "execution_count": 17,
     "metadata": {},
     "output_type": "execute_result"
    }
   ],
   "source": [
    "tweets['text'][10]"
   ]
  },
  {
   "cell_type": "code",
   "execution_count": 18,
   "metadata": {},
   "outputs": [],
   "source": [
    "#dealing with contracted words\n",
    "CONTRACTION_MAP = {\n",
    "\"ain't\": \"is not\",\n",
    "\"aren't\": \"are not\",\n",
    "\"can't\": \"cannot\",\n",
    "\"can't've\": \"cannot have\",\n",
    "\"'cause\": \"because\",\n",
    "\"could've\": \"could have\",\n",
    "\"couldn't\": \"could not\",\n",
    "\"couldn't've\": \"could not have\",\n",
    "\"didn't\": \"did not\",\n",
    "\"doesn't\": \"does not\",\n",
    "\"don't\": \"do not\",\n",
    "\"hadn't\": \"had not\",\n",
    "\"hadn't've\": \"had not have\",\n",
    "\"hasn't\": \"has not\",\n",
    "\"haven't\": \"have not\",\n",
    "\"he'd\": \"he would\",\n",
    "\"he'd've\": \"he would have\",\n",
    "\"he'll\": \"he will\",\n",
    "\"he'll've\": \"he he will have\",\n",
    "\"he's\": \"he is\",\n",
    "\"how'd\": \"how did\",\n",
    "\"how'd'y\": \"how do you\",\n",
    "\"how'll\": \"how will\",\n",
    "\"how's\": \"how is\",\n",
    "\"I'd\": \"I would\",\n",
    "\"I'd've\": \"I would have\",\n",
    "\"I'll\": \"I will\",\n",
    "\"I'll've\": \"I will have\",\n",
    "\"I'm\": \"I am\",\n",
    "\"I've\": \"I have\",\n",
    "\"i'd\": \"i would\",\n",
    "\"i'd've\": \"i would have\",\n",
    "\"i'll\": \"i will\",\n",
    "\"i'll've\": \"i will have\",\n",
    "\"i'm\": \"i am\",\n",
    "\"i've\": \"i have\",\n",
    "\"isn't\": \"is not\",\n",
    "\"it'd\": \"it would\",\n",
    "\"it'd've\": \"it would have\",\n",
    "\"it'll\": \"it will\",\n",
    "\"it'll've\": \"it will have\",\n",
    "\"it's\": \"it is\",\n",
    "\"let's\": \"let us\",\n",
    "\"ma'am\": \"madam\",\n",
    "\"mayn't\": \"may not\",\n",
    "\"might've\": \"might have\",\n",
    "\"mightn't\": \"might not\",\n",
    "\"mightn't've\": \"might not have\",\n",
    "\"must've\": \"must have\",\n",
    "\"mustn't\": \"must not\",\n",
    "\"mustn't've\": \"must not have\",\n",
    "\"needn't\": \"need not\",\n",
    "\"needn't've\": \"need not have\",\n",
    "\"o'clock\": \"of the clock\",\n",
    "\"oughtn't\": \"ought not\",\n",
    "\"oughtn't've\": \"ought not have\",\n",
    "\"shan't\": \"shall not\",\n",
    "\"sha'n't\": \"shall not\",\n",
    "\"shan't've\": \"shall not have\",\n",
    "\"she'd\": \"she would\",\n",
    "\"she'd've\": \"she would have\",\n",
    "\"she'll\": \"she will\",\n",
    "\"she'll've\": \"she will have\",\n",
    "\"she's\": \"she is\",\n",
    "\"should've\": \"should have\",\n",
    "\"shouldn't\": \"should not\",\n",
    "\"shouldn't've\": \"should not have\",\n",
    "\"so've\": \"so have\",\n",
    "\"so's\": \"so as\",\n",
    "\"that'd\": \"that would\",\n",
    "\"that'd've\": \"that would have\",\n",
    "\"that's\": \"that is\",\n",
    "\"there'd\": \"there would\",\n",
    "\"there'd've\": \"there would have\",\n",
    "\"there's\": \"there is\",\n",
    "\"they'd\": \"they would\",\n",
    "\"they'd've\": \"they would have\",\n",
    "\"they'll\": \"they will\",\n",
    "\"they'll've\": \"they will have\",\n",
    "\"they're\": \"they are\",\n",
    "\"they've\": \"they have\",\n",
    "\"to've\": \"to have\",\n",
    "\"wasn't\": \"was not\",\n",
    "\"we'd\": \"we would\",\n",
    "\"we'd've\": \"we would have\",\n",
    "\"we'll\": \"we will\",\n",
    "\"we'll've\": \"we will have\",\n",
    "\"we're\": \"we are\",\n",
    "\"we've\": \"we have\",\n",
    "\"weren't\": \"were not\",\n",
    "\"what'll\": \"what will\",\n",
    "\"what'll've\": \"what will have\",\n",
    "\"what're\": \"what are\",\n",
    "\"what's\": \"what is\",\n",
    "\"what've\": \"what have\",\n",
    "\"when's\": \"when is\",\n",
    "\"when've\": \"when have\",\n",
    "\"where'd\": \"where did\",\n",
    "\"where's\": \"where is\",\n",
    "\"where've\": \"where have\",\n",
    "\"who'll\": \"who will\",\n",
    "\"who'll've\": \"who will have\",\n",
    "\"who's\": \"who is\",\n",
    "\"who've\": \"who have\",\n",
    "\"why's\": \"why is\",\n",
    "\"why've\": \"why have\",\n",
    "\"will've\": \"will have\",\n",
    "\"won't\": \"will not\",\n",
    "\"won't've\": \"will not have\",\n",
    "\"would've\": \"would have\",\n",
    "\"wouldn't\": \"would not\",\n",
    "\"wouldn't've\": \"would not have\",\n",
    "\"y'all\": \"you all\",\n",
    "\"y'all'd\": \"you all would\",\n",
    "\"y'all'd've\": \"you all would have\",\n",
    "\"y'all're\": \"you all are\",\n",
    "\"y'all've\": \"you all have\",\n",
    "\"you'd\": \"you would\",\n",
    "\"you'd've\": \"you would have\",\n",
    "\"you'll\": \"you will\",\n",
    "\"you'll've\": \"you will have\",\n",
    "\"you're\": \"you are\",\n",
    "\"you've\": \"you have\"\n",
    "}\n",
    "\n",
    "def expand_contractions(text, contraction_mapping=CONTRACTION_MAP):\n",
    "  contractions_pattern = re.compile('({})'.format('|'.join(contraction_mapping.keys())), \n",
    "                                      flags=re.IGNORECASE|re.DOTALL)\n",
    "  def expand_match(contraction):\n",
    "    match = contraction.group(0)\n",
    "    first_char = match[0]\n",
    "    expanded_contraction = contraction_mapping.get(match)\\\n",
    "                                if contraction_mapping.get(match)\\\n",
    "                                else contraction_mapping.get(match.lower())                       \n",
    "    expanded_contraction = first_char+expanded_contraction[1:]\n",
    "    return expanded_contraction\n",
    "        \n",
    "  expanded_text = contractions_pattern.sub(expand_match, text)\n",
    "  expanded_text = re.sub(\"'\", \"\", expanded_text)\n",
    "  return expanded_text\n"
   ]
  },
  {
   "cell_type": "code",
   "execution_count": 19,
   "metadata": {},
   "outputs": [],
   "source": [
    "def normalize_corpus(corpus):\n",
    "  normalized_corpus = []\n",
    "  \n",
    "  for doc in corpus:\n",
    "    doc = expand_contractions(doc)\n",
    "    normalized_corpus.append(doc)\n",
    "\n",
    "  return normalized_corpus\n",
    "\n",
    "tweets['cleaned'] = pd.Series(normalize_corpus(tweets['text']))"
   ]
  },
  {
   "cell_type": "code",
   "execution_count": 21,
   "metadata": {},
   "outputs": [
    {
     "data": {
      "text/html": [
       "<div>\n",
       "<style scoped>\n",
       "    .dataframe tbody tr th:only-of-type {\n",
       "        vertical-align: middle;\n",
       "    }\n",
       "\n",
       "    .dataframe tbody tr th {\n",
       "        vertical-align: top;\n",
       "    }\n",
       "\n",
       "    .dataframe thead th {\n",
       "        text-align: right;\n",
       "    }\n",
       "</style>\n",
       "<table border=\"1\" class=\"dataframe\">\n",
       "  <thead>\n",
       "    <tr style=\"text-align: right;\">\n",
       "      <th></th>\n",
       "      <th>text</th>\n",
       "      <th>original_tweet</th>\n",
       "      <th>timestamp</th>\n",
       "      <th>date</th>\n",
       "      <th>time</th>\n",
       "      <th>cleaned</th>\n",
       "    </tr>\n",
       "  </thead>\n",
       "  <tbody>\n",
       "    <tr>\n",
       "      <th>0</th>\n",
       "      <td>highlight of the multicultural leadership symp...</td>\n",
       "      <td>highlight of the  multicultural leadership sym...</td>\n",
       "      <td>2020-04-30 23:56:10</td>\n",
       "      <td>2020-04-30</td>\n",
       "      <td>23-56-10</td>\n",
       "      <td>highlight of the multicultural leadership symp...</td>\n",
       "    </tr>\n",
       "    <tr>\n",
       "      <th>1</th>\n",
       "      <td>some might even say a hurricane is forming and...</td>\n",
       "      <td>some might even say a hurricane is forming — a...</td>\n",
       "      <td>2020-04-30 23:19:40</td>\n",
       "      <td>2020-04-30</td>\n",
       "      <td>23-19-40</td>\n",
       "      <td>some might even say a hurricane is forming and...</td>\n",
       "    </tr>\n",
       "    <tr>\n",
       "      <th>2</th>\n",
       "      <td>thats a lie</td>\n",
       "      <td>\\n\\nthats a lie</td>\n",
       "      <td>2020-04-30 22:29:40</td>\n",
       "      <td>2020-04-30</td>\n",
       "      <td>22-29-40</td>\n",
       "      <td>thats a lie</td>\n",
       "    </tr>\n",
       "    <tr>\n",
       "      <th>3</th>\n",
       "      <td>joshua lah left in london to get his mba at an...</td>\n",
       "      <td>joshua lah left  in london to get his mba at  ...</td>\n",
       "      <td>2020-04-30 22:14:49</td>\n",
       "      <td>2020-04-30</td>\n",
       "      <td>22-14-49</td>\n",
       "      <td>joshua lah left in london to get his mba at an...</td>\n",
       "    </tr>\n",
       "    <tr>\n",
       "      <th>4</th>\n",
       "      <td>joshua lah left in london to get his mba at an...</td>\n",
       "      <td>joshua lah left  in london to get his mba at  ...</td>\n",
       "      <td>2020-04-30 22:14:22</td>\n",
       "      <td>2020-04-30</td>\n",
       "      <td>22-14-22</td>\n",
       "      <td>joshua lah left in london to get his mba at an...</td>\n",
       "    </tr>\n",
       "  </tbody>\n",
       "</table>\n",
       "</div>"
      ],
      "text/plain": [
       "                                                text  \\\n",
       "0  highlight of the multicultural leadership symp...   \n",
       "1  some might even say a hurricane is forming and...   \n",
       "2                                        thats a lie   \n",
       "3  joshua lah left in london to get his mba at an...   \n",
       "4  joshua lah left in london to get his mba at an...   \n",
       "\n",
       "                                      original_tweet            timestamp  \\\n",
       "0  highlight of the  multicultural leadership sym...  2020-04-30 23:56:10   \n",
       "1  some might even say a hurricane is forming — a...  2020-04-30 23:19:40   \n",
       "2                                    \\n\\nthats a lie  2020-04-30 22:29:40   \n",
       "3  joshua lah left  in london to get his mba at  ...  2020-04-30 22:14:49   \n",
       "4  joshua lah left  in london to get his mba at  ...  2020-04-30 22:14:22   \n",
       "\n",
       "         date      time                                            cleaned  \n",
       "0  2020-04-30  23-56-10  highlight of the multicultural leadership symp...  \n",
       "1  2020-04-30  23-19-40  some might even say a hurricane is forming and...  \n",
       "2  2020-04-30  22-29-40                                        thats a lie  \n",
       "3  2020-04-30  22-14-49  joshua lah left in london to get his mba at an...  \n",
       "4  2020-04-30  22-14-22  joshua lah left in london to get his mba at an...  "
      ]
     },
     "execution_count": 21,
     "metadata": {},
     "output_type": "execute_result"
    }
   ],
   "source": [
    "#Extracting date and time\n",
    "#extracting date and time\n",
    "tweets['timestamp']= rb['timestamp']\n",
    "tweets['date'] = pd.to_datetime(tweets['timestamp'], errors='coerce').dt.strftime('%Y-%m-%d')\n",
    "tweets['time'] = pd.to_datetime(tweets['timestamp'], errors='coerce').dt.strftime(\"%H-%M-%S\")\n",
    "\n",
    "tweets.head()"
   ]
  },
  {
   "cell_type": "code",
   "execution_count": 22,
   "metadata": {},
   "outputs": [],
   "source": [
    "tweets_copy1 = tweets.copy()"
   ]
  },
  {
   "cell_type": "code",
   "execution_count": 23,
   "metadata": {},
   "outputs": [
    {
     "data": {
      "text/plain": [
       "['i', 'me', 'my', 'myself', 'we']"
      ]
     },
     "execution_count": 23,
     "metadata": {},
     "output_type": "execute_result"
    }
   ],
   "source": [
    "#remove stop words\n",
    "stop_words = stopwords.words('english')\n",
    "stop_words[0:5]"
   ]
  },
  {
   "cell_type": "code",
   "execution_count": 24,
   "metadata": {},
   "outputs": [
    {
     "data": {
      "text/plain": [
       "0     highlight multicultural leadership symposium l...\n",
       "1     might even say hurricane forming already name ...\n",
       "2                                             thats lie\n",
       "3     joshua lah left london get mba gives credit me...\n",
       "4     joshua lah left london get mba gives credit me...\n",
       "5     want thank taking time speak team today life s...\n",
       "6     well done morgan stanley ascend leader keep pu...\n",
       "7     amid crisis joining coalition organizations st...\n",
       "8     ummmmmm case noticed jack ass governors alread...\n",
       "9     called unique crappy ways brokers like nichola...\n",
       "10                                        horay friends\n",
       "11    dont phd read algorithmically model lmms move ...\n",
       "12    huge win became fifth major bank pledge not fu...\n",
       "13    thanks smart online commentary helping inspire...\n",
       "14                  renew season everything sucks thank\n",
       "15                                         entertaining\n",
       "16                                                  wow\n",
       "17    report environmental consulting services indus...\n",
       "18                                            snpw list\n",
       "19         infection im worried thieving dirt bags like\n",
       "Name: cleaned, dtype: object"
      ]
     },
     "execution_count": 24,
     "metadata": {},
     "output_type": "execute_result"
    }
   ],
   "source": [
    "not_stopwords = ['not']\n",
    "common_words =['please',\n",
    "               'the','would','could','can','may','must', 'should'\n",
    "              # 'us','i','you','this','we','me','that','it',\n",
    "               'de','s','pic','t','m','en','la','que','don','re','e','el','ca', 'wealth', 'management']\n",
    "stop_words.extend(word for word in common_words if word not in stop_words)\n",
    "final_stop_words = set([word for word in stop_words if word not in not_stopwords])\n",
    "tweets_copy1.cleaned = tweets_copy1.cleaned.apply(lambda x: ' '.join([word for word in x.split() if word not in final_stop_words]))\n",
    "    \n",
    "tweets_copy1['cleaned'].head(20)"
   ]
  },
  {
   "cell_type": "code",
   "execution_count": 25,
   "metadata": {},
   "outputs": [
    {
     "data": {
      "text/plain": [
       "0     highlight multicultural leadership symposium l...\n",
       "1     might even say hurricane forming already name ...\n",
       "2                                             thats lie\n",
       "3     joshua lah left london get mba gives credit me...\n",
       "4     joshua lah left london get mba gives credit me...\n",
       "5     want thank taking time speak team today life s...\n",
       "6     well done morgan stanley ascend leader keep pu...\n",
       "7     amid crisis joining coalition organizations st...\n",
       "8     ummmmmm case noticed jack ass governors alread...\n",
       "9     called unique crappy ways brokers like nichola...\n",
       "10                                        horay friends\n",
       "11    dont phd read algorithmically model lmms move ...\n",
       "12    huge win became fifth major bank pledge not fu...\n",
       "13    thanks smart online commentary helping inspire...\n",
       "14                  renew season everything sucks thank\n",
       "15                                         entertaining\n",
       "16                                                  wow\n",
       "17    report environmental consulting services indus...\n",
       "18                                            snpw list\n",
       "19         infection im worried thieving dirt bags like\n",
       "Name: cleaned, dtype: object"
      ]
     },
     "execution_count": 25,
     "metadata": {},
     "output_type": "execute_result"
    }
   ],
   "source": [
    "# remove whitespace and punctuations\n",
    "rm_punc = re.compile(r\"(\\W)\")\n",
    "rm_space = re.compile(r\"(\\s+)\")\n",
    "tweets_copy1.text = tweets_copy1.text.apply(lambda x: rm_punc.sub(' ', x))\n",
    "tweets_copy1.text = tweets_copy1.text.apply(lambda x: rm_space.sub(' ', x))\n",
    "tweets_copy1['cleaned'].head(20)"
   ]
  },
  {
   "cell_type": "code",
   "execution_count": 26,
   "metadata": {},
   "outputs": [
    {
     "data": {
      "text/plain": [
       "0    highlight multicultural leadership symposium l...\n",
       "1    might even say hurricane forming already name ...\n",
       "2                                            thats lie\n",
       "3    joshua lah left london get mba gives credit me...\n",
       "4    joshua lah left london get mba gives credit me...\n",
       "Name: cleaned, dtype: object"
      ]
     },
     "execution_count": 26,
     "metadata": {},
     "output_type": "execute_result"
    }
   ],
   "source": [
    "stop_words.extend(word for word in common_words if word not in stop_words)\n",
    "final_stop_words = set([word for word in stop_words if word not in not_stopwords])\n",
    "tweets_copy1.cleaned = tweets_copy1.cleaned.apply(lambda x: ' '.join([word for word in x.split() if word not in final_stop_words]))\n",
    "    \n",
    "tweets_copy1['cleaned'].head()"
   ]
  },
  {
   "cell_type": "code",
   "execution_count": 27,
   "metadata": {},
   "outputs": [
    {
     "data": {
      "text/html": [
       "<div>\n",
       "<style scoped>\n",
       "    .dataframe tbody tr th:only-of-type {\n",
       "        vertical-align: middle;\n",
       "    }\n",
       "\n",
       "    .dataframe tbody tr th {\n",
       "        vertical-align: top;\n",
       "    }\n",
       "\n",
       "    .dataframe thead th {\n",
       "        text-align: right;\n",
       "    }\n",
       "</style>\n",
       "<table border=\"1\" class=\"dataframe\">\n",
       "  <thead>\n",
       "    <tr style=\"text-align: right;\">\n",
       "      <th></th>\n",
       "      <th>text</th>\n",
       "      <th>original_tweet</th>\n",
       "      <th>timestamp</th>\n",
       "      <th>date</th>\n",
       "      <th>time</th>\n",
       "      <th>cleaned</th>\n",
       "      <th>sw_clean</th>\n",
       "    </tr>\n",
       "  </thead>\n",
       "  <tbody>\n",
       "    <tr>\n",
       "      <th>0</th>\n",
       "      <td>highlight of the multicultural leadership symp...</td>\n",
       "      <td>highlight of the  multicultural leadership sym...</td>\n",
       "      <td>2020-04-30 23:56:10</td>\n",
       "      <td>2020-04-30</td>\n",
       "      <td>23-56-10</td>\n",
       "      <td>highlight of the multicultural leadership symp...</td>\n",
       "      <td>highlight multicultural leadership symposium l...</td>\n",
       "    </tr>\n",
       "    <tr>\n",
       "      <th>1</th>\n",
       "      <td>some might even say a hurricane is forming and...</td>\n",
       "      <td>some might even say a hurricane is forming — a...</td>\n",
       "      <td>2020-04-30 23:19:40</td>\n",
       "      <td>2020-04-30</td>\n",
       "      <td>23-19-40</td>\n",
       "      <td>some might even say a hurricane is forming and...</td>\n",
       "      <td>might even say hurricane forming already name ...</td>\n",
       "    </tr>\n",
       "    <tr>\n",
       "      <th>2</th>\n",
       "      <td>thats a lie</td>\n",
       "      <td>\\n\\nthats a lie</td>\n",
       "      <td>2020-04-30 22:29:40</td>\n",
       "      <td>2020-04-30</td>\n",
       "      <td>22-29-40</td>\n",
       "      <td>thats a lie</td>\n",
       "      <td>thats lie</td>\n",
       "    </tr>\n",
       "    <tr>\n",
       "      <th>3</th>\n",
       "      <td>joshua lah left in london to get his mba at an...</td>\n",
       "      <td>joshua lah left  in london to get his mba at  ...</td>\n",
       "      <td>2020-04-30 22:14:49</td>\n",
       "      <td>2020-04-30</td>\n",
       "      <td>22-14-49</td>\n",
       "      <td>joshua lah left in london to get his mba at an...</td>\n",
       "      <td>joshua lah left london get mba gives credit me...</td>\n",
       "    </tr>\n",
       "    <tr>\n",
       "      <th>4</th>\n",
       "      <td>joshua lah left in london to get his mba at an...</td>\n",
       "      <td>joshua lah left  in london to get his mba at  ...</td>\n",
       "      <td>2020-04-30 22:14:22</td>\n",
       "      <td>2020-04-30</td>\n",
       "      <td>22-14-22</td>\n",
       "      <td>joshua lah left in london to get his mba at an...</td>\n",
       "      <td>joshua lah left london get mba gives credit me...</td>\n",
       "    </tr>\n",
       "  </tbody>\n",
       "</table>\n",
       "</div>"
      ],
      "text/plain": [
       "                                                text  \\\n",
       "0  highlight of the multicultural leadership symp...   \n",
       "1  some might even say a hurricane is forming and...   \n",
       "2                                        thats a lie   \n",
       "3  joshua lah left in london to get his mba at an...   \n",
       "4  joshua lah left in london to get his mba at an...   \n",
       "\n",
       "                                      original_tweet            timestamp  \\\n",
       "0  highlight of the  multicultural leadership sym...  2020-04-30 23:56:10   \n",
       "1  some might even say a hurricane is forming — a...  2020-04-30 23:19:40   \n",
       "2                                    \\n\\nthats a lie  2020-04-30 22:29:40   \n",
       "3  joshua lah left  in london to get his mba at  ...  2020-04-30 22:14:49   \n",
       "4  joshua lah left  in london to get his mba at  ...  2020-04-30 22:14:22   \n",
       "\n",
       "         date      time                                            cleaned  \\\n",
       "0  2020-04-30  23-56-10  highlight of the multicultural leadership symp...   \n",
       "1  2020-04-30  23-19-40  some might even say a hurricane is forming and...   \n",
       "2  2020-04-30  22-29-40                                        thats a lie   \n",
       "3  2020-04-30  22-14-49  joshua lah left in london to get his mba at an...   \n",
       "4  2020-04-30  22-14-22  joshua lah left in london to get his mba at an...   \n",
       "\n",
       "                                            sw_clean  \n",
       "0  highlight multicultural leadership symposium l...  \n",
       "1  might even say hurricane forming already name ...  \n",
       "2                                          thats lie  \n",
       "3  joshua lah left london get mba gives credit me...  \n",
       "4  joshua lah left london get mba gives credit me...  "
      ]
     },
     "execution_count": 27,
     "metadata": {},
     "output_type": "execute_result"
    }
   ],
   "source": [
    "#new column with a stopwords less column\n",
    "tweets['sw_clean'] = tweets_copy1['cleaned']\n",
    "tweets.head()"
   ]
  },
  {
   "cell_type": "markdown",
   "metadata": {},
   "source": [
    "# vader sentiment analysis"
   ]
  },
  {
   "cell_type": "code",
   "execution_count": 28,
   "metadata": {},
   "outputs": [
    {
     "name": "stderr",
     "output_type": "stream",
     "text": [
      "[nltk_data] Downloading package vader_lexicon to\n",
      "[nltk_data]     /Users/sherinnaha/nltk_data...\n",
      "[nltk_data]   Package vader_lexicon is already up-to-date!\n"
     ]
    },
    {
     "data": {
      "text/plain": [
       "True"
      ]
     },
     "execution_count": 28,
     "metadata": {},
     "output_type": "execute_result"
    }
   ],
   "source": [
    "import pandas as pd\n",
    "from nltk.sentiment.vader import SentimentIntensityAnalyzer\n",
    "import numpy as np\n",
    "import matplotlib.pyplot as plt\n",
    "\n",
    "import nltk\n",
    "nltk.download('vader_lexicon')"
   ]
  },
  {
   "cell_type": "code",
   "execution_count": 32,
   "metadata": {},
   "outputs": [
    {
     "data": {
      "text/html": [
       "<div>\n",
       "<style scoped>\n",
       "    .dataframe tbody tr th:only-of-type {\n",
       "        vertical-align: middle;\n",
       "    }\n",
       "\n",
       "    .dataframe tbody tr th {\n",
       "        vertical-align: top;\n",
       "    }\n",
       "\n",
       "    .dataframe thead th {\n",
       "        text-align: right;\n",
       "    }\n",
       "</style>\n",
       "<table border=\"1\" class=\"dataframe\">\n",
       "  <thead>\n",
       "    <tr style=\"text-align: right;\">\n",
       "      <th></th>\n",
       "      <th>text</th>\n",
       "      <th>original_tweet</th>\n",
       "      <th>timestamp</th>\n",
       "      <th>date</th>\n",
       "      <th>time</th>\n",
       "      <th>cleaned</th>\n",
       "      <th>sw_clean</th>\n",
       "      <th>Vader Sentiment Scores</th>\n",
       "    </tr>\n",
       "  </thead>\n",
       "  <tbody>\n",
       "    <tr>\n",
       "      <th>0</th>\n",
       "      <td>highlight of the multicultural leadership symp...</td>\n",
       "      <td>highlight of the  multicultural leadership sym...</td>\n",
       "      <td>2020-04-30 23:56:10</td>\n",
       "      <td>2020-04-30</td>\n",
       "      <td>23-56-10</td>\n",
       "      <td>highlight of the multicultural leadership symp...</td>\n",
       "      <td>highlight multicultural leadership symposium l...</td>\n",
       "      <td>{'neg': 0.0, 'neu': 0.821, 'pos': 0.179, 'comp...</td>\n",
       "    </tr>\n",
       "    <tr>\n",
       "      <th>1</th>\n",
       "      <td>some might even say a hurricane is forming and...</td>\n",
       "      <td>some might even say a hurricane is forming — a...</td>\n",
       "      <td>2020-04-30 23:19:40</td>\n",
       "      <td>2020-04-30</td>\n",
       "      <td>23-19-40</td>\n",
       "      <td>some might even say a hurricane is forming and...</td>\n",
       "      <td>might even say hurricane forming already name ...</td>\n",
       "      <td>{'neg': 0.0, 'neu': 0.901, 'pos': 0.099, 'comp...</td>\n",
       "    </tr>\n",
       "    <tr>\n",
       "      <th>2</th>\n",
       "      <td>thats a lie</td>\n",
       "      <td>\\n\\nthats a lie</td>\n",
       "      <td>2020-04-30 22:29:40</td>\n",
       "      <td>2020-04-30</td>\n",
       "      <td>22-29-40</td>\n",
       "      <td>thats a lie</td>\n",
       "      <td>thats lie</td>\n",
       "      <td>{'neg': 0.0, 'neu': 1.0, 'pos': 0.0, 'compound...</td>\n",
       "    </tr>\n",
       "    <tr>\n",
       "      <th>3</th>\n",
       "      <td>joshua lah left in london to get his mba at an...</td>\n",
       "      <td>joshua lah left  in london to get his mba at  ...</td>\n",
       "      <td>2020-04-30 22:14:49</td>\n",
       "      <td>2020-04-30</td>\n",
       "      <td>22-14-49</td>\n",
       "      <td>joshua lah left in london to get his mba at an...</td>\n",
       "      <td>joshua lah left london get mba gives credit me...</td>\n",
       "      <td>{'neg': 0.0, 'neu': 0.866, 'pos': 0.134, 'comp...</td>\n",
       "    </tr>\n",
       "    <tr>\n",
       "      <th>4</th>\n",
       "      <td>joshua lah left in london to get his mba at an...</td>\n",
       "      <td>joshua lah left  in london to get his mba at  ...</td>\n",
       "      <td>2020-04-30 22:14:22</td>\n",
       "      <td>2020-04-30</td>\n",
       "      <td>22-14-22</td>\n",
       "      <td>joshua lah left in london to get his mba at an...</td>\n",
       "      <td>joshua lah left london get mba gives credit me...</td>\n",
       "      <td>{'neg': 0.0, 'neu': 0.866, 'pos': 0.134, 'comp...</td>\n",
       "    </tr>\n",
       "  </tbody>\n",
       "</table>\n",
       "</div>"
      ],
      "text/plain": [
       "                                                text  \\\n",
       "0  highlight of the multicultural leadership symp...   \n",
       "1  some might even say a hurricane is forming and...   \n",
       "2                                        thats a lie   \n",
       "3  joshua lah left in london to get his mba at an...   \n",
       "4  joshua lah left in london to get his mba at an...   \n",
       "\n",
       "                                      original_tweet            timestamp  \\\n",
       "0  highlight of the  multicultural leadership sym...  2020-04-30 23:56:10   \n",
       "1  some might even say a hurricane is forming — a...  2020-04-30 23:19:40   \n",
       "2                                    \\n\\nthats a lie  2020-04-30 22:29:40   \n",
       "3  joshua lah left  in london to get his mba at  ...  2020-04-30 22:14:49   \n",
       "4  joshua lah left  in london to get his mba at  ...  2020-04-30 22:14:22   \n",
       "\n",
       "         date      time                                            cleaned  \\\n",
       "0  2020-04-30  23-56-10  highlight of the multicultural leadership symp...   \n",
       "1  2020-04-30  23-19-40  some might even say a hurricane is forming and...   \n",
       "2  2020-04-30  22-29-40                                        thats a lie   \n",
       "3  2020-04-30  22-14-49  joshua lah left in london to get his mba at an...   \n",
       "4  2020-04-30  22-14-22  joshua lah left in london to get his mba at an...   \n",
       "\n",
       "                                            sw_clean  \\\n",
       "0  highlight multicultural leadership symposium l...   \n",
       "1  might even say hurricane forming already name ...   \n",
       "2                                          thats lie   \n",
       "3  joshua lah left london get mba gives credit me...   \n",
       "4  joshua lah left london get mba gives credit me...   \n",
       "\n",
       "                              Vader Sentiment Scores  \n",
       "0  {'neg': 0.0, 'neu': 0.821, 'pos': 0.179, 'comp...  \n",
       "1  {'neg': 0.0, 'neu': 0.901, 'pos': 0.099, 'comp...  \n",
       "2  {'neg': 0.0, 'neu': 1.0, 'pos': 0.0, 'compound...  \n",
       "3  {'neg': 0.0, 'neu': 0.866, 'pos': 0.134, 'comp...  \n",
       "4  {'neg': 0.0, 'neu': 0.866, 'pos': 0.134, 'comp...  "
      ]
     },
     "execution_count": 32,
     "metadata": {},
     "output_type": "execute_result"
    }
   ],
   "source": [
    "sent = SentimentIntensityAnalyzer()\n",
    "tweets['Vader Sentiment Scores'] = tweets['text'].apply(sent.polarity_scores)\n",
    "tweets.head()"
   ]
  },
  {
   "cell_type": "code",
   "execution_count": 34,
   "metadata": {},
   "outputs": [
    {
     "name": "stderr",
     "output_type": "stream",
     "text": [
      "//anaconda3/lib/python3.7/site-packages/ipykernel_launcher.py:6: SettingWithCopyWarning: \n",
      "A value is trying to be set on a copy of a slice from a DataFrame\n",
      "\n",
      "See the caveats in the documentation: https://pandas.pydata.org/pandas-docs/stable/user_guide/indexing.html#returning-a-view-versus-a-copy\n",
      "  \n",
      "//anaconda3/lib/python3.7/site-packages/ipykernel_launcher.py:7: SettingWithCopyWarning: \n",
      "A value is trying to be set on a copy of a slice from a DataFrame\n",
      "\n",
      "See the caveats in the documentation: https://pandas.pydata.org/pandas-docs/stable/user_guide/indexing.html#returning-a-view-versus-a-copy\n",
      "  import sys\n",
      "//anaconda3/lib/python3.7/site-packages/ipykernel_launcher.py:8: SettingWithCopyWarning: \n",
      "A value is trying to be set on a copy of a slice from a DataFrame\n",
      "\n",
      "See the caveats in the documentation: https://pandas.pydata.org/pandas-docs/stable/user_guide/indexing.html#returning-a-view-versus-a-copy\n",
      "  \n"
     ]
    }
   ],
   "source": [
    "# get the polarity of each text\n",
    "tweets['polarity'] = tweets['text'].map(lambda text: TextBlob(text).sentiment.polarity)\n",
    "\n",
    "# classify sentiment into positive and negative ones\n",
    "tweets['sentiment'] = ''\n",
    "tweets['sentiment'][tweets['polarity'] > 0] = 'positive'\n",
    "tweets['sentiment'][tweets['polarity'] == 0] = 'neutral'\n",
    "tweets['sentiment'][tweets['polarity'] < 0] = 'negative'"
   ]
  },
  {
   "cell_type": "code",
   "execution_count": 35,
   "metadata": {},
   "outputs": [
    {
     "name": "stderr",
     "output_type": "stream",
     "text": [
      "//anaconda3/lib/python3.7/site-packages/ipykernel_launcher.py:3: SettingWithCopyWarning: \n",
      "A value is trying to be set on a copy of a slice from a DataFrame\n",
      "\n",
      "See the caveats in the documentation: https://pandas.pydata.org/pandas-docs/stable/user_guide/indexing.html#returning-a-view-versus-a-copy\n",
      "  This is separate from the ipykernel package so we can avoid doing imports until\n",
      "//anaconda3/lib/python3.7/site-packages/ipykernel_launcher.py:4: SettingWithCopyWarning: \n",
      "A value is trying to be set on a copy of a slice from a DataFrame\n",
      "\n",
      "See the caveats in the documentation: https://pandas.pydata.org/pandas-docs/stable/user_guide/indexing.html#returning-a-view-versus-a-copy\n",
      "  after removing the cwd from sys.path.\n",
      "//anaconda3/lib/python3.7/site-packages/ipykernel_launcher.py:5: SettingWithCopyWarning: \n",
      "A value is trying to be set on a copy of a slice from a DataFrame\n",
      "\n",
      "See the caveats in the documentation: https://pandas.pydata.org/pandas-docs/stable/user_guide/indexing.html#returning-a-view-versus-a-copy\n",
      "  \"\"\"\n",
      "//anaconda3/lib/python3.7/site-packages/ipykernel_launcher.py:6: SettingWithCopyWarning: \n",
      "A value is trying to be set on a copy of a slice from a DataFrame\n",
      "\n",
      "See the caveats in the documentation: https://pandas.pydata.org/pandas-docs/stable/user_guide/indexing.html#returning-a-view-versus-a-copy\n",
      "  \n"
     ]
    },
    {
     "data": {
      "text/html": [
       "<div>\n",
       "<style scoped>\n",
       "    .dataframe tbody tr th:only-of-type {\n",
       "        vertical-align: middle;\n",
       "    }\n",
       "\n",
       "    .dataframe tbody tr th {\n",
       "        vertical-align: top;\n",
       "    }\n",
       "\n",
       "    .dataframe thead th {\n",
       "        text-align: right;\n",
       "    }\n",
       "</style>\n",
       "<table border=\"1\" class=\"dataframe\">\n",
       "  <thead>\n",
       "    <tr style=\"text-align: right;\">\n",
       "      <th></th>\n",
       "      <th>text</th>\n",
       "      <th>original_tweet</th>\n",
       "      <th>timestamp</th>\n",
       "      <th>date</th>\n",
       "      <th>time</th>\n",
       "      <th>cleaned</th>\n",
       "      <th>sw_clean</th>\n",
       "      <th>Vader Sentiment Scores</th>\n",
       "      <th>polarity</th>\n",
       "      <th>sentiment</th>\n",
       "      <th>Negative</th>\n",
       "      <th>Neutral</th>\n",
       "      <th>Positive</th>\n",
       "      <th>Compound</th>\n",
       "    </tr>\n",
       "  </thead>\n",
       "  <tbody>\n",
       "    <tr>\n",
       "      <th>0</th>\n",
       "      <td>highlight of the multicultural leadership symp...</td>\n",
       "      <td>highlight of the  multicultural leadership sym...</td>\n",
       "      <td>2020-04-30 23:56:10</td>\n",
       "      <td>2020-04-30</td>\n",
       "      <td>23-56-10</td>\n",
       "      <td>highlight of the multicultural leadership symp...</td>\n",
       "      <td>highlight multicultural leadership symposium l...</td>\n",
       "      <td>{'neg': 0.0, 'neu': 0.821, 'pos': 0.179, 'comp...</td>\n",
       "      <td>0.00</td>\n",
       "      <td>neutral</td>\n",
       "      <td>0</td>\n",
       "      <td>0.821</td>\n",
       "      <td>0.179</td>\n",
       "      <td>0.34</td>\n",
       "    </tr>\n",
       "    <tr>\n",
       "      <th>1</th>\n",
       "      <td>some might even say a hurricane is forming and...</td>\n",
       "      <td>some might even say a hurricane is forming — a...</td>\n",
       "      <td>2020-04-30 23:19:40</td>\n",
       "      <td>2020-04-30</td>\n",
       "      <td>23-19-40</td>\n",
       "      <td>some might even say a hurricane is forming and...</td>\n",
       "      <td>might even say hurricane forming already name ...</td>\n",
       "      <td>{'neg': 0.0, 'neu': 0.901, 'pos': 0.099, 'comp...</td>\n",
       "      <td>0.25</td>\n",
       "      <td>positive</td>\n",
       "      <td>0</td>\n",
       "      <td>0.901</td>\n",
       "      <td>0.099</td>\n",
       "      <td>0.3182</td>\n",
       "    </tr>\n",
       "    <tr>\n",
       "      <th>2</th>\n",
       "      <td>thats a lie</td>\n",
       "      <td>\\n\\nthats a lie</td>\n",
       "      <td>2020-04-30 22:29:40</td>\n",
       "      <td>2020-04-30</td>\n",
       "      <td>22-29-40</td>\n",
       "      <td>thats a lie</td>\n",
       "      <td>thats lie</td>\n",
       "      <td>{'neg': 0.0, 'neu': 1.0, 'pos': 0.0, 'compound...</td>\n",
       "      <td>0.00</td>\n",
       "      <td>neutral</td>\n",
       "      <td>0</td>\n",
       "      <td>1</td>\n",
       "      <td>0</td>\n",
       "      <td>0</td>\n",
       "    </tr>\n",
       "    <tr>\n",
       "      <th>3</th>\n",
       "      <td>joshua lah left in london to get his mba at an...</td>\n",
       "      <td>joshua lah left  in london to get his mba at  ...</td>\n",
       "      <td>2020-04-30 22:14:49</td>\n",
       "      <td>2020-04-30</td>\n",
       "      <td>22-14-49</td>\n",
       "      <td>joshua lah left in london to get his mba at an...</td>\n",
       "      <td>joshua lah left london get mba gives credit me...</td>\n",
       "      <td>{'neg': 0.0, 'neu': 0.866, 'pos': 0.134, 'comp...</td>\n",
       "      <td>0.00</td>\n",
       "      <td>neutral</td>\n",
       "      <td>0</td>\n",
       "      <td>0.866</td>\n",
       "      <td>0.134</td>\n",
       "      <td>0.7096</td>\n",
       "    </tr>\n",
       "    <tr>\n",
       "      <th>4</th>\n",
       "      <td>joshua lah left in london to get his mba at an...</td>\n",
       "      <td>joshua lah left  in london to get his mba at  ...</td>\n",
       "      <td>2020-04-30 22:14:22</td>\n",
       "      <td>2020-04-30</td>\n",
       "      <td>22-14-22</td>\n",
       "      <td>joshua lah left in london to get his mba at an...</td>\n",
       "      <td>joshua lah left london get mba gives credit me...</td>\n",
       "      <td>{'neg': 0.0, 'neu': 0.866, 'pos': 0.134, 'comp...</td>\n",
       "      <td>0.00</td>\n",
       "      <td>neutral</td>\n",
       "      <td>0</td>\n",
       "      <td>0.866</td>\n",
       "      <td>0.134</td>\n",
       "      <td>0.7096</td>\n",
       "    </tr>\n",
       "  </tbody>\n",
       "</table>\n",
       "</div>"
      ],
      "text/plain": [
       "                                                text  \\\n",
       "0  highlight of the multicultural leadership symp...   \n",
       "1  some might even say a hurricane is forming and...   \n",
       "2                                        thats a lie   \n",
       "3  joshua lah left in london to get his mba at an...   \n",
       "4  joshua lah left in london to get his mba at an...   \n",
       "\n",
       "                                      original_tweet            timestamp  \\\n",
       "0  highlight of the  multicultural leadership sym...  2020-04-30 23:56:10   \n",
       "1  some might even say a hurricane is forming — a...  2020-04-30 23:19:40   \n",
       "2                                    \\n\\nthats a lie  2020-04-30 22:29:40   \n",
       "3  joshua lah left  in london to get his mba at  ...  2020-04-30 22:14:49   \n",
       "4  joshua lah left  in london to get his mba at  ...  2020-04-30 22:14:22   \n",
       "\n",
       "         date      time                                            cleaned  \\\n",
       "0  2020-04-30  23-56-10  highlight of the multicultural leadership symp...   \n",
       "1  2020-04-30  23-19-40  some might even say a hurricane is forming and...   \n",
       "2  2020-04-30  22-29-40                                        thats a lie   \n",
       "3  2020-04-30  22-14-49  joshua lah left in london to get his mba at an...   \n",
       "4  2020-04-30  22-14-22  joshua lah left in london to get his mba at an...   \n",
       "\n",
       "                                            sw_clean  \\\n",
       "0  highlight multicultural leadership symposium l...   \n",
       "1  might even say hurricane forming already name ...   \n",
       "2                                          thats lie   \n",
       "3  joshua lah left london get mba gives credit me...   \n",
       "4  joshua lah left london get mba gives credit me...   \n",
       "\n",
       "                              Vader Sentiment Scores  polarity sentiment  \\\n",
       "0  {'neg': 0.0, 'neu': 0.821, 'pos': 0.179, 'comp...      0.00   neutral   \n",
       "1  {'neg': 0.0, 'neu': 0.901, 'pos': 0.099, 'comp...      0.25  positive   \n",
       "2  {'neg': 0.0, 'neu': 1.0, 'pos': 0.0, 'compound...      0.00   neutral   \n",
       "3  {'neg': 0.0, 'neu': 0.866, 'pos': 0.134, 'comp...      0.00   neutral   \n",
       "4  {'neg': 0.0, 'neu': 0.866, 'pos': 0.134, 'comp...      0.00   neutral   \n",
       "\n",
       "  Negative Neutral Positive Compound  \n",
       "0        0   0.821    0.179     0.34  \n",
       "1        0   0.901    0.099   0.3182  \n",
       "2        0       1        0        0  \n",
       "3        0   0.866    0.134   0.7096  \n",
       "4        0   0.866    0.134   0.7096  "
      ]
     },
     "execution_count": 35,
     "metadata": {},
     "output_type": "execute_result"
    }
   ],
   "source": [
    "tweets['Negative'] = tweets['Neutral'] = tweets['Positive'] = tweets['Compound']=''\n",
    "for i in range(tweets.shape[0]):\n",
    "    tweets['Negative'][i] = tweets['Vader Sentiment Scores'][i]['neg']\n",
    "    tweets['Neutral'][i] = tweets['Vader Sentiment Scores'][i]['neu']\n",
    "    tweets['Positive'][i] = tweets['Vader Sentiment Scores'][i]['pos']\n",
    "    tweets['Compound'][i] = tweets['Vader Sentiment Scores'][i]['compound']\n",
    "tweets.head()"
   ]
  },
  {
   "cell_type": "code",
   "execution_count": 27,
   "metadata": {},
   "outputs": [],
   "source": [
    "tweets.to_csv('rb_sentiments.csv')"
   ]
  },
  {
   "cell_type": "code",
   "execution_count": 28,
   "metadata": {},
   "outputs": [
    {
     "data": {
      "text/plain": [
       "text                       object\n",
       "original_tweet             object\n",
       "cleaned                    object\n",
       "timestamp                  object\n",
       "date                       object\n",
       "time                       object\n",
       "sw_clean                   object\n",
       "Vader Sentiment Scores     object\n",
       "polarity                  float64\n",
       "sentiment                  object\n",
       "Negative                   object\n",
       "Neutral                    object\n",
       "Positive                   object\n",
       "Compound                   object\n",
       "dtype: object"
      ]
     },
     "execution_count": 28,
     "metadata": {},
     "output_type": "execute_result"
    }
   ],
   "source": [
    "tweets.dtypes"
   ]
  },
  {
   "cell_type": "code",
   "execution_count": 29,
   "metadata": {},
   "outputs": [
    {
     "data": {
      "text/html": [
       "<div>\n",
       "<style scoped>\n",
       "    .dataframe tbody tr th:only-of-type {\n",
       "        vertical-align: middle;\n",
       "    }\n",
       "\n",
       "    .dataframe tbody tr th {\n",
       "        vertical-align: top;\n",
       "    }\n",
       "\n",
       "    .dataframe thead th {\n",
       "        text-align: right;\n",
       "    }\n",
       "</style>\n",
       "<table border=\"1\" class=\"dataframe\">\n",
       "  <thead>\n",
       "    <tr style=\"text-align: right;\">\n",
       "      <th></th>\n",
       "      <th>text</th>\n",
       "      <th>original_tweet</th>\n",
       "      <th>cleaned</th>\n",
       "      <th>timestamp</th>\n",
       "      <th>date</th>\n",
       "      <th>time</th>\n",
       "      <th>sw_clean</th>\n",
       "      <th>Vader Sentiment Scores</th>\n",
       "      <th>polarity</th>\n",
       "      <th>sentiment</th>\n",
       "      <th>Negative</th>\n",
       "      <th>Neutral</th>\n",
       "      <th>Positive</th>\n",
       "      <th>Compound</th>\n",
       "    </tr>\n",
       "  </thead>\n",
       "  <tbody>\n",
       "    <tr>\n",
       "      <th>0</th>\n",
       "      <td>cashwerkz asx cwz australias leading online ca...</td>\n",
       "      <td>cashwerkz asx cwz australias leading online ca...</td>\n",
       "      <td>cashwerkz asx cwz australias leading online ca...</td>\n",
       "      <td>2020-04-08 23:27:17</td>\n",
       "      <td>2020-04-08</td>\n",
       "      <td>23-27-17</td>\n",
       "      <td>cashwerkz asx cwz australias leading online ca...</td>\n",
       "      <td>{'neg': 0.0, 'neu': 1.0, 'pos': 0.0, 'compound...</td>\n",
       "      <td>0.000000</td>\n",
       "      <td>neutral</td>\n",
       "      <td>0</td>\n",
       "      <td>1</td>\n",
       "      <td>0</td>\n",
       "      <td>0</td>\n",
       "    </tr>\n",
       "    <tr>\n",
       "      <th>1</th>\n",
       "      <td>i just saw how the coronavirus affects stock m...</td>\n",
       "      <td>i just saw how the coronavirus affects stock m...</td>\n",
       "      <td>i just saw how the coronavirus affects stock m...</td>\n",
       "      <td>2020-04-08 22:14:33</td>\n",
       "      <td>2020-04-08</td>\n",
       "      <td>22-14-33</td>\n",
       "      <td>saw coronavirus affects stock markets robo adv...</td>\n",
       "      <td>{'neg': 0.0, 'neu': 1.0, 'pos': 0.0, 'compound...</td>\n",
       "      <td>0.000000</td>\n",
       "      <td>neutral</td>\n",
       "      <td>0</td>\n",
       "      <td>1</td>\n",
       "      <td>0</td>\n",
       "      <td>0</td>\n",
       "    </tr>\n",
       "    <tr>\n",
       "      <th>2</th>\n",
       "      <td>ubs has increased to the maximum fee customers...</td>\n",
       "      <td>ubs has increased to  the maximum fee customer...</td>\n",
       "      <td>ubs has increased to the maximum fee customers...</td>\n",
       "      <td>2020-04-08 20:50:04</td>\n",
       "      <td>2020-04-08</td>\n",
       "      <td>20-50-04</td>\n",
       "      <td>ubs increased maximum fee customers charged di...</td>\n",
       "      <td>{'neg': 0.091, 'neu': 0.86, 'pos': 0.049, 'com...</td>\n",
       "      <td>-0.033333</td>\n",
       "      <td>negative</td>\n",
       "      <td>0.091</td>\n",
       "      <td>0.86</td>\n",
       "      <td>0.049</td>\n",
       "      <td>-0.2023</td>\n",
       "    </tr>\n",
       "    <tr>\n",
       "      <th>3</th>\n",
       "      <td>ubs raises maximum fee on robo accounts servic...</td>\n",
       "      <td>ubs raises maximum fee on robo accounts servic...</td>\n",
       "      <td>ubs raises maximum fee on robo accounts servic...</td>\n",
       "      <td>2020-04-08 20:20:45</td>\n",
       "      <td>2020-04-08</td>\n",
       "      <td>20-20-45</td>\n",
       "      <td>ubs raises maximum fee robo accounts serviced ...</td>\n",
       "      <td>{'neg': 0.0, 'neu': 1.0, 'pos': 0.0, 'compound...</td>\n",
       "      <td>0.000000</td>\n",
       "      <td>neutral</td>\n",
       "      <td>0</td>\n",
       "      <td>1</td>\n",
       "      <td>0</td>\n",
       "      <td>0</td>\n",
       "    </tr>\n",
       "    <tr>\n",
       "      <th>4</th>\n",
       "      <td>build wealth and make your life simpler by inv...</td>\n",
       "      <td>build wealth and make your life simpler by inv...</td>\n",
       "      <td>build wealth and make your life simpler by inv...</td>\n",
       "      <td>2020-04-08 19:06:06</td>\n",
       "      <td>2020-04-08</td>\n",
       "      <td>19-06-06</td>\n",
       "      <td>build make life simpler investing roboadvisor ...</td>\n",
       "      <td>{'neg': 0.0, 'neu': 0.882, 'pos': 0.118, 'comp...</td>\n",
       "      <td>0.000000</td>\n",
       "      <td>neutral</td>\n",
       "      <td>0</td>\n",
       "      <td>0.882</td>\n",
       "      <td>0.118</td>\n",
       "      <td>0.4939</td>\n",
       "    </tr>\n",
       "  </tbody>\n",
       "</table>\n",
       "</div>"
      ],
      "text/plain": [
       "                                                text  \\\n",
       "0  cashwerkz asx cwz australias leading online ca...   \n",
       "1  i just saw how the coronavirus affects stock m...   \n",
       "2  ubs has increased to the maximum fee customers...   \n",
       "3  ubs raises maximum fee on robo accounts servic...   \n",
       "4  build wealth and make your life simpler by inv...   \n",
       "\n",
       "                                      original_tweet  \\\n",
       "0  cashwerkz asx cwz australias leading online ca...   \n",
       "1  i just saw how the coronavirus affects stock m...   \n",
       "2  ubs has increased to  the maximum fee customer...   \n",
       "3  ubs raises maximum fee on robo accounts servic...   \n",
       "4  build wealth and make your life simpler by inv...   \n",
       "\n",
       "                                             cleaned            timestamp  \\\n",
       "0  cashwerkz asx cwz australias leading online ca...  2020-04-08 23:27:17   \n",
       "1  i just saw how the coronavirus affects stock m...  2020-04-08 22:14:33   \n",
       "2  ubs has increased to the maximum fee customers...  2020-04-08 20:50:04   \n",
       "3  ubs raises maximum fee on robo accounts servic...  2020-04-08 20:20:45   \n",
       "4  build wealth and make your life simpler by inv...  2020-04-08 19:06:06   \n",
       "\n",
       "         date      time                                           sw_clean  \\\n",
       "0  2020-04-08  23-27-17  cashwerkz asx cwz australias leading online ca...   \n",
       "1  2020-04-08  22-14-33  saw coronavirus affects stock markets robo adv...   \n",
       "2  2020-04-08  20-50-04  ubs increased maximum fee customers charged di...   \n",
       "3  2020-04-08  20-20-45  ubs raises maximum fee robo accounts serviced ...   \n",
       "4  2020-04-08  19-06-06  build make life simpler investing roboadvisor ...   \n",
       "\n",
       "                              Vader Sentiment Scores  polarity sentiment  \\\n",
       "0  {'neg': 0.0, 'neu': 1.0, 'pos': 0.0, 'compound...  0.000000   neutral   \n",
       "1  {'neg': 0.0, 'neu': 1.0, 'pos': 0.0, 'compound...  0.000000   neutral   \n",
       "2  {'neg': 0.091, 'neu': 0.86, 'pos': 0.049, 'com... -0.033333  negative   \n",
       "3  {'neg': 0.0, 'neu': 1.0, 'pos': 0.0, 'compound...  0.000000   neutral   \n",
       "4  {'neg': 0.0, 'neu': 0.882, 'pos': 0.118, 'comp...  0.000000   neutral   \n",
       "\n",
       "  Negative Neutral Positive Compound  \n",
       "0        0       1        0        0  \n",
       "1        0       1        0        0  \n",
       "2    0.091    0.86    0.049  -0.2023  \n",
       "3        0       1        0        0  \n",
       "4        0   0.882    0.118   0.4939  "
      ]
     },
     "execution_count": 29,
     "metadata": {},
     "output_type": "execute_result"
    }
   ],
   "source": [
    "tweets.head()"
   ]
  },
  {
   "cell_type": "code",
   "execution_count": 30,
   "metadata": {},
   "outputs": [],
   "source": [
    "# tweets['date'] = pd.to_datetime(tweets['date'])\n",
    "# start_date='2019-06-01'\n",
    "# end_date='2019-06-30'\n",
    "# (tweets[(tweets['date'] > start_date) & (tweets['date'] <= end_date)]).to_csv('June19_esg.csv')"
   ]
  },
  {
   "cell_type": "markdown",
   "metadata": {},
   "source": [
    "# Topic Vectors  - LDA Mallet"
   ]
  },
  {
   "cell_type": "code",
   "execution_count": 33,
   "metadata": {},
   "outputs": [],
   "source": [
    "mallet_path = '../mallet-2.0.8/bin/mallet' # update this path\n",
    "#finding optimal number of topics based on coherence value\n",
    "\n",
    "start=10\n",
    "limit=30\n",
    "step=2\n",
    "random = 155\n",
    "\n",
    "tweets_copy2 = tweets.copy()"
   ]
  },
  {
   "cell_type": "code",
   "execution_count": 34,
   "metadata": {},
   "outputs": [],
   "source": [
    "def sent_to_words(sentences):\n",
    "    for sentence in sentences:\n",
    "        yield(gensim.utils.simple_preprocess(str(sentence), deacc=True))  # deacc=True removes punctuations\n",
    "\n",
    "data_words = list(sent_to_words(tweets_copy2['cleaned']))\n",
    "\n",
    "#remove remaining stop words\n",
    "data_words = [[word for word in doc if word not in final_stop_words] for doc in data_words]\n",
    "\n",
    "\n",
    "# restrict words to only noun, adjective, verb and adverb\n",
    "def lemmatization(texts, allowed_postags = ['NOUN', 'ADJ', 'VERB', 'ADV']):\n",
    "  \"\"\"https://spacy.io/api/annotation\"\"\"\n",
    "  texts_out = []\n",
    "  for sent in texts:\n",
    "    doc = nlp(\" \".join(sent)) \n",
    "    texts_out.append([token.lemma_ for token in doc if token.pos_ in allowed_postags])\n",
    "    \n",
    "  return texts_out\n",
    "\n",
    "# Initialize spacy 'en' model, keeping only tagger component (for efficiency)\n",
    "nlp = spacy.load('en_core_web_sm', disable=['parser', 'ner'])\n",
    "# Do lemmatization keeping only noun, adj, vb, adv\n",
    "data_lemmatized = lemmatization(data_words, allowed_postags=['NOUN', 'ADJ', 'VERB', 'ADV'])"
   ]
  },
  {
   "cell_type": "code",
   "execution_count": 35,
   "metadata": {},
   "outputs": [],
   "source": [
    "# Create Dictionary\n",
    "id2word = corpora.Dictionary(data_lemmatized)\n",
    "# Create Corpus\n",
    "texts = data_lemmatized\n",
    "# Term Document Frequency\n",
    "corpus = [id2word.doc2bow(text) for text in texts]"
   ]
  },
  {
   "cell_type": "code",
   "execution_count": 36,
   "metadata": {},
   "outputs": [],
   "source": [
    "#Write the function to compute coherence values for each model. \n",
    "# This could help us choose how many topics should be included into our model.\n",
    "\n",
    "def compute_coherence_values(dictionary, corpus, texts, limit, start=1, step=1):\n",
    "    \"\"\"\n",
    "    Compute c_v coherence for various number of topics\n",
    "\n",
    "    Parameters:\n",
    "    ----------\n",
    "    dictionary : Gensim dictionary\n",
    "    corpus : Gensim corpus\n",
    "    texts : List of input texts\n",
    "    limit : Max num of topics\n",
    "\n",
    "    Returns:\n",
    "    -------\n",
    "    model_list : List of LDA topic models\n",
    "    coherence_values : Coherence values corresponding to the LDA model with respective number of topics\n",
    "    \"\"\"\n",
    "    coherence_values = []\n",
    "    model_list = []\n",
    "    for num_topics in range(start, limit, step):\n",
    "      model = gensim.models.wrappers.LdaMallet(mallet_path, corpus=corpus, num_topics=num_topics, id2word=id2word, random_seed=random)\n",
    "                                                 #,random_seed=random\n",
    "      model.save('model5.lda')\n",
    "      model_list.append(model)\n",
    "      coherencemodel = CoherenceModel(model=model, texts=texts, dictionary=dictionary, coherence='c_v')\n",
    "      coherence_values.append(coherencemodel.get_coherence())\n",
    "\n",
    "    return model_list, coherence_values"
   ]
  },
  {
   "cell_type": "code",
   "execution_count": 37,
   "metadata": {},
   "outputs": [],
   "source": [
    "#model_list, coherence_values = compute_coherence_values(dictionary=id2word, corpus=corpus, texts=data_lemmatized, start=start, limit=limit, step=step)"
   ]
  },
  {
   "cell_type": "code",
   "execution_count": null,
   "metadata": {},
   "outputs": [],
   "source": [
    "# plot the coherence values when number of topics equals to different numbers\n",
    "x = range(start, limit, step)\n",
    "plt.plot(x, coherence_values)\n",
    "plt.xlabel(\"Num Topics\")\n",
    "plt.ylabel(\"Coherence score\")\n",
    "plt.legend((\"coherence_values\"), loc='best')\n",
    "plt.show()"
   ]
  },
  {
   "cell_type": "code",
   "execution_count": null,
   "metadata": {},
   "outputs": [],
   "source": [
    "#plot the coherence values when number of topics equals to different numbers\n",
    "for m, cv in zip(x, coherence_values):\n",
    "    print(\"Num Topics =\", m, \" has Coherence Value of\", round(cv, 4))"
   ]
  },
  {
   "cell_type": "markdown",
   "metadata": {},
   "source": [
    "## LDA Mallet - Topics and Keywords"
   ]
  },
  {
   "cell_type": "code",
   "execution_count": 38,
   "metadata": {},
   "outputs": [
    {
     "name": "stdout",
     "output_type": "stream",
     "text": [
      "[(0,\n",
      "  '0.217*\"investment\" + 0.129*\"fee\" + 0.106*\"low\" + 0.060*\"top\" + '\n",
      "  '0.053*\"digital\" + 0.051*\"performance\"'),\n",
      " (1,\n",
      "  '0.325*\"advisor\" + 0.151*\"robo\" + 0.040*\"big\" + 0.023*\"thing\" + '\n",
      "  '0.022*\"world\" + 0.014*\"decision\"'),\n",
      " (2,\n",
      "  '0.173*\"invest\" + 0.097*\"find\" + 0.047*\"investing\" + 0.045*\"stock\" + '\n",
      "  '0.045*\"solution\" + 0.043*\"robo\"'),\n",
      " (3,\n",
      "  '0.214*\"roboadvisor\" + 0.084*\"die\" + 0.034*\"der\" + 0.028*\"move\" + '\n",
      "  '0.020*\"test\" + 0.019*\"yield\"'),\n",
      " (4,\n",
      "  '0.157*\"financial\" + 0.093*\"human\" + 0.080*\"advice\" + 0.071*\"service\" + '\n",
      "  '0.046*\"late\" + 0.042*\"provide\"'),\n",
      " (5,\n",
      "  '0.157*\"market\" + 0.067*\"today\" + 0.047*\"banking\" + 0.047*\"trend\" + '\n",
      "  '0.032*\"automation\" + 0.029*\"global\"'),\n",
      " (6,\n",
      "  '0.055*\"account\" + 0.051*\"firm\" + 0.048*\"bank\" + 0.032*\"offer\" + '\n",
      "  '0.027*\"saving\" + 0.026*\"online\"'),\n",
      " (7,\n",
      "  '0.299*\"roboadvisor\" + 0.104*\"money\" + 0.055*\"read\" + 0.035*\"time\" + '\n",
      "  '0.033*\"account\" + 0.033*\"save\"'),\n",
      " (8,\n",
      "  '0.099*\"review\" + 0.095*\"financial\" + 0.085*\"expert\" + 0.072*\"analysis\" + '\n",
      "  '0.068*\"future\" + 0.061*\"platform\"'),\n",
      " (9,\n",
      "  '0.218*\"roboadvisor\" + 0.131*\"good\" + 0.068*\"automate\" + 0.062*\"launch\" + '\n",
      "  '0.061*\"return\" + 0.036*\"pro\"'),\n",
      " (10,\n",
      "  '0.175*\"roboadvisor\" + 0.149*\"portfolio\" + 0.065*\"betterment\" + '\n",
      "  '0.053*\"offer\" + 0.050*\"read\" + 0.041*\"cash\"'),\n",
      " (11,\n",
      "  '0.035*\"tool\" + 0.032*\"give\" + 0.032*\"risk\" + 0.028*\"base\" + 0.027*\"call\" + '\n",
      "  '0.024*\"traditional\"'),\n",
      " (12,\n",
      "  '0.236*\"advisor\" + 0.108*\"invest\" + 0.062*\"great\" + 0.052*\"good\" + '\n",
      "  '0.047*\"start\" + 0.033*\"plan\"'),\n",
      " (13,\n",
      "  '0.164*\"investor\" + 0.107*\"make\" + 0.103*\"roboadvisor\" + 0.088*\"finance\" + '\n",
      "  '0.060*\"good\" + 0.053*\"free\"'),\n",
      " (14,\n",
      "  '0.084*\"client\" + 0.077*\"people\" + 0.047*\"cost\" + 0.040*\"rise\" + 0.032*\"pay\" '\n",
      "  '+ 0.022*\"increase\"'),\n",
      " (15,\n",
      "  '0.152*\"advisor\" + 0.068*\"robo\" + 0.060*\"asset\" + 0.053*\"business\" + '\n",
      "  '0.049*\"change\" + 0.049*\"customer\"'),\n",
      " (16,\n",
      "  '0.157*\"roboadvisor\" + 0.081*\"fund\" + 0.056*\"article\" + 0.050*\"learn\" + '\n",
      "  '0.048*\"check\" + 0.032*\"option\"'),\n",
      " (17,\n",
      "  '0.088*\"year\" + 0.057*\"industry\" + 0.050*\"technology\" + 0.034*\"report\" + '\n",
      "  '0.033*\"show\" + 0.024*\"impact\"'),\n",
      " (18,\n",
      "  '0.409*\"roboadvisor\" + 0.031*\"startup\" + 0.029*\"improve\" + 0.026*\"health\" + '\n",
      "  '0.025*\"founder\" + 0.024*\"add\"'),\n",
      " (19,\n",
      "  '0.163*\"advisor\" + 0.056*\"work\" + 0.027*\"robo\" + 0.023*\"real\" + 0.020*\"type\" '\n",
      "  '+ 0.019*\"study\"')]\n"
     ]
    }
   ],
   "source": [
    "ldamallet = gensim.models.wrappers.LdaMallet(mallet_path, \n",
    "                                             corpus=corpus,\n",
    "                                             num_topics=20, \n",
    "                                             id2word=id2word)\n",
    "\n",
    "# Show Topics\n",
    "model_topics = ldamallet.show_topics(formatted=False)\n",
    "pprint(sorted(ldamallet.print_topics(num_words=6)))"
   ]
  },
  {
   "cell_type": "code",
   "execution_count": 39,
   "metadata": {},
   "outputs": [],
   "source": [
    "import gensim    \n",
    "gensim_model = gensim.models.wrappers.ldamallet.malletmodel2ldamodel(ldamallet)"
   ]
  },
  {
   "cell_type": "code",
   "execution_count": 40,
   "metadata": {},
   "outputs": [
    {
     "name": "stderr",
     "output_type": "stream",
     "text": [
      "//anaconda3/lib/python3.7/site-packages/pyLDAvis/_prepare.py:223: RuntimeWarning: divide by zero encountered in log\n",
      "  kernel = (topic_given_term * np.log((topic_given_term.T / topic_proportion).T))\n",
      "//anaconda3/lib/python3.7/site-packages/pyLDAvis/_prepare.py:240: RuntimeWarning: divide by zero encountered in log\n",
      "  log_lift = np.log(topic_term_dists / term_proportion)\n",
      "//anaconda3/lib/python3.7/site-packages/pyLDAvis/_prepare.py:241: RuntimeWarning: divide by zero encountered in log\n",
      "  log_ttd = np.log(topic_term_dists)\n"
     ]
    },
    {
     "data": {
      "text/html": [
       "\n",
       "<link rel=\"stylesheet\" type=\"text/css\" href=\"https://cdn.rawgit.com/bmabey/pyLDAvis/files/ldavis.v1.0.0.css\">\n",
       "\n",
       "\n",
       "<div id=\"ldavis_el28872112721850064617027523\"></div>\n",
       "<script type=\"text/javascript\">\n",
       "\n",
       "var ldavis_el28872112721850064617027523_data = {\"mdsDat\": {\"x\": [0.06150901824703045, 0.275661690935063, 0.07445153871962723, -0.23049490715317997, 0.05573709886189355, 0.07136573519966988, 0.0504354597770039, -0.26185428882831, 0.05942587794705755, -0.22799794822039973, -0.22127776416808145, 0.06638441827219518, 0.22430621537465303, -0.1557184161362005, 0.07174165888266329, 0.2506579305779068, -0.19977715733136986, 0.06900127646053976, -0.27658650326387046, 0.24302906584610873], \"y\": [-0.19435130763557562, 0.22811344634810143, 0.055262796251419104, 0.08806458513490603, -0.20246298349429984, -0.14811434860906317, -0.12725008425365694, 0.05789685659917187, -0.2264445159132568, 0.10362516076662827, 0.038878058578158695, -0.15643063608273786, 0.18324041226391066, 0.018230060042557353, -0.12775388307516575, 0.19336848949044555, 0.0668199799786363, -0.1385298105357647, 0.11518568025616961, 0.17265204388941668], \"topics\": [1, 2, 3, 4, 5, 6, 7, 8, 9, 10, 11, 12, 13, 14, 15, 16, 17, 18, 19, 20], \"cluster\": [1, 1, 1, 1, 1, 1, 1, 1, 1, 1, 1, 1, 1, 1, 1, 1, 1, 1, 1, 1], \"Freq\": [5.114051281261733, 4.9914402358995815, 5.003459975238437, 4.75972378152566, 5.048792747974073, 5.01090934365886, 5.0826030676985114, 4.974279637559265, 5.180393420970407, 4.886499723087472, 4.9933325144730905, 5.110310780219718, 4.957894032781686, 5.009936090826029, 5.075017640887899, 5.009253101822355, 4.977365671963543, 5.003139938455747, 4.8363062229809985, 4.975290790714934]}, \"tinfo\": {\"Term\": [\"roboadvisor\", \"advisor\", \"investment\", \"invest\", \"financial\", \"robo\", \"investor\", \"good\", \"market\", \"portfolio\", \"fee\", \"money\", \"make\", \"low\", \"review\", \"find\", \"human\", \"finance\", \"expert\", \"year\", \"client\", \"read\", \"die\", \"fund\", \"advice\", \"people\", \"service\", \"analysis\", \"manager\", \"account\", \"notable\", \"assisted\", \"insanely\", \"vertriebstool\", \"aporte\", \"herausragend\", \"finder\", \"accede\", \"fi\", \"figure\", \"decisive\", \"dub\", \"ausgewirkt\", \"brood\", \"kampf\", \"actualmente\", \"finanzanlage\", \"accomplish\", \"mlm\", \"optionality\", \"confluence\", \"voten\", \"tiny\", \"terrible\", \"foll\", \"steemusd\", \"manual\", \"prosperity\", \"cashback\", \"constantemente\", \"fee\", \"low\", \"digital\", \"wealthsimple\", \"seek\", \"deep\", \"performance\", \"dive\", \"stat\", \"worth\", \"essential\", \"ameritrade\", \"competitor\", \"headtohead\", \"asie\", \"regime\", \"gestion\", \"campaign\", \"front\", \"pleased\", \"advisorengine\", \"demonstrate\", \"comprehensive\", \"vtb\", \"reit\", \"waive\", \"aux\", \"gut\", \"careful\", \"tomorrow\", \"top\", \"investment\", \"net\", \"comparison\", \"manager\", \"finally\", \"underperform\", \"good\", \"manage\", \"hover\", \"movement\", \"pascal\", \"sterling\", \"incorrectly\", \"semble\", \"lor\", \"fotio\", \"pente\", \"silver\", \"limitation\", \"peer\", \"autocorrected\", \"fireside\", \"yapping\", \"layman\", \"pertinence\", \"sentence\", \"pitfall\", \"consist\", \"coincodex\", \"realization\", \"modest\", \"accuracy\", \"turnout\", \"match\", \"cross\", \"kau\", \"marquee\", \"sizable\", \"world\", \"retail\", \"end\", \"big\", \"fail\", \"round\", \"comisione\", \"mejore\", \"game\", \"reveal\", \"benchmark\", \"race\", \"switch\", \"ideal\", \"field\", \"position\", \"crowdfunde\", \"blogge\", \"train\", \"relevant\", \"construction\", \"collect\", \"wonderful\", \"correction\", \"broad\", \"algorithmic\", \"roboadvise\", \"este\", \"funding\", \"bring\", \"series\", \"consumer\", \"wrong\", \"shift\", \"thing\", \"decision\", \"enter\", \"opcione\", \"robo\", \"benefit\", \"advisor\", \"mind\", \"raise\", \"nice\", \"support\", \"deal\", \"offering\", \"automatisierte\", \"vielgepriesenen\", \"erfullt\", \"swift\", \"machineadvisor\", \"pomoc\", \"emotionally\", \"remake\", \"gerade\", \"theo\", \"launchpad\", \"variant\", \"heel\", \"inhouse\", \"consultant\", \"neighborhood\", \"ngakse\", \"pake\", \"afiraz\", \"escalate\", \"finet\", \"emperor\", \"onlineshop\", \"recede\", \"takeaway\", \"manner\", \"knee\", \"superiore\", \"league\", \"topical\", \"find\", \"solution\", \"question\", \"reason\", \"friend\", \"overwhelm\", \"blog\", \"post\", \"individual\", \"tiaa\", \"pure\", \"analyst\", \"pretty\", \"buy\", \"pelaburan\", \"determine\", \"assistance\", \"actual\", \"signal\", \"enlist\", \"mint\", \"underlie\", \"thinkadvisor\", \"intuit\", \"affordable\", \"complicated\", \"longanticipate\", \"reagiert\", \"nonetheless\", \"stock\", \"cheap\", \"feel\", \"wahed\", \"typical\", \"investing\", \"invest\", \"folk\", \"stop\", \"learn\", \"personal\", \"worry\", \"basic\", \"robo\", \"roboadvisor\", \"onlineportal\", \"sofort\", \"sie\", \"davon\", \"bieten\", \"boursiere\", \"corona\", \"riskmanagement\", \"effekthaschend\", \"rein\", \"schlechteste\", \"acknowledge\", \"assetklassen\", \"roboter\", \"netizen\", \"teuer\", \"anti\", \"gro\\u00dfter\", \"parking\", \"prozent\", \"unconventional\", \"al\", \"besser\", \"honorarberater\", \"underlying\", \"performant\", \"vore\", \"wichtigsten\", \"sturzen\", \"finanzsektor\", \"die\", \"der\", \"yield\", \"fur\", \"auch\", \"introduce\", \"geldanlage\", \"und\", \"hat\", \"den\", \"deutschland\", \"crypto\", \"move\", \"gibt\", \"anbieter\", \"allocate\", \"fond\", \"cool\", \"kind\", \"ahead\", \"schweiz\", \"echtgeldt\", \"als\", \"react\", \"coronakrise\", \"eine\", \"weekly\", \"contract\", \"digitale\", \"stick\", \"test\", \"sind\", \"inversione\", \"private\", \"smart\", \"scalable\", \"ist\", \"drop\", \"automatically\", \"fast\", \"roboadvisor\", \"man\", \"asset\", \"dotdotdot\", \"systematic\", \"flop\", \"finanzlosungen\", \"portfoliobase\", \"highend\", \"rocket\", \"shortfall\", \"advice\", \"alt\", \"wertpapiere\", \"diluluskan\", \"financeira\", \"portugue\", \"nature\", \"remind\", \"muslims\", \"parece\", \"ror\", \"aki\", \"retraite\", \"access\", \"grapple\", \"maturity\", \"beratung\", \"verglichen\", \"literacy\", \"act\", \"dependence\", \"qualify\", \"late\", \"provide\", \"piece\", \"lead\", \"planning\", \"eliminate\", \"planner\", \"prefer\", \"problem\", \"touch\", \"surge\", \"chatbot\", \"linkedin\", \"success\", \"human\", \"role\", \"uncertainty\", \"lockdown\", \"personalize\", \"facetoface\", \"solve\", \"replace\", \"positive\", \"gap\", \"contact\", \"combine\", \"valuable\", \"trust\", \"adviser\", \"resource\", \"service\", \"financial\", \"institution\", \"read\", \"internally\", \"autoinvest\", \"roughly\", \"hilo\", \"psycho\", \"skinner\", \"tenant\", \"murder\", \"\\u0e40\\u0e2b\\u0e23\\u0e2d\", \"uptodate\", \"sustain\", \"broken\", \"cotizado\", \"sq\", \"boom\", \"robotadvisor\", \"nonkink\", \"boomer\", \"fame\", \"profound\", \"analyze\", \"empow\", \"liberi\", \"period\", \"bigdata\", \"capability\", \"oil\", \"neutral\", \"comodiftie\", \"effect\", \"market\", \"today\", \"banking\", \"trend\", \"automation\", \"global\", \"opportunity\", \"large\", \"reach\", \"datum\", \"average\", \"current\", \"equity\", \"decline\", \"growth\", \"forecast\", \"stress\", \"size\", \"indicator\", \"blackrock\", \"antwork\", \"probability\", \"factor\", \"worldwide\", \"daily\", \"application\", \"boost\", \"emerge\", \"fight\", \"profitable\", \"focus\", \"ray\", \"key\", \"process\", \"day\", \"remain\", \"demand\", \"high\", \"expand\", \"player\", \"trading\", \"total\", \"expect\", \"amount\", \"saver\", \"tonight\", \"hope\", \"feedback\", \"local\", \"saving\", \"fun\", \"reward\", \"owner\", \"tiene\", \"ecosystem\", \"parent\", \"complex\", \"send\", \"highyield\", \"union\", \"pressure\", \"site\", \"corporate\", \"budgeting\", \"email\", \"premium\", \"cura\", \"vuv\", \"hav\", \"gesamten\", \"breite\", \"rewarding\", \"closed\", \"firm\", \"bank\", \"small\", \"sustainable\", \"brokerage\", \"deposit\", \"minimum\", \"interest\", \"online\", \"ready\", \"price\", \"canadian\", \"stack\", \"open\", \"lesson\", \"discount\", \"chat\", \"trade\", \"card\", \"advocate\", \"tip\", \"education\", \"receive\", \"push\", \"acorn\", \"link\", \"broker\", \"design\", \"follow\", \"company\", \"build\", \"exist\", \"account\", \"product\", \"fintech\", \"offer\", \"platform\", \"trading\", \"bettinger\", \"neobanks\", \"enlargement\", \"inklusive\", \"summarize\", \"pdf\", \"artificial\", \"erwerbbar\", \"dbs\", \"decadeplus\", \"wholly\", \"intelligence\", \"esitleniyor\", \"fulfil\", \"lemission\", \"prognose\", \"epayment\", \"wort\", \"bastante\", \"elect\", \"usaxoogler\", \"boeresearch\", \"pandemic\", \"redundant\", \"needk\", \"suscriptore\", \"churn\", \"arefee\", \"investtech\", \"curious\", \"save\", \"grow\", \"feature\", \"term\", \"main\", \"difference\", \"nee\", \"luck\", \"control\", \"differ\", \"autopilot\", \"dividend\", \"season\", \"history\", \"realize\", \"reminder\", \"king\", \"bundle\", \"death\", \"budget\", \"nuevo\", \"favor\", \"tear\", \"intend\", \"leap\", \"surprised\", \"minute\", \"put\", \"promise\", \"money\", \"time\", \"weekend\", \"read\", \"roboadvisor\", \"account\", \"rrsp\", \"investing\", \"complete\", \"neoclassical\", \"dore\", \"solutiondigital\", \"remote\", \"wegklicken\", \"apps\", \"gym\", \"manipulate\", \"frankie\", \"despreocupa\", \"heutzutage\", \"thorn\", \"weathsimple\", \"\\u0e22\\u0e04\\u0e30\", \"timeline\", \"annee\", \"ifa\", \"briefkasten\", \"gezogen\", \"pnb\", \"souligne\", \"parasite\", \"destruction\", \"brainstorm\", \"durante\", \"agregateur\", \"wasdevastate\", \"dwgpr\", \"maupa\", \"fend\", \"analysis\", \"expert\", \"woman\", \"future\", \"critical\", \"scary\", \"charge\", \"detail\", \"plunge\", \"enhance\", \"conservative\", \"career\", \"ally\", \"scam\", \"delve\", \"include\", \"funny\", \"power\", \"ripe\", \"walk\", \"marcus\", \"coach\", \"nation\", \"certify\", \"verification\", \"harness\", \"creativity\", \"shit\", \"cheat\", \"ax\", \"beli\", \"fact\", \"chercheur\", \"review\", \"platform\", \"habit\", \"litecoin\", \"manager\", \"manage\", \"financial\", \"money\", \"start\", \"investment\", \"make\", \"work\", \"pixabay\", \"kill\", \"citigroup\", \"junior\", \"isa\", \"donate\", \"dapre\", \"genuinely\", \"squeezer\", \"miniinvestment\", \"hose\", \"nestlum\", \"nitip\", \"ashare\", \"robeadvisor\", \"indexarse\", \"impedir\", \"apibase\", \"unnecessary\", \"hash\", \"sucorinv\", \"twinkie\", \"nightcast\", \"cinema\", \"pauper\", \"dimitrio\", \"webinar\", \"wohl\", \"upheaval\", \"bout\", \"launch\", \"return\", \"automate\", \"pro\", \"stake\", \"guide\", \"defi\", \"news\", \"list\", \"group\", \"important\", \"con\", \"alternative\", \"choice\", \"roll\", \"ultimate\", \"address\", \"beginner\", \"contribution\", \"definitive\", \"obsess\", \"consistently\", \"official\", \"infocom\", \"cnet\", \"pm\", \"untuk\", \"appeal\", \"biweekly\", \"original\", \"announce\", \"beat\", \"write\", \"app\", \"good\", \"roboadvisor\", \"explain\", \"prepare\", \"scrape\", \"fuch\", \"fundoffund\", \"refiere\", \"illiteracy\", \"unabhangige\", \"uae\", \"simplemente\", \"atdresearch\", \"insert\", \"openinv\", \"gestiegen\", \"inspect\", \"pasear\", \"fragmentation\", \"scarce\", \"initiativeacat\", \"sequoia\", \"roller\", \"popularitat\", \"twist\", \"userface\", \"doubleedge\", \"rekene\", \"directindexe\", \"salesme\", \"theory\", \"decider\", \"untrue\", \"oversaturate\", \"portfolio\", \"betterment\", \"cash\", \"lot\", \"talk\", \"intelligent\", \"schwab\", \"cure\", \"indecision\", \"early\", \"simplify\", \"hot\", \"outperform\", \"expansion\", \"core\", \"suit\", \"fully\", \"etrade\", \"powerful\", \"sexy\", \"ici\", \"priority\", \"path\", \"impressive\", \"movie\", \"democratize\", \"overcharge\", \"insure\", \"acquire\", \"son\", \"texte\", \"green\", \"back\", \"eye\", \"income\", \"german\", \"etf\", \"selfdirecte\", \"offer\", \"lending\", \"comparison\", \"read\", \"roboadvisor\", \"finally\", \"etcansw\", \"transform\", \"siri\", \"comparable\", \"punya\", \"trap\", \"fronten\", \"uis\", \"zeiten\", \"ti\", \"appetite\", \"identify\", \"schawb\", \"operation\", \"doubledigit\", \"wahedinv\", \"folio\", \"sparbuch\", \"melonport\", \"stage\", \"fraud\", \"principalonly\", \"taxfree\", \"double\", \"lev\", \"properly\", \"bemerkbar\", \"etfsindex\", \"record\", \"dalam\", \"risk\", \"base\", \"call\", \"traditional\", \"set\", \"tool\", \"create\", \"give\", \"join\", \"goal\", \"hear\", \"user\", \"happen\", \"space\", \"payment\", \"watch\", \"live\", \"age\", \"hard\", \"program\", \"roboadvice\", \"matter\", \"provider\", \"loan\", \"profit\", \"shut\", \"video\", \"concern\", \"smartly\", \"level\", \"ai\", \"understand\", \"pick\", \"week\", \"mobile\", \"meet\", \"turn\", \"roboadviser\", \"time\", \"service\", \"product\", \"point\", \"provoke\", \"expose\", \"bias\", \"barclay\", \"african\", \"research\", \"lady\", \"outreach\", \"\\u0e02\\u0e2d\\u0e07\\u0e41\\u0e1a\\u0e1a\\u0e19\", \"awkward\", \"dikit\", \"frontline\", \"automata\", \"reporter\", \"percolate\", \"tower\", \"blooom\", \"timer\", \"kitchen\", \"petronas\", \"dije\", \"metric\", \"fulfill\", \"democratized\", \"gleich\", \"belastungst\", \"hedgefolio\", \"ander\", \"curve\", \"nonfiduciary\", \"great\", \"share\", \"invite\", \"bad\", \"interested\", \"plan\", \"rank\", \"young\", \"tree\", \"award\", \"caremoney\", \"huge\", \"ugly\", \"subscription\", \"tune\", \"innovative\", \"newbie\", \"bet\", \"exchangetrade\", \"hire\", \"fit\", \"proud\", \"yesterday\", \"opportunitie\", \"single\", \"taxable\", \"objective\", \"retirement\", \"simple\", \"jump\", \"win\", \"congratulation\", \"category\", \"start\", \"invest\", \"advisor\", \"good\", \"easy\", \"costbenefit\", \"speculator\", \"merupakan\", \"buffet\", \"briefing\", \"digunakan\", \"terminate\", \"caret\", \"roboroute\", \"apre\", \"medianfrequency\", \"ooooooo\", \"donation\", \"ladder\", \"asyjam\", \"vti\", \"skyrocket\", \"majority\", \"berichtet\", \"tad\", \"fincy\", \"bankkonto\", \"microinveste\", \"letude\", \"slog\", \"peopleadvisor\", \"hnw\", \"vario\", \"wrap\", \"investor\", \"finance\", \"free\", \"dify\", \"diy\", \"choose\", \"rebalance\", \"perfect\", \"readm\", \"reviewfree\", \"transfer\", \"selfdrive\", \"congrat\", \"conoce\", \"delegate\", \"capital\", \"financially\", \"ishare\", \"finect\", \"doityourself\", \"heavyweight\", \"attractive\", \"rip\", \"passively\", \"featuring\", \"hero\", \"neural\", \"creative\", \"indexa\", \"make\", \"sense\", \"pie\", \"mix\", \"personal\", \"manage\", \"jahre\", \"dedicated\", \"good\", \"review\", \"roboadvisor\", \"nest\", \"increase\", \"testsieger\", \"brick\", \"lowering\", \"differentiate\", \"ojo\", \"millionaire\", \"waitlist\", \"trl\", \"quickly\", \"necessarily\", \"cbinsight\", \"cog\", \"cpf\", \"rapidly\", \"absent\", \"sharp\", \"lagging\", \"personalizado\", \"realtime\", \"mayor\", \"verkauf\", \"endowus\", \"satisfy\", \"rt\", \"listening\", \"ecommerce\", \"bargain\", \"erosion\", \"hour\", \"client\", \"people\", \"pay\", \"model\", \"strategy\", \"drive\", \"rely\", \"challenge\", \"active\", \"cost\", \"rise\", \"project\", \"computer\", \"acquisition\", \"side\", \"marketing\", \"gain\", \"due\", \"increasingly\", \"disruption\", \"copy\", \"spend\", \"answer\", \"difficult\", \"serve\", \"skill\", \"balance\", \"popular\", \"compete\", \"reduce\", \"select\", \"engage\", \"tax\", \"aim\", \"passive\", \"ria\", \"approach\", \"advantage\", \"compare\", \"potential\", \"robos\", \"high\", \"possibly\", \"custody\", \"integration\", \"tds\", \"varyie\", \"aufwart\", \"singledigit\", \"longterm\", \"shoddy\", \"drip\", \"aum\", \"seller\", \"dept\", \"distribute\", \"overdue\", \"vote\", \"pare\", \"involvement\", \"manipulation\", \"correcto\", \"flaw\", \"famafrench\", \"interactive\", \"sparplane\", \"neobank\", \"giggle\", \"timmerman\", \"channel\", \"toehold\", \"icon\", \"change\", \"customer\", \"part\", \"allocation\", \"mikequindazzi\", \"significantly\", \"lose\", \"bear\", \"percent\", \"hold\", \"innovation\", \"entire\", \"fall\", \"reality\", \"popularity\", \"care\", \"quarter\", \"rate\", \"retention\", \"boast\", \"attract\", \"edge\", \"unveil\", \"weigh\", \"adjust\", \"unit\", \"slowly\", \"significant\", \"algorithm\", \"volatility\", \"responsible\", \"sell\", \"agree\", \"business\", \"life\", \"socially\", \"asset\", \"recommend\", \"advisory\", \"long\", \"advisor\", \"robo\", \"class\", \"fullyear\", \"buying\", \"dimensional\", \"experimental\", \"shock\", \"essentially\", \"vanguard\", \"harvesting\", \"anytime\", \"hurdle\", \"pension\", \"aid\", \"cover\", \"fancy\", \"importance\", \"governance\", \"outline\", \"lebih\", \"pilot\", \"expertise\", \"function\", \"screen\", \"fund\", \"mutual\", \"establish\", \"similaritie\", \"consolidate\", \"awesome\", \"begin\", \"article\", \"option\", \"target\", \"etfs\", \"date\", \"index\", \"check\", \"love\", \"lowcost\", \"wahe\", \"bull\", \"retreat\", \"recently\", \"topic\", \"opinion\", \"interesting\", \"framework\", \"diversify\", \"lazy\", \"secure\", \"super\", \"expense\", \"regulatory\", \"halal\", \"bond\", \"learn\", \"publish\", \"thought\", \"roboadvisor\", \"register\", \"insight\", \"download\", \"vous\", \"legacy\", \"retire\", \"reshape\", \"ultimately\", \"revolution\", \"adopt\", \"technological\", \"survive\", \"conversation\", \"evolve\", \"pace\", \"fierce\", \"wave\", \"relative\", \"strategic\", \"highlight\", \"crisis\", \"kick\", \"issue\", \"sound\", \"covid\", \"sad\", \"accord\", \"combination\", \"scrutiny\", \"timely\", \"fruhzeit\", \"sinken\", \"industry\", \"technology\", \"report\", \"show\", \"year\", \"tech\", \"hybrid\", \"face\", \"place\", \"relationship\", \"system\", \"ytd\", \"month\", \"impact\", \"software\", \"partner\", \"break\", \"independent\", \"survey\", \"wait\", \"social\", \"struggle\", \"result\", \"continue\", \"surprising\", \"recent\", \"roboadvisory\", \"disrupt\", \"insight\", \"expect\", \"professional\", \"sma\", \"improve\", \"indexing\", \"bevestor\", \"spot\", \"reportedly\", \"noise\", \"nonintimidating\", \"allfund\", \"nutmeg\", \"staking\", \"unagii\", \"shariacompliant\", \"serie\", \"brit\", \"engineering\", \"renforce\", \"cattle\", \"selfmanage\", \"smb\", \"jemstep\", \"independence\", \"personalmente\", \"perspire\", \"body\", \"light\", \"tempt\", \"europe\", \"badger\", \"imparable\", \"startup\", \"health\", \"founder\", \"tactic\", \"mental\", \"salarie\", \"perform\", \"monitor\", \"wealthfront\", \"direct\", \"add\", \"turmoil\", \"release\", \"inversion\", \"security\", \"paper\", \"state\", \"techcrunch\", \"shed\", \"war\", \"verwalten\", \"inch\", \"contribute\", \"close\", \"decide\", \"roboadvisor\", \"ranking\", \"offering\", \"present\", \"sign\", \"excited\", \"raise\", \"\\u0e01\\u0e01\\u0e32\\u0e23\\u0e40\\u0e07\", \"liquid\", \"bullshyd\", \"tourmente\", \"fdic\", \"moorhouse\", \"mess\", \"paise\", \"gestreute\", \"yrold\", \"excite\", \"training\", \"edition\", \"woher\", \"suka\", \"ect\", \"responsive\", \"ringfence\", \"macam\", \"intermediary\", \"sharply\", \"technopessimist\", \"picker\", \"final\", \"bbva\", \"numerous\", \"beware\", \"generation\", \"befeuern\", \"threat\", \"real\", \"type\", \"sector\", \"robot\", \"full\", \"discuss\", \"play\", \"job\", \"landscape\", \"insurance\", \"team\", \"myth\", \"study\", \"podcast\", \"regulator\", \"website\", \"estate\", \"statistachart\", \"debunk\", \"happy\", \"development\", \"segment\", \"building\", \"tough\", \"click\", \"rich\", \"experience\", \"teach\", \"case\", \"stay\", \"interview\", \"speak\", \"episode\", \"story\", \"work\", \"true\", \"update\", \"run\", \"suggest\", \"millennial\", \"advisor\", \"step\", \"robo\"], \"Freq\": [8848.0, 4979.0, 1475.0, 1595.0, 1464.0, 1642.0, 940.0, 1390.0, 896.0, 852.0, 750.0, 834.0, 720.0, 620.0, 758.0, 556.0, 547.0, 501.0, 504.0, 506.0, 484.0, 742.0, 454.0, 458.0, 460.0, 444.0, 530.0, 427.0, 540.0, 509.0, 1.0863952463769642, 1.0863952463769642, 2.1727904927539283, 1.0863952463769642, 1.0863952463769642, 1.0863952463769642, 1.0863952463769642, 1.0863952463769642, 1.0863952463769642, 17.382323942031427, 1.0863952463769642, 1.0863952463769642, 2.1727904927539283, 1.0863952463769642, 1.0863952463769642, 1.0863952463769642, 2.1727904927539283, 1.0863952463769642, 1.0863952463769642, 1.0863952463769642, 1.0863952463769642, 2.1727904927539283, 1.0863952463769642, 2.1727904927539283, 1.0863952463769642, 1.0863952463769642, 1.0863952463769642, 1.0863952463769642, 1.0863952463769642, 1.0863952463769642, 750.6991152464823, 620.3316856812467, 309.6226452174348, 122.76266284059695, 114.07150086958126, 99.94836266668071, 296.5859022609112, 93.42999118841892, 87.9980149565341, 160.7864964637907, 73.87487675363357, 69.5292957681257, 42.36941460870161, 21.727904927539285, 20.641509681162322, 18.468719188408393, 15.209533449277501, 10.863952463769643, 7.6047667246387505, 6.518371478261786, 5.431976231884821, 5.431976231884821, 47.80139084058643, 4.345580985507857, 4.345580985507857, 4.345580985507857, 4.345580985507857, 4.345580985507857, 4.345580985507857, 39.11022886957071, 351.9920598261364, 1266.7368572755404, 28.246276405801073, 221.62463026090072, 257.47567339134054, 87.9980149565341, 8.691161971015713, 20.641509681162322, 13.036742956523572, 1.1438976394284246, 20.59015750971164, 1.1438976394284246, 1.1438976394284246, 1.1438976394284246, 1.1438976394284246, 1.1438976394284246, 1.1438976394284246, 1.1438976394284246, 1.1438976394284246, 6.863385836570547, 9.151181115427397, 1.1438976394284246, 1.1438976394284246, 1.1438976394284246, 1.1438976394284246, 1.1438976394284246, 1.1438976394284246, 3.4316929182852736, 3.4316929182852736, 1.1438976394284246, 1.1438976394284246, 1.1438976394284246, 5.719488197142123, 1.1438976394284246, 11.438976394284246, 8.007283475998971, 1.1438976394284246, 3.4316929182852736, 1.1438976394284246, 123.54094505826984, 66.34606308684862, 60.6265748897065, 228.7795278856849, 53.763189053135946, 49.18759849542226, 38.892519740566435, 32.029133903995884, 32.029133903995884, 26.30964570685376, 24.021850427996917, 24.021850427996917, 22.877952788568493, 21.734055149140065, 20.59015750971164, 17.158464591426366, 16.014566951997942, 13.726771673141094, 13.726771673141094, 12.582874033712669, 12.582874033712669, 12.582874033712669, 11.438976394284246, 11.438976394284246, 11.438976394284246, 11.438976394284246, 11.438976394284246, 10.29507875485582, 52.61929141370752, 77.78503948113287, 38.892519740566435, 73.20944892341917, 37.74862210113801, 32.029133903995884, 128.11653561598354, 80.07283475998972, 29.741338625139036, 20.59015750971164, 857.9232295713183, 66.34606308684862, 1847.3946876769055, 33.17303154342431, 60.6265748897065, 29.741338625139036, 28.597440985710612, 25.165748067425337, 37.74862210113801, 1.1445816255154138, 1.1445816255154138, 1.1445816255154138, 2.2891632510308275, 1.1445816255154138, 1.1445816255154138, 1.1445816255154138, 2.2891632510308275, 1.1445816255154138, 2.2891632510308275, 1.1445816255154138, 1.1445816255154138, 1.1445816255154138, 1.1445816255154138, 11.445816255154137, 1.1445816255154138, 1.1445816255154138, 3.4337448765462413, 1.1445816255154138, 3.4337448765462413, 1.1445816255154138, 42.34952014407031, 1.1445816255154138, 1.1445816255154138, 3.4337448765462413, 1.1445816255154138, 1.1445816255154138, 1.1445816255154138, 1.1445816255154138, 1.1445816255154138, 555.1220883749756, 255.24170248993727, 232.350069979629, 227.77174347756736, 117.8919074280876, 108.7352544239643, 80.12071378607897, 78.97613216056355, 76.68696890953272, 67.53031590540941, 42.34952014407031, 35.482030390977826, 34.33744876546241, 144.21728481494213, 28.614540637885344, 27.46995901236993, 24.036214135823688, 22.891632510308273, 20.60246925927745, 16.02414275721579, 13.734979506184965, 13.734979506184965, 12.590397880669553, 12.590397880669553, 11.445816255154137, 10.301234629638724, 10.301234629638724, 9.15665300412331, 9.15665300412331, 255.24170248993727, 53.795336399224446, 56.084499650255275, 27.46995901236993, 48.072428271647375, 267.8321003706068, 986.6293611942866, 18.31330600824662, 18.31330600824662, 222.04883534999027, 139.63895831288048, 24.036214135823688, 33.192867139947, 243.79588623478315, 45.78326502061655, 1.1715681940913347, 2.3431363881826694, 11.715681940913349, 2.3431363881826694, 5.8578409704566745, 1.1715681940913347, 3.5147045822740046, 1.1715681940913347, 1.1715681940913347, 7.029409164548009, 1.1715681940913347, 1.1715681940913347, 1.1715681940913347, 5.8578409704566745, 1.1715681940913347, 4.686272776365339, 1.1715681940913347, 3.5147045822740046, 1.1715681940913347, 7.029409164548009, 1.1715681940913347, 10.544113746822013, 2.3431363881826694, 1.1715681940913347, 1.1715681940913347, 1.1715681940913347, 1.1715681940913347, 4.686272776365339, 3.5147045822740046, 1.1715681940913347, 454.56845930743793, 185.1077746664309, 101.92643288594614, 98.41172830367212, 96.06859191548945, 90.21075094503279, 77.32350081002811, 66.77938706320609, 52.72056873411007, 41.00488679319672, 33.97547762864871, 33.97547762864871, 149.96072884369084, 30.460773046374708, 26.9460684641007, 26.9460684641007, 25.774500270009366, 24.60293207591803, 23.431363881826698, 23.431363881826698, 22.259795687735366, 21.088227493644027, 21.088227493644027, 21.088227493644027, 21.088227493644027, 21.088227493644027, 19.91665929955269, 19.91665929955269, 17.57352291137002, 17.57352291137002, 110.12741024458549, 73.8087962277541, 63.26468248093208, 55.063705122292745, 63.26468248093208, 51.54900054001873, 30.460773046374708, 41.00488679319672, 32.803909434557376, 29.28920485228337, 1162.1956485386042, 26.9460684641007, 28.117636658192037, 1.1275769002444473, 3.3827307007333425, 1.1275769002444473, 1.1275769002444473, 1.1275769002444473, 1.1275769002444473, 1.1275769002444473, 1.1275769002444473, 460.05137529973456, 1.1275769002444473, 1.1275769002444473, 1.1275769002444473, 4.510307600977789, 1.1275769002444473, 3.3827307007333425, 5.637884501222238, 1.1275769002444473, 1.1275769002444473, 2.2551538004888947, 1.1275769002444473, 1.1275769002444473, 67.65461401466685, 2.2551538004888947, 1.1275769002444473, 1.1275769002444473, 1.1275769002444473, 95.84403652077805, 9.020615201955579, 1.1275769002444473, 3.3827307007333425, 263.8529946572007, 241.30145665231174, 145.45742013153372, 117.26799762542254, 109.3749593237114, 89.07857511931135, 55.25126811197793, 55.25126811197793, 52.99611431148903, 49.61338361075569, 47.35822981026679, 119.52315142591144, 116.1404207251781, 42.84792220928901, 533.3438738156236, 29.316999406355635, 29.316999406355635, 28.18942250611119, 24.806691805377845, 24.806691805377845, 23.679114905133396, 81.18553681760022, 20.296384204400056, 18.041230403911158, 18.041230403911158, 15.786076603422265, 15.786076603422265, 64.2718833139335, 52.99611431148903, 40.59276840880011, 408.18283788849, 903.1890970958024, 33.827307007333424, 146.58499703177816, 1.1308567042727633, 1.1308567042727633, 5.654283521363816, 1.1308567042727633, 1.1308567042727633, 1.1308567042727633, 1.1308567042727633, 1.1308567042727633, 1.1308567042727633, 1.1308567042727633, 1.1308567042727633, 1.1308567042727633, 1.1308567042727633, 1.1308567042727633, 19.224563972636975, 1.1308567042727633, 1.1308567042727633, 3.39257011281829, 1.1308567042727633, 2.2617134085455266, 13.57028045127316, 1.1308567042727633, 1.1308567042727633, 14.701137155545922, 1.1308567042727633, 15.831993859818686, 10.177710338454869, 5.654283521363816, 1.1308567042727633, 7.915996929909343, 896.7693664883013, 382.22956604419403, 269.14389561691763, 268.01303891264484, 183.19878609218767, 165.10507882382345, 111.95481372300355, 99.51538997600318, 78.02911259482066, 73.50568577772961, 71.24397236918408, 57.67369191791093, 50.88855169227435, 47.49598157945606, 162.8433654152779, 40.710841353819475, 38.44912794527395, 36.187414536728426, 35.05655783245566, 33.925701128182894, 31.663987719637372, 30.533131015364606, 29.402274311091844, 29.402274311091844, 27.14056090254632, 27.14056090254632, 26.009704198273553, 24.878847494000794, 24.878847494000794, 23.74799078972803, 72.37482907345685, 62.19711873500198, 110.8239570187308, 63.327975439274745, 94.99196315891211, 41.84169805809224, 35.05655783245566, 113.08567042727631, 37.318271241001185, 49.75769498800159, 54.28112180509264, 44.103411466637766, 36.187414536728426, 35.600411276820296, 5.742001818841983, 11.484003637683966, 19.522806184062745, 8.038802546378777, 11.484003637683966, 155.03404910873354, 39.04561236812549, 11.484003637683966, 5.742001818841983, 8.038802546378777, 11.484003637683966, 8.038802546378777, 22.96800727536793, 16.077605092757555, 16.077605092757555, 8.038802546378777, 19.522806184062745, 19.522806184062745, 8.038802546378777, 5.742001818841983, 11.484003637683966, 39.04561236812549, 1.1484003637683968, 1.1484003637683968, 1.1484003637683968, 1.1484003637683968, 1.1484003637683968, 1.1484003637683968, 1.1484003637683968, 296.28729385224636, 277.91288803195204, 124.02723928698684, 119.43363783191327, 117.13683710437647, 96.46563055654532, 96.46563055654532, 80.38802546378777, 152.73724838119676, 145.84684619858638, 62.01361964349342, 58.568418552188234, 50.52961600580945, 125.17563965075523, 49.38121564204106, 43.63921382319908, 33.303610549283505, 98.76243128408213, 31.00680982174671, 29.85840945797832, 29.85840945797832, 28.71000909420992, 26.413208366673125, 24.11640763913633, 20.67120654783114, 95.31723019277693, 62.01361964349342, 50.52961600580945, 48.23281527827266, 138.95644401597602, 148.14364692612318, 45.93601455073586, 319.2553011276143, 106.80123383046089, 66.60722109856701, 184.89245856671187, 135.51124292467082, 65.4588207347986, 1.2015520006717513, 1.2015520006717513, 1.2015520006717513, 1.2015520006717513, 3.6046560020152536, 1.2015520006717513, 54.06984003022882, 1.2015520006717513, 1.2015520006717513, 1.2015520006717513, 1.2015520006717513, 63.68225603560282, 1.2015520006717513, 1.2015520006717513, 1.2015520006717513, 1.2015520006717513, 3.6046560020152536, 1.2015520006717513, 1.2015520006717513, 2.4031040013435025, 1.2015520006717513, 1.2015520006717513, 12.015520006717514, 1.2015520006717513, 1.2015520006717513, 1.2015520006717513, 1.2015520006717513, 87.71329604903785, 2.4031040013435025, 69.69001603896159, 188.64366410546498, 171.82193609606045, 167.01572809337344, 115.34899206448812, 109.34123206112938, 155.00020808665593, 68.48846403828983, 52.868288029557064, 49.2636320275418, 48.062080026870056, 31.240352017465536, 31.240352017465536, 20.426384011419774, 14.418624008061014, 13.217072007389266, 13.217072007389266, 12.015520006717514, 10.813968006045762, 8.41086400470226, 8.41086400470226, 7.209312004030507, 6.007760003358757, 6.007760003358757, 4.806208002687005, 4.806208002687005, 63.68225603560282, 33.64345601880904, 174.22504009740396, 49.2636320275418, 591.1635843305016, 197.0545281101672, 14.418624008061014, 310.00041617331186, 1696.591424948513, 189.84521610613672, 15.620176008732768, 76.89932804299208, 18.02328001007627, 1.0774027637816892, 1.0774027637816892, 1.0774027637816892, 1.0774027637816892, 1.0774027637816892, 1.0774027637816892, 1.0774027637816892, 1.0774027637816892, 1.0774027637816892, 1.0774027637816892, 1.0774027637816892, 1.0774027637816892, 1.0774027637816892, 1.0774027637816892, 2.1548055275633784, 1.0774027637816892, 4.309611055126757, 1.0774027637816892, 1.0774027637816892, 1.0774027637816892, 1.0774027637816892, 1.0774027637816892, 1.0774027637816892, 1.0774027637816892, 1.0774027637816892, 1.0774027637816892, 1.0774027637816892, 1.0774027637816892, 1.0774027637816892, 1.0774027637816892, 427.72889722133067, 502.0696879222672, 272.5828992367674, 400.7938281267884, 140.06235929161963, 106.66287361438724, 183.15846984288717, 99.12105426791541, 81.88261004740839, 49.560527133957706, 39.863902259922504, 36.63169396857744, 32.32208291345068, 24.780263566978853, 20.470652511852098, 117.43690125220414, 8.619222110253514, 92.65663768522528, 5.387013818908446, 5.387013818908446, 5.387013818908446, 48.48312437017602, 4.309611055126757, 4.309611055126757, 4.309611055126757, 3.2322082913450676, 3.2322082913450676, 3.2322082913450676, 3.2322082913450676, 3.2322082913450676, 3.2322082913450676, 50.6379298977394, 3.2322082913450676, 585.0297007334573, 359.85252310308425, 3.2322082913450676, 3.2322082913450676, 280.12471858323926, 196.08730300826747, 559.1720344026968, 243.49302461466178, 117.43690125220414, 204.70652511852097, 106.66287361438724, 43.09611055126757, 1.1470547517570386, 18.352876028112618, 5.735273758785194, 10.323492765813349, 1.1470547517570386, 1.1470547517570386, 1.1470547517570386, 5.735273758785194, 1.1470547517570386, 1.1470547517570386, 1.1470547517570386, 1.1470547517570386, 1.1470547517570386, 1.1470547517570386, 1.1470547517570386, 1.1470547517570386, 1.1470547517570386, 2.2941095035140773, 1.1470547517570386, 1.1470547517570386, 1.1470547517570386, 2.2941095035140773, 1.1470547517570386, 1.1470547517570386, 1.1470547517570386, 1.1470547517570386, 5.735273758785194, 1.1470547517570386, 1.1470547517570386, 1.1470547517570386, 342.9693707753546, 340.6752612718405, 379.6751228315798, 201.88163630923881, 131.91129645205945, 126.17602269327426, 97.49965389934829, 84.88205163002087, 80.29383262299271, 75.70561361596457, 71.11739460893641, 71.11739460893641, 53.91157333258082, 36.705752056225236, 35.558697304468204, 30.970478297440046, 30.970478297440046, 24.088149786897812, 19.49993077986966, 19.49993077986966, 16.058766524598543, 16.058766524598543, 16.058766524598543, 14.911711772841505, 11.470547517570388, 11.470547517570388, 11.470547517570388, 10.323492765813349, 10.323492765813349, 30.970478297440046, 43.588080566767474, 59.64684709136602, 71.11739460893641, 112.4113656721898, 727.2327126139626, 1213.583927358947, 44.73513531852451, 18.352876028112618, 1.1388374074267706, 1.1388374074267706, 1.1388374074267706, 2.2776748148535413, 1.1388374074267706, 1.1388374074267706, 1.1388374074267706, 1.1388374074267706, 1.1388374074267706, 1.1388374074267706, 1.1388374074267706, 1.1388374074267706, 1.1388374074267706, 1.1388374074267706, 1.1388374074267706, 1.1388374074267706, 1.1388374074267706, 1.1388374074267706, 1.1388374074267706, 2.2776748148535413, 4.555349629707083, 1.1388374074267706, 1.1388374074267706, 1.1388374074267706, 2.2776748148535413, 1.1388374074267706, 11.388374074267707, 5.694187037133854, 1.1388374074267706, 1.1388374074267706, 847.2950311255174, 372.39983222855403, 234.6005059299148, 166.27026148430852, 152.60421259518728, 144.63235074319988, 129.82746444665185, 111.60606592782352, 111.60606592782352, 108.18955370554322, 59.21954518619207, 33.02628481537635, 33.02628481537635, 25.054422963388955, 20.499073333681874, 14.804886296548018, 13.66604888912125, 13.66604888912125, 10.249536666840937, 7.971861851987395, 7.971861851987395, 6.833024444560625, 6.833024444560625, 6.833024444560625, 6.833024444560625, 5.694187037133854, 5.694187037133854, 5.694187037133854, 64.91373222332592, 38.7204718525102, 56.94187037133854, 5.694187037133854, 58.08070777876531, 27.3320977782425, 40.99814666736375, 26.193260370815725, 44.41465888964406, 23.91558555596219, 301.79191296809427, 29.609772593096036, 179.93631037342976, 284.7093518566927, 995.3438940909977, 63.77489481589916, 1.1560354424309793, 36.99313415779134, 3.468106327292938, 1.1560354424309793, 2.3120708848619587, 1.1560354424309793, 1.1560354424309793, 1.1560354424309793, 1.1560354424309793, 1.1560354424309793, 8.092248097016855, 6.936212654585876, 2.3120708848619587, 16.18449619403371, 1.1560354424309793, 3.468106327292938, 1.1560354424309793, 1.1560354424309793, 1.1560354424309793, 9.248283539447835, 8.092248097016855, 1.1560354424309793, 1.1560354424309793, 19.65260252132665, 1.1560354424309793, 9.248283539447835, 1.1560354424309793, 1.1560354424309793, 15.02846075160273, 1.1560354424309793, 183.80963534652568, 164.15703282519905, 156.0647847281822, 139.8802885341485, 122.53975689768382, 203.46223786785234, 109.82336703094302, 186.12170623138763, 98.26301260663323, 92.48283539447833, 87.85869362475442, 79.76644552773757, 73.98626831558268, 67.0500556609968, 61.26987844884191, 57.80177212154896, 54.33366579425602, 48.553488582101124, 48.553488582101124, 46.241417697239164, 45.085382254808195, 39.3052050426533, 39.3052050426533, 35.837098715360355, 34.68106327292938, 32.36899238806742, 32.36899238806742, 30.05692150320546, 30.05692150320546, 58.95780756397994, 52.02159490939406, 65.89402021856581, 71.67419743072071, 94.79490627934031, 45.085382254808195, 55.48970123668701, 48.553488582101124, 46.241417697239164, 97.10697716420225, 122.53975689768382, 64.73798477613484, 48.553488582101124, 1.1614225854932412, 3.4842677564797238, 11.614225854932412, 1.1614225854932412, 3.4842677564797238, 102.20518752340523, 1.1614225854932412, 1.1614225854932412, 1.1614225854932412, 1.1614225854932412, 1.1614225854932412, 1.1614225854932412, 3.4842677564797238, 6.9685355129594475, 1.1614225854932412, 1.1614225854932412, 12.775648440425654, 1.1614225854932412, 1.1614225854932412, 2.3228451709864824, 1.1614225854932412, 3.4842677564797238, 2.3228451709864824, 1.1614225854932412, 1.1614225854932412, 1.1614225854932412, 1.1614225854932412, 5.807112927466206, 19.7441839533851, 1.1614225854932412, 351.9110434044521, 156.79204904158755, 121.94937147679033, 111.49656820735116, 106.85087786537818, 188.15045884990508, 92.9138068394593, 84.78384874100661, 56.909706689168814, 47.61832600522288, 46.45690341972965, 38.32694532127696, 33.68125497930399, 30.196987222824266, 30.196987222824266, 25.551296880851307, 22.067029124371583, 22.067029124371583, 20.90560653887834, 19.7441839533851, 19.7441839533851, 17.421338782398617, 15.098493611412133, 15.098493611412133, 13.937071025918895, 12.775648440425654, 11.614225854932412, 120.78794889129706, 74.33104547156744, 33.68125497930399, 55.74828410367558, 30.196987222824266, 30.196987222824266, 268.2886172489387, 608.5854347984583, 1333.3131281462408, 296.1627593007765, 238.04655891602076, 1.1389787507943576, 1.1389787507943576, 1.1389787507943576, 1.1389787507943576, 2.2779575015887152, 1.1389787507943576, 1.1389787507943576, 1.1389787507943576, 1.1389787507943576, 1.1389787507943576, 1.1389787507943576, 1.1389787507943576, 1.1389787507943576, 1.1389787507943576, 1.1389787507943576, 1.1389787507943576, 1.1389787507943576, 7.972851255560504, 1.1389787507943576, 1.1389787507943576, 1.1389787507943576, 1.1389787507943576, 3.416936252383073, 1.1389787507943576, 1.1389787507943576, 1.1389787507943576, 4.5559150031774305, 1.1389787507943576, 4.5559150031774305, 935.1015544021677, 501.1506503495174, 305.2463052128879, 161.7349826127988, 243.74145266999253, 164.0129401143875, 66.06076754607275, 45.5591500317743, 34.169362523830735, 34.169362523830735, 30.752426271447657, 9.111830006354861, 7.972851255560504, 7.972851255560504, 6.833872504766146, 171.985791369948, 5.694893753971788, 5.694893753971788, 4.5559150031774305, 4.5559150031774305, 4.5559150031774305, 4.5559150031774305, 4.5559150031774305, 4.5559150031774305, 3.416936252383073, 3.416936252383073, 3.416936252383073, 3.416936252383073, 21.640596265092796, 613.9095466781588, 30.752426271447657, 10.250808757149219, 12.528766258737933, 150.3451951048552, 198.1823026382182, 7.972851255560504, 7.972851255560504, 345.1105614906904, 173.12477012074237, 586.5740566590941, 6.833872504766146, 128.22873593025088, 1.13476757460399, 4.53907029841596, 5.673837873019951, 21.560583917475814, 1.13476757460399, 52.19930843178354, 1.13476757460399, 1.13476757460399, 7.943373022227931, 4.53907029841596, 24.964886641287784, 1.13476757460399, 6.8086054476239415, 17.021513619059853, 1.13476757460399, 5.673837873019951, 1.13476757460399, 1.13476757460399, 7.943373022227931, 1.13476757460399, 1.13476757460399, 3.4043027238119707, 1.13476757460399, 12.482443320643892, 1.13476757460399, 4.53907029841596, 9.07814059683192, 1.13476757460399, 5.673837873019951, 484.5457543559038, 444.8288892447641, 187.23664980965836, 125.95920078104291, 120.28536290802295, 77.16419507307133, 73.75989234925936, 71.49035720005138, 59.00791387940749, 274.6137530541656, 231.492585219214, 48.795005707971576, 37.44732996193168, 36.31256238732768, 36.31256238732768, 36.31256238732768, 93.0509411175272, 29.503956939703745, 28.369189365099754, 28.369189365099754, 27.234421790495766, 26.09965421589177, 88.51187081911122, 23.830119066683793, 23.830119066683793, 22.695351492079805, 21.560583917475814, 73.75989234925936, 59.00791387940749, 55.603611155595516, 80.56849779688329, 46.5254705587636, 57.8731463048035, 56.73837873019951, 66.95128690163543, 43.12116783495163, 64.68175175242743, 54.46884358099153, 57.8731463048035, 49.92977328257557, 62.41221660321946, 95.32047626673517, 8.207431363758285, 8.207431363758285, 3.517470584467837, 1.1724901948226123, 1.1724901948226123, 1.1724901948226123, 1.1724901948226123, 5.862450974113062, 1.1724901948226123, 1.1724901948226123, 17.587352922339186, 1.1724901948226123, 1.1724901948226123, 4.689960779290449, 1.1724901948226123, 12.897392143048735, 1.1724901948226123, 3.517470584467837, 1.1724901948226123, 1.1724901948226123, 3.517470584467837, 1.1724901948226123, 19.93233331198441, 2.3449803896452246, 2.3449803896452246, 1.1724901948226123, 2.3449803896452246, 15.242372532693961, 3.517470584467837, 1.1724901948226123, 282.5701369522496, 277.8801761729591, 73.86688227382457, 73.86688227382457, 71.52190188417936, 70.34941168935674, 63.31447052042107, 58.624509741130616, 58.624509741130616, 58.624509741130616, 46.8996077929045, 41.03715681879143, 41.03715681879143, 38.69217642914621, 37.51968623432359, 36.347196039500986, 35.17470584467837, 99.66166655992205, 29.312254870565308, 29.312254870565308, 26.967274480920086, 25.79478428609747, 25.79478428609747, 25.79478428609747, 23.44980389645225, 22.277313701629634, 22.277313701629634, 22.277313701629634, 80.90182344276025, 21.104823506807023, 80.90182344276025, 66.8319411048889, 63.31447052042107, 301.32998006941136, 83.24680383240548, 73.86688227382457, 341.1946466933802, 34.00221564985576, 79.72933324793765, 94.9717057806316, 869.9877245583783, 389.26674468110735, 20.05662093571565, 5.899006157563426, 15.33741600966491, 5.899006157563426, 3.539403694538056, 3.539403694538056, 11.798012315126853, 82.58608620588797, 21.236422167228337, 8.258608620588797, 3.539403694538056, 15.33741600966491, 5.899006157563426, 40.1132418714313, 3.539403694538056, 16.517217241177594, 15.33741600966491, 10.618211083614169, 3.539403694538056, 7.078807389076112, 21.236422167228337, 5.899006157563426, 3.539403694538056, 458.9426790584346, 92.02449605798945, 12.977813546639538, 15.33741600966491, 3.539403694538056, 10.618211083614169, 34.21423571386787, 315.006928813887, 182.86919088446624, 168.711576106314, 158.09336502269983, 135.67714162395882, 89.66489359496408, 270.17448201640497, 66.06886896471038, 60.16986280714695, 49.551651723532785, 49.551651723532785, 43.65264556596936, 43.65264556596936, 42.472844334456674, 40.1132418714313, 96.7437009840402, 24.775825861766393, 24.775825861766393, 22.41622339874102, 22.41622339874102, 22.41622339874102, 22.41622339874102, 63.70926650168501, 40.1132418714313, 29.495030787817132, 283.1522955630445, 31.854633250842504, 43.65264556596936, 891.9297310235901, 25.955627093279077, 33.03443448235519, 42.20145453537687, 10.550363633844217, 10.550363633844217, 12.8948888858096, 26.96204039760189, 12.8948888858096, 38.68466665742879, 25.7897777716192, 8.205838381878836, 21.100727267688434, 16.411676763757672, 42.20145453537687, 8.205838381878836, 8.205838381878836, 26.96204039760189, 8.205838381878836, 25.7897777716192, 25.7897777716192, 32.823353527515344, 8.205838381878836, 78.54159594084028, 26.96204039760189, 38.68466665742879, 8.205838381878836, 78.54159594084028, 16.411676763757672, 8.205838381878836, 3.5167878779480723, 1.1722626259826907, 1.1722626259826907, 324.7167473972054, 284.8598181137939, 194.5955959131267, 186.38975753124785, 499.3838786686263, 114.88173734630371, 79.71385856682298, 72.68028281092683, 69.16349493297876, 63.3021818030653, 63.3021818030653, 60.95765655109992, 60.95765655109992, 135.98246461399214, 50.40729291725571, 50.40729291725571, 49.23503029127301, 46.890505039307634, 45.718242413324944, 45.718242413324944, 37.5124040314461, 36.34014140546341, 105.50363633844218, 72.68028281092683, 66.81896968101339, 75.0248080628922, 51.5795555432384, 42.20145453537687, 75.0248080628922, 64.47444442904799, 48.06276766529032, 29.125384608110824, 158.44209226812288, 38.445507682706285, 19.80526153351536, 29.125384608110824, 19.80526153351536, 1.165015384324433, 1.165015384324433, 2.330030768648866, 2.330030768648866, 1.165015384324433, 1.165015384324433, 5.825076921622165, 1.165015384324433, 1.165015384324433, 1.165015384324433, 1.165015384324433, 1.165015384324433, 1.165015384324433, 1.165015384324433, 1.165015384324433, 5.825076921622165, 1.165015384324433, 1.165015384324433, 1.165015384324433, 27.96036922378639, 1.165015384324433, 3.495046152973299, 1.165015384324433, 2.330030768648866, 170.09224611136722, 145.62692304055412, 138.6368307346075, 115.33652304811886, 114.17150766379443, 108.34643074217227, 108.34643074217227, 93.20123074595465, 83.88110767135917, 61.74581536919495, 130.4817230443365, 50.09566152595062, 43.10556922000402, 40.77553845135515, 32.62043076108412, 23.30030768648866, 18.64024614919093, 18.64024614919093, 18.64024614919093, 17.475230764866495, 16.31021538054206, 16.31021538054206, 15.145199996217627, 66.40587690649268, 47.76563075730175, 2255.469784052102, 32.62043076108412, 67.57089229081711, 30.290399992435255, 32.62043076108412, 20.970276917839794, 22.135292302164224, 1.1707901525733826, 3.512370457720148, 1.1707901525733826, 1.1707901525733826, 1.1707901525733826, 1.1707901525733826, 1.1707901525733826, 1.1707901525733826, 1.1707901525733826, 1.1707901525733826, 5.853950762866913, 9.36632122058706, 10.537111373160444, 1.1707901525733826, 1.1707901525733826, 1.1707901525733826, 2.341580305146765, 1.1707901525733826, 1.1707901525733826, 3.512370457720148, 1.1707901525733826, 2.341580305146765, 1.1707901525733826, 3.512370457720148, 1.1707901525733826, 1.1707901525733826, 5.853950762866913, 38.63607503492163, 1.1707901525733826, 46.831606102935304, 128.78691678307212, 111.22506449447135, 86.63847129043032, 86.63847129043032, 77.27215006984326, 71.41819930697635, 66.7350386966828, 62.05187808638928, 60.8810879338159, 58.539507628669135, 57.36871747609575, 44.49002579778854, 107.7126940367512, 38.63607503492163, 35.12370457720149, 32.782124272054716, 31.611334119481334, 31.611334119481334, 26.9281735091878, 25.75738335661442, 24.586593204041037, 87.8092614430037, 23.415803051467652, 22.24501289889427, 22.24501289889427, 22.24501289889427, 86.63847129043032, 21.07422274632089, 71.41819930697635, 57.36871747609575, 49.173186408082074, 44.49002579778854, 43.31923564521516, 55.02713717094898, 314.9425510422399, 64.39345839153606, 55.02713717094898, 46.831606102935304, 50.343976560655456, 92.49242205329723, 927.265800838119, 45.66081595036192, 151.03192968196637], \"Total\": [8848.0, 4979.0, 1475.0, 1595.0, 1464.0, 1642.0, 940.0, 1390.0, 896.0, 852.0, 750.0, 834.0, 720.0, 620.0, 758.0, 556.0, 547.0, 501.0, 504.0, 506.0, 484.0, 742.0, 454.0, 458.0, 460.0, 444.0, 530.0, 427.0, 540.0, 509.0, 1.0863952463769642, 1.0863952463769642, 2.1727904927539283, 1.0863952463769642, 1.0863952463769642, 1.0863952463769642, 1.0863952463769642, 1.0863952463769642, 1.0863952463769642, 17.382323942031427, 1.0863952463769642, 1.0863952463769642, 2.1727904927539283, 1.0863952463769642, 1.0863952463769642, 1.0863952463769642, 2.1727904927539283, 1.0863952463769642, 1.0863952463769642, 1.0863952463769642, 1.0863952463769642, 2.1727904927539283, 1.0863952463769642, 2.1727904927539283, 1.0863952463769642, 1.0863952463769642, 1.0863952463769642, 1.0863952463769642, 1.0863952463769642, 1.0863952463769642, 750.6991152464823, 620.3316856812467, 309.6226452174348, 122.76266284059695, 114.07150086958126, 99.94836266668071, 300.0028385132943, 93.42999118841892, 87.9980149565341, 161.9348968275591, 73.87487675363357, 69.5292957681257, 42.36941460870161, 21.727904927539285, 20.641509681162322, 18.468719188408393, 15.209533449277501, 10.863952463769643, 7.6047667246387505, 6.518371478261786, 5.431976231884821, 5.431976231884821, 48.96640622491086, 4.345580985507857, 4.345580985507857, 4.345580985507857, 4.345580985507857, 4.345580985507857, 4.345580985507857, 40.2824914955534, 384.93373783176634, 1475.9969032473682, 35.27101732124137, 401.56094063433045, 540.9831226753131, 152.9199645241903, 9.830140721810071, 1390.29594345036, 409.6291937739957, 1.1438976394284246, 20.59015750971164, 1.1438976394284246, 1.1438976394284246, 1.1438976394284246, 1.1438976394284246, 1.1438976394284246, 1.1438976394284246, 1.1438976394284246, 1.1438976394284246, 6.863385836570547, 9.151181115427397, 1.1438976394284246, 1.1438976394284246, 1.1438976394284246, 1.1438976394284246, 1.1438976394284246, 1.1438976394284246, 3.4316929182852736, 3.4316929182852736, 1.1438976394284246, 1.1438976394284246, 1.1438976394284246, 5.719488197142123, 1.1438976394284246, 11.438976394284246, 8.007283475998971, 1.1438976394284246, 3.4316929182852736, 1.1438976394284246, 123.54094505826984, 66.34606308684862, 60.6265748897065, 232.10512356582166, 53.763189053135946, 49.18759849542226, 38.892519740566435, 32.029133903995884, 32.029133903995884, 26.30964570685376, 24.021850427996917, 24.021850427996917, 22.877952788568493, 21.734055149140065, 20.59015750971164, 17.158464591426366, 16.014566951997942, 13.726771673141094, 13.726771673141094, 12.582874033712669, 12.582874033712669, 12.582874033712669, 11.438976394284246, 11.438976394284246, 11.438976394284246, 11.438976394284246, 11.438976394284246, 10.29507875485582, 53.7753268561385, 82.5042444071836, 41.15423314911196, 80.26147401351493, 40.010335509683536, 34.373192292909835, 153.63618975244057, 94.89159765590935, 32.083696971803754, 21.721014213984404, 1642.0177901691752, 86.21484707110243, 4979.1059228451595, 38.84686941644426, 82.76186719187072, 35.379223126361275, 34.455483319188126, 30.90102182621053, 105.31951439195512, 1.1445816255154138, 1.1445816255154138, 1.1445816255154138, 2.2891632510308275, 1.1445816255154138, 1.1445816255154138, 1.1445816255154138, 2.2891632510308275, 1.1445816255154138, 2.2891632510308275, 1.1445816255154138, 1.1445816255154138, 1.1445816255154138, 1.1445816255154138, 11.445816255154137, 1.1445816255154138, 1.1445816255154138, 3.4337448765462413, 1.1445816255154138, 3.4337448765462413, 1.1445816255154138, 42.34952014407031, 1.1445816255154138, 1.1445816255154138, 3.4337448765462413, 1.1445816255154138, 1.1445816255154138, 1.1445816255154138, 1.1445816255154138, 1.1445816255154138, 556.2609257824024, 255.24170248993727, 232.350069979629, 227.77174347756736, 117.8919074280876, 108.7352544239643, 80.12071378607897, 78.97613216056355, 76.68696890953272, 67.53031590540941, 42.34952014407031, 35.482030390977826, 34.33744876546241, 146.5768872779675, 28.614540637885344, 27.46995901236993, 24.036214135823688, 22.891632510308273, 20.60246925927745, 16.02414275721579, 13.734979506184965, 13.734979506184965, 12.590397880669553, 12.590397880669553, 11.445816255154137, 10.301234629638724, 10.301234629638724, 9.15665300412331, 9.15665300412331, 280.528900281647, 57.26101409682986, 60.64041465343271, 28.641527206461266, 52.660647278675526, 345.90299660769017, 1595.214795992745, 19.44088290849107, 19.478321392571054, 511.9621404128169, 291.13255378150404, 30.043974139182446, 51.34914833361084, 1642.0177901691752, 8848.606499267067, 1.1715681940913347, 2.3431363881826694, 11.715681940913349, 2.3431363881826694, 5.8578409704566745, 1.1715681940913347, 3.5147045822740046, 1.1715681940913347, 1.1715681940913347, 7.029409164548009, 1.1715681940913347, 1.1715681940913347, 1.1715681940913347, 5.8578409704566745, 1.1715681940913347, 4.686272776365339, 1.1715681940913347, 3.5147045822740046, 1.1715681940913347, 7.029409164548009, 1.1715681940913347, 10.544113746822013, 2.3431363881826694, 1.1715681940913347, 1.1715681940913347, 1.1715681940913347, 1.1715681940913347, 4.686272776365339, 3.5147045822740046, 1.1715681940913347, 454.56845930743793, 185.1077746664309, 101.92643288594614, 98.41172830367212, 96.06859191548945, 90.21075094503279, 77.32350081002811, 66.77938706320609, 52.72056873411007, 41.00488679319672, 33.97547762864871, 33.97547762864871, 152.26381903787885, 30.460773046374708, 26.9460684641007, 26.9460684641007, 25.774500270009366, 24.60293207591803, 23.431363881826698, 23.431363881826698, 22.259795687735366, 21.088227493644027, 21.088227493644027, 21.088227493644027, 21.088227493644027, 21.088227493644027, 19.91665929955269, 19.91665929955269, 17.57352291137002, 17.57352291137002, 112.40508505943903, 74.98128642257672, 64.42610506642532, 56.20828674780816, 67.78218075626941, 55.97978333159495, 31.66232504704646, 50.30704923522479, 37.52311436060812, 32.734405943588555, 8848.606499267067, 29.221506793888878, 370.49208458308493, 1.1275769002444473, 3.3827307007333425, 1.1275769002444473, 1.1275769002444473, 1.1275769002444473, 1.1275769002444473, 1.1275769002444473, 1.1275769002444473, 460.05137529973456, 1.1275769002444473, 1.1275769002444473, 1.1275769002444473, 4.510307600977789, 1.1275769002444473, 3.3827307007333425, 5.637884501222238, 1.1275769002444473, 1.1275769002444473, 2.2551538004888947, 1.1275769002444473, 1.1275769002444473, 67.65461401466685, 2.2551538004888947, 1.1275769002444473, 1.1275769002444473, 1.1275769002444473, 95.84403652077805, 9.020615201955579, 1.1275769002444473, 3.3827307007333425, 263.8529946572007, 241.30145665231174, 145.45742013153372, 117.26799762542254, 109.3749593237114, 89.07857511931135, 55.25126811197793, 55.25126811197793, 52.99611431148903, 49.61338361075569, 47.35822981026679, 120.69564162073405, 117.2888210889465, 42.84792220928901, 547.419560945604, 29.316999406355635, 29.316999406355635, 28.18942250611119, 24.806691805377845, 24.806691805377845, 23.679114905133396, 82.26293958138191, 20.296384204400056, 18.041230403911158, 18.041230403911158, 15.786076603422265, 15.786076603422265, 65.40274001820626, 54.161129695813464, 42.934348713946875, 530.7225947861738, 1464.65029474953, 38.51635751126419, 742.456187647276, 1.1308567042727633, 1.1308567042727633, 5.654283521363816, 1.1308567042727633, 1.1308567042727633, 1.1308567042727633, 1.1308567042727633, 1.1308567042727633, 1.1308567042727633, 1.1308567042727633, 1.1308567042727633, 1.1308567042727633, 1.1308567042727633, 1.1308567042727633, 19.224563972636975, 1.1308567042727633, 1.1308567042727633, 3.39257011281829, 1.1308567042727633, 2.2617134085455266, 13.57028045127316, 1.1308567042727633, 1.1308567042727633, 14.701137155545922, 1.1308567042727633, 15.831993859818686, 10.177710338454869, 5.654283521363816, 1.1308567042727633, 7.915996929909343, 896.7693664883013, 382.22956604419403, 269.14389561691763, 268.01303891264484, 183.19878609218767, 165.10507882382345, 111.95481372300355, 99.51538997600318, 78.02911259482066, 73.50568577772961, 71.24397236918408, 57.67369191791093, 50.88855169227435, 47.49598157945606, 165.13747491879198, 40.710841353819475, 38.44912794527395, 36.187414536728426, 35.05655783245566, 33.925701128182894, 31.663987719637372, 30.533131015364606, 29.402274311091844, 29.402274311091844, 27.14056090254632, 27.14056090254632, 26.009704198273553, 24.878847494000794, 24.878847494000794, 23.74799078972803, 73.53086451588783, 63.283513981378945, 115.41217602575895, 66.81224319575446, 104.17916606905929, 44.111233207300224, 36.25810983312741, 209.5507283195269, 44.229743409000314, 82.5398192600563, 123.20804886718419, 70.71164253048372, 100.66185896577642, 35.600411276820296, 5.742001818841983, 11.484003637683966, 19.522806184062745, 8.038802546378777, 11.484003637683966, 155.03404910873354, 39.04561236812549, 11.484003637683966, 5.742001818841983, 8.038802546378777, 11.484003637683966, 8.038802546378777, 22.96800727536793, 16.077605092757555, 16.077605092757555, 8.038802546378777, 19.522806184062745, 19.522806184062745, 8.038802546378777, 5.742001818841983, 11.484003637683966, 39.04561236812549, 1.1484003637683968, 1.1484003637683968, 1.1484003637683968, 1.1484003637683968, 1.1484003637683968, 1.1484003637683968, 1.1484003637683968, 296.28729385224636, 277.91288803195204, 124.02723928698684, 119.43363783191327, 117.13683710437647, 96.46563055654532, 96.46563055654532, 80.38802546378777, 153.88183000671216, 146.9744230988308, 62.01361964349342, 58.568418552188234, 50.52961600580945, 126.33706223624847, 49.38121564204106, 43.63921382319908, 33.303610549283505, 99.89328798835488, 31.00680982174671, 29.85840945797832, 29.85840945797832, 28.71000909420992, 26.413208366673125, 24.11640763913633, 20.67120654783114, 97.49002068553087, 63.15259839428778, 51.702106200632066, 49.405305473095275, 155.2594737988557, 171.56801537950983, 49.45895217043122, 509.100517233751, 171.53921860659574, 92.36902187540936, 486.68437153480613, 495.3637660277551, 123.20804886718419, 1.2015520006717513, 1.2015520006717513, 1.2015520006717513, 1.2015520006717513, 3.6046560020152536, 1.2015520006717513, 54.06984003022882, 1.2015520006717513, 1.2015520006717513, 1.2015520006717513, 1.2015520006717513, 63.68225603560282, 1.2015520006717513, 1.2015520006717513, 1.2015520006717513, 1.2015520006717513, 3.6046560020152536, 1.2015520006717513, 1.2015520006717513, 2.4031040013435025, 1.2015520006717513, 1.2015520006717513, 12.015520006717514, 1.2015520006717513, 1.2015520006717513, 1.2015520006717513, 1.2015520006717513, 87.71329604903785, 2.4031040013435025, 69.69001603896159, 188.64366410546498, 171.82193609606045, 167.01572809337344, 115.34899206448812, 109.34123206112938, 156.1390454940827, 68.48846403828983, 52.868288029557064, 49.2636320275418, 48.062080026870056, 31.240352017465536, 31.240352017465536, 20.426384011419774, 14.418624008061014, 13.217072007389266, 13.217072007389266, 12.015520006717514, 10.813968006045762, 8.41086400470226, 8.41086400470226, 7.209312004030507, 6.007760003358757, 6.007760003358757, 4.806208002687005, 4.806208002687005, 65.97141928663365, 34.7824347696034, 193.7478462814667, 52.68056827992488, 834.6566089451634, 294.16150527436946, 15.565678759818052, 742.456187647276, 8848.606499267067, 509.100517233751, 17.89785082358631, 345.90299660769017, 29.56103016197957, 1.0774027637816892, 1.0774027637816892, 1.0774027637816892, 1.0774027637816892, 1.0774027637816892, 1.0774027637816892, 1.0774027637816892, 1.0774027637816892, 1.0774027637816892, 1.0774027637816892, 1.0774027637816892, 1.0774027637816892, 1.0774027637816892, 1.0774027637816892, 2.1548055275633784, 1.0774027637816892, 4.309611055126757, 1.0774027637816892, 1.0774027637816892, 1.0774027637816892, 1.0774027637816892, 1.0774027637816892, 1.0774027637816892, 1.0774027637816892, 1.0774027637816892, 1.0774027637816892, 1.0774027637816892, 1.0774027637816892, 1.0774027637816892, 1.0774027637816892, 427.72889722133067, 504.2424784150211, 272.5828992367674, 404.26193445408137, 140.06235929161963, 106.66287361438724, 184.29323741749116, 99.12105426791541, 81.88261004740839, 49.560527133957706, 39.863902259922504, 36.63169396857744, 32.32208291345068, 24.780263566978853, 20.470652511852098, 119.71963629905935, 8.619222110253514, 94.93431250007882, 5.387013818908446, 5.387013818908446, 5.387013818908446, 49.61070127042047, 4.309611055126757, 4.309611055126757, 4.309611055126757, 3.2322082913450676, 3.2322082913450676, 3.2322082913450676, 3.2322082913450676, 3.2322082913450676, 3.2322082913450676, 54.1329760507127, 3.2322082913450676, 758.1544708541996, 495.3637660277551, 3.2322082913450676, 3.2322082913450676, 540.9831226753131, 409.6291937739957, 1464.65029474953, 834.6566089451634, 385.7255185011428, 1475.9969032473682, 720.572420292546, 362.6987231308052, 1.1470547517570386, 18.352876028112618, 5.735273758785194, 10.323492765813349, 1.1470547517570386, 1.1470547517570386, 1.1470547517570386, 5.735273758785194, 1.1470547517570386, 1.1470547517570386, 1.1470547517570386, 1.1470547517570386, 1.1470547517570386, 1.1470547517570386, 1.1470547517570386, 1.1470547517570386, 1.1470547517570386, 2.2941095035140773, 1.1470547517570386, 1.1470547517570386, 1.1470547517570386, 2.2941095035140773, 1.1470547517570386, 1.1470547517570386, 1.1470547517570386, 1.1470547517570386, 5.735273758785194, 1.1470547517570386, 1.1470547517570386, 1.1470547517570386, 342.9693707753546, 340.6752612718405, 380.8549240630925, 201.88163630923881, 131.91129645205945, 126.17602269327426, 97.49965389934829, 84.88205163002087, 80.29383262299271, 75.70561361596457, 71.11739460893641, 71.11739460893641, 53.91157333258082, 36.705752056225236, 35.558697304468204, 30.970478297440046, 30.970478297440046, 24.088149786897812, 19.49993077986966, 19.49993077986966, 16.058766524598543, 16.058766524598543, 16.058766524598543, 14.911711772841505, 11.470547517570388, 11.470547517570388, 11.470547517570388, 10.323492765813349, 10.323492765813349, 32.10524587204404, 45.91451853658515, 64.17415941761477, 79.15619715531518, 144.55757040902498, 1390.29594345036, 8848.606499267067, 81.04769770585219, 21.86758061038662, 1.1388374074267706, 1.1388374074267706, 1.1388374074267706, 2.2776748148535413, 1.1388374074267706, 1.1388374074267706, 1.1388374074267706, 1.1388374074267706, 1.1388374074267706, 1.1388374074267706, 1.1388374074267706, 1.1388374074267706, 1.1388374074267706, 1.1388374074267706, 1.1388374074267706, 1.1388374074267706, 1.1388374074267706, 1.1388374074267706, 1.1388374074267706, 2.2776748148535413, 4.555349629707083, 1.1388374074267706, 1.1388374074267706, 1.1388374074267706, 2.2776748148535413, 1.1388374074267706, 11.388374074267707, 5.694187037133854, 1.1388374074267706, 1.1388374074267706, 852.0142360515682, 372.39983222855403, 234.6005059299148, 166.27026148430852, 152.60421259518728, 144.63235074319988, 129.82746444665185, 111.60606592782352, 111.60606592782352, 108.18955370554322, 59.21954518619207, 33.02628481537635, 33.02628481537635, 25.054422963388955, 20.499073333681874, 14.804886296548018, 13.66604888912125, 13.66604888912125, 10.249536666840937, 7.971861851987395, 7.971861851987395, 6.833024444560625, 6.833024444560625, 6.833024444560625, 6.833024444560625, 5.694187037133854, 5.694187037133854, 5.694187037133854, 67.20289547435675, 39.89126200508358, 59.23597987485262, 5.694187037133854, 61.51445265531155, 28.409500542024187, 43.33972697251051, 27.324117075088488, 49.1338638156948, 26.146562427854565, 486.68437153480613, 37.80530366110972, 401.56094063433045, 742.456187647276, 8848.606499267067, 152.9199645241903, 1.1560354424309793, 36.99313415779134, 3.468106327292938, 1.1560354424309793, 2.3120708848619587, 1.1560354424309793, 1.1560354424309793, 1.1560354424309793, 1.1560354424309793, 1.1560354424309793, 8.092248097016855, 6.936212654585876, 2.3120708848619587, 16.18449619403371, 1.1560354424309793, 3.468106327292938, 1.1560354424309793, 1.1560354424309793, 1.1560354424309793, 9.248283539447835, 8.092248097016855, 1.1560354424309793, 1.1560354424309793, 19.65260252132665, 1.1560354424309793, 9.248283539447835, 1.1560354424309793, 1.1560354424309793, 15.02846075160273, 1.1560354424309793, 183.80963534652568, 164.15703282519905, 156.0647847281822, 139.8802885341485, 122.53975689768382, 204.6330280204257, 109.82336703094302, 187.28672161571205, 98.26301260663323, 92.48283539447833, 87.85869362475442, 79.76644552773757, 73.98626831558268, 67.0500556609968, 61.26987844884191, 57.80177212154896, 54.33366579425602, 48.553488582101124, 48.553488582101124, 46.241417697239164, 45.085382254808195, 39.3052050426533, 39.3052050426533, 35.837098715360355, 34.68106327292938, 32.36899238806742, 32.36899238806742, 30.05692150320546, 30.05692150320546, 60.102389189495355, 53.10799015577103, 68.0488257461292, 76.27296313481783, 104.34053785864656, 46.25039763913263, 58.72190952803208, 50.88351935074999, 49.500603436370056, 294.16150527436946, 530.7225947861738, 171.53921860659574, 80.36447572239156, 1.1614225854932412, 3.4842677564797238, 11.614225854932412, 1.1614225854932412, 3.4842677564797238, 102.20518752340523, 1.1614225854932412, 1.1614225854932412, 1.1614225854932412, 1.1614225854932412, 1.1614225854932412, 1.1614225854932412, 3.4842677564797238, 6.9685355129594475, 1.1614225854932412, 1.1614225854932412, 12.775648440425654, 1.1614225854932412, 1.1614225854932412, 2.3228451709864824, 1.1614225854932412, 3.4842677564797238, 2.3228451709864824, 1.1614225854932412, 1.1614225854932412, 1.1614225854932412, 1.1614225854932412, 5.807112927466206, 19.7441839533851, 1.1614225854932412, 354.06584893201546, 156.79204904158755, 121.94937147679033, 111.49656820735116, 106.85087786537818, 189.32124900247845, 92.9138068394593, 84.78384874100661, 56.909706689168814, 47.61832600522288, 46.45690341972965, 38.32694532127696, 33.68125497930399, 30.196987222824266, 30.196987222824266, 25.551296880851307, 22.067029124371583, 22.067029124371583, 20.90560653887834, 19.7441839533851, 19.7441839533851, 17.421338782398617, 15.098493611412133, 15.098493611412133, 13.937071025918895, 12.775648440425654, 11.614225854932412, 125.5071538173478, 76.6741818597501, 34.85282317339533, 59.14675023491451, 32.369777715578195, 32.60009122416777, 385.7255185011428, 1595.214795992745, 4979.1059228451595, 1390.29594345036, 238.04655891602076, 1.1389787507943576, 1.1389787507943576, 1.1389787507943576, 1.1389787507943576, 2.2779575015887152, 1.1389787507943576, 1.1389787507943576, 1.1389787507943576, 1.1389787507943576, 1.1389787507943576, 1.1389787507943576, 1.1389787507943576, 1.1389787507943576, 1.1389787507943576, 1.1389787507943576, 1.1389787507943576, 1.1389787507943576, 7.972851255560504, 1.1389787507943576, 1.1389787507943576, 1.1389787507943576, 1.1389787507943576, 3.416936252383073, 1.1389787507943576, 1.1389787507943576, 1.1389787507943576, 4.5559150031774305, 1.1389787507943576, 4.5559150031774305, 940.7844809321192, 501.1506503495174, 305.2463052128879, 161.7349826127988, 244.8974881124235, 165.1575217399029, 66.06076754607275, 45.5591500317743, 34.169362523830735, 34.169362523830735, 30.752426271447657, 9.111830006354861, 7.972851255560504, 7.972851255560504, 6.833872504766146, 177.84363234040467, 5.694893753971788, 5.694893753971788, 4.5559150031774305, 4.5559150031774305, 4.5559150031774305, 4.5559150031774305, 4.5559150031774305, 4.5559150031774305, 3.416936252383073, 3.416936252383073, 3.416936252383073, 3.416936252383073, 22.812858891075486, 720.572420292546, 38.64546457315879, 11.38964616457599, 14.888368721763303, 291.13255378150404, 409.6291937739957, 9.143641408133886, 9.144419449651839, 1390.29594345036, 758.1544708541996, 8848.606499267067, 10.322295396159952, 128.22873593025088, 1.13476757460399, 4.53907029841596, 5.673837873019951, 21.560583917475814, 1.13476757460399, 52.19930843178354, 1.13476757460399, 1.13476757460399, 7.943373022227931, 4.53907029841596, 24.964886641287784, 1.13476757460399, 6.8086054476239415, 17.021513619059853, 1.13476757460399, 5.673837873019951, 1.13476757460399, 1.13476757460399, 7.943373022227931, 1.13476757460399, 1.13476757460399, 3.4043027238119707, 1.13476757460399, 12.482443320643892, 1.13476757460399, 4.53907029841596, 9.07814059683192, 1.13476757460399, 5.673837873019951, 484.5457543559038, 444.8288892447641, 187.23664980965836, 125.95920078104291, 120.28536290802295, 77.16419507307133, 73.75989234925936, 71.49035720005138, 59.00791387940749, 278.9593340396735, 234.92959044602105, 48.795005707971576, 37.44732996193168, 36.31256238732768, 36.31256238732768, 36.31256238732768, 94.1283438813089, 29.503956939703745, 28.369189365099754, 28.369189365099754, 27.234421790495766, 26.09965421589177, 89.650708226538, 23.830119066683793, 23.830119066683793, 22.695351492079805, 21.560583917475814, 74.9069471010164, 60.14689263020185, 56.74819278111093, 84.00759519723007, 47.690485943088035, 60.207059085119354, 59.08151511838218, 70.48337955948341, 44.26956819872002, 68.18475464306744, 57.87445462896548, 62.56310708409395, 53.46917697711363, 71.5307562402789, 209.5507283195269, 8.207431363758285, 8.207431363758285, 3.517470584467837, 1.1724901948226123, 1.1724901948226123, 1.1724901948226123, 1.1724901948226123, 5.862450974113062, 1.1724901948226123, 1.1724901948226123, 17.587352922339186, 1.1724901948226123, 1.1724901948226123, 4.689960779290449, 1.1724901948226123, 12.897392143048735, 1.1724901948226123, 3.517470584467837, 1.1724901948226123, 1.1724901948226123, 3.517470584467837, 1.1724901948226123, 19.93233331198441, 2.3449803896452246, 2.3449803896452246, 1.1724901948226123, 2.3449803896452246, 15.242372532693961, 3.517470584467837, 1.1724901948226123, 282.5701369522496, 279.0190135803859, 73.86688227382457, 73.86688227382457, 71.52190188417936, 70.34941168935674, 63.31447052042107, 58.624509741130616, 58.624509741130616, 58.624509741130616, 46.8996077929045, 41.03715681879143, 41.03715681879143, 38.69217642914621, 37.51968623432359, 36.347196039500986, 35.17470584467837, 100.82668194424649, 29.312254870565308, 29.312254870565308, 26.967274480920086, 25.79478428609747, 25.79478428609747, 25.79478428609747, 23.44980389645225, 22.277313701629634, 22.277313701629634, 22.277313701629634, 81.98821868913721, 21.104823506807023, 82.04572108218868, 67.97583874431733, 64.44204742066552, 321.9561593738428, 85.53459911126232, 76.14483977541329, 370.49208458308493, 35.15061601362416, 92.68141201934264, 113.54529121291058, 4979.1059228451595, 1642.0177901691752, 20.05662093571565, 5.899006157563426, 15.33741600966491, 5.899006157563426, 3.539403694538056, 3.539403694538056, 11.798012315126853, 82.58608620588797, 21.236422167228337, 8.258608620588797, 3.539403694538056, 15.33741600966491, 5.899006157563426, 40.1132418714313, 3.539403694538056, 16.517217241177594, 15.33741600966491, 10.618211083614169, 3.539403694538056, 7.078807389076112, 21.236422167228337, 5.899006157563426, 3.539403694538056, 458.9426790584346, 92.02449605798945, 12.977813546639538, 15.33741600966491, 3.539403694538056, 10.618211083614169, 34.21423571386787, 315.006928813887, 182.86919088446624, 168.711576106314, 158.09336502269983, 135.67714162395882, 89.66489359496408, 273.59141826878806, 66.06886896471038, 60.16986280714695, 49.551651723532785, 49.551651723532785, 43.65264556596936, 43.65264556596936, 42.472844334456674, 40.1132418714313, 97.87846855864419, 24.775825861766393, 24.775825861766393, 22.41622339874102, 22.41622339874102, 22.41622339874102, 22.41622339874102, 64.88083469577634, 41.27825725575573, 30.638928427245556, 511.9621404128169, 36.408154104149226, 63.55607815971686, 8848.606499267067, 30.533953595340734, 110.3372000468361, 42.20145453537687, 10.550363633844217, 10.550363633844217, 12.8948888858096, 26.96204039760189, 12.8948888858096, 38.68466665742879, 25.7897777716192, 8.205838381878836, 21.100727267688434, 16.411676763757672, 42.20145453537687, 8.205838381878836, 8.205838381878836, 26.96204039760189, 8.205838381878836, 25.7897777716192, 25.7897777716192, 32.823353527515344, 8.205838381878836, 78.54159594084028, 26.96204039760189, 38.68466665742879, 8.205838381878836, 78.54159594084028, 16.411676763757672, 8.205838381878836, 3.5167878779480723, 1.1722626259826907, 1.1722626259826907, 324.7167473972054, 284.8598181137939, 194.5955959131267, 186.38975753124785, 506.2146836174745, 114.88173734630371, 79.71385856682298, 72.68028281092683, 69.16349493297876, 63.3021818030653, 63.3021818030653, 60.95765655109992, 60.95765655109992, 137.1133213182649, 50.40729291725571, 50.40729291725571, 49.23503029127301, 46.890505039307634, 45.718242413324944, 45.718242413324944, 37.5124040314461, 36.34014140546341, 106.65203670221058, 73.81926156172118, 67.95373725561737, 77.36638836803897, 56.212800462195425, 43.357489977807845, 110.3372000468361, 100.66185896577642, 69.48672876993483, 29.125384608110824, 158.44209226812288, 38.445507682706285, 19.80526153351536, 29.125384608110824, 19.80526153351536, 1.165015384324433, 1.165015384324433, 2.330030768648866, 2.330030768648866, 1.165015384324433, 1.165015384324433, 5.825076921622165, 1.165015384324433, 1.165015384324433, 1.165015384324433, 1.165015384324433, 1.165015384324433, 1.165015384324433, 1.165015384324433, 1.165015384324433, 5.825076921622165, 1.165015384324433, 1.165015384324433, 1.165015384324433, 27.96036922378639, 1.165015384324433, 3.495046152973299, 1.165015384324433, 2.330030768648866, 170.09224611136722, 145.62692304055412, 138.6368307346075, 115.33652304811886, 114.17150766379443, 108.34643074217227, 108.34643074217227, 93.20123074595465, 83.88110767135917, 61.74581536919495, 131.68327504500823, 50.09566152595062, 43.10556922000402, 40.77553845135515, 32.62043076108412, 23.30030768648866, 18.64024614919093, 18.64024614919093, 18.64024614919093, 17.475230764866495, 16.31021538054206, 16.31021538054206, 15.145199996217627, 71.0890375167862, 51.15820087012004, 8848.606499267067, 39.6733208986108, 105.31951439195512, 38.4485138498855, 53.22290002036157, 25.660237697130242, 82.76186719187072, 1.1707901525733826, 3.512370457720148, 1.1707901525733826, 1.1707901525733826, 1.1707901525733826, 1.1707901525733826, 1.1707901525733826, 1.1707901525733826, 1.1707901525733826, 1.1707901525733826, 5.853950762866913, 9.36632122058706, 10.537111373160444, 1.1707901525733826, 1.1707901525733826, 1.1707901525733826, 2.341580305146765, 1.1707901525733826, 1.1707901525733826, 3.512370457720148, 1.1707901525733826, 2.341580305146765, 1.1707901525733826, 3.512370457720148, 1.1707901525733826, 1.1707901525733826, 5.853950762866913, 38.63607503492163, 1.1707901525733826, 46.831606102935304, 128.78691678307212, 111.22506449447135, 86.63847129043032, 86.63847129043032, 77.27215006984326, 71.41819930697635, 66.7350386966828, 62.05187808638928, 60.8810879338159, 58.539507628669135, 57.36871747609575, 44.49002579778854, 108.79908928312817, 38.63607503492163, 35.12370457720149, 32.782124272054716, 31.611334119481334, 31.611334119481334, 26.9281735091878, 25.75738335661442, 24.586593204041037, 88.96529688543468, 23.415803051467652, 22.24501289889427, 22.24501289889427, 22.24501289889427, 87.84002329110207, 21.07422274632089, 72.59800053848903, 58.51329910161117, 50.34567660290469, 45.62479337239253, 44.52078764588691, 57.35716793959785, 362.6987231308052, 68.96643008635012, 58.54460775541682, 49.17613135490068, 53.79021308087641, 112.24783852514449, 4979.1059228451595, 53.691544824672555, 1642.0177901691752], \"Category\": [\"Default\", \"Default\", \"Default\", \"Default\", \"Default\", \"Default\", \"Default\", \"Default\", \"Default\", \"Default\", \"Default\", \"Default\", \"Default\", \"Default\", \"Default\", \"Default\", \"Default\", \"Default\", \"Default\", \"Default\", \"Default\", \"Default\", \"Default\", \"Default\", \"Default\", \"Default\", \"Default\", \"Default\", \"Default\", \"Default\", \"Topic1\", \"Topic1\", \"Topic1\", \"Topic1\", \"Topic1\", \"Topic1\", \"Topic1\", \"Topic1\", \"Topic1\", \"Topic1\", \"Topic1\", \"Topic1\", \"Topic1\", \"Topic1\", \"Topic1\", \"Topic1\", \"Topic1\", \"Topic1\", \"Topic1\", \"Topic1\", \"Topic1\", \"Topic1\", \"Topic1\", \"Topic1\", \"Topic1\", \"Topic1\", \"Topic1\", \"Topic1\", \"Topic1\", \"Topic1\", \"Topic1\", \"Topic1\", \"Topic1\", \"Topic1\", \"Topic1\", \"Topic1\", \"Topic1\", \"Topic1\", \"Topic1\", \"Topic1\", \"Topic1\", \"Topic1\", \"Topic1\", \"Topic1\", \"Topic1\", \"Topic1\", \"Topic1\", \"Topic1\", \"Topic1\", \"Topic1\", \"Topic1\", \"Topic1\", \"Topic1\", \"Topic1\", \"Topic1\", \"Topic1\", \"Topic1\", \"Topic1\", \"Topic1\", \"Topic1\", \"Topic1\", \"Topic1\", \"Topic1\", \"Topic1\", \"Topic1\", \"Topic1\", \"Topic1\", \"Topic1\", \"Topic1\", \"Topic2\", \"Topic2\", \"Topic2\", \"Topic2\", \"Topic2\", \"Topic2\", \"Topic2\", \"Topic2\", \"Topic2\", \"Topic2\", \"Topic2\", \"Topic2\", \"Topic2\", \"Topic2\", \"Topic2\", \"Topic2\", \"Topic2\", \"Topic2\", \"Topic2\", \"Topic2\", \"Topic2\", \"Topic2\", \"Topic2\", \"Topic2\", \"Topic2\", \"Topic2\", \"Topic2\", \"Topic2\", \"Topic2\", \"Topic2\", \"Topic2\", \"Topic2\", \"Topic2\", \"Topic2\", \"Topic2\", \"Topic2\", \"Topic2\", \"Topic2\", \"Topic2\", \"Topic2\", \"Topic2\", \"Topic2\", \"Topic2\", \"Topic2\", \"Topic2\", \"Topic2\", \"Topic2\", \"Topic2\", \"Topic2\", \"Topic2\", \"Topic2\", \"Topic2\", \"Topic2\", \"Topic2\", \"Topic2\", \"Topic2\", \"Topic2\", \"Topic2\", \"Topic2\", \"Topic2\", \"Topic2\", \"Topic2\", \"Topic2\", \"Topic2\", \"Topic2\", \"Topic2\", \"Topic2\", \"Topic2\", \"Topic2\", \"Topic2\", \"Topic2\", \"Topic2\", \"Topic2\", \"Topic2\", \"Topic2\", \"Topic2\", \"Topic2\", \"Topic3\", \"Topic3\", \"Topic3\", \"Topic3\", \"Topic3\", \"Topic3\", \"Topic3\", \"Topic3\", \"Topic3\", \"Topic3\", \"Topic3\", \"Topic3\", \"Topic3\", \"Topic3\", \"Topic3\", \"Topic3\", \"Topic3\", \"Topic3\", \"Topic3\", \"Topic3\", \"Topic3\", \"Topic3\", \"Topic3\", \"Topic3\", \"Topic3\", \"Topic3\", \"Topic3\", \"Topic3\", \"Topic3\", \"Topic3\", \"Topic3\", \"Topic3\", \"Topic3\", \"Topic3\", \"Topic3\", \"Topic3\", \"Topic3\", \"Topic3\", \"Topic3\", \"Topic3\", \"Topic3\", \"Topic3\", \"Topic3\", \"Topic3\", \"Topic3\", \"Topic3\", \"Topic3\", \"Topic3\", \"Topic3\", \"Topic3\", \"Topic3\", \"Topic3\", \"Topic3\", \"Topic3\", \"Topic3\", \"Topic3\", \"Topic3\", \"Topic3\", \"Topic3\", \"Topic3\", \"Topic3\", \"Topic3\", \"Topic3\", \"Topic3\", \"Topic3\", \"Topic3\", \"Topic3\", \"Topic3\", \"Topic3\", \"Topic3\", \"Topic3\", \"Topic3\", \"Topic3\", \"Topic3\", \"Topic4\", \"Topic4\", \"Topic4\", \"Topic4\", \"Topic4\", \"Topic4\", \"Topic4\", \"Topic4\", \"Topic4\", \"Topic4\", \"Topic4\", \"Topic4\", \"Topic4\", \"Topic4\", \"Topic4\", \"Topic4\", \"Topic4\", \"Topic4\", \"Topic4\", \"Topic4\", \"Topic4\", \"Topic4\", \"Topic4\", \"Topic4\", \"Topic4\", \"Topic4\", \"Topic4\", \"Topic4\", \"Topic4\", \"Topic4\", \"Topic4\", \"Topic4\", \"Topic4\", \"Topic4\", \"Topic4\", \"Topic4\", \"Topic4\", \"Topic4\", \"Topic4\", \"Topic4\", \"Topic4\", \"Topic4\", \"Topic4\", \"Topic4\", \"Topic4\", \"Topic4\", \"Topic4\", \"Topic4\", \"Topic4\", \"Topic4\", \"Topic4\", \"Topic4\", \"Topic4\", \"Topic4\", \"Topic4\", \"Topic4\", \"Topic4\", \"Topic4\", \"Topic4\", \"Topic4\", \"Topic4\", \"Topic4\", \"Topic4\", \"Topic4\", \"Topic4\", \"Topic4\", \"Topic4\", \"Topic4\", \"Topic4\", \"Topic4\", \"Topic4\", \"Topic4\", \"Topic4\", \"Topic5\", \"Topic5\", \"Topic5\", \"Topic5\", \"Topic5\", \"Topic5\", \"Topic5\", \"Topic5\", \"Topic5\", \"Topic5\", \"Topic5\", \"Topic5\", \"Topic5\", \"Topic5\", \"Topic5\", \"Topic5\", \"Topic5\", \"Topic5\", \"Topic5\", \"Topic5\", \"Topic5\", \"Topic5\", \"Topic5\", \"Topic5\", \"Topic5\", \"Topic5\", \"Topic5\", \"Topic5\", \"Topic5\", \"Topic5\", \"Topic5\", \"Topic5\", \"Topic5\", \"Topic5\", \"Topic5\", \"Topic5\", \"Topic5\", \"Topic5\", \"Topic5\", \"Topic5\", \"Topic5\", \"Topic5\", \"Topic5\", \"Topic5\", \"Topic5\", \"Topic5\", \"Topic5\", \"Topic5\", \"Topic5\", \"Topic5\", \"Topic5\", \"Topic5\", \"Topic5\", \"Topic5\", \"Topic5\", \"Topic5\", \"Topic5\", \"Topic5\", \"Topic5\", \"Topic5\", \"Topic5\", \"Topic5\", \"Topic5\", \"Topic5\", \"Topic6\", \"Topic6\", \"Topic6\", \"Topic6\", \"Topic6\", \"Topic6\", \"Topic6\", \"Topic6\", \"Topic6\", \"Topic6\", \"Topic6\", \"Topic6\", \"Topic6\", \"Topic6\", \"Topic6\", \"Topic6\", \"Topic6\", \"Topic6\", \"Topic6\", \"Topic6\", \"Topic6\", \"Topic6\", \"Topic6\", \"Topic6\", \"Topic6\", \"Topic6\", \"Topic6\", \"Topic6\", \"Topic6\", \"Topic6\", \"Topic6\", \"Topic6\", \"Topic6\", \"Topic6\", \"Topic6\", \"Topic6\", \"Topic6\", \"Topic6\", \"Topic6\", \"Topic6\", \"Topic6\", \"Topic6\", \"Topic6\", \"Topic6\", \"Topic6\", \"Topic6\", \"Topic6\", \"Topic6\", \"Topic6\", \"Topic6\", \"Topic6\", \"Topic6\", \"Topic6\", \"Topic6\", \"Topic6\", \"Topic6\", \"Topic6\", \"Topic6\", \"Topic6\", \"Topic6\", \"Topic6\", \"Topic6\", \"Topic6\", \"Topic6\", \"Topic6\", \"Topic6\", \"Topic6\", \"Topic6\", \"Topic6\", \"Topic6\", \"Topic6\", \"Topic6\", \"Topic6\", \"Topic7\", \"Topic7\", \"Topic7\", \"Topic7\", \"Topic7\", \"Topic7\", \"Topic7\", \"Topic7\", \"Topic7\", \"Topic7\", \"Topic7\", \"Topic7\", \"Topic7\", \"Topic7\", \"Topic7\", \"Topic7\", \"Topic7\", \"Topic7\", \"Topic7\", \"Topic7\", \"Topic7\", \"Topic7\", \"Topic7\", \"Topic7\", \"Topic7\", \"Topic7\", \"Topic7\", \"Topic7\", \"Topic7\", \"Topic7\", \"Topic7\", \"Topic7\", \"Topic7\", \"Topic7\", \"Topic7\", \"Topic7\", \"Topic7\", \"Topic7\", \"Topic7\", \"Topic7\", \"Topic7\", \"Topic7\", \"Topic7\", \"Topic7\", \"Topic7\", \"Topic7\", \"Topic7\", \"Topic7\", \"Topic7\", \"Topic7\", \"Topic7\", \"Topic7\", \"Topic7\", \"Topic7\", \"Topic7\", \"Topic7\", \"Topic7\", \"Topic7\", \"Topic7\", \"Topic7\", \"Topic7\", \"Topic7\", \"Topic7\", \"Topic7\", \"Topic7\", \"Topic7\", \"Topic7\", \"Topic7\", \"Topic8\", \"Topic8\", \"Topic8\", \"Topic8\", \"Topic8\", \"Topic8\", \"Topic8\", \"Topic8\", \"Topic8\", \"Topic8\", \"Topic8\", \"Topic8\", \"Topic8\", \"Topic8\", \"Topic8\", \"Topic8\", \"Topic8\", \"Topic8\", \"Topic8\", \"Topic8\", \"Topic8\", \"Topic8\", \"Topic8\", \"Topic8\", \"Topic8\", \"Topic8\", \"Topic8\", \"Topic8\", \"Topic8\", \"Topic8\", \"Topic8\", \"Topic8\", \"Topic8\", \"Topic8\", \"Topic8\", \"Topic8\", \"Topic8\", \"Topic8\", \"Topic8\", \"Topic8\", \"Topic8\", \"Topic8\", \"Topic8\", \"Topic8\", \"Topic8\", \"Topic8\", \"Topic8\", \"Topic8\", \"Topic8\", \"Topic8\", \"Topic8\", \"Topic8\", \"Topic8\", \"Topic8\", \"Topic8\", \"Topic8\", \"Topic8\", \"Topic8\", \"Topic8\", \"Topic8\", \"Topic8\", \"Topic8\", \"Topic8\", \"Topic8\", \"Topic8\", \"Topic8\", \"Topic8\", \"Topic8\", \"Topic9\", \"Topic9\", \"Topic9\", \"Topic9\", \"Topic9\", \"Topic9\", \"Topic9\", \"Topic9\", \"Topic9\", \"Topic9\", \"Topic9\", \"Topic9\", \"Topic9\", \"Topic9\", \"Topic9\", \"Topic9\", \"Topic9\", \"Topic9\", \"Topic9\", \"Topic9\", \"Topic9\", \"Topic9\", \"Topic9\", \"Topic9\", \"Topic9\", \"Topic9\", \"Topic9\", \"Topic9\", \"Topic9\", \"Topic9\", \"Topic9\", \"Topic9\", \"Topic9\", \"Topic9\", \"Topic9\", \"Topic9\", \"Topic9\", \"Topic9\", \"Topic9\", \"Topic9\", \"Topic9\", \"Topic9\", \"Topic9\", \"Topic9\", \"Topic9\", \"Topic9\", \"Topic9\", \"Topic9\", \"Topic9\", \"Topic9\", \"Topic9\", \"Topic9\", \"Topic9\", \"Topic9\", \"Topic9\", \"Topic9\", \"Topic9\", \"Topic9\", \"Topic9\", \"Topic9\", \"Topic9\", \"Topic9\", \"Topic9\", \"Topic9\", \"Topic9\", \"Topic9\", \"Topic9\", \"Topic9\", \"Topic9\", \"Topic9\", \"Topic9\", \"Topic9\", \"Topic9\", \"Topic9\", \"Topic9\", \"Topic10\", \"Topic10\", \"Topic10\", \"Topic10\", \"Topic10\", \"Topic10\", \"Topic10\", \"Topic10\", \"Topic10\", \"Topic10\", \"Topic10\", \"Topic10\", \"Topic10\", \"Topic10\", \"Topic10\", \"Topic10\", \"Topic10\", \"Topic10\", \"Topic10\", \"Topic10\", \"Topic10\", \"Topic10\", \"Topic10\", \"Topic10\", \"Topic10\", \"Topic10\", \"Topic10\", \"Topic10\", \"Topic10\", \"Topic10\", \"Topic10\", \"Topic10\", \"Topic10\", \"Topic10\", \"Topic10\", \"Topic10\", \"Topic10\", \"Topic10\", \"Topic10\", \"Topic10\", \"Topic10\", \"Topic10\", \"Topic10\", \"Topic10\", \"Topic10\", \"Topic10\", \"Topic10\", \"Topic10\", \"Topic10\", \"Topic10\", \"Topic10\", \"Topic10\", \"Topic10\", \"Topic10\", \"Topic10\", \"Topic10\", \"Topic10\", \"Topic10\", \"Topic10\", \"Topic10\", \"Topic10\", \"Topic10\", \"Topic10\", \"Topic10\", \"Topic10\", \"Topic10\", \"Topic10\", \"Topic10\", \"Topic11\", \"Topic11\", \"Topic11\", \"Topic11\", \"Topic11\", \"Topic11\", \"Topic11\", \"Topic11\", \"Topic11\", \"Topic11\", \"Topic11\", \"Topic11\", \"Topic11\", \"Topic11\", \"Topic11\", \"Topic11\", \"Topic11\", \"Topic11\", \"Topic11\", \"Topic11\", \"Topic11\", \"Topic11\", \"Topic11\", \"Topic11\", \"Topic11\", \"Topic11\", \"Topic11\", \"Topic11\", \"Topic11\", \"Topic11\", \"Topic11\", \"Topic11\", \"Topic11\", \"Topic11\", \"Topic11\", \"Topic11\", \"Topic11\", \"Topic11\", \"Topic11\", \"Topic11\", \"Topic11\", \"Topic11\", \"Topic11\", \"Topic11\", \"Topic11\", \"Topic11\", \"Topic11\", \"Topic11\", \"Topic11\", \"Topic11\", \"Topic11\", \"Topic11\", \"Topic11\", \"Topic11\", \"Topic11\", \"Topic11\", \"Topic11\", \"Topic11\", \"Topic11\", \"Topic11\", \"Topic11\", \"Topic11\", \"Topic11\", \"Topic11\", \"Topic11\", \"Topic11\", \"Topic11\", \"Topic11\", \"Topic11\", \"Topic11\", \"Topic11\", \"Topic11\", \"Topic11\", \"Topic11\", \"Topic12\", \"Topic12\", \"Topic12\", \"Topic12\", \"Topic12\", \"Topic12\", \"Topic12\", \"Topic12\", \"Topic12\", \"Topic12\", \"Topic12\", \"Topic12\", \"Topic12\", \"Topic12\", \"Topic12\", \"Topic12\", \"Topic12\", \"Topic12\", \"Topic12\", \"Topic12\", \"Topic12\", \"Topic12\", \"Topic12\", \"Topic12\", \"Topic12\", \"Topic12\", \"Topic12\", \"Topic12\", \"Topic12\", \"Topic12\", \"Topic12\", \"Topic12\", \"Topic12\", \"Topic12\", \"Topic12\", \"Topic12\", \"Topic12\", \"Topic12\", \"Topic12\", \"Topic12\", \"Topic12\", \"Topic12\", \"Topic12\", \"Topic12\", \"Topic12\", \"Topic12\", \"Topic12\", \"Topic12\", \"Topic12\", \"Topic12\", \"Topic12\", \"Topic12\", \"Topic12\", \"Topic12\", \"Topic12\", \"Topic12\", \"Topic12\", \"Topic12\", \"Topic12\", \"Topic12\", \"Topic12\", \"Topic12\", \"Topic12\", \"Topic12\", \"Topic12\", \"Topic12\", \"Topic12\", \"Topic12\", \"Topic12\", \"Topic12\", \"Topic12\", \"Topic12\", \"Topic13\", \"Topic13\", \"Topic13\", \"Topic13\", \"Topic13\", \"Topic13\", \"Topic13\", \"Topic13\", \"Topic13\", \"Topic13\", \"Topic13\", \"Topic13\", \"Topic13\", \"Topic13\", \"Topic13\", \"Topic13\", \"Topic13\", \"Topic13\", \"Topic13\", \"Topic13\", \"Topic13\", \"Topic13\", \"Topic13\", \"Topic13\", \"Topic13\", \"Topic13\", \"Topic13\", \"Topic13\", \"Topic13\", \"Topic13\", \"Topic13\", \"Topic13\", \"Topic13\", \"Topic13\", \"Topic13\", \"Topic13\", \"Topic13\", \"Topic13\", \"Topic13\", \"Topic13\", \"Topic13\", \"Topic13\", \"Topic13\", \"Topic13\", \"Topic13\", \"Topic13\", \"Topic13\", \"Topic13\", \"Topic13\", \"Topic13\", \"Topic13\", \"Topic13\", \"Topic13\", \"Topic13\", \"Topic13\", \"Topic13\", \"Topic13\", \"Topic13\", \"Topic13\", \"Topic13\", \"Topic13\", \"Topic13\", \"Topic13\", \"Topic13\", \"Topic13\", \"Topic13\", \"Topic13\", \"Topic14\", \"Topic14\", \"Topic14\", \"Topic14\", \"Topic14\", \"Topic14\", \"Topic14\", \"Topic14\", \"Topic14\", \"Topic14\", \"Topic14\", \"Topic14\", \"Topic14\", \"Topic14\", \"Topic14\", \"Topic14\", \"Topic14\", \"Topic14\", \"Topic14\", \"Topic14\", \"Topic14\", \"Topic14\", \"Topic14\", \"Topic14\", \"Topic14\", \"Topic14\", \"Topic14\", \"Topic14\", \"Topic14\", \"Topic14\", \"Topic14\", \"Topic14\", \"Topic14\", \"Topic14\", \"Topic14\", \"Topic14\", \"Topic14\", \"Topic14\", \"Topic14\", \"Topic14\", \"Topic14\", \"Topic14\", \"Topic14\", \"Topic14\", \"Topic14\", \"Topic14\", \"Topic14\", \"Topic14\", \"Topic14\", \"Topic14\", \"Topic14\", \"Topic14\", \"Topic14\", \"Topic14\", \"Topic14\", \"Topic14\", \"Topic14\", \"Topic14\", \"Topic14\", \"Topic14\", \"Topic14\", \"Topic14\", \"Topic14\", \"Topic14\", \"Topic14\", \"Topic14\", \"Topic14\", \"Topic14\", \"Topic14\", \"Topic14\", \"Topic14\", \"Topic15\", \"Topic15\", \"Topic15\", \"Topic15\", \"Topic15\", \"Topic15\", \"Topic15\", \"Topic15\", \"Topic15\", \"Topic15\", \"Topic15\", \"Topic15\", \"Topic15\", \"Topic15\", \"Topic15\", \"Topic15\", \"Topic15\", \"Topic15\", \"Topic15\", \"Topic15\", \"Topic15\", \"Topic15\", \"Topic15\", \"Topic15\", \"Topic15\", \"Topic15\", \"Topic15\", \"Topic15\", \"Topic15\", \"Topic15\", \"Topic15\", \"Topic15\", \"Topic15\", \"Topic15\", \"Topic15\", \"Topic15\", \"Topic15\", \"Topic15\", \"Topic15\", \"Topic15\", \"Topic15\", \"Topic15\", \"Topic15\", \"Topic15\", \"Topic15\", \"Topic15\", \"Topic15\", \"Topic15\", \"Topic15\", \"Topic15\", \"Topic15\", \"Topic15\", \"Topic15\", \"Topic15\", \"Topic15\", \"Topic15\", \"Topic15\", \"Topic15\", \"Topic15\", \"Topic15\", \"Topic15\", \"Topic15\", \"Topic15\", \"Topic15\", \"Topic15\", \"Topic15\", \"Topic15\", \"Topic15\", \"Topic15\", \"Topic15\", \"Topic15\", \"Topic15\", \"Topic16\", \"Topic16\", \"Topic16\", \"Topic16\", \"Topic16\", \"Topic16\", \"Topic16\", \"Topic16\", \"Topic16\", \"Topic16\", \"Topic16\", \"Topic16\", \"Topic16\", \"Topic16\", \"Topic16\", \"Topic16\", \"Topic16\", \"Topic16\", \"Topic16\", \"Topic16\", \"Topic16\", \"Topic16\", \"Topic16\", \"Topic16\", \"Topic16\", \"Topic16\", \"Topic16\", \"Topic16\", \"Topic16\", \"Topic16\", \"Topic16\", \"Topic16\", \"Topic16\", \"Topic16\", \"Topic16\", \"Topic16\", \"Topic16\", \"Topic16\", \"Topic16\", \"Topic16\", \"Topic16\", \"Topic16\", \"Topic16\", \"Topic16\", \"Topic16\", \"Topic16\", \"Topic16\", \"Topic16\", \"Topic16\", \"Topic16\", \"Topic16\", \"Topic16\", \"Topic16\", \"Topic16\", \"Topic16\", \"Topic16\", \"Topic16\", \"Topic16\", \"Topic16\", \"Topic16\", \"Topic16\", \"Topic16\", \"Topic16\", \"Topic16\", \"Topic16\", \"Topic16\", \"Topic16\", \"Topic16\", \"Topic16\", \"Topic16\", \"Topic16\", \"Topic16\", \"Topic17\", \"Topic17\", \"Topic17\", \"Topic17\", \"Topic17\", \"Topic17\", \"Topic17\", \"Topic17\", \"Topic17\", \"Topic17\", \"Topic17\", \"Topic17\", \"Topic17\", \"Topic17\", \"Topic17\", \"Topic17\", \"Topic17\", \"Topic17\", \"Topic17\", \"Topic17\", \"Topic17\", \"Topic17\", \"Topic17\", \"Topic17\", \"Topic17\", \"Topic17\", \"Topic17\", \"Topic17\", \"Topic17\", \"Topic17\", \"Topic17\", \"Topic17\", \"Topic17\", \"Topic17\", \"Topic17\", \"Topic17\", \"Topic17\", \"Topic17\", \"Topic17\", \"Topic17\", \"Topic17\", \"Topic17\", \"Topic17\", \"Topic17\", \"Topic17\", \"Topic17\", \"Topic17\", \"Topic17\", \"Topic17\", \"Topic17\", \"Topic17\", \"Topic17\", \"Topic17\", \"Topic17\", \"Topic17\", \"Topic17\", \"Topic17\", \"Topic17\", \"Topic17\", \"Topic17\", \"Topic17\", \"Topic18\", \"Topic18\", \"Topic18\", \"Topic18\", \"Topic18\", \"Topic18\", \"Topic18\", \"Topic18\", \"Topic18\", \"Topic18\", \"Topic18\", \"Topic18\", \"Topic18\", \"Topic18\", \"Topic18\", \"Topic18\", \"Topic18\", \"Topic18\", \"Topic18\", \"Topic18\", \"Topic18\", \"Topic18\", \"Topic18\", \"Topic18\", \"Topic18\", \"Topic18\", \"Topic18\", \"Topic18\", \"Topic18\", \"Topic18\", \"Topic18\", \"Topic18\", \"Topic18\", \"Topic18\", \"Topic18\", \"Topic18\", \"Topic18\", \"Topic18\", \"Topic18\", \"Topic18\", \"Topic18\", \"Topic18\", \"Topic18\", \"Topic18\", \"Topic18\", \"Topic18\", \"Topic18\", \"Topic18\", \"Topic18\", \"Topic18\", \"Topic18\", \"Topic18\", \"Topic18\", \"Topic18\", \"Topic18\", \"Topic18\", \"Topic18\", \"Topic18\", \"Topic18\", \"Topic18\", \"Topic18\", \"Topic19\", \"Topic19\", \"Topic19\", \"Topic19\", \"Topic19\", \"Topic19\", \"Topic19\", \"Topic19\", \"Topic19\", \"Topic19\", \"Topic19\", \"Topic19\", \"Topic19\", \"Topic19\", \"Topic19\", \"Topic19\", \"Topic19\", \"Topic19\", \"Topic19\", \"Topic19\", \"Topic19\", \"Topic19\", \"Topic19\", \"Topic19\", \"Topic19\", \"Topic19\", \"Topic19\", \"Topic19\", \"Topic19\", \"Topic19\", \"Topic19\", \"Topic19\", \"Topic19\", \"Topic19\", \"Topic19\", \"Topic19\", \"Topic19\", \"Topic19\", \"Topic19\", \"Topic19\", \"Topic19\", \"Topic19\", \"Topic19\", \"Topic19\", \"Topic19\", \"Topic19\", \"Topic19\", \"Topic19\", \"Topic19\", \"Topic19\", \"Topic19\", \"Topic19\", \"Topic19\", \"Topic19\", \"Topic19\", \"Topic19\", \"Topic19\", \"Topic19\", \"Topic19\", \"Topic19\", \"Topic19\", \"Topic19\", \"Topic20\", \"Topic20\", \"Topic20\", \"Topic20\", \"Topic20\", \"Topic20\", \"Topic20\", \"Topic20\", \"Topic20\", \"Topic20\", \"Topic20\", \"Topic20\", \"Topic20\", \"Topic20\", \"Topic20\", \"Topic20\", \"Topic20\", \"Topic20\", \"Topic20\", \"Topic20\", \"Topic20\", \"Topic20\", \"Topic20\", \"Topic20\", \"Topic20\", \"Topic20\", \"Topic20\", \"Topic20\", \"Topic20\", \"Topic20\", \"Topic20\", \"Topic20\", \"Topic20\", \"Topic20\", \"Topic20\", \"Topic20\", \"Topic20\", \"Topic20\", \"Topic20\", \"Topic20\", \"Topic20\", \"Topic20\", \"Topic20\", \"Topic20\", \"Topic20\", \"Topic20\", \"Topic20\", \"Topic20\", \"Topic20\", \"Topic20\", \"Topic20\", \"Topic20\", \"Topic20\", \"Topic20\", \"Topic20\", \"Topic20\", \"Topic20\", \"Topic20\", \"Topic20\", \"Topic20\", \"Topic20\", \"Topic20\", \"Topic20\", \"Topic20\", \"Topic20\", \"Topic20\", \"Topic20\", \"Topic20\", \"Topic20\", \"Topic20\", \"Topic20\", \"Topic20\", \"Topic20\"], \"logprob\": [30.0, 29.0, 28.0, 27.0, 26.0, 25.0, 24.0, 23.0, 22.0, 21.0, 20.0, 19.0, 18.0, 17.0, 16.0, 15.0, 14.0, 13.0, 12.0, 11.0, 10.0, 9.0, 8.0, 7.0, 6.0, 5.0, 4.0, 3.0, 2.0, 1.0, -8.588, -8.588, -7.8949, -8.588, -8.588, -8.588, -8.588, -8.588, -8.588, -5.8154, -8.588, -8.588, -7.8949, -8.588, -8.588, -8.588, -7.8949, -8.588, -8.588, -8.588, -8.588, -7.8949, -8.588, -7.8949, -8.588, -8.588, -8.588, -8.588, -8.588, -8.588, -2.0499, -2.2406, -2.9355, -3.8606, -3.9341, -4.0662, -2.9786, -4.1337, -4.1936, -3.5908, -4.3685, -4.4291, -4.9245, -5.5923, -5.6436, -5.7548, -5.949, -6.2854, -6.6421, -6.7963, -6.9786, -6.9786, -4.8038, -7.2017, -7.2017, -7.2017, -7.2017, -7.2017, -7.2017, -5.0045, -2.8073, -1.5267, -5.3299, -3.2699, -3.12, -4.1936, -6.5086, -5.6436, -6.1031, -8.5122, -5.6218, -8.5122, -8.5122, -8.5122, -8.5122, -8.5122, -8.5122, -8.5122, -8.5122, -6.7204, -6.4327, -8.5122, -8.5122, -8.5122, -8.5122, -8.5122, -8.5122, -7.4136, -7.4136, -8.5122, -8.5122, -8.5122, -6.9027, -8.5122, -6.2096, -6.5663, -8.5122, -7.4136, -8.5122, -3.83, -4.4517, -4.5419, -3.2139, -4.662, -4.751, -4.9858, -5.18, -5.18, -5.3767, -5.4677, -5.4677, -5.5164, -5.5677, -5.6218, -5.8041, -5.8731, -6.0273, -6.0273, -6.1143, -6.1143, -6.1143, -6.2096, -6.2096, -6.2096, -6.2096, -6.2096, -6.315, -4.6835, -4.2927, -4.9858, -4.3533, -5.0157, -5.18, -3.7937, -4.2637, -5.2541, -5.6218, -1.8921, -4.4517, -1.1251, -5.1449, -4.5419, -5.2541, -5.2933, -5.4211, -5.0157, -8.514, -8.514, -8.514, -7.8208, -8.514, -8.514, -8.514, -7.8208, -8.514, -7.8208, -8.514, -8.514, -8.514, -8.514, -6.2114, -8.514, -8.514, -7.4154, -8.514, -7.4154, -8.514, -4.9031, -8.514, -8.514, -7.4154, -8.514, -8.514, -8.514, -8.514, -8.514, -2.3298, -3.1068, -3.2008, -3.2207, -3.8793, -3.9601, -4.2655, -4.2799, -4.3093, -4.4365, -4.9031, -5.08, -5.1128, -3.6777, -5.2951, -5.3359, -5.4695, -5.5183, -5.6236, -5.8749, -6.0291, -6.0291, -6.1161, -6.1161, -6.2114, -6.3168, -6.3168, -6.4345, -6.4345, -3.1068, -4.6638, -4.6222, -5.3359, -4.7763, -3.0587, -1.7547, -5.7414, -5.7414, -3.2461, -3.71, -5.4695, -5.1467, -3.1527, -4.8251, -8.4407, -7.7476, -6.1382, -7.7476, -6.8313, -8.4407, -7.3421, -8.4407, -8.4407, -6.649, -8.4407, -8.4407, -8.4407, -6.8313, -8.4407, -7.0544, -8.4407, -7.3421, -8.4407, -6.649, -8.4407, -6.2435, -7.7476, -8.4407, -8.4407, -8.4407, -8.4407, -7.0544, -7.3421, -8.4407, -2.4797, -3.3781, -3.9748, -4.0099, -4.034, -4.0969, -4.2511, -4.3977, -4.6341, -4.8854, -5.0734, -5.0734, -3.5887, -5.1826, -5.3052, -5.3052, -5.3497, -5.3962, -5.445, -5.445, -5.4963, -5.5504, -5.5504, -5.5504, -5.5504, -5.5504, -5.6075, -5.6075, -5.7327, -5.7327, -3.8974, -4.2976, -4.4518, -4.5906, -4.4518, -4.6566, -5.1826, -4.8854, -5.1085, -5.2219, -1.541, -5.3052, -5.2627, -8.538, -7.4394, -8.538, -8.538, -8.538, -8.538, -8.538, -8.538, -2.5267, -8.538, -8.538, -8.538, -7.1517, -8.538, -7.4394, -6.9285, -8.538, -8.538, -7.8448, -8.538, -8.538, -4.4436, -7.8448, -8.538, -8.538, -8.538, -4.0953, -6.4585, -8.538, -7.4394, -3.0827, -3.172, -3.6782, -3.8936, -3.9633, -4.1685, -4.6462, -4.6462, -4.6878, -4.7538, -4.8003, -3.8745, -3.9032, -4.9004, -2.3789, -5.2799, -5.2799, -5.3191, -5.4469, -5.4469, -5.4935, -4.2613, -5.6476, -5.7654, -5.7654, -5.8989, -5.8989, -4.4949, -4.6878, -4.9545, -2.6463, -1.8521, -5.1368, -3.6704, -8.5275, -8.5275, -6.9181, -8.5275, -8.5275, -8.5275, -8.5275, -8.5275, -8.5275, -8.5275, -8.5275, -8.5275, -8.5275, -8.5275, -5.6943, -8.5275, -8.5275, -7.4289, -8.5275, -7.8344, -6.0426, -8.5275, -8.5275, -5.9626, -8.5275, -5.8885, -6.3303, -6.9181, -8.5275, -6.5816, -1.8517, -2.7045, -3.0553, -3.0595, -3.4399, -3.5439, -3.9324, -4.0502, -4.2934, -4.3532, -4.3844, -4.5957, -4.7209, -4.7899, -3.5577, -4.944, -5.0012, -5.0618, -5.0936, -5.1263, -5.1953, -5.2317, -5.2694, -5.2694, -5.3495, -5.3495, -5.392, -5.4365, -5.4365, -5.483, -4.3687, -4.5202, -3.9426, -4.5022, -4.0967, -4.9166, -5.0936, -3.9224, -5.031, -4.7433, -4.6563, -4.864, -5.0618, -5.0924, -6.9169, -6.2238, -5.6931, -6.5804, -6.2238, -3.6211, -5.0, -6.2238, -6.9169, -6.5804, -6.2238, -6.5804, -5.5306, -5.8873, -5.8873, -6.5804, -5.6931, -5.6931, -6.5804, -6.9169, -6.2238, -5.0, -8.5264, -8.5264, -8.5264, -8.5264, -8.5264, -8.5264, -8.5264, -2.9734, -3.0374, -3.8442, -3.882, -3.9014, -4.0955, -4.0955, -4.2779, -3.636, -3.6822, -4.5374, -4.5945, -4.7422, -3.835, -4.7652, -4.8888, -5.1591, -4.072, -5.2305, -5.2683, -5.2683, -5.3075, -5.3909, -5.4818, -5.636, -4.1075, -4.5374, -4.7422, -4.7887, -3.7306, -3.6665, -4.8375, -2.8987, -3.9938, -4.4659, -3.4449, -3.7557, -4.4833, -8.4596, -8.4596, -8.4596, -8.4596, -7.361, -8.4596, -4.6529, -8.4596, -8.4596, -8.4596, -8.4596, -4.4893, -8.4596, -8.4596, -8.4596, -8.4596, -7.361, -8.4596, -8.4596, -7.7664, -8.4596, -8.4596, -6.157, -8.4596, -8.4596, -8.4596, -8.4596, -4.1691, -7.7664, -4.3991, -3.4033, -3.4967, -3.5251, -3.8952, -3.9487, -3.5998, -4.4165, -4.6754, -4.746, -4.7707, -5.2015, -5.2015, -5.6264, -5.9747, -6.0617, -6.0617, -6.157, -6.2623, -6.5137, -6.5137, -6.6678, -6.8501, -6.8501, -7.0733, -7.0733, -4.4893, -5.1274, -3.4828, -4.746, -2.2611, -3.3597, -5.9747, -2.9066, -1.2068, -3.397, -5.8946, -4.3007, -5.7515, -8.6092, -8.6092, -8.6092, -8.6092, -8.6092, -8.6092, -8.6092, -8.6092, -8.6092, -8.6092, -8.6092, -8.6092, -8.6092, -8.6092, -7.9161, -8.6092, -7.2229, -8.6092, -8.6092, -8.6092, -8.6092, -8.6092, -8.6092, -8.6092, -8.6092, -8.6092, -8.6092, -8.6092, -8.6092, -8.6092, -2.6253, -2.465, -3.0758, -2.6903, -3.7417, -4.0141, -3.4734, -4.0874, -4.2785, -4.7806, -4.9983, -5.0829, -5.208, -5.4737, -5.6648, -3.9179, -6.5298, -4.1549, -6.9998, -6.9998, -6.9998, -4.8026, -7.2229, -7.2229, -7.2229, -7.5106, -7.5106, -7.5106, -7.5106, -7.5106, -7.5106, -4.7591, -7.5106, -2.3121, -2.7981, -7.5106, -7.5106, -3.0485, -3.4052, -2.3573, -3.1887, -3.9179, -3.3622, -4.0141, -4.9203, -8.4882, -5.7156, -6.8787, -6.291, -8.4882, -8.4882, -8.4882, -6.8787, -8.4882, -8.4882, -8.4882, -8.4882, -8.4882, -8.4882, -8.4882, -8.4882, -8.4882, -7.795, -8.4882, -8.4882, -8.4882, -7.795, -8.4882, -8.4882, -8.4882, -8.4882, -6.8787, -8.4882, -8.4882, -8.4882, -2.7877, -2.7944, -2.6861, -3.3177, -3.7432, -3.7877, -4.0455, -4.1841, -4.2397, -4.2985, -4.361, -4.361, -4.638, -5.0224, -5.0542, -5.1923, -5.1923, -5.4437, -5.655, -5.655, -5.8491, -5.8491, -5.8491, -5.9232, -6.1856, -6.1856, -6.1856, -6.291, -6.291, -5.1923, -4.8506, -4.5369, -4.361, -3.9032, -2.0361, -1.524, -4.8246, -5.7156, -8.517, -8.517, -8.517, -7.8238, -8.517, -8.517, -8.517, -8.517, -8.517, -8.517, -8.517, -8.517, -8.517, -8.517, -8.517, -8.517, -8.517, -8.517, -8.517, -7.8238, -7.1307, -8.517, -8.517, -8.517, -7.8238, -8.517, -6.2144, -6.9076, -8.517, -8.517, -1.905, -2.727, -3.1891, -3.5334, -3.6192, -3.6728, -3.7808, -3.932, -3.932, -3.9631, -4.5657, -5.1497, -5.1497, -5.426, -5.6266, -5.952, -6.0321, -6.0321, -6.3198, -6.5711, -6.5711, -6.7252, -6.7252, -6.7252, -6.7252, -6.9076, -6.9076, -6.9076, -4.4739, -4.9906, -4.605, -6.9076, -4.5852, -5.3389, -4.9335, -5.3815, -4.8534, -5.4725, -2.9373, -5.2589, -3.4544, -2.9955, -1.7439, -4.4916, -8.5252, -5.0594, -7.4265, -8.5252, -7.832, -8.5252, -8.5252, -8.5252, -8.5252, -8.5252, -6.5793, -6.7334, -7.832, -5.8861, -8.5252, -7.4265, -8.5252, -8.5252, -8.5252, -6.4457, -6.5793, -8.5252, -8.5252, -5.6919, -8.5252, -6.4457, -8.5252, -8.5252, -5.9602, -8.5252, -3.4563, -3.5693, -3.6199, -3.7294, -3.8617, -3.3547, -3.9713, -3.4438, -4.0825, -4.1431, -4.1944, -4.2911, -4.3663, -4.4647, -4.5549, -4.6131, -4.675, -4.7875, -4.7875, -4.8363, -4.8616, -4.9988, -4.9988, -5.0912, -5.124, -5.193, -5.193, -5.2671, -5.2671, -4.5933, -4.7185, -4.4821, -4.398, -4.1184, -4.8616, -4.654, -4.7875, -4.8363, -4.0943, -3.8617, -4.4998, -4.7875, -8.4902, -7.3916, -6.1876, -8.4902, -7.3916, -4.0129, -8.4902, -8.4902, -8.4902, -8.4902, -8.4902, -8.4902, -7.3916, -6.6985, -8.4902, -8.4902, -6.0923, -8.4902, -8.4902, -7.7971, -8.4902, -7.3916, -7.7971, -8.4902, -8.4902, -8.4902, -8.4902, -6.8808, -5.657, -8.4902, -2.7765, -3.585, -3.8363, -3.9259, -3.9684, -3.4026, -4.1082, -4.1998, -4.5984, -4.7767, -4.8014, -4.9937, -5.1229, -5.2321, -5.2321, -5.3992, -5.5458, -5.5458, -5.5999, -5.657, -5.657, -5.7822, -5.9253, -5.9253, -6.0053, -6.0923, -6.1876, -3.8458, -4.3313, -5.1229, -4.619, -5.2321, -5.2321, -3.0478, -2.2287, -1.4445, -2.949, -3.1779, -8.5202, -8.5202, -8.5202, -8.5202, -7.827, -8.5202, -8.5202, -8.5202, -8.5202, -8.5202, -8.5202, -8.5202, -8.5202, -8.5202, -8.5202, -8.5202, -8.5202, -6.5743, -8.5202, -8.5202, -8.5202, -8.5202, -7.4216, -8.5202, -8.5202, -8.5202, -7.1339, -8.5202, -7.1339, -1.8097, -2.4334, -2.9292, -3.5644, -3.1542, -3.5504, -4.4597, -4.8313, -5.119, -5.119, -5.2244, -6.4407, -6.5743, -6.5743, -6.7284, -3.5029, -6.9108, -6.9108, -7.1339, -7.1339, -7.1339, -7.1339, -7.1339, -7.1339, -7.4216, -7.4216, -7.4216, -7.4216, -5.5757, -2.2305, -5.2244, -6.323, -6.1223, -3.6374, -3.3611, -6.5743, -6.5743, -2.8065, -3.4963, -2.276, -6.7284, -3.8094, -8.5368, -7.1505, -6.9274, -5.5924, -8.5368, -4.7082, -8.5368, -8.5368, -6.5909, -7.1505, -5.4458, -8.5368, -6.745, -5.8287, -8.5368, -6.9274, -8.5368, -8.5368, -6.5909, -8.5368, -8.5368, -7.4382, -8.5368, -6.1389, -8.5368, -7.1505, -6.4574, -8.5368, -6.9274, -2.48, -2.5655, -3.4309, -3.8273, -3.8734, -4.3173, -4.3624, -4.3937, -4.5856, -3.0479, -3.2187, -4.7756, -5.0403, -5.0711, -5.0711, -5.0711, -4.1301, -5.2787, -5.3179, -5.3179, -5.3587, -5.4013, -4.1801, -5.4923, -5.4923, -5.5411, -5.5924, -4.3624, -4.5856, -4.645, -4.2741, -4.8232, -4.605, -4.6248, -4.4593, -4.8992, -4.4937, -4.6656, -4.605, -4.7526, -4.5295, -4.106, -6.5451, -6.5451, -7.3924, -8.4911, -8.4911, -8.4911, -8.4911, -6.8816, -8.4911, -8.4911, -5.783, -8.4911, -8.4911, -7.1048, -8.4911, -6.0932, -8.4911, -7.3924, -8.4911, -8.4911, -7.3924, -8.4911, -5.6578, -7.7979, -7.7979, -8.4911, -7.7979, -5.9261, -7.3924, -8.4911, -3.0063, -3.023, -4.3479, -4.3479, -4.3802, -4.3967, -4.5021, -4.579, -4.579, -4.579, -4.8022, -4.9357, -4.9357, -4.9945, -5.0253, -5.0571, -5.0899, -4.0484, -5.2722, -5.2722, -5.3556, -5.4, -5.4, -5.4, -5.4953, -5.5466, -5.5466, -5.5466, -4.2569, -5.6007, -4.2569, -4.448, -4.5021, -2.942, -4.2284, -4.3479, -2.8177, -5.1238, -4.2715, -4.0966, -1.8817, -2.6859, -5.6452, -6.869, -5.9135, -6.869, -7.3798, -7.3798, -6.1759, -4.23, -5.5881, -6.5325, -7.3798, -5.9135, -6.869, -4.9521, -7.3798, -5.8394, -5.9135, -6.2812, -7.3798, -6.6867, -5.5881, -6.869, -7.3798, -2.5149, -4.1217, -6.0806, -5.9135, -7.3798, -6.2812, -5.1112, -2.8912, -3.435, -3.5156, -3.5806, -3.7335, -4.1477, -3.0447, -4.4531, -4.5466, -4.7408, -4.7408, -4.8675, -4.8675, -4.8949, -4.9521, -4.0717, -5.4339, -5.4339, -5.534, -5.534, -5.534, -5.534, -4.4895, -4.9521, -5.2596, -2.9978, -5.1826, -4.8675, -1.8504, -5.3874, -5.1462, -4.9065, -6.2928, -6.2928, -6.0921, -5.3545, -6.0921, -4.9935, -5.399, -6.5441, -5.5997, -5.851, -4.9065, -6.5441, -6.5441, -5.3545, -6.5441, -5.399, -5.399, -5.1578, -6.5441, -4.2853, -5.3545, -4.9935, -6.5441, -4.2853, -5.851, -6.5441, -7.3914, -8.49, -8.49, -2.866, -2.997, -3.378, -3.4211, -2.4356, -3.9051, -4.2705, -4.3629, -4.4125, -4.501, -4.501, -4.5388, -4.5388, -3.7364, -4.7288, -4.7288, -4.7524, -4.8011, -4.8265, -4.8265, -5.0243, -5.056, -3.9902, -4.3629, -4.447, -4.3311, -4.7058, -4.9065, -4.3311, -4.4827, -4.7765, -5.2434, -3.5497, -4.9658, -5.6291, -5.2434, -5.6291, -8.4623, -8.4623, -7.7692, -7.7692, -8.4623, -8.4623, -6.8529, -8.4623, -8.4623, -8.4623, -8.4623, -8.4623, -8.4623, -8.4623, -8.4623, -6.8529, -8.4623, -8.4623, -8.4623, -5.2843, -8.4623, -7.3637, -8.4623, -7.7692, -3.4787, -3.634, -3.6832, -3.8672, -3.8773, -3.9297, -3.9297, -4.0803, -4.1856, -4.492, -3.7438, -4.7011, -4.8514, -4.907, -5.1301, -5.4666, -5.6897, -5.6897, -5.6897, -5.7543, -5.8233, -5.8233, -5.8974, -4.4193, -4.7487, -0.8939, -5.1301, -4.4019, -5.2042, -5.1301, -5.5719, -5.5179, -8.4857, -7.3871, -8.4857, -8.4857, -8.4857, -8.4857, -8.4857, -8.4857, -8.4857, -8.4857, -6.8763, -6.4063, -6.2885, -8.4857, -8.4857, -8.4857, -7.7926, -8.4857, -8.4857, -7.3871, -8.4857, -7.7926, -8.4857, -7.3871, -8.4857, -8.4857, -6.8763, -4.9892, -8.4857, -4.7968, -3.7852, -3.9318, -4.1816, -4.1816, -4.296, -4.3748, -4.4427, -4.5154, -4.5345, -4.5737, -4.5939, -4.8481, -3.9639, -4.9892, -5.0845, -5.1535, -5.1899, -5.1899, -5.3502, -5.3947, -5.4412, -4.1682, -5.49, -5.5413, -5.5413, -5.5413, -4.1816, -5.5953, -4.3748, -4.5939, -4.748, -4.8481, -4.8748, -4.6356, -2.891, -4.4784, -4.6356, -4.7968, -4.7245, -4.1163, -1.8111, -4.8221, -3.6259], \"loglift\": [30.0, 29.0, 28.0, 27.0, 26.0, 25.0, 24.0, 23.0, 22.0, 21.0, 20.0, 19.0, 18.0, 17.0, 16.0, 15.0, 14.0, 13.0, 12.0, 11.0, 10.0, 9.0, 8.0, 7.0, 6.0, 5.0, 4.0, 3.0, 2.0, 1.0, 2.9732, 2.9732, 2.9732, 2.9732, 2.9732, 2.9732, 2.9732, 2.9732, 2.9732, 2.9732, 2.9732, 2.9732, 2.9732, 2.9732, 2.9732, 2.9732, 2.9732, 2.9732, 2.9732, 2.9732, 2.9732, 2.9732, 2.9732, 2.9732, 2.9732, 2.9732, 2.9732, 2.9732, 2.9732, 2.9732, 2.9732, 2.9732, 2.9732, 2.9732, 2.9732, 2.9732, 2.9617, 2.9732, 2.9732, 2.9661, 2.9732, 2.9732, 2.9732, 2.9732, 2.9732, 2.9732, 2.9732, 2.9732, 2.9732, 2.9732, 2.9732, 2.9732, 2.9491, 2.9732, 2.9732, 2.9732, 2.9732, 2.9732, 2.9732, 2.9436, 2.8837, 2.8203, 2.7511, 2.3788, 2.2307, 2.4206, 2.85, -1.2368, -0.4743, 2.9974, 2.9974, 2.9974, 2.9974, 2.9974, 2.9974, 2.9974, 2.9974, 2.9974, 2.9974, 2.9974, 2.9974, 2.9974, 2.9974, 2.9974, 2.9974, 2.9974, 2.9974, 2.9974, 2.9974, 2.9974, 2.9974, 2.9974, 2.9974, 2.9974, 2.9974, 2.9974, 2.9974, 2.9974, 2.9974, 2.9974, 2.9974, 2.9974, 2.983, 2.9974, 2.9974, 2.9974, 2.9974, 2.9974, 2.9974, 2.9974, 2.9974, 2.9974, 2.9974, 2.9974, 2.9974, 2.9974, 2.9974, 2.9974, 2.9974, 2.9974, 2.9974, 2.9974, 2.9974, 2.9974, 2.9974, 2.9974, 2.9974, 2.9757, 2.9385, 2.9409, 2.9055, 2.9393, 2.9268, 2.8158, 2.8276, 2.9216, 2.944, 2.3483, 2.7355, 2.006, 2.8396, 2.6862, 2.8239, 2.8111, 2.7921, 1.9714, 2.995, 2.995, 2.995, 2.995, 2.995, 2.995, 2.995, 2.995, 2.995, 2.995, 2.995, 2.995, 2.995, 2.995, 2.995, 2.995, 2.995, 2.995, 2.995, 2.995, 2.995, 2.995, 2.995, 2.995, 2.995, 2.995, 2.995, 2.995, 2.995, 2.995, 2.993, 2.995, 2.995, 2.995, 2.995, 2.995, 2.995, 2.995, 2.995, 2.995, 2.995, 2.995, 2.995, 2.9788, 2.995, 2.995, 2.995, 2.995, 2.995, 2.995, 2.995, 2.995, 2.995, 2.995, 2.995, 2.995, 2.995, 2.995, 2.995, 2.9006, 2.9326, 2.9169, 2.9533, 2.9039, 2.7392, 2.5146, 2.9353, 2.9334, 2.1597, 2.2603, 2.7719, 2.5587, 1.0877, -2.2691, 3.045, 3.045, 3.045, 3.045, 3.045, 3.045, 3.045, 3.045, 3.045, 3.045, 3.045, 3.045, 3.045, 3.045, 3.045, 3.045, 3.045, 3.045, 3.045, 3.045, 3.045, 3.045, 3.045, 3.045, 3.045, 3.045, 3.045, 3.045, 3.045, 3.045, 3.045, 3.045, 3.045, 3.045, 3.045, 3.045, 3.045, 3.045, 3.045, 3.045, 3.045, 3.045, 3.0297, 3.045, 3.045, 3.045, 3.045, 3.045, 3.045, 3.045, 3.045, 3.045, 3.045, 3.045, 3.045, 3.045, 3.045, 3.045, 3.045, 3.045, 3.0245, 3.0292, 3.0268, 3.0244, 2.976, 2.9625, 3.0063, 2.8405, 2.9106, 2.9338, 1.015, 2.9639, 0.4665, 2.986, 2.986, 2.986, 2.986, 2.986, 2.986, 2.986, 2.986, 2.986, 2.986, 2.986, 2.986, 2.986, 2.986, 2.986, 2.986, 2.986, 2.986, 2.986, 2.986, 2.986, 2.986, 2.986, 2.986, 2.986, 2.986, 2.986, 2.986, 2.986, 2.986, 2.986, 2.986, 2.986, 2.986, 2.986, 2.986, 2.986, 2.986, 2.986, 2.986, 2.986, 2.9763, 2.9762, 2.986, 2.96, 2.986, 2.986, 2.986, 2.986, 2.986, 2.986, 2.9728, 2.986, 2.986, 2.986, 2.986, 2.986, 2.9686, 2.9643, 2.9299, 2.7235, 2.5026, 2.8562, 1.3637, 2.9936, 2.9936, 2.9936, 2.9936, 2.9936, 2.9936, 2.9936, 2.9936, 2.9936, 2.9936, 2.9936, 2.9936, 2.9936, 2.9936, 2.9936, 2.9936, 2.9936, 2.9936, 2.9936, 2.9936, 2.9936, 2.9936, 2.9936, 2.9936, 2.9936, 2.9936, 2.9936, 2.9936, 2.9936, 2.9936, 2.9936, 2.9936, 2.9936, 2.9936, 2.9936, 2.9936, 2.9936, 2.9936, 2.9936, 2.9936, 2.9936, 2.9936, 2.9936, 2.9936, 2.9796, 2.9936, 2.9936, 2.9936, 2.9936, 2.9936, 2.9936, 2.9936, 2.9936, 2.9936, 2.9936, 2.9936, 2.9936, 2.9936, 2.9936, 2.9936, 2.9777, 2.9762, 2.953, 2.94, 2.9012, 2.9407, 2.9599, 2.3767, 2.8236, 2.4874, 2.1739, 2.5215, 1.9705, 2.9793, 2.9793, 2.9793, 2.9793, 2.9793, 2.9793, 2.9793, 2.9793, 2.9793, 2.9793, 2.9793, 2.9793, 2.9793, 2.9793, 2.9793, 2.9793, 2.9793, 2.9793, 2.9793, 2.9793, 2.9793, 2.9793, 2.9793, 2.9793, 2.9793, 2.9793, 2.9793, 2.9793, 2.9793, 2.9793, 2.9793, 2.9793, 2.9793, 2.9793, 2.9793, 2.9793, 2.9793, 2.9793, 2.9719, 2.9716, 2.9793, 2.9793, 2.9793, 2.9701, 2.9793, 2.9793, 2.9793, 2.968, 2.9793, 2.9793, 2.9793, 2.9793, 2.9793, 2.9793, 2.9793, 2.9568, 2.9611, 2.9564, 2.9553, 2.8684, 2.8325, 2.9055, 2.5127, 2.5055, 2.6524, 2.0115, 1.6831, 2.3469, 3.0009, 3.0009, 3.0009, 3.0009, 3.0009, 3.0009, 3.0009, 3.0009, 3.0009, 3.0009, 3.0009, 3.0009, 3.0009, 3.0009, 3.0009, 3.0009, 3.0009, 3.0009, 3.0009, 3.0009, 3.0009, 3.0009, 3.0009, 3.0009, 3.0009, 3.0009, 3.0009, 3.0009, 3.0009, 3.0009, 3.0009, 3.0009, 3.0009, 3.0009, 3.0009, 2.9936, 3.0009, 3.0009, 3.0009, 3.0009, 3.0009, 3.0009, 3.0009, 3.0009, 3.0009, 3.0009, 3.0009, 3.0009, 3.0009, 3.0009, 3.0009, 3.0009, 3.0009, 3.0009, 3.0009, 2.9656, 2.9676, 2.8947, 2.9338, 2.656, 2.6002, 2.9243, 2.1275, 1.3493, 2.0145, 2.8648, 1.4972, 2.5061, 2.9603, 2.9603, 2.9603, 2.9603, 2.9603, 2.9603, 2.9603, 2.9603, 2.9603, 2.9603, 2.9603, 2.9603, 2.9603, 2.9603, 2.9603, 2.9603, 2.9603, 2.9603, 2.9603, 2.9603, 2.9603, 2.9603, 2.9603, 2.9603, 2.9603, 2.9603, 2.9603, 2.9603, 2.9603, 2.9603, 2.9603, 2.956, 2.9603, 2.9517, 2.9603, 2.9603, 2.9541, 2.9603, 2.9603, 2.9603, 2.9603, 2.9603, 2.9603, 2.9603, 2.9603, 2.941, 2.9603, 2.936, 2.9603, 2.9603, 2.9603, 2.9373, 2.9603, 2.9603, 2.9603, 2.9603, 2.9603, 2.9603, 2.9603, 2.9603, 2.9603, 2.8935, 2.9603, 2.7011, 2.6407, 2.9603, 2.9603, 2.3021, 2.2236, 1.9974, 1.7284, 1.7711, 0.9848, 1.0499, 0.8301, 3.0187, 3.0187, 3.0187, 3.0187, 3.0187, 3.0187, 3.0187, 3.0187, 3.0187, 3.0187, 3.0187, 3.0187, 3.0187, 3.0187, 3.0187, 3.0187, 3.0187, 3.0187, 3.0187, 3.0187, 3.0187, 3.0187, 3.0187, 3.0187, 3.0187, 3.0187, 3.0187, 3.0187, 3.0187, 3.0187, 3.0187, 3.0187, 3.0156, 3.0187, 3.0187, 3.0187, 3.0187, 3.0187, 3.0187, 3.0187, 3.0187, 3.0187, 3.0187, 3.0187, 3.0187, 3.0187, 3.0187, 3.0187, 3.0187, 3.0187, 3.0187, 3.0187, 3.0187, 3.0187, 3.0187, 3.0187, 3.0187, 3.0187, 3.0187, 2.9827, 2.9667, 2.9455, 2.9116, 2.7672, 2.3707, 1.032, 2.4244, 2.8435, 2.9971, 2.9971, 2.9971, 2.9971, 2.9971, 2.9971, 2.9971, 2.9971, 2.9971, 2.9971, 2.9971, 2.9971, 2.9971, 2.9971, 2.9971, 2.9971, 2.9971, 2.9971, 2.9971, 2.9971, 2.9971, 2.9971, 2.9971, 2.9971, 2.9971, 2.9971, 2.9971, 2.9971, 2.9971, 2.9971, 2.9915, 2.9971, 2.9971, 2.9971, 2.9971, 2.9971, 2.9971, 2.9971, 2.9971, 2.9971, 2.9971, 2.9971, 2.9971, 2.9971, 2.9971, 2.9971, 2.9971, 2.9971, 2.9971, 2.9971, 2.9971, 2.9971, 2.9971, 2.9971, 2.9971, 2.9971, 2.9971, 2.9971, 2.9624, 2.9673, 2.9576, 2.9971, 2.9396, 2.9584, 2.9415, 2.9548, 2.8961, 2.9079, 2.5192, 2.7527, 2.1943, 2.0386, 0.8121, 2.1225, 2.9739, 2.9739, 2.9739, 2.9739, 2.9739, 2.9739, 2.9739, 2.9739, 2.9739, 2.9739, 2.9739, 2.9739, 2.9739, 2.9739, 2.9739, 2.9739, 2.9739, 2.9739, 2.9739, 2.9739, 2.9739, 2.9739, 2.9739, 2.9739, 2.9739, 2.9739, 2.9739, 2.9739, 2.9739, 2.9739, 2.9739, 2.9739, 2.9739, 2.9739, 2.9739, 2.9682, 2.9739, 2.9677, 2.9739, 2.9739, 2.9739, 2.9739, 2.9739, 2.9739, 2.9739, 2.9739, 2.9739, 2.9739, 2.9739, 2.9739, 2.9739, 2.9739, 2.9739, 2.9739, 2.9739, 2.9739, 2.9739, 2.9739, 2.9739, 2.9547, 2.9532, 2.9417, 2.9117, 2.878, 2.9484, 2.9173, 2.927, 2.9058, 1.8656, 1.5081, 1.9994, 2.47, 3.0042, 3.0042, 3.0042, 3.0042, 3.0042, 3.0042, 3.0042, 3.0042, 3.0042, 3.0042, 3.0042, 3.0042, 3.0042, 3.0042, 3.0042, 3.0042, 3.0042, 3.0042, 3.0042, 3.0042, 3.0042, 3.0042, 3.0042, 3.0042, 3.0042, 3.0042, 3.0042, 3.0042, 3.0042, 3.0042, 2.9981, 3.0042, 3.0042, 3.0042, 3.0042, 2.998, 3.0042, 3.0042, 3.0042, 3.0042, 3.0042, 3.0042, 3.0042, 3.0042, 3.0042, 3.0042, 3.0042, 3.0042, 3.0042, 3.0042, 3.0042, 3.0042, 3.0042, 3.0042, 3.0042, 3.0042, 3.0042, 2.9659, 2.9732, 2.97, 2.945, 2.9347, 2.9276, 2.6411, 2.0406, 1.6866, 1.4578, 2.9937, 2.9937, 2.9937, 2.9937, 2.9937, 2.9937, 2.9937, 2.9937, 2.9937, 2.9937, 2.9937, 2.9937, 2.9937, 2.9937, 2.9937, 2.9937, 2.9937, 2.9937, 2.9937, 2.9937, 2.9937, 2.9937, 2.9937, 2.9937, 2.9937, 2.9937, 2.9937, 2.9937, 2.9937, 2.9937, 2.9877, 2.9937, 2.9937, 2.9937, 2.989, 2.9868, 2.9937, 2.9937, 2.9937, 2.9937, 2.9937, 2.9937, 2.9937, 2.9937, 2.9937, 2.9603, 2.9937, 2.9937, 2.9937, 2.9937, 2.9937, 2.9937, 2.9937, 2.9937, 2.9937, 2.9937, 2.9937, 2.9937, 2.941, 2.8335, 2.7653, 2.8884, 2.8212, 2.3329, 2.2677, 2.8567, 2.8566, 1.6003, 1.5169, 0.28, 2.5813, 2.9808, 2.9808, 2.9808, 2.9808, 2.9808, 2.9808, 2.9808, 2.9808, 2.9808, 2.9808, 2.9808, 2.9808, 2.9808, 2.9808, 2.9808, 2.9808, 2.9808, 2.9808, 2.9808, 2.9808, 2.9808, 2.9808, 2.9808, 2.9808, 2.9808, 2.9808, 2.9808, 2.9808, 2.9808, 2.9808, 2.9808, 2.9808, 2.9808, 2.9808, 2.9808, 2.9808, 2.9808, 2.9808, 2.9808, 2.9651, 2.9661, 2.9808, 2.9808, 2.9808, 2.9808, 2.9808, 2.9693, 2.9808, 2.9808, 2.9808, 2.9808, 2.9808, 2.9681, 2.9808, 2.9808, 2.9808, 2.9808, 2.9654, 2.9617, 2.9605, 2.939, 2.9561, 2.9413, 2.9404, 2.9294, 2.9546, 2.9281, 2.9202, 2.9029, 2.9124, 2.8445, 2.1931, 2.9939, 2.9939, 2.9939, 2.9939, 2.9939, 2.9939, 2.9939, 2.9939, 2.9939, 2.9939, 2.9939, 2.9939, 2.9939, 2.9939, 2.9939, 2.9939, 2.9939, 2.9939, 2.9939, 2.9939, 2.9939, 2.9939, 2.9939, 2.9939, 2.9939, 2.9939, 2.9939, 2.9939, 2.9939, 2.9939, 2.9939, 2.9898, 2.9939, 2.9939, 2.9939, 2.9939, 2.9939, 2.9939, 2.9939, 2.9939, 2.9939, 2.9939, 2.9939, 2.9939, 2.9939, 2.9939, 2.9939, 2.9823, 2.9939, 2.9939, 2.9939, 2.9939, 2.9939, 2.9939, 2.9939, 2.9939, 2.9939, 2.9939, 2.9805, 2.9939, 2.9798, 2.9769, 2.9762, 2.9277, 2.9668, 2.9635, 2.9115, 2.9607, 2.8434, 2.8153, 1.2494, 1.5545, 3.0003, 3.0003, 3.0003, 3.0003, 3.0003, 3.0003, 3.0003, 3.0003, 3.0003, 3.0003, 3.0003, 3.0003, 3.0003, 3.0003, 3.0003, 3.0003, 3.0003, 3.0003, 3.0003, 3.0003, 3.0003, 3.0003, 3.0003, 3.0003, 3.0003, 3.0003, 3.0003, 3.0003, 3.0003, 3.0003, 3.0003, 3.0003, 3.0003, 3.0003, 3.0003, 3.0003, 2.9877, 3.0003, 3.0003, 3.0003, 3.0003, 3.0003, 3.0003, 3.0003, 3.0003, 2.9886, 3.0003, 3.0003, 3.0003, 3.0003, 3.0003, 3.0003, 2.982, 2.9716, 2.9622, 2.408, 2.8667, 2.6246, 0.7056, 2.8378, 1.7943, 2.9951, 2.9951, 2.9951, 2.9951, 2.9951, 2.9951, 2.9951, 2.9951, 2.9951, 2.9951, 2.9951, 2.9951, 2.9951, 2.9951, 2.9951, 2.9951, 2.9951, 2.9951, 2.9951, 2.9951, 2.9951, 2.9951, 2.9951, 2.9951, 2.9951, 2.9951, 2.9951, 2.9951, 2.9951, 2.9951, 2.9951, 2.9951, 2.9951, 2.9951, 2.9815, 2.9951, 2.9951, 2.9951, 2.9951, 2.9951, 2.9951, 2.9951, 2.9951, 2.9868, 2.9951, 2.9951, 2.9951, 2.9951, 2.9951, 2.9951, 2.9951, 2.9951, 2.9843, 2.9796, 2.9783, 2.9644, 2.9091, 2.9681, 2.6094, 2.5496, 2.6265, 3.029, 3.029, 3.029, 3.029, 3.029, 3.029, 3.029, 3.029, 3.029, 3.029, 3.029, 3.029, 3.029, 3.029, 3.029, 3.029, 3.029, 3.029, 3.029, 3.029, 3.029, 3.029, 3.029, 3.029, 3.029, 3.029, 3.029, 3.029, 3.029, 3.029, 3.029, 3.029, 3.029, 3.029, 3.029, 3.029, 3.029, 3.029, 3.029, 3.029, 3.0199, 3.029, 3.029, 3.029, 3.029, 3.029, 3.029, 3.029, 3.029, 3.029, 3.029, 3.029, 3.029, 2.9609, 2.9604, 1.6621, 2.8333, 2.5852, 2.7905, 2.5395, 2.8272, 1.7102, 3.0007, 3.0007, 3.0007, 3.0007, 3.0007, 3.0007, 3.0007, 3.0007, 3.0007, 3.0007, 3.0007, 3.0007, 3.0007, 3.0007, 3.0007, 3.0007, 3.0007, 3.0007, 3.0007, 3.0007, 3.0007, 3.0007, 3.0007, 3.0007, 3.0007, 3.0007, 3.0007, 3.0007, 3.0007, 3.0007, 3.0007, 3.0007, 3.0007, 3.0007, 3.0007, 3.0007, 3.0007, 3.0007, 3.0007, 3.0007, 3.0007, 3.0007, 2.9907, 3.0007, 3.0007, 3.0007, 3.0007, 3.0007, 3.0007, 3.0007, 3.0007, 2.9876, 3.0007, 3.0007, 3.0007, 3.0007, 2.9869, 3.0007, 2.9843, 2.9809, 2.9771, 2.9755, 2.9733, 2.9592, 2.8595, 2.9321, 2.9387, 2.9518, 2.9345, 2.8071, 1.3199, 2.8387, 0.6145]}, \"token.table\": {\"Topic\": [15, 1, 5, 1, 18, 7, 8, 2, 4, 7, 3, 11, 15, 5, 15, 3, 1, 8, 19, 10, 16, 18, 2, 6, 15, 5, 5, 19, 2, 3, 13, 16, 20, 1, 4, 8, 16, 18, 7, 3, 3, 13, 12, 5, 16, 9, 4, 1, 12, 17, 4, 15, 5, 4, 1, 16, 2, 19, 4, 16, 9, 4, 5, 10, 1, 7, 9, 3, 6, 4, 13, 9, 10, 13, 19, 11, 15, 4, 6, 17, 10, 1, 2, 7, 10, 10, 12, 6, 13, 15, 20, 9, 14, 8, 17, 8, 10, 1, 4, 16, 17, 4, 3, 1, 14, 11, 16, 14, 4, 16, 16, 1, 2, 6, 13, 10, 17, 4, 17, 6, 3, 8, 1, 6, 13, 17, 13, 9, 3, 11, 13, 19, 15, 7, 6, 14, 13, 15, 12, 3, 15, 8, 20, 16, 3, 5, 10, 20, 17, 10, 13, 9, 12, 2, 2, 19, 20, 5, 14, 4, 13, 11, 8, 19, 20, 13, 4, 2, 9, 20, 6, 10, 6, 3, 2, 13, 16, 19, 8, 2, 17, 6, 6, 6, 4, 10, 9, 18, 7, 15, 14, 9, 2, 17, 19, 2, 6, 7, 14, 7, 1, 8, 7, 14, 7, 10, 16, 20, 17, 20, 8, 2, 7, 16, 3, 17, 17, 12, 1, 7, 6, 4, 14, 7, 16, 9, 1, 13, 14, 17, 20, 11, 1, 8, 13, 19, 15, 9, 15, 16, 16, 9, 15, 7, 5, 16, 3, 4, 10, 9, 14, 17, 9, 10, 3, 14, 8, 10, 10, 17, 20, 15, 19, 20, 7, 10, 5, 9, 15, 2, 2, 18, 5, 2, 6, 7, 13, 19, 12, 15, 16, 1, 11, 14, 15, 1, 3, 6, 8, 17, 7, 3, 1, 19, 15, 10, 12, 1, 14, 1, 13, 14, 9, 2, 10, 17, 1, 2, 3, 2, 8, 13, 18, 5, 14, 18, 4, 19, 10, 8, 18, 4, 15, 11, 4, 4, 7, 2, 16, 1, 15, 14, 6, 17, 18, 15, 12, 14, 9, 18, 9, 2, 2, 4, 7, 11, 8, 6, 13, 16, 11, 16, 6, 12, 10, 17, 6, 4, 6, 7, 8, 2, 10, 8, 20, 8, 6, 19, 11, 2, 8, 15, 1, 6, 4, 14, 1, 10, 10, 14, 9, 6, 8, 11, 13, 1, 4, 5, 7, 16, 4, 7, 16, 9, 9, 9, 3, 4, 20, 4, 8, 8, 11, 15, 15, 14, 1, 4, 14, 13, 13, 5, 17, 10, 19, 11, 7, 20, 12, 18, 15, 16, 1, 17, 8, 12, 14, 14, 10, 14, 9, 5, 12, 12, 11, 18, 16, 15, 4, 10, 19, 1, 15, 9, 9, 11, 14, 4, 15, 7, 20, 16, 20, 7, 6, 4, 4, 8, 5, 7, 6, 3, 3, 6, 2, 15, 15, 19, 19, 9, 8, 3, 2, 4, 20, 16, 8, 8, 20, 6, 3, 15, 8, 3, 8, 1, 17, 17, 20, 2, 12, 11, 17, 17, 12, 11, 19, 18, 13, 20, 16, 19, 4, 7, 17, 1, 6, 19, 11, 6, 18, 17, 8, 20, 17, 1, 9, 17, 10, 15, 13, 9, 11, 18, 5, 9, 19, 6, 2, 16, 16, 6, 17, 4, 7, 8, 20, 8, 14, 1, 7, 3, 14, 9, 1, 2, 18, 6, 1, 20, 1, 10, 11, 14, 5, 3, 5, 9, 14, 1, 5, 4, 14, 3, 11, 1, 14, 3, 7, 18, 20, 2, 7, 13, 16, 5, 6, 12, 12, 3, 5, 1, 7, 16, 4, 6, 2, 19, 11, 17, 9, 12, 14, 3, 1, 12, 13, 18, 11, 8, 13, 20, 11, 17, 7, 17, 17, 2, 12, 11, 9, 4, 9, 12, 9, 15, 2, 5, 4, 20, 10, 3, 6, 11, 7, 11, 1, 20, 9, 4, 16, 12, 19, 13, 6, 12, 1, 7, 10, 13, 14, 17, 5, 9, 13, 11, 10, 8, 6, 10, 4, 10, 1, 9, 9, 17, 19, 12, 20, 12, 9, 17, 10, 4, 7, 1, 19, 12, 14, 13, 3, 1, 14, 9, 3, 6, 15, 5, 18, 7, 6, 13, 8, 14, 16, 4, 7, 10, 11, 15, 2, 13, 5, 11, 17, 17, 18, 11, 16, 2, 12, 9, 11, 6, 18, 19, 10, 17, 10, 11, 19, 19, 2, 9, 11, 11, 20, 2, 15, 15, 11, 19, 18, 17, 14, 18, 10, 19, 6, 3, 18, 10, 3, 11, 8, 16, 13, 1, 11, 14, 17, 18, 11, 5, 18, 20, 11, 16, 8, 11, 8, 16, 7, 13, 15, 17, 20, 6, 16, 20, 4, 3, 19, 4, 13, 3, 13, 3, 4, 8, 1, 5, 9, 20, 5, 11, 14, 8, 13, 16, 10, 14, 18, 4, 8, 14, 20, 19, 20, 12, 4, 13, 10, 1, 2, 6, 10, 18, 10, 4, 8, 13, 3, 14, 13, 15, 20, 6, 5, 10, 3, 2, 17, 5, 3, 8, 1, 3, 10, 17, 17, 18, 8, 11, 20, 7, 14, 12, 3, 12, 6, 2, 16, 19, 2, 1, 7, 5, 7, 20, 10, 15, 9, 5, 12, 12, 7, 5, 14, 16, 20, 3, 16, 2, 16, 11, 17, 1, 17, 15, 8, 20, 3, 8, 14, 9, 14, 3, 4, 6, 1, 9, 13, 14, 1, 5, 9, 9, 16, 3, 1, 9, 6, 15, 2, 2, 12, 5, 9, 15, 14, 9, 12, 2, 12, 19, 14, 20, 13, 14, 16, 7, 19, 20, 15, 2, 15, 10, 7, 3, 8, 14, 14, 17, 1, 12, 19, 15, 2, 8, 9, 19, 18, 20, 4, 10, 12, 2, 11, 6, 5, 17, 20, 9, 5, 15, 8, 8, 3, 16, 8, 9, 2, 14, 18, 10, 1, 20, 4, 14, 6, 13, 10, 3, 2, 5, 10, 10, 19, 3, 13, 19, 6, 1, 8, 20, 19, 13, 10, 7, 11, 2, 19, 10, 6, 15, 3, 7, 4, 3, 14, 2, 6, 7, 13, 11, 12, 17, 13, 6, 17, 1, 10, 15, 17, 11, 13, 11, 16, 11, 3, 7, 18, 20, 3, 8, 19, 9, 16, 5, 7, 4, 16, 18, 2, 11, 15, 16, 17, 14, 11, 10, 15, 12, 8, 2, 3, 17, 2, 15, 14, 16, 13, 14, 19, 1, 14, 4, 6, 3, 7, 14, 15, 5, 19, 19, 2, 13, 1, 12, 20, 20, 11, 14, 5, 17, 2, 10, 18, 13, 20, 5, 5, 7, 9, 20, 6, 20, 1, 9, 10, 9, 20, 12, 15, 18, 3, 10, 15, 11, 16, 11, 17, 5, 5, 2, 5, 16, 3, 15, 17, 9, 11, 11, 5, 7, 4, 10, 7, 18, 19, 7, 3, 7, 12, 11, 3, 4, 10, 6, 5, 6, 13, 7, 12, 5, 18, 12, 6, 6, 8, 12, 15, 8, 14, 12, 1, 13, 5, 12, 13, 4, 6, 5, 17, 20, 12, 3, 7, 7, 8, 5, 16, 3, 15, 2, 2, 19, 13, 13, 17, 18, 19, 15, 16, 19, 1, 6, 6, 4, 5, 8, 11, 13, 14, 5, 7, 3, 20, 16, 2, 8, 15, 3, 14, 3, 7, 18, 20, 17, 7, 16, 12, 3, 15, 8, 11, 1, 3, 17, 20, 4, 17, 4, 1, 11, 18, 18, 19, 2, 15, 6, 15, 3, 5, 8, 9, 19, 5, 9, 18, 19, 13, 13, 18, 5, 20, 2, 16, 20, 7, 18, 2, 16, 18, 13, 17, 5, 17, 10, 2, 9, 14, 14, 18, 7, 7, 7, 15, 20, 20, 14, 9, 9, 15, 17, 12, 4, 10, 2, 3, 16, 20, 12, 2, 1, 12, 3, 4, 8, 10, 11, 14, 15, 17, 19, 2, 8, 18, 14, 2, 5, 15, 20, 6, 4, 5, 5, 10, 11, 5, 6, 2, 8, 11, 15, 18, 20, 18, 19, 11, 15, 8, 7, 7, 4, 5, 7, 9, 9, 11, 9, 12, 4, 11, 4, 11, 17, 18, 8, 20, 17, 19, 1, 12, 20, 11, 13, 15, 1, 3, 11, 14, 19, 2, 16, 16, 2, 7, 5, 14, 2, 11, 19, 2, 6, 15, 5, 12, 12, 11, 13, 19, 15, 20, 19, 2, 4, 16, 9, 17, 16, 5, 18, 12, 15, 4, 3, 19, 3, 16, 16, 2, 17, 4, 13, 11, 11, 4, 16, 13, 16, 18, 12, 7, 2, 6, 15, 6, 14, 14, 16, 19, 7, 4, 5, 15, 12, 19, 18, 14, 16, 4, 18, 3, 9, 5, 11, 20, 9, 18, 12, 12, 16, 15, 20, 14, 15, 19, 6, 10, 7, 12, 10, 19, 9, 13, 19, 1, 19, 20, 3, 20, 1, 7, 10, 20, 2, 4, 3, 7, 20, 3, 19, 19, 20, 18, 15, 6, 18, 1, 20, 4, 13, 5, 10, 14, 15, 16, 20, 11, 20, 8, 17, 3, 2, 11, 17, 5, 3, 8, 15, 18, 18, 18, 8, 6, 7, 3, 2, 18, 5, 19, 14, 3, 11, 17, 13, 15, 16, 13, 12, 16, 20, 20, 8, 18, 19, 18, 18, 20, 19, 6, 8, 14, 1, 4, 11, 15, 4, 10, 11, 3, 11, 2, 4, 7, 3, 9, 17, 20, 20, 12, 3, 7, 8, 12, 9, 18, 13, 16, 1, 7, 6, 16, 1, 18, 7, 12, 20, 1, 6, 17, 17, 3, 2, 4, 6, 9, 5, 20, 20, 13, 6, 7, 6, 7, 12, 12, 2, 20, 14, 12, 12, 13, 6, 15, 12, 14, 20, 5, 6, 13, 19, 12, 19, 2, 10, 11, 20, 3, 10, 11, 13, 12, 10, 18, 11, 19, 5, 4, 4, 3, 4, 1, 14, 9, 12, 7, 16, 10, 11, 10, 16, 16, 20, 10, 6, 8, 12, 11, 5, 17, 3, 14, 16, 5, 9, 15, 1, 19, 12, 3, 16, 4, 16, 1, 18, 1, 14, 7, 17, 3, 4, 12, 18, 15, 1, 9, 19, 9, 12, 18, 19, 1, 9, 10, 20, 8, 12, 15, 8, 10, 4, 9, 16, 5, 8, 4, 1, 12, 13, 20, 10, 9, 2, 9, 19, 20, 2, 6, 3, 8, 8, 1, 7, 14, 7, 10, 2, 6, 2, 5, 6, 17, 18, 13, 4, 13, 20, 18, 12, 20, 13, 9, 6], \"Freq\": [0.8812377286590859, 0.9204753089033803, 1.005105135700845, 0.9204753089033803, 1.0058364495102061, 0.6265953170374264, 0.3732072421226051, 1.0490449133189996, 0.853556801083694, 1.0159058665205665, 0.029760622453583997, 0.9672202297414799, 0.9913924447414717, 0.9977146567618681, 0.9998658844401166, 1.004733934534504, 0.9204753089033803, 0.00759397880754567, 0.987217244980937, 1.0009532207503038, 0.9808184367580021, 1.0081513780476288, 0.017278780532983404, 0.03455756106596681, 0.9330541487811038, 0.9998883270380376, 0.9785615680039403, 0.0184634258113951, 0.3709501321362908, 0.0002008392702416301, 0.26771874723209294, 0.1747301651102182, 0.1861780035139911, 0.9204753089033801, 0.021579300060540717, 0.021579300060540717, 0.8631720024216287, 0.08631720024216287, 1.004742065789571, 0.9610498504243083, 0.8736816822039166, 0.8610130476972883, 1.0091962788038156, 0.015517818567622299, 0.9776225697602048, 0.9281580051734738, 0.9815903212462479, 0.01882955835961595, 0.9791370347000294, 1.0171204843221064, 0.03385153539127393, 0.964768758651307, 0.8868574726772162, 1.0432360902134037, 0.012196874331317702, 0.9879468208367339, 0.9616245038757496, 0.8583577637302001, 1.0020014621417277, 1.001802130021976, 0.9900352055183719, 0.9958162679309762, 0.8868574726772162, 1.0016402167837632, 1.0067698691130722, 1.0112242726656329, 1.0006338191794628, 0.9864148024882929, 1.0316662246052937, 1.0020014621417277, 1.033215657236746, 0.9281580051734738, 0.9583025457392167, 0.021779603312254925, 0.021779603312254925, 0.011154401563377549, 0.9927417391406019, 0.853556801083694, 1.0106118118582468, 0.9686861755448632, 0.8717979664599421, 0.9204753089033803, 0.013835318304956353, 0.2075297745743453, 0.7747778250775558, 0.9686644071777134, 0.9886004363792478, 0.9948210022979617, 0.014666035028428063, 0.953292276847824, 0.029332070056856126, 0.9281580051734738, 0.8779795051510577, 1.0032686486983895, 0.9999780042492619, 0.9987083366588514, 0.8717979664599421, 1.0173674466826832, 0.07557516385676208, 0.9203975312555668, 0.00269911299488436, 0.853556801083694, 0.9984933510901904, 0.9204753089033803, 0.8779795051510577, 0.8780884729274243, 1.0012135271253708, 1.0974743814388221, 0.9992860110248125, 0.8528855971808714, 1.0234627166170456, 0.9204753089033803, 0.8742040944324997, 0.8842853353759659, 0.8610130476972883, 0.9977552500727263, 0.0026256717107177004, 0.8794579171350313, 0.13325119956591383, 0.9989149158876651, 0.8736816822039166, 0.9923063601418075, 0.9204753089033803, 0.996575536693549, 1.008015275352923, 1.0359560488465898, 0.8610130476972884, 0.9281580051734738, 0.0487690269603815, 0.9428678545673755, 0.9955463363999896, 0.8583577637302001, 1.0203805279210467, 1.0003134506235563, 0.9994653580509868, 0.8779795051510577, 0.8610130476972884, 0.9913924447414717, 0.9990433987353666, 0.6426591495851487, 0.35054135431917205, 0.8322569472157096, 0.8541240270957285, 1.0064050046734283, 0.015582596002426424, 0.04674778800727927, 0.9349557601455855, 0.8541240270957285, 0.9937384042227476, 0.9963405330970767, 0.8610130476972884, 0.9281580051734738, 0.8650253818318417, 0.9990903936371425, 0.7655293982667394, 0.08119251193738145, 0.15078609359799414, 0.8868574726772162, 0.8779795051510577, 0.853556801083694, 0.9969624762810707, 0.9989263361743175, 0.8322569472157096, 1.0098326632120003, 1.0249488325148743, 1.033215657236746, 1.0242681613004327, 0.9866219085640258, 0.008616785227633412, 0.004308392613816706, 0.8842853353759659, 0.9686644071777134, 1.0021900467594282, 0.9984933510901903, 1.0199047768379164, 1.0175608745513407, 0.9893472927298108, 0.8583577637302001, 0.8322569472157096, 0.0326382171744216, 0.9465082980582263, 0.9883189042437267, 0.8842853353759659, 0.9996269008597877, 0.853556801083694, 0.8717979664599421, 0.9281580051734738, 0.9952263603803515, 0.8707764570176282, 1.1015471608238574, 0.8779795051510577, 0.9281580051734738, 0.9454059068166992, 0.06060294274466021, 0.8583577637302001, 0.9616245038757496, 0.8842853353759659, 0.9817489949171746, 0.015834661208341524, 0.9988318183437501, 0.9204753089033803, 0.9511507968179538, 1.044931748421154, 0.8779795051510577, 0.8626316488689504, 0.0058285922220875025, 0.12822902888592505, 0.9822426311600878, 1.009048099525899, 0.8541240270957285, 1.0172029354858672, 0.03416614243813001, 0.02795411654028819, 0.9349098976251939, 0.9824195524559018, 0.013644716006331969, 0.978000465694333, 0.9995848856723506, 1.0125228397937183, 1.0073688424321583, 1.0106118118582468, 0.033737502552329775, 0.9671417398334534, 0.9997803765757954, 0.9904477902745603, 1.0100542997476036, 0.9204753089033803, 0.9901650048518815, 0.8779795051510577, 0.013774484043397772, 0.9779883670812418, 1.0017028696016732, 0.9204753089033803, 0.06134952157794328, 0.9202428236691492, 0.8583577637302001, 1.0014065098398703, 0.9281580051734738, 0.9931409322983349, 1.0015212614198614, 0.9840987659779284, 0.992982719086097, 0.005426135076973208, 0.9908835545373011, 0.9942363981715264, 0.008285303318096054, 0.9430500114560423, 0.01746388910103782, 0.03492777820207564, 0.9281580051734738, 0.010965256216672228, 0.9868730595005005, 0.9281580051734738, 1.008016398719308, 0.006054825656531966, 0.9929914076712424, 0.8322569472157096, 0.8717979664599421, 1.0461575597519304, 0.9971769454138298, 0.9889857155845277, 1.0009374669781186, 0.9284131886638002, 0.07033433247453032, 0.8707764570176282, 0.9589777631059362, 0.020156941433848122, 0.9675331888247098, 0.8812377286590859, 0.8742040944324997, 1.033150293420227, 0.9749156183317729, 1.0135513973453898, 1.002763520084338, 0.8842853353759659, 0.8952754804520306, 0.01288166158923785, 0.09017163112466495, 0.8650253818318417, 0.9270639311765564, 0.0799193044117721, 0.5528426137495223, 0.44825076790501805, 0.01662596280988696, 0.9809318057833306, 0.9912811018959478, 0.23679824287731255, 0.03382832041104465, 0.6089097673988036, 0.1353132816441786, 1.0013929255702727, 0.9707574246710184, 0.9802638931582605, 0.020422164440797093, 0.9880544230420052, 0.9983492841718691, 0.9981062098059714, 0.9204753089033803, 1.0034051487440658, 0.061786028238231774, 0.9267904235734766, 1.0034051487440658, 1.0034140596469985, 0.8742040944324998, 0.9963405330970766, 1.130133871469007, 0.9204753089033803, 1.033150293420227, 0.9610498504243083, 0.9095272781522528, 0.012459277782907572, 0.012459277782907572, 0.06229638891453786, 0.9977146567618681, 0.013546599882523722, 0.9889017914242317, 1.0041844718631694, 0.9904128043040772, 0.974362433102288, 0.9946485466724334, 0.9749156183317729, 1.0161390489091595, 0.9913924447414715, 0.9756538588082492, 1.1380757347782586, 0.9958162679309762, 0.9951730937344323, 0.9616245038757496, 0.8528855971808714, 0.014339007560977049, 0.9858067698171721, 0.8779795051510577, 0.8842853353759659, 0.9971769454138298, 1.008151378047629, 1.0281106834356, 1.0016083368579223, 0.8779795051510577, 0.9281580051734738, 1.0053817314046407, 0.9995547748022022, 0.9990903936371427, 0.9990903936371427, 1.000721766787779, 0.8707764570176282, 1.0035296833456278, 1.0044480397430977, 1.0056578323883534, 1.012956526702692, 0.9747263967781389, 0.0035839851455567494, 0.9963478704647764, 0.9948210022979617, 0.8650253818318417, 0.8717979664599421, 1.002379607737728, 1.0067248433510998, 0.853556801083694, 0.9118905783621408, 0.08638963373957124, 0.8322569472157096, 0.8090347348576923, 0.19416833636584616, 0.9511507968179538, 1.0026673361558551, 0.8322569472157096, 0.05864162439207688, 0.9382659902732301, 1.0537061675129091, 0.8430672680851213, 0.010538340851064016, 0.14753677191489623, 0.9204753089033803, 0.9895573991112, 0.10935631348779322, 0.8748505079023458, 1.0005166401123697, 0.9948753264307574, 0.974362433102288, 1.024309422676234, 0.9770084264983933, 0.9653012846252141, 0.027580036703577546, 1.0537061675129091, 0.8610130476972884, 0.9204753089033801, 0.9998808241266129, 0.8868574726772162, 0.9951730937344324, 0.8528855971808714, 0.9994177734207808, 0.9864201624996182, 0.019341571813718005, 0.9281580051734738, 0.9281580051734738, 0.998778722958412, 0.9828918924794062, 1.000721766787779, 1.0168143179711053, 1.000949341477012, 0.9987083366588514, 0.9927049285431564, 0.00640454792608488, 1.0203805279210467, 1.007128832753241, 1.001638590383601, 1.0012187570527995, 1.0242681613004327, 0.8779795051510577, 0.8610130476972884, 0.8610130476972884, 0.8868574726772162, 1.0171204843221064, 0.8717979664599421, 1.0041166292692907, 0.8780884729274243, 1.0082674765467274, 0.9941443594065036, 0.023064065759153523, 0.968690761884448, 0.9869862560981761, 1.0661069964760894, 0.9953977177676089, 1.009048099525899, 0.9923063601418075, 0.00408334118780727, 0.9963352498249737, 1.0974743814388221, 0.8717979664599421, 0.8779795051510577, 0.9281580051734738, 0.8868574726772162, 1.0176769198021667, 0.8650253818318417, 0.8780884729274243, 0.9952263603803515, 0.8528855971808714, 0.9978721339227884, 0.8149951273884688, 0.019877929936304117, 0.15902343949043293, 0.9204753089033803, 1.0168127638374067, 0.9281580051734738, 0.9281580051734738, 0.9982479481701244, 0.9998044125643624, 0.9958162679309762, 1.1015471608238574, 0.9578541027193913, 0.8541240270957285, 1.0079557057592117, 1.0439293664503349, 1.0101006901404488, 1.0106118118582468, 0.853556801083694, 0.9958162679309762, 0.8322569472157096, 0.9991179122566104, 0.9578541027193913, 1.0048696992908703, 0.8736816822039166, 0.991746774393635, 0.8842853353759659, 1.006159429441179, 0.8812377286590858, 0.9855215158865851, 0.02096854289120394, 0.8583577637302001, 1.008867396927689, 0.8322569472157096, 0.9984933510901904, 0.9350543369850745, 0.031168477899502483, 0.031168477899502483, 0.9990945566975923, 1.1096759296209462, 0.022461417528231574, 0.9658409537139577, 1.002190046759428, 0.8736816822039166, 0.8812377286590859, 0.8322569472157096, 0.8736816822039166, 0.8322569472157096, 1.0016937185125019, 1.0171204843221064, 1.0017095678929835, 1.012295143224567, 0.9713378827027775, 0.8650253818318417, 0.8955127193954794, 0.10176280902221357, 0.9994094311125175, 0.8650253818318417, 1.0244365517486616, 0.8583577637302002, 0.9952263603803515, 1.004515222313503, 1.0249488325148743, 0.1948540017054941, 0.8183868071630752, 0.04043757322452314, 0.9300641841640322, 0.02021878661226157, 0.02260922001633204, 0.8365411406042855, 0.13565532009799225, 0.9978278101448004, 0.3576329740963703, 0.6357919539491028, 0.9814320462757167, 0.011384332136229032, 0.9904368958519258, 1.130133871469007, 0.003966345727727212, 0.9955527776595303, 0.9888671375353811, 0.5552286033258993, 0.4441828826607194, 0.8610130476972883, 0.035199492455728676, 0.9503862963046742, 1.0043989535635807, 1.0077925825877454, 0.942124444667929, 0.05541908498046641, 0.9863182586885775, 1.0044047042415956, 0.9990945566975923, 0.8528855971808714, 0.8842853353759659, 1.130133871469007, 0.8859180169628224, 0.09164669140994715, 0.9987083366588514, 0.8541240270957285, 0.9999058286692338, 0.8779795051510577, 1.0004008060585217, 0.9951730937344323, 0.923476534915646, 0.08245326204603982, 0.9281580051734738, 0.9204753089033803, 1.0199047768379164, 0.9749156183317729, 1.0048696992908703, 0.9780050157098416, 1.1388320361276378, 0.5754644285578508, 0.006539368506339215, 0.41851958440570974, 0.9996993910924543, 1.1085718408465202, 0.0013655136705120591, 0.6165294222361947, 0.3816610709081205, 1.0535754061812694, 0.9204753089033803, 0.8868574726772162, 0.853556801083694, 0.8779795051510577, 0.9977332116566899, 0.0017977174984805224, 0.9204753089033803, 1.0974743814388221, 0.8736816822039166, 0.7253514072106555, 0.04330456162451675, 0.2381750889348421, 0.8742040944324997, 0.9990303537876666, 1.012956526702692, 1.1371807962411618, 0.8868574726772162, 0.9791806539204084, 0.013599731304450116, 0.8650253818318417, 0.925883874962194, 0.05143799305345522, 0.9204753089033803, 0.9715555756686787, 0.02024074115976414, 1.0087489467352746, 1.0071027430670725, 0.8742040944324997, 1.002619572760486, 0.8780884729274243, 1.009048099525899, 0.9281580051734738, 0.9886004363792478, 0.9991930935487783, 1.0009168786413802, 1.051971781603863, 0.8650253818318417, 0.8610130476972884, 0.8530511660403014, 0.8780884729274243, 0.8322569472157096, 0.8610130476972884, 0.9964780316116831, 1.0244365517486616, 1.0171204843221064, 0.9988318183437501, 1.0171204843221064, 1.000124897823151, 0.9855821079765321, 0.018595888829745888, 0.8780884729274243, 1.044177755820158, 0.9958162679309763, 0.9919311362854721, 0.007420931194155652, 0.010623792566253473, 0.988012708661573, 0.9990903936371427, 0.9977146567618681, 0.9958162679309761, 1.0094193047494973, 1.0461575597519304, 0.8736816822039166, 0.03659770587470159, 0.9515403527422414, 0.8707764570176282, 0.8780884729274243, 0.9862235452536215, 0.8541240270957285, 0.9281580051734738, 0.9848732320196467, 0.8528855971808714, 0.9931296698206281, 0.005339406826992624, 0.8610130476972884, 0.9993635639522902, 0.9947791891066182, 0.015104697743620941, 0.0007192713211248067, 0.5229102504577344, 0.21290431105294277, 0.2481486057880583, 0.978000465694333, 0.8868574726772162, 0.00564866678340396, 0.9941653538790969, 1.0537061675129091, 1.003888567438721, 1.0010363281195946, 0.9870563909261474, 0.012111121361057024, 1.1380757347782586, 0.99860494339957, 0.9204753089033803, 0.9281580051734738, 0.9281580051734738, 0.9690331583565704, 0.024225828958914262, 1.000185597743067, 1.0094193047494973, 1.0091962788038156, 0.9281580051734738, 0.9888671375353811, 0.8717979664599421, 1.0053002323874618, 0.8707764570176282, 1.0125228397937183, 1.0025618680368737, 1.001608336857922, 1.0974743814388221, 0.8610130476972884, 0.8736816822039166, 0.9204753089033803, 0.8779795051510577, 0.9281580051734738, 0.004772114170250848, 0.5392489012383458, 0.45335084617383054, 0.8868574726772162, 1.0081513780476288, 0.9951730937344323, 0.8842853353759659, 1.012956526702692, 0.970966438418328, 1.0974743814388221, 1.0064050046734283, 0.853556801083694, 1.0244428906089744, 0.8717979664599421, 0.9992041243656897, 1.057485274390903, 0.8742040944324997, 0.9914695700756654, 0.9736590323504409, 0.003653504811821542, 0.02192102887092925, 1.130133871469007, 1.0035896071062367, 1.0035296833456278, 0.8528855971808714, 1.0122363198692104, 1.0091962788038153, 0.9281580051734738, 0.8780884729274243, 0.007293237377561722, 0.9918802833483942, 0.8583577637302001, 0.8717979664599421, 1.0292290615164172, 0.9983492841718691, 1.0244365517486616, 0.9972097549218503, 0.9809803014059431, 0.00835284862962666, 0.9772832896663193, 0.00835284862962666, 0.9460142659875418, 0.04614703736524594, 0.8742040944324997, 0.9982161882156018, 0.9869862560981761, 1.0035296833456278, 1.0300293164762402, 1.002335120097354, 1.0037373200547102, 0.9643683899963331, 0.043834926818015145, 0.8717979664599421, 0.9884119703559882, 0.9983866689728648, 1.004081933279128, 1.0008723067259853, 1.0059207305307023, 0.8736816822039166, 0.8780884729274243, 0.8322569472157096, 1.0021405766875238, 1.0175608745513407, 0.9204753089033803, 0.8780884729274243, 0.018126252969542792, 0.29908317399745604, 0.6797344863578547, 0.8780884729274243, 0.8827418322217159, 0.12981497532672293, 1.0078663519729596, 1.0537061675129091, 1.1371807962411618, 1.00498952116614, 1.0025419572793426, 1.0403211840196371, 1.0033948202127898, 0.9951730937344323, 1.0013956098218464, 0.010216751597424585, 0.9910249049501847, 1.1388320361276378, 0.8842853353759659, 0.019862678733814157, 0.9732712579568937, 0.9976637934744474, 1.0325328971500831, 1.0055048089410916, 0.9778644842031818, 0.015521658479415586, 0.618725454703273, 0.3817667699232961, 0.7747836897289307, 0.0028909839168989953, 0.22260576160122264, 0.858402885000944, 0.002032524589583924, 0.13888918028823483, 0.0006775081965279747, 0.0010629427039540562, 0.005314713519770281, 0.9938514281970425, 0.8322569472157096, 1.0004151601816111, 1.1371807962411618, 0.8717979664599421, 1.0535754061812694, 1.0058364495102061, 0.9474983266523719, 0.03158327755507906, 0.8749249497999189, 0.10936561872498986, 0.8583577637302001, 0.9991639562251918, 0.9973233814061236, 0.02869208026635109, 0.975530729055937, 0.9686644071777134, 0.9204753089033803, 0.8742040944324997, 0.9617702726203325, 0.043322985253168134, 0.9749156183317729, 0.9807727122674349, 0.9815903212462479, 0.9987083366588514, 0.8610130476972884, 0.8736816822039166, 0.8779795051510577, 0.8610130476972884, 0.8812377286590859, 1.0019531856315276, 1.0048696992908703, 1.0005571486614744, 1.0000893060058866, 0.8736816822039166, 0.8742040944324997, 0.9814320462757167, 0.997714656761868, 0.8736816822039166, 1.0403211840196371, 0.003906538867087544, 0.4336258142467174, 0.009766347167718861, 0.5527752496928875, 1.130133871469007, 1.042618091827035, 0.8322569472157096, 0.7935394533244015, 0.21161052088650706, 0.9922801486945065, 0.8779795051510577, 0.8650253818318417, 0.01663827367739283, 0.981658146966177, 0.8842853353759659, 0.023382350777121492, 0.970367557250542, 1.0014173910185669, 1.0199047768379164, 0.020514920254774683, 0.9744587121017975, 0.9890115607183986, 0.008525961730331022, 1.1388320361276378, 0.9963405330970766, 0.8812377286590859, 0.9281580051734738, 1.0016272632589733, 0.9938589493387119, 1.0045456047079453, 0.9578541027193913, 0.9932803693984819, 0.05284234983156901, 0.8366705389998427, 0.11449175796839953, 0.9707574246710184, 1.0234627166170456, 0.8742040944324997, 0.9950331967110166, 0.9983745651092633, 0.9989576185306401, 0.9994653091420239, 0.9971769454138298, 1.057485274390903, 1.0024913227825591, 0.8541240270957285, 0.8736816822039166, 0.9968792005111247, 1.0034051487440658, 0.14849305494728615, 0.8521003339965766, 0.034221370138555994, 0.9239769937410118, 0.034221370138555994, 0.03173601930133055, 0.47848152177390674, 0.004882464507897008, 0.48336398628180377, 0.4750610309783104, 0.005545459505583389, 0.5175762205211164, 0.9281580051734738, 0.8528855971808714, 0.8736816822039166, 0.9204753089033803, 0.9281580051734737, 1.0002571826383877, 0.9913924447414717, 0.8742040944324998, 0.9616245038757496, 0.9922349968071126, 0.8868574726772162, 0.9281580051734738, 0.8812377286590859, 0.8779795051510577, 0.05108825690635775, 0.9366180432832255, 0.9990903936371427, 0.8650253818318417, 0.9984978067881921, 0.8779795051510577, 0.8541240270957285, 0.8610130476972883, 0.8779795051510577, 1.0066846392954547, 0.026726572550686344, 0.1425417202703272, 0.8196148915543813, 0.9961817802233145, 0.8494893023742803, 0.15445260043168735, 0.8717979664599421, 0.9951730937344324, 1.0192952959045694, 0.9775048878899307, 0.028750143761468554, 0.8731648337669827, 0.13433305134876658, 0.9204753089033803, 0.9729646078096708, 0.021621435729103793, 1.000323908207611, 0.8742040944324997, 0.708075624953002, 0.29113769350859475, 0.9978409003363576, 1.0006946370857381, 0.8541240270957285, 0.9851322589162455, 0.006567548392774969, 0.006567548392774969, 1.0199047768379164, 1.0244365517486616, 0.8842853353759659, 0.8868574726772162, 0.9997338093764293, 0.9889857155845277, 0.9281580051734738, 0.886857472677216, 1.1015471608238574, 0.9928679370292675, 0.8322569472157096, 0.8736816822039166, 0.8528855971808714, 0.8322569472157096, 0.9281580051734738, 0.09687767706899911, 0.6781437394829938, 0.19375535413799821, 0.8717979664599421, 0.7938529173962181, 0.19846322934905453, 0.853556801083694, 0.8779795051510577, 1.0611424024511593, 0.9969624762810707, 1.0013895560688524, 0.8736816822039166, 0.8479553067870169, 0.1695910613574034, 0.8717979664599421, 0.8717979664599421, 0.8583577637302001, 0.9828918924794062, 0.8610130476972884, 0.8583577637302001, 0.8842853353759659, 0.9204753089033803, 0.970966438418328, 0.8541240270957285, 0.8583577637302001, 1.033215657236746, 0.9963405330970766, 0.38012315747182235, 0.6205253705756235, 0.3608068288140782, 0.6456543252462452, 0.9963405330970766, 0.9825392615288511, 0.8812377286590859, 0.006498493031674896, 0.9942694338462592, 0.853556801083694, 0.8736816822039166, 0.8779795051510577, 0.966805683800888, 0.04603836589528038, 0.9894167062888626, 0.0079153336503109, 0.8780884729274243, 0.9886004363792478, 0.9971769454138298, 0.9934765934968713, 1.0004036117384667, 1.000715315220137, 0.9204753089033803, 0.9655742903683401, 0.03114755775381742, 1.0359560488465898, 0.9992041243656897, 0.8610130476972884, 1.0537061675129091, 0.8528855971808714, 0.8780884729274243, 1.0024347722129148, 1.044931748421154, 0.9749156183317729, 0.8541240270957285, 0.8736816822039166, 0.9987083366588514, 0.9871114282897301, 0.9281580051734738, 0.8528855971808714, 0.8868574726772162, 0.9951730937344323, 0.853556801083694, 1.001802130021976, 0.9919199605119782, 0.8742040944324997, 0.8780884729274243, 0.9505787097432855, 0.014187741936466948, 0.028375483872933895, 1.0974743814388221, 1.0244365517486616, 0.8717979664599421, 0.9987360924802974, 0.9955952507875914, 0.8322569472157096, 0.9834796062365622, 1.0134707513565433, 0.978000465694333, 0.8742040944324997, 1.0003846664624827, 0.8779795051510577, 1.0064050046734283, 0.8610130476972884, 1.0096764309237165, 0.9968025643318453, 0.9899906329947566, 0.009999905383785422, 0.853556801083694, 1.0203292331261147, 0.48088060981689623, 0.003434861498692116, 0.5152292248038174, 0.8812377286590859, 1.0077925825877454, 0.8583577637302001, 0.8583577637302001, 0.8742040944324997, 0.8610130476972884, 0.013110805702309344, 0.9439780105662728, 0.052443222809237376, 0.8541240270957285, 0.08779904007116518, 0.8779904007116517, 0.9968552987457079, 0.9888671375353811, 0.8742040944324998, 0.8717979664599421, 0.9976361094369625, 0.9930211267385989, 0.0052820272698861645, 0.9954522652499362, 0.9965717991939851, 0.2745457163541912, 0.726738660937565, 1.0039703476388389, 0.6057682273626763, 0.3998070300593664, 1.0738878603872768, 1.0014336371608532, 0.9589777631059362, 0.9281580051734738, 1.0094193047494973, 0.6097221385387246, 0.3857425774428666, 0.012443308949769891, 0.8736816822039166, 0.01334989662108965, 0.9878923499606341, 0.8780884729274243, 1.012801646652285, 0.9941148447532927, 0.005868446545178823, 0.8868574726772162, 0.8868574726772162, 0.9907646403568332, 0.9853971918635733, 0.9747263967781389, 1.0003022158566581, 0.9351181900817637, 0.07480945520654109, 0.9796247273600132, 0.021067198437849745, 0.9756538588082492, 0.9954522652499362, 0.9988318183437501, 0.18291918394027035, 0.8231363277312166, 0.052017615240178026, 0.15605284572053407, 0.7802642286026704, 1.0244428906089744, 0.9901725731644389, 0.9997803765757954, 0.8650253818318417, 1.0244365517486616, 0.017790971009074476, 0.9785034054990962, 1.0005863024142516, 1.0152905702464794, 1.0000733202530308, 0.9429409489427724, 0.04490194994965583, 0.6237640632221337, 0.37892209448073544, 0.3022159824148489, 0.6907793883767975, 1.0091962788038153, 1.0106118118582468, 0.8842853353759659, 0.8322569472157096, 0.9947791891066182, 1.004201132658028, 0.9301342335494995, 0.05694699389078568, 0.973153554560822, 0.9204753089033803, 0.9758147873902602, 0.9987507052112573, 0.9922349968071126, 0.8610130476972884, 0.9958162679309762, 0.8842853353759659, 0.0823991238725862, 0.8789239879742529, 0.027466374624195402, 0.8650253818318417, 0.991746774393635, 0.9951730937344324, 0.10322695391898731, 0.8980744990951895, 0.886857472677216, 0.9950331967110166, 0.9984933510901903, 1.007128832753241, 0.9990903936371425, 0.737054419743586, 0.2658229054812933, 1.0009276679480976, 0.025205855656893497, 0.1260292782844675, 0.025205855656893497, 0.8317932366774854, 0.9987360924802973, 0.9918009605363824, 0.009918009605363825, 0.015801903799056546, 0.9797180355415058, 0.9996269008597877, 0.9958162679309762, 0.19799148077116754, 0.41753305468749613, 0.38386103414818196, 0.0013468808215725682, 0.9950434391711985, 0.00680390491703148, 0.993370117886596, 0.9828918924794062, 1.0016545408668087, 1.0079557057592117, 0.8742040944324997, 0.9835763921640204, 1.007128832753241, 1.001002128354236, 0.9990801265512035, 0.8736816822039166, 0.9843559948894929, 0.9694132242960362, 0.025851019314560963, 1.007957236715601, 0.028449003556933576, 0.9672661209357416, 0.9981062098059714, 0.017621706542395085, 0.9868155663741247, 0.8322569472157096, 0.8780884729274243, 0.9746209153094614, 0.16375213201224503, 0.8515110864636742, 0.996478031611683, 0.015412871993539546, 0.9864238075865309, 0.9958162679309762, 0.9204753089033803, 0.8780884729274243, 0.9952263603803515, 0.9749156183317729, 0.9975509146053677, 1.033150293420227, 1.0032552603195746, 0.95213842248802, 0.04533992488038191, 0.8736816822039166, 1.0642289672126592, 0.9835763921640204, 0.9281580051734738, 0.8583577637302001, 0.9846475267257803, 0.012156142305256547, 1.0020781769750526, 1.0098326632120003, 1.004515222313503, 0.9979923961945841, 1.0014078905690493, 0.9549463594560474, 0.04658274924175841, 0.01218832605539852, 0.9872544104872802, 0.8541240270957285, 0.00937628601310408, 0.9938863173890324, 0.9947839695266377, 0.9893472927298108, 1.0081513780476288, 0.964088470814125, 0.039838366562567146, 0.8868574726772162, 1.007957236715601, 1.0009532207503038, 0.9882307154454346, 0.7716105655103379, 0.2281856886039119, 0.9950434391711985, 1.008151378047629, 0.9578541027193913, 0.8707764570176282, 0.02258888082014121, 0.971321875266072, 0.9889857155845277, 0.8541240270957285, 1.0974743814388221, 0.9281580051734737, 0.004256594489018898, 0.9832733269633654, 0.008513188978037796, 1.0010356619940812, 0.853556801083694, 0.8717979664599421, 0.5225278344344864, 0.14859765920980733, 0.23690364521563545, 0.09196002680606928, 0.9981062098059712, 0.9616245038757496, 0.06060532178878007, 0.9292816007612945, 0.005198558666136888, 0.13132011239241442, 0.19178160992248475, 0.13719674392804743, 0.1124470841914392, 0.06633812906570333, 0.0001130121449160193, 0.10080683326508921, 0.25484238678562354, 0.05336862734703243, 0.01778954244901081, 0.9250562073485621, 0.8779795051510577, 0.09786000271668184, 0.027960000776194812, 0.8667600240620391, 1.0041728426665997, 0.8842853353759659, 1.0242681613004327, 0.8868574726772162, 0.9891871810630486, 1.0124105416954166, 0.8780884729274243, 0.8868574726772162, 1.0611424024511593, 0.9961860610974996, 0.8939620828057597, 0.11174526035071997, 0.9613502494462755, 0.040670137013547096, 0.9557482198183567, 0.9749156183317729, 0.9968025643318453, 0.8780884729274243, 0.8812377286590859, 1.001888936457128, 1.044931748421154, 0.9997803765757955, 0.9289067750044547, 0.017863591827008744, 0.017863591827008744, 0.03572718365401749, 1.008867396927689, 0.8780884729274243, 1.003160672258199, 0.8650253818318417, 0.853556801083694, 1.0013289603558349, 0.9883289275705928, 0.8780884729274243, 1.130133871469007, 0.9749156183317729, 0.9791258202537759, 1.0041728426665997, 0.9814320462757167, 1.0116359358248788, 0.9993731925236699, 0.01124033791836555, 0.9891497368161684, 0.023807371170481317, 0.011903685585240659, 0.9641985324044934, 0.03824594543773279, 0.03824594543773279, 0.917902690505587, 0.9877269432949399, 0.8583577637302001, 0.014711109395227556, 0.9856443294802463, 0.8528855971808714, 0.8742040944324997, 0.9951730937344323, 0.20701006155212326, 0.8021639885144777, 0.8742040944324997, 0.8780884729274243, 0.8583577637302001, 0.9476546400146337, 0.04859767384690429, 1.007128832753241, 0.7687631994721871, 0.23175949395852696, 1.0037558675973257, 1.0035296833456278, 1.0013262850998095, 1.0300293164762402, 1.057485274390903, 0.8541240270957285, 1.0192998444296126, 0.930958047984407, 0.029092438999512717, 0.029092438999512717, 0.9281580051734738, 1.130133871469007, 0.8528855971808714, 0.8868574726772162, 0.9979089112169561, 0.9886004363792478, 0.9913924447414717, 1.0242681613004327, 0.3945670001440357, 0.6200338573691989, 1.0192952959045694, 0.9875517441041669, 0.9950331967110166, 0.8742040944324997, 0.978000465694333, 0.026084399617831388, 0.9651227858597613, 0.8780884729274243, 0.9962926904368853, 0.9869129156167524, 0.013336661021848006, 1.004515222313503, 0.8528855971808714, 0.8530511660403014, 0.8650253818318416, 1.0244428906089744, 0.8742040944324997, 0.9948210022979617, 1.0134233879579486, 0.8842853353759659, 0.8779795051510577, 0.8779795051510577, 0.9875517441041669, 0.9956950059270322, 0.9997803765757954, 0.9294478179528461, 0.04425941990251648, 0.014753139967505494, 0.9981062098059714, 0.8583577637302001, 1.012998259672858, 0.02626573259460437, 0.9718321060003616, 0.853556801083694, 0.9919199605119782, 0.9990530446726401, 0.9281580051734738, 1.0135513973453898, 0.9776577134869786, 0.025068146499666117, 0.9281580051734738, 1.0014078905690493, 0.9992534583229895, 0.8650253818318417, 0.8528855971808714, 0.021917907481529504, 0.9643879291872982, 0.8779795051510577, 0.9961817802233145, 0.9956950059270322, 0.8842853353759659, 0.8717979664599421, 1.0093090751795237, 0.973153554560822, 1.0006724484583682, 0.8583577637302001, 0.3033244999051142, 0.6947945809792359, 0.9994576700968084, 1.0000225578209563, 1.0192998444296126, 1.012295143224567, 0.01709013190767883, 0.9741375187376933, 0.9204753089033803, 0.018624906459023618, 0.13037434521316532, 0.8567456971150864, 0.8742040944324997, 1.0242681613004327, 0.9089972539156702, 0.08555268272147484, 0.003564695113394785, 0.9241042714730603, 0.051339126192947795, 0.034869225100273016, 0.9589036902575079, 1.0081513780476288, 0.9976276173499086, 0.9883189042437267, 0.990640063788737, 0.009191253406521604, 0.9926553679043333, 1.1380757347782586, 0.9934765934968713, 1.0035492453979022, 0.8717979664599421, 0.01859074249243905, 0.01859074249243905, 0.01859074249243905, 0.9295371246219526, 1.0131790072239513, 0.8541240270957285, 1.1096759296209462, 0.9814320462757167, 0.8736816822039166, 0.8416657439209396, 0.029022956686928954, 0.14511478343464476, 0.9924357432340275, 0.030316158445983538, 0.9701170702714732, 0.014715894083034196, 0.985964903563291, 1.0061629137911245, 0.9952263603803515, 0.8322569472157096, 0.8842853353759659, 0.9963692152413246, 0.8736816822039166, 1.0053347085973747, 0.9952263603803515, 0.886857472677216, 0.9970822507977073, 0.8779795051510577, 0.8736816822039166, 1.002593554909671, 1.0017095678929835, 0.016609348059771913, 0.9633421874667709, 0.016609348059771913, 1.0175608745513407, 0.8650253818318417, 0.8528855971808714, 0.9964780316116832, 0.9935728478460515, 0.9987083366588514, 1.0010294295370883, 1.0192998444296126, 0.9749156183317729, 1.0004921083188718, 0.8541240270957285, 0.8583577637302001, 0.8842853353759659, 0.9969744680188188, 0.8779795051510577, 0.9204753089033803, 0.9786034140878302, 0.01779278934705146, 0.8812377286590859, 1.0669460013546175, 0.033763263547347135, 0.9622530110993934, 0.8736816822039166, 0.9658973202201667, 0.8331370376097645, 0.0846154803822417, 0.0846154803822417, 1.0325328971500831, 0.9281580051734738, 0.6923019996518303, 0.3146827271144683, 1.003595731837481, 0.8650253818318417, 1.0069551591502768, 0.9951730937344323, 0.6697001357001309, 0.3297508282381355, 0.9281580051734738, 1.1374015547204017, 0.8610130476972884, 0.8528855971808714, 0.9204753089033803, 1.004742065789571, 0.9993994027030146, 1.1371807962411618, 0.9681625577778631, 0.02482468096866316, 0.9578541027193913, 0.9920197241069867, 0.004886796670477767, 0.9144430986556967, 0.07533764165061138, 0.01039139884836019, 0.9888671375353811, 0.8736816822039166, 0.028283885487991628, 0.2969807976239121, 0.6222454807358159, 0.04242582823198744, 1.0077925825877454, 0.9889857155845277, 0.8541240270957285, 0.8610130476972884, 0.010010682600782703, 0.9910575774774876, 0.43828305452844984, 0.5275629360064674, 0.02434905858491388, 1.0008558136897343, 1.0199047768379164, 0.9608895304826947, 1.0080505429512143, 1.000185597743067, 0.8650253818318417, 1.001586606505009, 0.9999513497078435, 0.8812377286590859, 0.01449980807688523, 0.04349942423065569, 0.9279877169206547, 0.9785522744488109, 0.01528987928826267, 0.9934765934968713, 0.9980904229420933, 0.9629837052392833, 0.039305457356705445, 0.8742040944324997, 0.8717979664599421, 1.0976105911592804, 0.9979764948171144, 0.9114965819920179, 0.09494756062416852, 0.8780884729274243, 1.009463573162338, 0.8650253818318417, 1.0009532207503038, 1.0081513780476288, 0.8780884729274243, 0.8583577637302001, 0.9891871810630486, 0.853556801083694, 1.0033036082913596, 1.0192952959045694, 0.853556801083694, 0.9155514915500402, 0.10172794350556003, 0.02939066145625247, 0.9698918280563315, 0.9951730937344323, 0.9875517441041669, 0.8717979664599421, 0.8780884729274243, 0.9589777631059362, 1.0079557057592117, 0.06832396959103208, 0.9394545818766912, 0.8717979664599421, 0.8842853353759659, 0.8322569472157096, 1.0029279789354686, 0.8780884729274243, 1.0135513973453898, 1.0050119071277956, 0.8736816822039166, 0.8779795051510577, 0.8528855971808714, 0.8868574726772162, 0.9281580051734738, 0.8812377286590859, 0.9204753089033803, 0.9809803014059431, 0.9886004363792478, 0.8736816822039166, 0.9950331967110166, 0.853556801083694, 1.0079557057592117, 0.9204753089033803, 1.042618091827035, 0.9204753089033803, 0.8779795051510577, 0.8707764570176282, 1.009048099525899, 0.9426871620836282, 0.03491433933643068, 0.8650253818318416, 1.0061629137911245, 0.8812377286590859, 0.9204753089033803, 0.9281580051734737, 0.9728054655608935, 0.9281580051734738, 1.0034294429249366, 1.0014078905690493, 1.0014173910185669, 1.0019333008417326, 0.9281580051734738, 1.0461575597519304, 1.0066461747913942, 0.07667202186400318, 0.9104802596350378, 0.009584002733000398, 0.8994146812370453, 0.06424390580264609, 1.0041844718631694, 0.9281580051734738, 1.0079557057592117, 0.8868574726772162, 0.8322569472157096, 1.0669460013546175, 0.01690709964669702, 0.03381419929339404, 0.9467975802150331, 0.8541240270957285, 0.8717979664599421, 1.0015301794954874, 0.9616245038757496, 0.11855569721565383, 0.013785546187866723, 0.8684894098356036, 1.0037158121262035, 0.9863182586885775, 0.798829072639226, 0.1997072681598065, 0.8322569472157096, 0.9942267118090385, 0.006175321191360488, 1.0974743814388221, 0.10106599719922012, 0.8969607251430786, 0.9497545950546458, 0.04998708395024452, 0.8742040944324997, 0.001975446450612362, 0.00987723225306181, 0.001975446450612362, 0.9857477788555687, 0.9934765934968713, 1.000721766787779, 1.0025494390995824, 0.8541240270957285, 1.0006946370857381, 0.8650253818318417, 0.8541240270957285, 0.8610130476972884, 0.9281580051734738, 0.8842853353759659], \"Term\": [\"absent\", \"accede\", \"access\", \"accomplish\", \"accord\", \"account\", \"account\", \"accuracy\", \"acknowledge\", \"acorn\", \"acquire\", \"acquire\", \"acquisition\", \"act\", \"active\", \"actual\", \"actualmente\", \"add\", \"add\", \"address\", \"adjust\", \"adopt\", \"advantage\", \"advantage\", \"advantage\", \"advice\", \"adviser\", \"adviser\", \"advisor\", \"advisor\", \"advisor\", \"advisor\", \"advisor\", \"advisorengine\", \"advisory\", \"advisory\", \"advisory\", \"advisory\", \"advocate\", \"affordable\", \"afiraz\", \"african\", \"age\", \"agree\", \"agree\", \"agregateur\", \"ahead\", \"ai\", \"ai\", \"aid\", \"aim\", \"aim\", \"aki\", \"al\", \"algorithm\", \"algorithm\", \"algorithmic\", \"allfund\", \"allocate\", \"allocation\", \"ally\", \"als\", \"alt\", \"alternative\", \"ameritrade\", \"amount\", \"analysis\", \"analyst\", \"analyze\", \"anbieter\", \"ander\", \"annee\", \"announce\", \"announce\", \"announce\", \"answer\", \"answer\", \"anti\", \"antwork\", \"anytime\", \"apibase\", \"aporte\", \"app\", \"app\", \"app\", \"appeal\", \"appetite\", \"application\", \"approach\", \"approach\", \"approach\", \"apps\", \"apre\", \"arefee\", \"article\", \"artificial\", \"ashare\", \"asie\", \"asset\", \"asset\", \"asset\", \"assetklassen\", \"assistance\", \"assisted\", \"asyjam\", \"atdresearch\", \"attract\", \"attractive\", \"auch\", \"aufwart\", \"aum\", \"ausgewirkt\", \"autocorrected\", \"autoinvest\", \"automata\", \"automate\", \"automate\", \"automatically\", \"automatically\", \"automation\", \"automatisierte\", \"autopilot\", \"aux\", \"average\", \"award\", \"awesome\", \"awkward\", \"ax\", \"back\", \"back\", \"bad\", \"badger\", \"balance\", \"bank\", \"banking\", \"bankkonto\", \"barclay\", \"bargain\", \"base\", \"basic\", \"basic\", \"bastante\", \"bbva\", \"bear\", \"beat\", \"beat\", \"beat\", \"befeuern\", \"begin\", \"beginner\", \"belastungst\", \"beli\", \"bemerkbar\", \"benchmark\", \"benefit\", \"benefit\", \"benefit\", \"beratung\", \"berichtet\", \"besser\", \"bet\", \"betterment\", \"bettinger\", \"bevestor\", \"beware\", \"bias\", \"bieten\", \"big\", \"big\", \"big\", \"bigdata\", \"biweekly\", \"blackrock\", \"blog\", \"blogge\", \"blooom\", \"boast\", \"body\", \"boeresearch\", \"bond\", \"bond\", \"boom\", \"boomer\", \"boost\", \"boursiere\", \"bout\", \"brainstorm\", \"break\", \"breite\", \"brick\", \"briefing\", \"briefkasten\", \"bring\", \"bring\", \"brit\", \"broad\", \"broken\", \"broker\", \"broker\", \"brokerage\", \"brood\", \"budget\", \"budgeting\", \"buffet\", \"build\", \"build\", \"build\", \"building\", \"bull\", \"bullshyd\", \"bundle\", \"business\", \"business\", \"business\", \"buy\", \"buy\", \"buying\", \"call\", \"campaign\", \"canadian\", \"capability\", \"capital\", \"capital\", \"card\", \"care\", \"career\", \"careful\", \"caremoney\", \"caret\", \"case\", \"case\", \"cash\", \"cashback\", \"category\", \"category\", \"cattle\", \"cbinsight\", \"certify\", \"challenge\", \"change\", \"channel\", \"charge\", \"charge\", \"chat\", \"chatbot\", \"chatbot\", \"cheap\", \"cheap\", \"cheap\", \"cheat\", \"check\", \"check\", \"chercheur\", \"choice\", \"choose\", \"choose\", \"churn\", \"cinema\", \"citigroup\", \"class\", \"click\", \"client\", \"close\", \"close\", \"closed\", \"cnet\", \"coach\", \"coach\", \"cog\", \"coincodex\", \"collect\", \"combination\", \"combine\", \"comisione\", \"comodiftie\", \"company\", \"company\", \"company\", \"comparable\", \"compare\", \"compare\", \"comparison\", \"comparison\", \"compete\", \"compete\", \"competitor\", \"complete\", \"complete\", \"complete\", \"complete\", \"complex\", \"complicated\", \"comprehensive\", \"comprehensive\", \"computer\", \"con\", \"concern\", \"confluence\", \"congrat\", \"congratulation\", \"congratulation\", \"conoce\", \"conservative\", \"consist\", \"consistently\", \"consolidate\", \"constantemente\", \"construction\", \"consultant\", \"consumer\", \"consumer\", \"consumer\", \"consumer\", \"contact\", \"continue\", \"continue\", \"contract\", \"contribute\", \"contribution\", \"control\", \"conversation\", \"cool\", \"copy\", \"core\", \"corona\", \"coronakrise\", \"corporate\", \"correction\", \"correcto\", \"cost\", \"cost\", \"costbenefit\", \"cotizado\", \"cover\", \"covid\", \"cpf\", \"create\", \"creative\", \"creativity\", \"crisis\", \"critical\", \"cross\", \"crowdfunde\", \"crypto\", \"cura\", \"cure\", \"curious\", \"current\", \"curve\", \"custody\", \"customer\", \"customer\", \"daily\", \"dalam\", \"dapre\", \"date\", \"datum\", \"davon\", \"day\", \"day\", \"dbs\", \"deal\", \"deal\", \"death\", \"debunk\", \"decadeplus\", \"decide\", \"decide\", \"decider\", \"decision\", \"decision\", \"decision\", \"decisive\", \"decline\", \"dedicated\", \"dedicated\", \"deep\", \"defi\", \"definitive\", \"delegate\", \"delve\", \"demand\", \"demand\", \"democratize\", \"democratized\", \"demonstrate\", \"den\", \"dependence\", \"deposit\", \"dept\", \"der\", \"design\", \"design\", \"despreocupa\", \"destruction\", \"detail\", \"determine\", \"deutschland\", \"development\", \"die\", \"differ\", \"difference\", \"difference\", \"differentiate\", \"difficult\", \"dify\", \"digital\", \"digitale\", \"digunakan\", \"dije\", \"dikit\", \"diluluskan\", \"dimensional\", \"dimitrio\", \"direct\", \"directindexe\", \"discount\", \"discuss\", \"disrupt\", \"disrupt\", \"disruption\", \"distribute\", \"dive\", \"diversify\", \"dividend\", \"diy\", \"diy\", \"doityourself\", \"donate\", \"donation\", \"dore\", \"dotdotdot\", \"double\", \"doubledigit\", \"doubleedge\", \"download\", \"drip\", \"drive\", \"drop\", \"drop\", \"drop\", \"dub\", \"due\", \"durante\", \"dwgpr\", \"early\", \"easy\", \"echtgeldt\", \"ecommerce\", \"ecosystem\", \"ect\", \"edge\", \"edition\", \"education\", \"effect\", \"effekthaschend\", \"eine\", \"elect\", \"eliminate\", \"email\", \"emerge\", \"emotionally\", \"emperor\", \"empow\", \"end\", \"endowus\", \"engage\", \"engage\", \"engineering\", \"enhance\", \"enlargement\", \"enlist\", \"enter\", \"enter\", \"enter\", \"entire\", \"epayment\", \"episode\", \"episode\", \"equity\", \"erfullt\", \"erosion\", \"erwerbbar\", \"escalate\", \"esitleniyor\", \"essential\", \"essentially\", \"establish\", \"estate\", \"este\", \"etcansw\", \"etf\", \"etf\", \"etfs\", \"etfsindex\", \"etrade\", \"europe\", \"evolve\", \"exchangetrade\", \"excite\", \"excited\", \"excited\", \"exist\", \"exist\", \"exist\", \"expand\", \"expand\", \"expand\", \"expansion\", \"expect\", \"expect\", \"expense\", \"experience\", \"experience\", \"experimental\", \"expert\", \"expert\", \"expertise\", \"explain\", \"explain\", \"expose\", \"eye\", \"eye\", \"face\", \"facetoface\", \"fact\", \"fact\", \"factor\", \"fail\", \"fall\", \"famafrench\", \"fame\", \"fancy\", \"fast\", \"fast\", \"favor\", \"fdic\", \"feature\", \"featuring\", \"fee\", \"feedback\", \"feel\", \"feel\", \"fend\", \"fi\", \"field\", \"fierce\", \"fight\", \"figure\", \"final\", \"finally\", \"finally\", \"finally\", \"finance\", \"financeira\", \"financial\", \"financial\", \"financial\", \"financially\", \"finanzanlage\", \"finanzlosungen\", \"finanzsektor\", \"fincy\", \"find\", \"find\", \"finder\", \"finect\", \"finet\", \"fintech\", \"fintech\", \"fintech\", \"fireside\", \"firm\", \"fit\", \"flaw\", \"flop\", \"focus\", \"focus\", \"folio\", \"folk\", \"folk\", \"foll\", \"follow\", \"follow\", \"fond\", \"forecast\", \"fotio\", \"founder\", \"fragmentation\", \"framework\", \"frankie\", \"fraud\", \"free\", \"friend\", \"front\", \"fronten\", \"frontline\", \"fruhzeit\", \"fuch\", \"fulfil\", \"fulfill\", \"full\", \"fully\", \"fullyear\", \"fun\", \"function\", \"fund\", \"funding\", \"funding\", \"fundoffund\", \"funny\", \"fur\", \"future\", \"future\", \"gain\", \"gain\", \"game\", \"gap\", \"geldanlage\", \"generation\", \"genuinely\", \"gerade\", \"german\", \"german\", \"gesamten\", \"gestiegen\", \"gestion\", \"gestreute\", \"gezogen\", \"gibt\", \"giggle\", \"give\", \"give\", \"gleich\", \"global\", \"goal\", \"good\", \"good\", \"good\", \"good\", \"good\", \"governance\", \"grapple\", \"great\", \"great\", \"green\", \"group\", \"grow\", \"growth\", \"growth\", \"gro\\u00dfter\", \"guide\", \"gut\", \"gym\", \"habit\", \"halal\", \"halal\", \"happen\", \"happy\", \"hard\", \"harness\", \"harvesting\", \"hash\", \"hat\", \"hav\", \"headtohead\", \"health\", \"hear\", \"heavyweight\", \"hedgefolio\", \"heel\", \"herausragend\", \"hero\", \"heutzutage\", \"high\", \"high\", \"high\", \"highend\", \"highlight\", \"highyield\", \"hilo\", \"hire\", \"history\", \"hnw\", \"hold\", \"honorarberater\", \"hope\", \"hose\", \"hot\", \"hour\", \"hover\", \"huge\", \"human\", \"human\", \"human\", \"hurdle\", \"hybrid\", \"ici\", \"icon\", \"ideal\", \"identify\", \"ifa\", \"illiteracy\", \"impact\", \"impact\", \"imparable\", \"impedir\", \"importance\", \"important\", \"impressive\", \"improve\", \"inch\", \"include\", \"include\", \"include\", \"income\", \"income\", \"incorrectly\", \"increase\", \"increasingly\", \"indecision\", \"independence\", \"independent\", \"index\", \"indexa\", \"indexa\", \"indexarse\", \"indexing\", \"indicator\", \"individual\", \"industry\", \"infocom\", \"inhouse\", \"initiativeacat\", \"inklusive\", \"innovation\", \"innovative\", \"insanely\", \"insert\", \"insight\", \"insight\", \"insight\", \"inspect\", \"institution\", \"institution\", \"insurance\", \"insure\", \"integration\", \"intelligence\", \"intelligent\", \"intend\", \"interactive\", \"interest\", \"interested\", \"interesting\", \"interesting\", \"intermediary\", \"internally\", \"interview\", \"interview\", \"introduce\", \"intuit\", \"inversion\", \"inversione\", \"inversione\", \"invest\", \"invest\", \"investing\", \"investing\", \"investing\", \"investment\", \"investment\", \"investment\", \"investment\", \"investor\", \"investor\", \"investor\", \"investtech\", \"invite\", \"involvement\", \"isa\", \"ishare\", \"issue\", \"ist\", \"ist\", \"jahre\", \"jahre\", \"jemstep\", \"job\", \"join\", \"jump\", \"jump\", \"junior\", \"kampf\", \"kau\", \"key\", \"key\", \"kick\", \"kill\", \"kind\", \"king\", \"kitchen\", \"knee\", \"ladder\", \"lady\", \"lagging\", \"landscape\", \"large\", \"late\", \"launch\", \"launchpad\", \"layman\", \"lazy\", \"lead\", \"league\", \"leap\", \"learn\", \"learn\", \"learn\", \"learn\", \"lebih\", \"legacy\", \"lemission\", \"lending\", \"lending\", \"lesson\", \"letude\", \"lev\", \"level\", \"level\", \"liberi\", \"life\", \"life\", \"light\", \"limitation\", \"link\", \"link\", \"linkedin\", \"linkedin\", \"liquid\", \"list\", \"listening\", \"litecoin\", \"literacy\", \"live\", \"loan\", \"local\", \"lockdown\", \"long\", \"long\", \"long\", \"longanticipate\", \"longterm\", \"lor\", \"lose\", \"lot\", \"love\", \"low\", \"lowcost\", \"lowering\", \"luck\", \"macam\", \"machineadvisor\", \"main\", \"majority\", \"make\", \"make\", \"man\", \"man\", \"man\", \"manage\", \"manage\", \"manage\", \"manage\", \"manager\", \"manager\", \"manager\", \"manipulate\", \"manipulation\", \"manner\", \"manual\", \"marcus\", \"market\", \"marketing\", \"marquee\", \"match\", \"matter\", \"maturity\", \"maupa\", \"mayor\", \"medianfrequency\", \"meet\", \"meet\", \"mejore\", \"melonport\", \"mental\", \"merupakan\", \"mess\", \"metric\", \"microinveste\", \"mikequindazzi\", \"millennial\", \"millennial\", \"millennial\", \"millionaire\", \"mind\", \"mind\", \"miniinvestment\", \"minimum\", \"mint\", \"minute\", \"minute\", \"mix\", \"mix\", \"mlm\", \"mobile\", \"mobile\", \"model\", \"modest\", \"money\", \"money\", \"monitor\", \"month\", \"moorhouse\", \"move\", \"move\", \"move\", \"movement\", \"movie\", \"murder\", \"muslims\", \"mutual\", \"myth\", \"nation\", \"nature\", \"necessarily\", \"nee\", \"needk\", \"neighborhood\", \"neobank\", \"neobanks\", \"neoclassical\", \"nest\", \"nest\", \"nest\", \"nestlum\", \"net\", \"net\", \"netizen\", \"neural\", \"neutral\", \"newbie\", \"news\", \"ngakse\", \"nice\", \"nice\", \"nightcast\", \"nitip\", \"noise\", \"nonetheless\", \"nonfiduciary\", \"nonintimidating\", \"nonkink\", \"notable\", \"nuevo\", \"numerous\", \"nutmeg\", \"objective\", \"obsess\", \"offer\", \"offer\", \"offering\", \"offering\", \"official\", \"oil\", \"ojo\", \"online\", \"online\", \"onlineportal\", \"onlineshop\", \"ooooooo\", \"opcione\", \"opcione\", \"open\", \"open\", \"openinv\", \"operation\", \"opinion\", \"opportunitie\", \"opportunity\", \"option\", \"optionality\", \"original\", \"original\", \"outline\", \"outperform\", \"outreach\", \"overcharge\", \"overdue\", \"oversaturate\", \"overwhelm\", \"owner\", \"pace\", \"paise\", \"pake\", \"pandemic\", \"paper\", \"parasite\", \"pare\", \"parece\", \"parent\", \"parking\", \"part\", \"partner\", \"pascal\", \"pasear\", \"passive\", \"passive\", \"passive\", \"passively\", \"path\", \"pauper\", \"pay\", \"payment\", \"pdf\", \"peer\", \"pelaburan\", \"pension\", \"pente\", \"people\", \"peopleadvisor\", \"percent\", \"percolate\", \"perfect\", \"perform\", \"performance\", \"performance\", \"performant\", \"period\", \"personal\", \"personal\", \"personal\", \"personalizado\", \"personalize\", \"personalmente\", \"perspire\", \"pertinence\", \"petronas\", \"pick\", \"pick\", \"pick\", \"picker\", \"pie\", \"pie\", \"piece\", \"pilot\", \"pitfall\", \"pixabay\", \"place\", \"plan\", \"plan\", \"planner\", \"planning\", \"platform\", \"platform\", \"play\", \"player\", \"player\", \"pleased\", \"plunge\", \"pm\", \"pnb\", \"podcast\", \"point\", \"point\", \"point\", \"pomoc\", \"popular\", \"popular\", \"popularitat\", \"popularity\", \"portfolio\", \"portfolio\", \"portfoliobase\", \"portugue\", \"position\", \"positive\", \"possibly\", \"post\", \"potential\", \"potential\", \"power\", \"power\", \"powerful\", \"prefer\", \"premium\", \"prepare\", \"prepare\", \"present\", \"present\", \"present\", \"pressure\", \"pretty\", \"price\", \"principalonly\", \"priority\", \"private\", \"private\", \"pro\", \"probability\", \"problem\", \"process\", \"process\", \"product\", \"product\", \"professional\", \"professional\", \"profit\", \"profitable\", \"profound\", \"prognose\", \"program\", \"project\", \"promise\", \"promise\", \"properly\", \"prosperity\", \"proud\", \"provide\", \"provider\", \"provoke\", \"prozent\", \"psycho\", \"publish\", \"publish\", \"publish\", \"punya\", \"pure\", \"push\", \"put\", \"put\", \"qualify\", \"quarter\", \"question\", \"quickly\", \"race\", \"raise\", \"raise\", \"rank\", \"ranking\", \"ranking\", \"ranking\", \"ranking\", \"rapidly\", \"rate\", \"rate\", \"ray\", \"ray\", \"reach\", \"react\", \"read\", \"read\", \"read\", \"read\", \"readm\", \"ready\", \"ready\", \"reagiert\", \"real\", \"reality\", \"realization\", \"realize\", \"realtime\", \"reason\", \"rebalance\", \"recede\", \"receive\", \"recent\", \"recent\", \"recently\", \"recommend\", \"recommend\", \"record\", \"reduce\", \"reduce\", \"redundant\", \"refiere\", \"regime\", \"register\", \"register\", \"regulator\", \"regulatory\", \"regulatory\", \"rein\", \"reit\", \"rekene\", \"relationship\", \"relative\", \"release\", \"relevant\", \"rely\", \"remain\", \"remain\", \"remake\", \"remind\", \"reminder\", \"remote\", \"renforce\", \"replace\", \"replace\", \"report\", \"reportedly\", \"reporter\", \"research\", \"reshape\", \"resource\", \"resource\", \"responsible\", \"responsible\", \"responsive\", \"result\", \"result\", \"retail\", \"retention\", \"retire\", \"retirement\", \"retirement\", \"retraite\", \"retreat\", \"return\", \"reveal\", \"review\", \"review\", \"reviewfree\", \"revolution\", \"reward\", \"rewarding\", \"ria\", \"ria\", \"rich\", \"ringfence\", \"rip\", \"ripe\", \"rise\", \"rise\", \"rise\", \"risk\", \"riskmanagement\", \"robeadvisor\", \"robo\", \"robo\", \"robo\", \"robo\", \"roboadvice\", \"roboadvise\", \"roboadviser\", \"roboadviser\", \"roboadvisor\", \"roboadvisor\", \"roboadvisor\", \"roboadvisor\", \"roboadvisor\", \"roboadvisor\", \"roboadvisor\", \"roboadvisor\", \"roboadvisor\", \"roboadvisory\", \"roboadvisory\", \"roboadvisory\", \"roboroute\", \"robos\", \"robos\", \"robos\", \"robot\", \"robotadvisor\", \"roboter\", \"rocket\", \"role\", \"roll\", \"roller\", \"ror\", \"roughly\", \"round\", \"rrsp\", \"rrsp\", \"rt\", \"run\", \"run\", \"sad\", \"salarie\", \"salesme\", \"satisfy\", \"save\", \"saver\", \"saving\", \"scalable\", \"scalable\", \"scalable\", \"scalable\", \"scam\", \"scarce\", \"scary\", \"schawb\", \"schlechteste\", \"schwab\", \"schweiz\", \"scrape\", \"screen\", \"scrutiny\", \"season\", \"sector\", \"secure\", \"security\", \"seek\", \"segment\", \"segment\", \"select\", \"select\", \"select\", \"selfdirecte\", \"selfdirecte\", \"selfdirecte\", \"selfdrive\", \"selfmanage\", \"sell\", \"sell\", \"seller\", \"semble\", \"send\", \"sense\", \"sense\", \"sentence\", \"sequoia\", \"serie\", \"series\", \"series\", \"serve\", \"service\", \"service\", \"set\", \"sexy\", \"share\", \"shariacompliant\", \"sharp\", \"sharply\", \"shed\", \"shift\", \"shift\", \"shift\", \"shit\", \"shock\", \"shoddy\", \"shortfall\", \"show\", \"shut\", \"side\", \"sie\", \"sign\", \"sign\", \"signal\", \"significant\", \"significantly\", \"silver\", \"similaritie\", \"simple\", \"simple\", \"simplemente\", \"simplify\", \"sind\", \"sind\", \"single\", \"singledigit\", \"sinken\", \"siri\", \"site\", \"sizable\", \"size\", \"skill\", \"skinner\", \"skyrocket\", \"slog\", \"slowly\", \"sma\", \"small\", \"smart\", \"smart\", \"smart\", \"smartly\", \"smb\", \"social\", \"socially\", \"socially\", \"sofort\", \"software\", \"solution\", \"solutiondigital\", \"solve\", \"son\", \"son\", \"souligne\", \"sound\", \"space\", \"sparbuch\", \"sparplane\", \"speak\", \"speak\", \"speculator\", \"spend\", \"spot\", \"sq\", \"squeezer\", \"stack\", \"stage\", \"stake\", \"staking\", \"start\", \"start\", \"startup\", \"stat\", \"state\", \"statistachart\", \"stay\", \"stay\", \"steemusd\", \"step\", \"step\", \"step\", \"sterling\", \"stick\", \"stock\", \"stock\", \"stock\", \"stop\", \"stop\", \"story\", \"story\", \"strategic\", \"strategy\", \"stress\", \"struggle\", \"study\", \"study\", \"sturzen\", \"subscription\", \"success\", \"sucorinv\", \"suggest\", \"suggest\", \"suggest\", \"suggest\", \"suit\", \"suka\", \"summarize\", \"super\", \"superiore\", \"support\", \"support\", \"support\", \"surge\", \"surprised\", \"surprised\", \"surprising\", \"surprising\", \"survey\", \"survive\", \"suscriptore\", \"sustain\", \"sustainable\", \"swift\", \"switch\", \"system\", \"systematic\", \"tactic\", \"tad\", \"takeaway\", \"talk\", \"target\", \"tax\", \"tax\", \"tax\", \"taxable\", \"taxfree\", \"tds\", \"teach\", \"team\", \"tear\", \"tech\", \"techcrunch\", \"technological\", \"technology\", \"technopessimist\", \"tempt\", \"tenant\", \"term\", \"terminate\", \"terrible\", \"test\", \"test\", \"testsieger\", \"teuer\", \"texte\", \"texte\", \"theo\", \"theory\", \"thing\", \"thing\", \"thing\", \"thinkadvisor\", \"thorn\", \"thought\", \"thought\", \"threat\", \"ti\", \"tiaa\", \"tiene\", \"time\", \"time\", \"timeline\", \"timely\", \"timer\", \"timmerman\", \"tiny\", \"tip\", \"today\", \"toehold\", \"tomorrow\", \"tomorrow\", \"tonight\", \"tool\", \"tool\", \"top\", \"top\", \"top\", \"topic\", \"topical\", \"total\", \"total\", \"total\", \"total\", \"touch\", \"tough\", \"tourmente\", \"tower\", \"trade\", \"trade\", \"trading\", \"trading\", \"trading\", \"traditional\", \"train\", \"training\", \"transfer\", \"transform\", \"trap\", \"tree\", \"trend\", \"trl\", \"true\", \"true\", \"true\", \"trust\", \"trust\", \"tune\", \"turmoil\", \"turn\", \"turn\", \"turnout\", \"twinkie\", \"twist\", \"type\", \"typical\", \"typical\", \"uae\", \"ugly\", \"uis\", \"ultimate\", \"ultimately\", \"unabhangige\", \"unagii\", \"uncertainty\", \"unconventional\", \"und\", \"underlie\", \"underlying\", \"underperform\", \"underperform\", \"understand\", \"understand\", \"union\", \"unit\", \"unnecessary\", \"untrue\", \"untuk\", \"unveil\", \"update\", \"update\", \"upheaval\", \"uptodate\", \"usaxoogler\", \"user\", \"userface\", \"valuable\", \"vanguard\", \"variant\", \"vario\", \"varyie\", \"verglichen\", \"verification\", \"verkauf\", \"vertriebstool\", \"verwalten\", \"video\", \"vielgepriesenen\", \"volatility\", \"vore\", \"vote\", \"voten\", \"vous\", \"vtb\", \"vti\", \"vuv\", \"wahe\", \"wahed\", \"wahed\", \"wahedinv\", \"wait\", \"waitlist\", \"waive\", \"walk\", \"war\", \"wasdevastate\", \"watch\", \"wave\", \"wealthfront\", \"wealthsimple\", \"weathsimple\", \"webinar\", \"website\", \"week\", \"week\", \"week\", \"weekend\", \"weekend\", \"weekly\", \"wegklicken\", \"weigh\", \"wertpapiere\", \"wholly\", \"wichtigsten\", \"win\", \"win\", \"win\", \"woher\", \"wohl\", \"woman\", \"wonderful\", \"work\", \"work\", \"work\", \"world\", \"worldwide\", \"worry\", \"worry\", \"wort\", \"worth\", \"worth\", \"wrap\", \"write\", \"write\", \"wrong\", \"wrong\", \"yapping\", \"year\", \"year\", \"year\", \"year\", \"yesterday\", \"yield\", \"young\", \"yrold\", \"ytd\", \"zeiten\", \"\\u0e01\\u0e01\\u0e32\\u0e23\\u0e40\\u0e07\", \"\\u0e02\\u0e2d\\u0e07\\u0e41\\u0e1a\\u0e1a\\u0e19\", \"\\u0e22\\u0e04\\u0e30\", \"\\u0e40\\u0e2b\\u0e23\\u0e2d\"]}, \"R\": 30, \"lambda.step\": 0.01, \"plot.opts\": {\"xlab\": \"PC1\", \"ylab\": \"PC2\"}, \"topic.order\": [1, 2, 3, 4, 5, 6, 7, 8, 9, 10, 11, 12, 13, 14, 15, 16, 17, 18, 19, 20]};\n",
       "\n",
       "function LDAvis_load_lib(url, callback){\n",
       "  var s = document.createElement('script');\n",
       "  s.src = url;\n",
       "  s.async = true;\n",
       "  s.onreadystatechange = s.onload = callback;\n",
       "  s.onerror = function(){console.warn(\"failed to load library \" + url);};\n",
       "  document.getElementsByTagName(\"head\")[0].appendChild(s);\n",
       "}\n",
       "\n",
       "if(typeof(LDAvis) !== \"undefined\"){\n",
       "   // already loaded: just create the visualization\n",
       "   !function(LDAvis){\n",
       "       new LDAvis(\"#\" + \"ldavis_el28872112721850064617027523\", ldavis_el28872112721850064617027523_data);\n",
       "   }(LDAvis);\n",
       "}else if(typeof define === \"function\" && define.amd){\n",
       "   // require.js is available: use it to load d3/LDAvis\n",
       "   require.config({paths: {d3: \"https://cdnjs.cloudflare.com/ajax/libs/d3/3.5.5/d3.min\"}});\n",
       "   require([\"d3\"], function(d3){\n",
       "      window.d3 = d3;\n",
       "      LDAvis_load_lib(\"https://cdn.rawgit.com/bmabey/pyLDAvis/files/ldavis.v1.0.0.js\", function(){\n",
       "        new LDAvis(\"#\" + \"ldavis_el28872112721850064617027523\", ldavis_el28872112721850064617027523_data);\n",
       "      });\n",
       "    });\n",
       "}else{\n",
       "    // require.js not available: dynamically load d3 & LDAvis\n",
       "    LDAvis_load_lib(\"https://cdnjs.cloudflare.com/ajax/libs/d3/3.5.5/d3.min.js\", function(){\n",
       "         LDAvis_load_lib(\"https://cdn.rawgit.com/bmabey/pyLDAvis/files/ldavis.v1.0.0.js\", function(){\n",
       "                 new LDAvis(\"#\" + \"ldavis_el28872112721850064617027523\", ldavis_el28872112721850064617027523_data);\n",
       "            })\n",
       "         });\n",
       "}\n",
       "</script>"
      ],
      "text/plain": [
       "<IPython.core.display.HTML object>"
      ]
     },
     "execution_count": 40,
     "metadata": {},
     "output_type": "execute_result"
    }
   ],
   "source": [
    "import pyLDAvis.gensim\n",
    "lda_display = pyLDAvis.gensim.prepare(gensim_model, corpus, id2word, sort_topics=False)\n",
    "pyLDAvis.display(lda_display)"
   ]
  },
  {
   "cell_type": "markdown",
   "metadata": {},
   "source": [
    "# Frequency Analysis"
   ]
  },
  {
   "cell_type": "code",
   "execution_count": 36,
   "metadata": {},
   "outputs": [],
   "source": [
    "w_tokenizer = nltk.tokenize.WhitespaceTokenizer()\n",
    "lemmatizer = nltk.stem.WordNetLemmatizer()\n",
    "\n",
    "def lemmatize_text(text):\n",
    "  return [lemmatizer.lemmatize(w) for w in w_tokenizer.tokenize(text)]\n",
    "\n",
    "\n",
    "\n",
    "tweets['text_lemmatized_tokens'] = tweets.sw_clean.apply(lemmatize_text)"
   ]
  },
  {
   "cell_type": "code",
   "execution_count": 37,
   "metadata": {},
   "outputs": [],
   "source": [
    "tweets_copy3=tweets.copy()\n",
    "\n",
    "corpus = []\n",
    "new = tweets_copy3['text_lemmatized_tokens'].values.tolist()\n",
    "corpus = [word for i in new for word in i]"
   ]
  },
  {
   "cell_type": "code",
   "execution_count": 33,
   "metadata": {},
   "outputs": [
    {
     "data": {
      "text/plain": [
       "<matplotlib.axes._subplots.AxesSubplot at 0x1a2e920a10>"
      ]
     },
     "execution_count": 33,
     "metadata": {},
     "output_type": "execute_result"
    },
    {
     "data": {
      "image/png": "[encoded data removed]",
      "text/plain": [
       "<Figure size 432x288 with 1 Axes>"
      ]
     },
     "metadata": {
      "needs_background": "light"
     },
     "output_type": "display_data"
    }
   ],
   "source": [
    "counter = Counter(corpus)\n",
    "most = counter.most_common()\n",
    "\n",
    "x, y= [], []\n",
    "j, k= [], []\n",
    "\n",
    "for word,count in most[:30]:\n",
    "    if (word not in final_stop_words):\n",
    "            x.append(word)\n",
    "            y.append(count)\n",
    "        \n",
    "for word,count in most[:]:\n",
    "    if (word not in final_stop_words):\n",
    "        j.append(word)\n",
    "        k.append(count)\n",
    "        \n",
    "sns.barplot(x = y, y = x)"
   ]
  },
  {
   "cell_type": "code",
   "execution_count": 34,
   "metadata": {},
   "outputs": [],
   "source": [
    "combined_frequency = list(zip(j,k))\n",
    "with open('blank.csv','w') as out:\n",
    "    csv_out=csv.writer(out)\n",
    "    csv_out.writerow(['word','frequency'])\n",
    "    csv_out.writerows(combined_frequency)"
   ]
  },
  {
   "cell_type": "code",
   "execution_count": 35,
   "metadata": {},
   "outputs": [],
   "source": [
    "from nltk.util import ngrams\n",
    "from sklearn.feature_extraction.text import CountVectorizer\n",
    "def get_top_ngram(corpus, n=None):\n",
    "    vec = CountVectorizer(ngram_range=(n, n)).fit(corpus)\n",
    "    bag_of_words = vec.transform(corpus)\n",
    "    sum_words = bag_of_words.sum(axis=0) \n",
    "    words_freq = [(word, sum_words[0, idx]) \n",
    "                  for word, idx in vec.vocabulary_.items()]\n",
    "    words_freq =sorted(words_freq, key = lambda x: x[1], reverse=True)\n",
    "    return words_freq[:100]"
   ]
  },
  {
   "cell_type": "code",
   "execution_count": 36,
   "metadata": {},
   "outputs": [
    {
     "data": {
      "text/plain": [
       "<matplotlib.axes._subplots.AxesSubplot at 0x1a2eb1ffd0>"
      ]
     },
     "execution_count": 36,
     "metadata": {},
     "output_type": "execute_result"
    },
    {
     "data": {
      "image/png": "[encoded data removed]",
      "text/plain": [
       "<Figure size 432x288 with 1 Axes>"
      ]
     },
     "metadata": {
      "needs_background": "light"
     },
     "output_type": "display_data"
    }
   ],
   "source": [
    "top_n_bigrams=get_top_ngram(tweets['sw_clean'],2)[:20]\n",
    "all_n_bigrams=get_top_ngram(tweets['sw_clean'],2)\n",
    "x,y=map(list,zip(*top_n_bigrams))\n",
    "j,k=map(list,zip(*all_n_bigrams))\n",
    "sns.barplot(x=y,y=x)"
   ]
  },
  {
   "cell_type": "code",
   "execution_count": 37,
   "metadata": {},
   "outputs": [],
   "source": [
    "phrase_freq = list(zip(j,k))\n",
    "\n",
    "with open('rb_bi-gram.csv','w') as out:\n",
    "    csv_out=csv.writer(out)\n",
    "    csv_out.writerow(['phrase','frequency'])\n",
    "    csv_out.writerows(phrase_freq)"
   ]
  },
  {
   "cell_type": "code",
   "execution_count": 38,
   "metadata": {},
   "outputs": [
    {
     "data": {
      "text/plain": [
       "<matplotlib.axes._subplots.AxesSubplot at 0x1a2ed348d0>"
      ]
     },
     "execution_count": 38,
     "metadata": {},
     "output_type": "execute_result"
    },
    {
     "data": {
      "image/png": "[encoded data removed]",
      "text/plain": [
       "<Figure size 432x288 with 1 Axes>"
      ]
     },
     "metadata": {
      "needs_background": "light"
     },
     "output_type": "display_data"
    }
   ],
   "source": [
    "top_n_trigrams=get_top_ngram(tweets['sw_clean'],3)[:20]\n",
    "all_n_trigrams=get_top_ngram(tweets['sw_clean'],3)\n",
    "x,y=map(list,zip(*top_n_trigrams))\n",
    "j,k=map(list,zip(*all_n_trigrams))\n",
    "sns.barplot(x=y,y=x)"
   ]
  },
  {
   "cell_type": "code",
   "execution_count": 39,
   "metadata": {},
   "outputs": [],
   "source": [
    "phrase_freq = list(zip(j,k))\n",
    "\n",
    "with open('rb_tri-gram.csv','w') as out:\n",
    "    csv_out=csv.writer(out)\n",
    "    csv_out.writerow(['phrase','frequency'])\n",
    "    csv_out.writerows(phrase_freq)"
   ]
  },
  {
   "cell_type": "markdown",
   "metadata": {},
   "source": [
    "# Key word based Analysis"
   ]
  },
  {
   "cell_type": "code",
   "execution_count": 38,
   "metadata": {},
   "outputs": [
    {
     "name": "stderr",
     "output_type": "stream",
     "text": [
      "//anaconda3/lib/python3.7/site-packages/ipykernel_launcher.py:4: SettingWithCopyWarning: \n",
      "A value is trying to be set on a copy of a slice from a DataFrame.\n",
      "Try using .loc[row_indexer,col_indexer] = value instead\n",
      "\n",
      "See the caveats in the documentation: https://pandas.pydata.org/pandas-docs/stable/user_guide/indexing.html#returning-a-view-versus-a-copy\n",
      "  after removing the cwd from sys.path.\n",
      "//anaconda3/lib/python3.7/site-packages/pandas/core/generic.py:5303: SettingWithCopyWarning: \n",
      "A value is trying to be set on a copy of a slice from a DataFrame.\n",
      "Try using .loc[row_indexer,col_indexer] = value instead\n",
      "\n",
      "See the caveats in the documentation: https://pandas.pydata.org/pandas-docs/stable/user_guide/indexing.html#returning-a-view-versus-a-copy\n",
      "  self[name] = value\n"
     ]
    }
   ],
   "source": [
    "#keywords = ['betterment','wealthsimple','schwab','wealthfront','morgan stanley','goldman sachs']\n",
    "keywords=['arctic']\n",
    "df1=tweets_copy3[tweets_copy3.text.apply(lambda x: any(substring in x for substring in keywords))]\n",
    "df1['type']=''\n",
    "df1.type=df1['type'].astype(str)"
   ]
  },
  {
   "cell_type": "code",
   "execution_count": 41,
   "metadata": {},
   "outputs": [
    {
     "name": "stderr",
     "output_type": "stream",
     "text": [
      "//anaconda3/lib/python3.7/site-packages/ipykernel_launcher.py:4: SettingWithCopyWarning: \n",
      "A value is trying to be set on a copy of a slice from a DataFrame.\n",
      "Try using .loc[row_indexer,col_indexer] = value instead\n",
      "\n",
      "See the caveats in the documentation: https://pandas.pydata.org/pandas-docs/stable/user_guide/indexing.html#returning-a-view-versus-a-copy\n",
      "  after removing the cwd from sys.path.\n"
     ]
    }
   ],
   "source": [
    "frames=[]\n",
    "for k in keywords:\n",
    "    df2=df1[df1.text.str.contains(k)]\n",
    "    df2['type']=k\n",
    "    frames.append(df2)\n",
    "df_final=pd.concat(frames)"
   ]
  },
  {
   "cell_type": "code",
   "execution_count": 40,
   "metadata": {},
   "outputs": [],
   "source": [
    "df1.to_csv('arctic.csv')"
   ]
  },
  {
   "cell_type": "code",
   "execution_count": 39,
   "metadata": {},
   "outputs": [
    {
     "data": {
      "text/plain": [
       "(217, 16)"
      ]
     },
     "execution_count": 39,
     "metadata": {},
     "output_type": "execute_result"
    }
   ],
   "source": [
    "df1.shape"
   ]
  },
  {
   "cell_type": "code",
   "execution_count": 44,
   "metadata": {},
   "outputs": [],
   "source": [
    "avg_polarity = list()\n",
    "num_texts = list()\n",
    "\n",
    "for word in keywords:\n",
    "    avg_polarity.append(tweets_copy3[tweets_copy3['text'].str.contains(word)]['polarity'].mean())\n",
    "    num_texts.append(len(tweets_copy3[tweets_copy3['text'].str.contains(word)]))"
   ]
  },
  {
   "cell_type": "code",
   "execution_count": 45,
   "metadata": {},
   "outputs": [],
   "source": [
    "word_analysis = pd.DataFrame()\n",
    "word_analysis['keywords'] = keywords\n",
    "word_analysis['avg_polarity'] = avg_polarity\n",
    "word_analysis['num_texts'] = num_texts\n",
    "\n",
    "word_analysis= word_analysis.sort_values(by = ['avg_polarity'],ascending = True)\n",
    "word_analysis.reset_index(inplace = True)\n",
    "word_analysis.drop('index',axis = 1,inplace = True)"
   ]
  },
  {
   "cell_type": "code",
   "execution_count": 46,
   "metadata": {},
   "outputs": [
    {
     "data": {
      "text/html": [
       "<div>\n",
       "<style scoped>\n",
       "    .dataframe tbody tr th:only-of-type {\n",
       "        vertical-align: middle;\n",
       "    }\n",
       "\n",
       "    .dataframe tbody tr th {\n",
       "        vertical-align: top;\n",
       "    }\n",
       "\n",
       "    .dataframe thead th {\n",
       "        text-align: right;\n",
       "    }\n",
       "</style>\n",
       "<table border=\"1\" class=\"dataframe\">\n",
       "  <thead>\n",
       "    <tr style=\"text-align: right;\">\n",
       "      <th></th>\n",
       "      <th>keywords</th>\n",
       "      <th>avg_polarity</th>\n",
       "      <th>num_texts</th>\n",
       "    </tr>\n",
       "  </thead>\n",
       "  <tbody>\n",
       "    <tr>\n",
       "      <th>0</th>\n",
       "      <td>goldman sachs</td>\n",
       "      <td>0.082946</td>\n",
       "      <td>94</td>\n",
       "    </tr>\n",
       "    <tr>\n",
       "      <th>1</th>\n",
       "      <td>morgan stanley</td>\n",
       "      <td>0.209596</td>\n",
       "      <td>3</td>\n",
       "    </tr>\n",
       "    <tr>\n",
       "      <th>2</th>\n",
       "      <td>wealthsimple</td>\n",
       "      <td>0.212793</td>\n",
       "      <td>349</td>\n",
       "    </tr>\n",
       "    <tr>\n",
       "      <th>3</th>\n",
       "      <td>wealthfront</td>\n",
       "      <td>0.225383</td>\n",
       "      <td>270</td>\n",
       "    </tr>\n",
       "    <tr>\n",
       "      <th>4</th>\n",
       "      <td>betterment</td>\n",
       "      <td>0.248500</td>\n",
       "      <td>533</td>\n",
       "    </tr>\n",
       "    <tr>\n",
       "      <th>5</th>\n",
       "      <td>schwab</td>\n",
       "      <td>0.365928</td>\n",
       "      <td>213</td>\n",
       "    </tr>\n",
       "  </tbody>\n",
       "</table>\n",
       "</div>"
      ],
      "text/plain": [
       "         keywords  avg_polarity  num_texts\n",
       "0   goldman sachs      0.082946         94\n",
       "1  morgan stanley      0.209596          3\n",
       "2    wealthsimple      0.212793        349\n",
       "3     wealthfront      0.225383        270\n",
       "4      betterment      0.248500        533\n",
       "5          schwab      0.365928        213"
      ]
     },
     "execution_count": 46,
     "metadata": {},
     "output_type": "execute_result"
    }
   ],
   "source": [
    "word_analysis"
   ]
  },
  {
   "cell_type": "code",
   "execution_count": 47,
   "metadata": {},
   "outputs": [
    {
     "data": {
      "text/plain": [
       "Text(0.5, 1.0, 'The average polarity of all Tweets containing a keyword')"
      ]
     },
     "execution_count": 47,
     "metadata": {},
     "output_type": "execute_result"
    },
    {
     "data": {
      "image/png": "[encoded data removed]",
      "text/plain": [
       "<Figure size 360x576 with 1 Axes>"
      ]
     },
     "metadata": {
      "needs_background": "light"
     },
     "output_type": "display_data"
    }
   ],
   "source": [
    "positive = word_analysis[word_analysis['avg_polarity']>0.2].index\n",
    "mild = word_analysis[(word_analysis['avg_polarity']>=0) &(word_analysis['avg_polarity']<=0.2)].index\n",
    "negative= word_analysis[word_analysis['avg_polarity']<0].index\n",
    "fig, ax = plt.subplots(figsize=(5,8))\n",
    "barlist =plt.barh(range(len(word_analysis['avg_polarity'])), word_analysis['avg_polarity'],color = 'grey')\n",
    "ax.set_yticks(range(len(word_analysis['avg_polarity'])))\n",
    "ax.set_yticklabels(word_analysis['keywords'])\n",
    "plt.rc('xtick', labelsize=10) \n",
    "for word in positive:\n",
    "    barlist[word].set_color('lightcoral')\n",
    "for word in mild:\n",
    "    barlist[word].set_color('rosybrown')\n",
    "for word in negative:\n",
    "    barlist[word].set_color('grey')\n",
    "plt.title('The average polarity of all Tweets containing a keyword')"
   ]
  },
  {
   "cell_type": "markdown",
   "metadata": {},
   "source": [
    "## Negative sentiments Analysis"
   ]
  },
  {
   "cell_type": "code",
   "execution_count": 48,
   "metadata": {},
   "outputs": [],
   "source": [
    "avg_polarity = list()\n",
    "num_texts = list()\n",
    "\n",
    "for word in keywords:\n",
    "    avg_polarity.append(tweets_copy3[tweets_copy3['text'].str.contains(word)]['Negative'].mean())\n",
    "    num_texts.append(len(tweets_copy3[tweets_copy3['text'].str.contains(word)]))"
   ]
  },
  {
   "cell_type": "code",
   "execution_count": 49,
   "metadata": {},
   "outputs": [],
   "source": [
    "word_analysis = pd.DataFrame()\n",
    "word_analysis['keywords'] = keywords\n",
    "word_analysis['avg_polarity'] = avg_polarity\n",
    "word_analysis['num_texts'] = num_texts\n",
    "\n",
    "word_analysis= word_analysis.sort_values(by = ['avg_polarity'],ascending = True)\n",
    "word_analysis.reset_index(inplace = True)\n",
    "word_analysis.drop('index',axis = 1,inplace = True)"
   ]
  },
  {
   "cell_type": "code",
   "execution_count": 50,
   "metadata": {},
   "outputs": [
    {
     "data": {
      "text/html": [
       "<div>\n",
       "<style scoped>\n",
       "    .dataframe tbody tr th:only-of-type {\n",
       "        vertical-align: middle;\n",
       "    }\n",
       "\n",
       "    .dataframe tbody tr th {\n",
       "        vertical-align: top;\n",
       "    }\n",
       "\n",
       "    .dataframe thead th {\n",
       "        text-align: right;\n",
       "    }\n",
       "</style>\n",
       "<table border=\"1\" class=\"dataframe\">\n",
       "  <thead>\n",
       "    <tr style=\"text-align: right;\">\n",
       "      <th></th>\n",
       "      <th>keywords</th>\n",
       "      <th>avg_polarity</th>\n",
       "      <th>num_texts</th>\n",
       "    </tr>\n",
       "  </thead>\n",
       "  <tbody>\n",
       "    <tr>\n",
       "      <th>0</th>\n",
       "      <td>morgan stanley</td>\n",
       "      <td>0.000000</td>\n",
       "      <td>3</td>\n",
       "    </tr>\n",
       "    <tr>\n",
       "      <th>1</th>\n",
       "      <td>goldman sachs</td>\n",
       "      <td>0.006734</td>\n",
       "      <td>94</td>\n",
       "    </tr>\n",
       "    <tr>\n",
       "      <th>2</th>\n",
       "      <td>wealthfront</td>\n",
       "      <td>0.025085</td>\n",
       "      <td>270</td>\n",
       "    </tr>\n",
       "    <tr>\n",
       "      <th>3</th>\n",
       "      <td>betterment</td>\n",
       "      <td>0.054865</td>\n",
       "      <td>533</td>\n",
       "    </tr>\n",
       "    <tr>\n",
       "      <th>4</th>\n",
       "      <td>wealthsimple</td>\n",
       "      <td>0.068444</td>\n",
       "      <td>349</td>\n",
       "    </tr>\n",
       "    <tr>\n",
       "      <th>5</th>\n",
       "      <td>schwab</td>\n",
       "      <td>0.076465</td>\n",
       "      <td>213</td>\n",
       "    </tr>\n",
       "  </tbody>\n",
       "</table>\n",
       "</div>"
      ],
      "text/plain": [
       "         keywords  avg_polarity  num_texts\n",
       "0  morgan stanley      0.000000          3\n",
       "1   goldman sachs      0.006734         94\n",
       "2     wealthfront      0.025085        270\n",
       "3      betterment      0.054865        533\n",
       "4    wealthsimple      0.068444        349\n",
       "5          schwab      0.076465        213"
      ]
     },
     "execution_count": 50,
     "metadata": {},
     "output_type": "execute_result"
    }
   ],
   "source": [
    "word_analysis"
   ]
  },
  {
   "cell_type": "code",
   "execution_count": 51,
   "metadata": {},
   "outputs": [
    {
     "data": {
      "text/plain": [
       "Text(0.5, 1.0, 'The average polarity of all Tweets containing a keyword')"
      ]
     },
     "execution_count": 51,
     "metadata": {},
     "output_type": "execute_result"
    },
    {
     "data": {
      "image/png": "[encoded data removed]",
      "text/plain": [
       "<Figure size 360x576 with 1 Axes>"
      ]
     },
     "metadata": {
      "needs_background": "light"
     },
     "output_type": "display_data"
    }
   ],
   "source": [
    "high = word_analysis[word_analysis['avg_polarity']>0.2].index\n",
    "mild = word_analysis[(word_analysis['avg_polarity']>=0) &(word_analysis['avg_polarity']<=0.2)].index\n",
    "low= word_analysis[word_analysis['avg_polarity']<0].index\n",
    "fig, ax = plt.subplots(figsize=(5,8))\n",
    "barlist =plt.barh(range(len(word_analysis['avg_polarity'])), word_analysis['avg_polarity'],color = 'grey')\n",
    "ax.set_yticks(range(len(word_analysis['avg_polarity'])))\n",
    "ax.set_yticklabels(word_analysis['keywords'])\n",
    "plt.rc('xtick', labelsize=10) \n",
    "for word in high:\n",
    "    barlist[word].set_color('lightcoral')\n",
    "for word in mild:\n",
    "    barlist[word].set_color('rosybrown')\n",
    "for word in low:\n",
    "    barlist[word].set_color('grey')\n",
    "plt.title('The average polarity of all Tweets containing a keyword')"
   ]
  },
  {
   "cell_type": "markdown",
   "metadata": {},
   "source": [
    "# covid"
   ]
  },
  {
   "cell_type": "code",
   "execution_count": 71,
   "metadata": {},
   "outputs": [],
   "source": [
    "keywords = ['covid','coronavirus','corona','virus','cvd']\n",
    "df2=tweets_copy3[tweets_copy3.text.apply(lambda x: any(substring in x for substring in keywords))]"
   ]
  },
  {
   "cell_type": "code",
   "execution_count": 72,
   "metadata": {},
   "outputs": [
    {
     "data": {
      "text/plain": [
       "(134, 15)"
      ]
     },
     "execution_count": 72,
     "metadata": {},
     "output_type": "execute_result"
    }
   ],
   "source": [
    "df2.shape"
   ]
  },
  {
   "cell_type": "code",
   "execution_count": 73,
   "metadata": {},
   "outputs": [],
   "source": [
    "df2.to_csv('covid_rb.csv')"
   ]
  },
  {
   "cell_type": "code",
   "execution_count": 74,
   "metadata": {},
   "outputs": [],
   "source": [
    "df3=tweets_copy3[tweets_copy3.text.str.contains('betterment vs')]"
   ]
  },
  {
   "cell_type": "code",
   "execution_count": 75,
   "metadata": {},
   "outputs": [],
   "source": [
    "df3.to_csv('betterment vs.csv')"
   ]
  },
  {
   "cell_type": "code",
   "execution_count": 76,
   "metadata": {},
   "outputs": [
    {
     "name": "stderr",
     "output_type": "stream",
     "text": [
      "//anaconda3/lib/python3.7/site-packages/ipykernel_launcher.py:6: SettingWithCopyWarning: \n",
      "A value is trying to be set on a copy of a slice from a DataFrame.\n",
      "Try using .loc[row_indexer,col_indexer] = value instead\n",
      "\n",
      "See the caveats in the documentation: https://pandas.pydata.org/pandas-docs/stable/user_guide/indexing.html#returning-a-view-versus-a-copy\n",
      "  \n"
     ]
    }
   ],
   "source": [
    "keywords = ['schwab','ameritrade','wealthfront']\n",
    "\n",
    "frames=[]\n",
    "for k in keywords:\n",
    "    df4=df3[df3.text.str.contains(k)]\n",
    "    df3['type']=k\n",
    "    frames.append(df4)\n",
    "df_final=pd.concat(frames)"
   ]
  },
  {
   "cell_type": "code",
   "execution_count": 82,
   "metadata": {},
   "outputs": [
    {
     "data": {
      "text/plain": [
       "schwab        54\n",
       "ameritrade    42\n",
       "Name: type, dtype: int64"
      ]
     },
     "execution_count": 82,
     "metadata": {},
     "output_type": "execute_result"
    }
   ],
   "source": [
    "df_final.type.value_counts()"
   ]
  },
  {
   "cell_type": "code",
   "execution_count": 83,
   "metadata": {},
   "outputs": [
    {
     "data": {
      "text/plain": [
       "38"
      ]
     },
     "execution_count": 83,
     "metadata": {},
     "output_type": "execute_result"
    }
   ],
   "source": [
    "134-54-42"
   ]
  },
  {
   "cell_type": "code",
   "execution_count": null,
   "metadata": {},
   "outputs": [],
   "source": []
  }
 ],
 "metadata": {
  "kernelspec": {
   "display_name": "Python 3",
   "language": "python",
   "name": "python3"
  },
  "language_info": {
   "codemirror_mode": {
    "name": "ipython",
    "version": 3
   },
   "file_extension": ".py",
   "mimetype": "text/x-python",
   "name": "python",
   "nbconvert_exporter": "python",
   "pygments_lexer": "ipython3",
   "version": "3.7.7"
  }
 },
 "nbformat": 4,
 "nbformat_minor": 4
}
