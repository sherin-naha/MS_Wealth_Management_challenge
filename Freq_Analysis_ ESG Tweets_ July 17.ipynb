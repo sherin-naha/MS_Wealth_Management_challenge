{
 "cells": [
  {
   "cell_type": "raw",
   "metadata": {},
   "source": [
    "This notebook has code for sentiment analysis using different pre-built packages like Textblob, Afinn and SWN( for some reason, this is not working). Look at the end of the document for keyword analysis)"
   ]
  },
  {
   "cell_type": "code",
   "execution_count": 1,
   "metadata": {},
   "outputs": [
    {
     "name": "stderr",
     "output_type": "stream",
     "text": [
      "[nltk_data] Downloading package punkt to\n",
      "[nltk_data]     /Users/sherinnaha/nltk_data...\n",
      "[nltk_data]   Package punkt is already up-to-date!\n",
      "[nltk_data] Downloading package wordnet to\n",
      "[nltk_data]     /Users/sherinnaha/nltk_data...\n",
      "[nltk_data]   Package wordnet is already up-to-date!\n",
      "[nltk_data] Downloading package stopwords to\n",
      "[nltk_data]     /Users/sherinnaha/nltk_data...\n",
      "[nltk_data]   Package stopwords is already up-to-date!\n",
      "[nltk_data] Downloading package averaged_perceptron_tagger to\n",
      "[nltk_data]     /Users/sherinnaha/nltk_data...\n",
      "[nltk_data]   Package averaged_perceptron_tagger is already up-to-\n",
      "[nltk_data]       date!\n",
      "[nltk_data] Downloading package universal_tagset to\n",
      "[nltk_data]     /Users/sherinnaha/nltk_data...\n",
      "[nltk_data]   Package universal_tagset is already up-to-date!\n"
     ]
    }
   ],
   "source": [
    "#imports\n",
    "import csv\n",
    "import re\n",
    "import os\n",
    "import pandas as pd\n",
    "import numpy as np\n",
    "import nltk\n",
    "\n",
    "#for tweet tokenization\n",
    "from nltk import TweetTokenizer\n",
    "tt = TweetTokenizer()\n",
    "\n",
    "from nltk.stem import WordNetLemmatizer\n",
    "from nltk.corpus import sentiwordnet as swn\n",
    "from nltk.stem import PorterStemmer\n",
    "pstem = PorterStemmer()\n",
    "lem = WordNetLemmatizer()\n",
    "\n",
    "\n",
    "from nltk.corpus import stopwords\n",
    "from nltk.tokenize import word_tokenize\n",
    "nltk.download('punkt')\n",
    "nltk.download('wordnet')\n",
    "nltk.download('stopwords')\n",
    "nltk.download('averaged_perceptron_tagger')\n",
    "nltk.download('universal_tagset')\n",
    "\n",
    "from pprint import pprint\n",
    "from datetime import datetime\n",
    "\n",
    "#plotting\n",
    "import matplotlib\n",
    "import matplotlib.pyplot as plt\n",
    "import seaborn as sns\n",
    "import plotly.express as px\n",
    "%matplotlib inline\n",
    "\n",
    "\n",
    "#word count\n",
    "from collections import Counter\n",
    "\n",
    "\n",
    "#sentiment analysis\n",
    "from textblob import TextBlob\n",
    "\n",
    "# spacy for lemmatization\n",
    "import spacy;\n",
    "import en_core_web_sm\n",
    "\n",
    "# Topic modeling\n",
    "# Gensim\n",
    "import gensim\n",
    "import gensim.corpora as corpora\n",
    "from gensim.utils import simple_preprocess\n",
    "from gensim.models import CoherenceModel\n",
    "\n",
    "#escaping html characters\n",
    "from html.parser import HTMLParser\n",
    "html_parser = HTMLParser()"
   ]
  },
  {
   "cell_type": "code",
   "execution_count": 2,
   "metadata": {},
   "outputs": [
    {
     "data": {
      "text/html": [
       "<div>\n",
       "<style scoped>\n",
       "    .dataframe tbody tr th:only-of-type {\n",
       "        vertical-align: middle;\n",
       "    }\n",
       "\n",
       "    .dataframe tbody tr th {\n",
       "        vertical-align: top;\n",
       "    }\n",
       "\n",
       "    .dataframe thead th {\n",
       "        text-align: right;\n",
       "    }\n",
       "</style>\n",
       "<table border=\"1\" class=\"dataframe\">\n",
       "  <thead>\n",
       "    <tr style=\"text-align: right;\">\n",
       "      <th></th>\n",
       "      <th>screen_name</th>\n",
       "      <th>username</th>\n",
       "      <th>user_id</th>\n",
       "      <th>tweet_id</th>\n",
       "      <th>tweet_url</th>\n",
       "      <th>timestamp</th>\n",
       "      <th>timestamp_epochs</th>\n",
       "      <th>text</th>\n",
       "      <th>text_html</th>\n",
       "      <th>links</th>\n",
       "      <th>...</th>\n",
       "      <th>has_media</th>\n",
       "      <th>img_urls</th>\n",
       "      <th>video_url</th>\n",
       "      <th>likes</th>\n",
       "      <th>retweets</th>\n",
       "      <th>replies</th>\n",
       "      <th>is_replied</th>\n",
       "      <th>is_reply_to</th>\n",
       "      <th>parent_tweet_id</th>\n",
       "      <th>reply_to_users</th>\n",
       "    </tr>\n",
       "  </thead>\n",
       "  <tbody>\n",
       "    <tr>\n",
       "      <th>0</th>\n",
       "      <td>ReadUseful_Site</td>\n",
       "      <td>Read Useful</td>\n",
       "      <td>898950281148289026</td>\n",
       "      <td>1217234712189685774</td>\n",
       "      <td>/ReadUseful_Site/status/1217234712189685774</td>\n",
       "      <td>2020-01-14 23:59:05</td>\n",
       "      <td>1579046345</td>\n",
       "      <td>New post: Cramer on BlackRock’s climate change...</td>\n",
       "      <td>&lt;p class=\"TweetTextSize js-tweet-text tweet-te...</td>\n",
       "      <td>['https://lateststories.readuseful.com/cramer-...</td>\n",
       "      <td>...</td>\n",
       "      <td>False</td>\n",
       "      <td>[]</td>\n",
       "      <td>NaN</td>\n",
       "      <td>0</td>\n",
       "      <td>0</td>\n",
       "      <td>0</td>\n",
       "      <td>False</td>\n",
       "      <td>False</td>\n",
       "      <td>NaN</td>\n",
       "      <td>[]</td>\n",
       "    </tr>\n",
       "    <tr>\n",
       "      <th>1</th>\n",
       "      <td>SulcataStocks</td>\n",
       "      <td>Sulcata Stocks</td>\n",
       "      <td>1211673903531118592</td>\n",
       "      <td>1217227095442624519</td>\n",
       "      <td>/SulcataStocks/status/1217227095442624519</td>\n",
       "      <td>2020-01-14 23:28:49</td>\n",
       "      <td>1579044529</td>\n",
       "      <td>ESG investing is easy to do when everything go...</td>\n",
       "      <td>&lt;p class=\"TweetTextSize js-tweet-text tweet-te...</td>\n",
       "      <td>[]</td>\n",
       "      <td>...</td>\n",
       "      <td>False</td>\n",
       "      <td>[]</td>\n",
       "      <td>NaN</td>\n",
       "      <td>0</td>\n",
       "      <td>0</td>\n",
       "      <td>0</td>\n",
       "      <td>False</td>\n",
       "      <td>True</td>\n",
       "      <td>1.217204e+18</td>\n",
       "      <td>[{'screen_name': 'CGrantWSJ', 'user_id': '3043...</td>\n",
       "    </tr>\n",
       "    <tr>\n",
       "      <th>2</th>\n",
       "      <td>JCoumarianos</td>\n",
       "      <td>John Coumarianos</td>\n",
       "      <td>499771067</td>\n",
       "      <td>1217215039301656576</td>\n",
       "      <td>/JCoumarianos/status/1217215039301656576</td>\n",
       "      <td>2020-01-14 22:40:54</td>\n",
       "      <td>1579041654</td>\n",
       "      <td>So is ESG investing just all about the E?\\n\\nB...</td>\n",
       "      <td>&lt;p class=\"TweetTextSize js-tweet-text tweet-te...</td>\n",
       "      <td>['https://www.wsj.com/articles/blackrock-shake...</td>\n",
       "      <td>...</td>\n",
       "      <td>False</td>\n",
       "      <td>[]</td>\n",
       "      <td>NaN</td>\n",
       "      <td>2</td>\n",
       "      <td>0</td>\n",
       "      <td>0</td>\n",
       "      <td>False</td>\n",
       "      <td>False</td>\n",
       "      <td>NaN</td>\n",
       "      <td>[]</td>\n",
       "    </tr>\n",
       "    <tr>\n",
       "      <th>3</th>\n",
       "      <td>brilherman</td>\n",
       "      <td>Herman Bril</td>\n",
       "      <td>2846987907</td>\n",
       "      <td>1217212522937360384</td>\n",
       "      <td>/brilherman/status/1217212522937360384</td>\n",
       "      <td>2020-01-14 22:30:54</td>\n",
       "      <td>1579041054</td>\n",
       "      <td>A big step forward for mainstreaming Sustainab...</td>\n",
       "      <td>&lt;p class=\"TweetTextSize js-tweet-text tweet-te...</td>\n",
       "      <td>['https://twitter.com/blackrock/status/1217012...</td>\n",
       "      <td>...</td>\n",
       "      <td>False</td>\n",
       "      <td>[]</td>\n",
       "      <td>NaN</td>\n",
       "      <td>3</td>\n",
       "      <td>1</td>\n",
       "      <td>0</td>\n",
       "      <td>False</td>\n",
       "      <td>False</td>\n",
       "      <td>NaN</td>\n",
       "      <td>[]</td>\n",
       "    </tr>\n",
       "    <tr>\n",
       "      <th>4</th>\n",
       "      <td>MaxH66700380</td>\n",
       "      <td>Free Assange, now!! ALL lives matter!!</td>\n",
       "      <td>1106699579536351232</td>\n",
       "      <td>1217206397676523520</td>\n",
       "      <td>/MaxH66700380/status/1217206397676523520</td>\n",
       "      <td>2020-01-14 22:06:34</td>\n",
       "      <td>1579039594</td>\n",
       "      <td>In many cases, yes. But I've also seen genuine...</td>\n",
       "      <td>&lt;p class=\"TweetTextSize js-tweet-text tweet-te...</td>\n",
       "      <td>[]</td>\n",
       "      <td>...</td>\n",
       "      <td>False</td>\n",
       "      <td>[]</td>\n",
       "      <td>NaN</td>\n",
       "      <td>0</td>\n",
       "      <td>0</td>\n",
       "      <td>0</td>\n",
       "      <td>False</td>\n",
       "      <td>True</td>\n",
       "      <td>1.217204e+18</td>\n",
       "      <td>[{'screen_name': 'CGrantWSJ', 'user_id': '3043...</td>\n",
       "    </tr>\n",
       "  </tbody>\n",
       "</table>\n",
       "<p>5 rows × 21 columns</p>\n",
       "</div>"
      ],
      "text/plain": [
       "       screen_name                                username  \\\n",
       "0  ReadUseful_Site                             Read Useful   \n",
       "1    SulcataStocks                          Sulcata Stocks   \n",
       "2     JCoumarianos                        John Coumarianos   \n",
       "3       brilherman                             Herman Bril   \n",
       "4     MaxH66700380  Free Assange, now!! ALL lives matter!!   \n",
       "\n",
       "               user_id             tweet_id  \\\n",
       "0   898950281148289026  1217234712189685774   \n",
       "1  1211673903531118592  1217227095442624519   \n",
       "2            499771067  1217215039301656576   \n",
       "3           2846987907  1217212522937360384   \n",
       "4  1106699579536351232  1217206397676523520   \n",
       "\n",
       "                                     tweet_url            timestamp  \\\n",
       "0  /ReadUseful_Site/status/1217234712189685774  2020-01-14 23:59:05   \n",
       "1    /SulcataStocks/status/1217227095442624519  2020-01-14 23:28:49   \n",
       "2     /JCoumarianos/status/1217215039301656576  2020-01-14 22:40:54   \n",
       "3       /brilherman/status/1217212522937360384  2020-01-14 22:30:54   \n",
       "4     /MaxH66700380/status/1217206397676523520  2020-01-14 22:06:34   \n",
       "\n",
       "   timestamp_epochs                                               text  \\\n",
       "0        1579046345  New post: Cramer on BlackRock’s climate change...   \n",
       "1        1579044529  ESG investing is easy to do when everything go...   \n",
       "2        1579041654  So is ESG investing just all about the E?\\n\\nB...   \n",
       "3        1579041054  A big step forward for mainstreaming Sustainab...   \n",
       "4        1579039594  In many cases, yes. But I've also seen genuine...   \n",
       "\n",
       "                                           text_html  \\\n",
       "0  <p class=\"TweetTextSize js-tweet-text tweet-te...   \n",
       "1  <p class=\"TweetTextSize js-tweet-text tweet-te...   \n",
       "2  <p class=\"TweetTextSize js-tweet-text tweet-te...   \n",
       "3  <p class=\"TweetTextSize js-tweet-text tweet-te...   \n",
       "4  <p class=\"TweetTextSize js-tweet-text tweet-te...   \n",
       "\n",
       "                                               links  ... has_media  img_urls  \\\n",
       "0  ['https://lateststories.readuseful.com/cramer-...  ...     False        []   \n",
       "1                                                 []  ...     False        []   \n",
       "2  ['https://www.wsj.com/articles/blackrock-shake...  ...     False        []   \n",
       "3  ['https://twitter.com/blackrock/status/1217012...  ...     False        []   \n",
       "4                                                 []  ...     False        []   \n",
       "\n",
       "  video_url  likes  retweets  replies  is_replied  is_reply_to  \\\n",
       "0       NaN      0         0        0       False        False   \n",
       "1       NaN      0         0        0       False         True   \n",
       "2       NaN      2         0        0       False        False   \n",
       "3       NaN      3         1        0       False        False   \n",
       "4       NaN      0         0        0       False         True   \n",
       "\n",
       "   parent_tweet_id                                     reply_to_users  \n",
       "0              NaN                                                 []  \n",
       "1     1.217204e+18  [{'screen_name': 'CGrantWSJ', 'user_id': '3043...  \n",
       "2              NaN                                                 []  \n",
       "3              NaN                                                 []  \n",
       "4     1.217204e+18  [{'screen_name': 'CGrantWSJ', 'user_id': '3043...  \n",
       "\n",
       "[5 rows x 21 columns]"
      ]
     },
     "execution_count": 2,
     "metadata": {},
     "output_type": "execute_result"
    }
   ],
   "source": [
    "esg = pd.read_csv('../CSV/esg_tweets.csv',sep=';')\n",
    "esg.head()"
   ]
  },
  {
   "cell_type": "code",
   "execution_count": 3,
   "metadata": {},
   "outputs": [
    {
     "data": {
      "text/plain": [
       "(13094, 21)"
      ]
     },
     "execution_count": 3,
     "metadata": {},
     "output_type": "execute_result"
    }
   ],
   "source": [
    "#dropping duplicates\n",
    "esg = esg.drop_duplicates(subset = 'text', keep = 'first').reset_index(drop = True)\n",
    "esg.shape"
   ]
  },
  {
   "cell_type": "code",
   "execution_count": 4,
   "metadata": {},
   "outputs": [
    {
     "data": {
      "text/plain": [
       "10.154259416539928"
      ]
     },
     "execution_count": 4,
     "metadata": {},
     "output_type": "execute_result"
    }
   ],
   "source": [
    "((50629 - 45488)/50629)*100\n",
    "#~10% tweets are duplicated"
   ]
  },
  {
   "cell_type": "markdown",
   "metadata": {},
   "source": [
    "# Data Cleaning\n",
    "This does not include Stemming, Lemmatization, Tokenization or Stop Words Removal"
   ]
  },
  {
   "cell_type": "code",
   "execution_count": 5,
   "metadata": {},
   "outputs": [
    {
     "data": {
      "text/plain": [
       "0    new post: cramer on blackrock’s climate change...\n",
       "1    esg investing is easy to do when everything go...\n",
       "2    so is esg investing just all about the e?\\n\\nb...\n",
       "3    a big step forward for mainstreaming sustainab...\n",
       "4    in many cases, yes. but i've also seen genuine...\n",
       "Name: text, dtype: object"
      ]
     },
     "execution_count": 5,
     "metadata": {},
     "output_type": "execute_result"
    }
   ],
   "source": [
    "#convert to lower case\n",
    "esg['text'] = esg['text'].str.lower()\n",
    "esg.head()['text']"
   ]
  },
  {
   "cell_type": "code",
   "execution_count": 6,
   "metadata": {},
   "outputs": [
    {
     "name": "stderr",
     "output_type": "stream",
     "text": [
      "//anaconda3/lib/python3.7/site-packages/ipykernel_launcher.py:3: SettingWithCopyWarning: \n",
      "A value is trying to be set on a copy of a slice from a DataFrame.\n",
      "Try using .loc[row_indexer,col_indexer] = value instead\n",
      "\n",
      "See the caveats in the documentation: https://pandas.pydata.org/pandas-docs/stable/user_guide/indexing.html#returning-a-view-versus-a-copy\n",
      "  This is separate from the ipykernel package so we can avoid doing imports until\n"
     ]
    },
    {
     "data": {
      "text/plain": [
       "(13094, 2)"
      ]
     },
     "execution_count": 6,
     "metadata": {},
     "output_type": "execute_result"
    }
   ],
   "source": [
    "#Allocating a separate Dataframe for the tweet text\n",
    "tweets = esg[[\"text\"]]\n",
    "tweets['original_tweet']= tweets['text']\n",
    "tweets.shape"
   ]
  },
  {
   "cell_type": "code",
   "execution_count": 7,
   "metadata": {},
   "outputs": [
    {
     "name": "stderr",
     "output_type": "stream",
     "text": [
      "//anaconda3/lib/python3.7/site-packages/ipykernel_launcher.py:20: SettingWithCopyWarning: \n",
      "A value is trying to be set on a copy of a slice from a DataFrame.\n",
      "Try using .loc[row_indexer,col_indexer] = value instead\n",
      "\n",
      "See the caveats in the documentation: https://pandas.pydata.org/pandas-docs/stable/user_guide/indexing.html#returning-a-view-versus-a-copy\n"
     ]
    }
   ],
   "source": [
    "# get rid of all kinds of strange symbols from text\n",
    "def preprocess(Text):\n",
    "    #Text = Text.str.decode('utf-8')\n",
    "    Text = Text.str.replace(\"(<br/>)\", \"\")\n",
    "    Text = Text.str.replace('(<a).*(>).*(</a>)', '')\n",
    "    Text = Text.str.replace('(&amp)', '')\n",
    "    Text = Text.str.replace('(&gt)', '')\n",
    "    Text = Text.str.replace('(&lt)', '')\n",
    "    Text = Text.str.replace('(\\xa0…)', ' ')  \n",
    "    Text = Text.str.replace('(\\u2066)', ' ')\n",
    "    Text = Text.str.replace('(\\u2069)', ' ')\n",
    "    Text = Text.str.replace('(\\n)', ' ')\n",
    "    Text = Text.str.replace('+', '')\n",
    "    \n",
    "    #removing twitter images URL\n",
    "    Text = Text.str.replace('pic.twitter.com', '')\n",
    "    return Text\n",
    "\n",
    "#apply all the preprocess functions\n",
    "tweets['text'] = preprocess(tweets.text)\n"
   ]
  },
  {
   "cell_type": "code",
   "execution_count": 8,
   "metadata": {},
   "outputs": [
    {
     "data": {
      "text/plain": [
       "'new post: cramer on blackrock’s climate change investing shift, esg and t      '"
      ]
     },
     "execution_count": 8,
     "metadata": {},
     "output_type": "execute_result"
    }
   ],
   "source": [
    "#Removing urls\n",
    "tweets = tweets.replace('https?:\\/\\/.*[\\r\\n]*', '', regex = True)\n",
    "\n",
    "\n",
    "#removing hashtags(including the word after #), numbers and twitter handles\n",
    "#removing random symbols after /\n",
    "tweets = tweets.replace(\"[0-9]+\", '', regex = True)\n",
    "tweets = tweets.replace(\"#[a-zA-Z0-9]+\", '', regex = True)\n",
    "tweets = tweets.replace(\"@[a-zA-Z0-9]+\", '', regex = True)\n",
    "tweets = tweets.replace(\"/[a-zA-Z0-9]+\", '', regex = True)\n",
    "tweets['text'][0]"
   ]
  },
  {
   "cell_type": "code",
   "execution_count": 9,
   "metadata": {},
   "outputs": [
    {
     "data": {
      "text/plain": [
       "'new post cramer on blackrock’s climate change investing shift esg and t      '"
      ]
     },
     "execution_count": 9,
     "metadata": {},
     "output_type": "execute_result"
    }
   ],
   "source": [
    "tweets = tweets.replace(\"[,@!&\\;|'-?\\.$%_]\",'', regex = True)\n",
    "tweets['text'][0]"
   ]
  },
  {
   "cell_type": "code",
   "execution_count": 10,
   "metadata": {},
   "outputs": [],
   "source": [
    "tweets = tweets.replace(\"[\\\\u2018\\\\u2019]\", \"'\", regex = True)"
   ]
  },
  {
   "cell_type": "code",
   "execution_count": 11,
   "metadata": {},
   "outputs": [
    {
     "data": {
      "text/plain": [
       "'new post cramer on blackrock s climate change investing shift esg and t '"
      ]
     },
     "execution_count": 11,
     "metadata": {},
     "output_type": "execute_result"
    }
   ],
   "source": [
    "# remove whitespace and punctuations\n",
    "rm_punc = re.compile(r\"(\\W)\")\n",
    "rm_space = re.compile(r\"(\\s+)\")\n",
    "tweets.text = tweets.text.apply(lambda x: rm_punc.sub(' ', x))\n",
    "tweets.text = tweets.text.apply(lambda x: rm_space.sub(' ', x))\n",
    "tweets['text'][0]"
   ]
  },
  {
   "cell_type": "code",
   "execution_count": 12,
   "metadata": {},
   "outputs": [
    {
     "name": "stderr",
     "output_type": "stream",
     "text": [
      "//anaconda3/lib/python3.7/site-packages/ipykernel_launcher.py:2: DeprecationWarning: The unescape method is deprecated and will be removed in 3.5, use html.unescape() instead.\n",
      "  \n"
     ]
    }
   ],
   "source": [
    "#Escaping HTML Characters\n",
    "tweets.text.apply(lambda x: html_parser.unescape(x))\n",
    "\n",
    "#Setting to ASCII encoding\n",
    "tweets.text.apply(lambda x: x.encode('ascii','ignore'))\n",
    "tweets.text=tweets.text.astype(str)"
   ]
  },
  {
   "cell_type": "code",
   "execution_count": 13,
   "metadata": {},
   "outputs": [
    {
     "data": {
      "text/plain": [
       "'the bushfires in australia highlight the growing global climate crisis around the world investments in focused funds such as sustainable responsible and impact investing assets are growing rapidly '"
      ]
     },
     "execution_count": 13,
     "metadata": {},
     "output_type": "execute_result"
    }
   ],
   "source": [
    "tweets['text'][10]"
   ]
  },
  {
   "cell_type": "code",
   "execution_count": 14,
   "metadata": {},
   "outputs": [],
   "source": [
    "#dealing with contracted words\n",
    "CONTRACTION_MAP = {\n",
    "\"ain't\": \"is not\",\n",
    "\"aren't\": \"are not\",\n",
    "\"can't\": \"cannot\",\n",
    "\"can't've\": \"cannot have\",\n",
    "\"'cause\": \"because\",\n",
    "\"could've\": \"could have\",\n",
    "\"couldn't\": \"could not\",\n",
    "\"couldn't've\": \"could not have\",\n",
    "\"didn't\": \"did not\",\n",
    "\"doesn't\": \"does not\",\n",
    "\"don't\": \"do not\",\n",
    "\"hadn't\": \"had not\",\n",
    "\"hadn't've\": \"had not have\",\n",
    "\"hasn't\": \"has not\",\n",
    "\"haven't\": \"have not\",\n",
    "\"he'd\": \"he would\",\n",
    "\"he'd've\": \"he would have\",\n",
    "\"he'll\": \"he will\",\n",
    "\"he'll've\": \"he he will have\",\n",
    "\"he's\": \"he is\",\n",
    "\"how'd\": \"how did\",\n",
    "\"how'd'y\": \"how do you\",\n",
    "\"how'll\": \"how will\",\n",
    "\"how's\": \"how is\",\n",
    "\"I'd\": \"I would\",\n",
    "\"I'd've\": \"I would have\",\n",
    "\"I'll\": \"I will\",\n",
    "\"I'll've\": \"I will have\",\n",
    "\"I'm\": \"I am\",\n",
    "\"I've\": \"I have\",\n",
    "\"i'd\": \"i would\",\n",
    "\"i'd've\": \"i would have\",\n",
    "\"i'll\": \"i will\",\n",
    "\"i'll've\": \"i will have\",\n",
    "\"i'm\": \"i am\",\n",
    "\"i've\": \"i have\",\n",
    "\"isn't\": \"is not\",\n",
    "\"it'd\": \"it would\",\n",
    "\"it'd've\": \"it would have\",\n",
    "\"it'll\": \"it will\",\n",
    "\"it'll've\": \"it will have\",\n",
    "\"it's\": \"it is\",\n",
    "\"let's\": \"let us\",\n",
    "\"ma'am\": \"madam\",\n",
    "\"mayn't\": \"may not\",\n",
    "\"might've\": \"might have\",\n",
    "\"mightn't\": \"might not\",\n",
    "\"mightn't've\": \"might not have\",\n",
    "\"must've\": \"must have\",\n",
    "\"mustn't\": \"must not\",\n",
    "\"mustn't've\": \"must not have\",\n",
    "\"needn't\": \"need not\",\n",
    "\"needn't've\": \"need not have\",\n",
    "\"o'clock\": \"of the clock\",\n",
    "\"oughtn't\": \"ought not\",\n",
    "\"oughtn't've\": \"ought not have\",\n",
    "\"shan't\": \"shall not\",\n",
    "\"sha'n't\": \"shall not\",\n",
    "\"shan't've\": \"shall not have\",\n",
    "\"she'd\": \"she would\",\n",
    "\"she'd've\": \"she would have\",\n",
    "\"she'll\": \"she will\",\n",
    "\"she'll've\": \"she will have\",\n",
    "\"she's\": \"she is\",\n",
    "\"should've\": \"should have\",\n",
    "\"shouldn't\": \"should not\",\n",
    "\"shouldn't've\": \"should not have\",\n",
    "\"so've\": \"so have\",\n",
    "\"so's\": \"so as\",\n",
    "\"that'd\": \"that would\",\n",
    "\"that'd've\": \"that would have\",\n",
    "\"that's\": \"that is\",\n",
    "\"there'd\": \"there would\",\n",
    "\"there'd've\": \"there would have\",\n",
    "\"there's\": \"there is\",\n",
    "\"they'd\": \"they would\",\n",
    "\"they'd've\": \"they would have\",\n",
    "\"they'll\": \"they will\",\n",
    "\"they'll've\": \"they will have\",\n",
    "\"they're\": \"they are\",\n",
    "\"they've\": \"they have\",\n",
    "\"to've\": \"to have\",\n",
    "\"wasn't\": \"was not\",\n",
    "\"we'd\": \"we would\",\n",
    "\"we'd've\": \"we would have\",\n",
    "\"we'll\": \"we will\",\n",
    "\"we'll've\": \"we will have\",\n",
    "\"we're\": \"we are\",\n",
    "\"we've\": \"we have\",\n",
    "\"weren't\": \"were not\",\n",
    "\"what'll\": \"what will\",\n",
    "\"what'll've\": \"what will have\",\n",
    "\"what're\": \"what are\",\n",
    "\"what's\": \"what is\",\n",
    "\"what've\": \"what have\",\n",
    "\"when's\": \"when is\",\n",
    "\"when've\": \"when have\",\n",
    "\"where'd\": \"where did\",\n",
    "\"where's\": \"where is\",\n",
    "\"where've\": \"where have\",\n",
    "\"who'll\": \"who will\",\n",
    "\"who'll've\": \"who will have\",\n",
    "\"who's\": \"who is\",\n",
    "\"who've\": \"who have\",\n",
    "\"why's\": \"why is\",\n",
    "\"why've\": \"why have\",\n",
    "\"will've\": \"will have\",\n",
    "\"won't\": \"will not\",\n",
    "\"won't've\": \"will not have\",\n",
    "\"would've\": \"would have\",\n",
    "\"wouldn't\": \"would not\",\n",
    "\"wouldn't've\": \"would not have\",\n",
    "\"y'all\": \"you all\",\n",
    "\"y'all'd\": \"you all would\",\n",
    "\"y'all'd've\": \"you all would have\",\n",
    "\"y'all're\": \"you all are\",\n",
    "\"y'all've\": \"you all have\",\n",
    "\"you'd\": \"you would\",\n",
    "\"you'd've\": \"you would have\",\n",
    "\"you'll\": \"you will\",\n",
    "\"you'll've\": \"you will have\",\n",
    "\"you're\": \"you are\",\n",
    "\"you've\": \"you have\"\n",
    "}\n",
    "\n",
    "def expand_contractions(text, contraction_mapping=CONTRACTION_MAP):\n",
    "  contractions_pattern = re.compile('({})'.format('|'.join(contraction_mapping.keys())), \n",
    "                                      flags=re.IGNORECASE|re.DOTALL)\n",
    "  def expand_match(contraction):\n",
    "    match = contraction.group(0)\n",
    "    first_char = match[0]\n",
    "    expanded_contraction = contraction_mapping.get(match)\\\n",
    "                                if contraction_mapping.get(match)\\\n",
    "                                else contraction_mapping.get(match.lower())                       \n",
    "    expanded_contraction = first_char+expanded_contraction[1:]\n",
    "    return expanded_contraction\n",
    "        \n",
    "  expanded_text = contractions_pattern.sub(expand_match, text)\n",
    "  expanded_text = re.sub(\"'\", \"\", expanded_text)\n",
    "  return expanded_text\n"
   ]
  },
  {
   "cell_type": "code",
   "execution_count": 15,
   "metadata": {},
   "outputs": [],
   "source": [
    "def normalize_corpus(corpus):\n",
    "  normalized_corpus = []\n",
    "  \n",
    "  for doc in corpus:\n",
    "    doc = expand_contractions(doc)\n",
    "    normalized_corpus.append(doc)\n",
    "\n",
    "  return normalized_corpus\n",
    "\n",
    "tweets['cleaned'] = pd.Series(normalize_corpus(tweets['text']))"
   ]
  },
  {
   "cell_type": "code",
   "execution_count": 16,
   "metadata": {},
   "outputs": [
    {
     "data": {
      "text/html": [
       "<div>\n",
       "<style scoped>\n",
       "    .dataframe tbody tr th:only-of-type {\n",
       "        vertical-align: middle;\n",
       "    }\n",
       "\n",
       "    .dataframe tbody tr th {\n",
       "        vertical-align: top;\n",
       "    }\n",
       "\n",
       "    .dataframe thead th {\n",
       "        text-align: right;\n",
       "    }\n",
       "</style>\n",
       "<table border=\"1\" class=\"dataframe\">\n",
       "  <thead>\n",
       "    <tr style=\"text-align: right;\">\n",
       "      <th></th>\n",
       "      <th>text</th>\n",
       "      <th>original_tweet</th>\n",
       "      <th>cleaned</th>\n",
       "      <th>timestamp</th>\n",
       "      <th>date</th>\n",
       "      <th>time</th>\n",
       "    </tr>\n",
       "  </thead>\n",
       "  <tbody>\n",
       "    <tr>\n",
       "      <th>0</th>\n",
       "      <td>new post cramer on blackrock s climate change ...</td>\n",
       "      <td>new post cramer on blackrock's climate change ...</td>\n",
       "      <td>new post cramer on blackrock s climate change ...</td>\n",
       "      <td>2020-01-14 23:59:05</td>\n",
       "      <td>2020-01-14</td>\n",
       "      <td>23-59-05</td>\n",
       "    </tr>\n",
       "    <tr>\n",
       "      <th>1</th>\n",
       "      <td>esg investing is easy to do when everything go...</td>\n",
       "      <td>esg investing is easy to do when everything go...</td>\n",
       "      <td>esg investing is easy to do when everything go...</td>\n",
       "      <td>2020-01-14 23:28:49</td>\n",
       "      <td>2020-01-14</td>\n",
       "      <td>23-28-49</td>\n",
       "    </tr>\n",
       "    <tr>\n",
       "      <th>2</th>\n",
       "      <td>so is esg investing just all about the e black...</td>\n",
       "      <td>so is esg investing just all about the e\\n\\nbl...</td>\n",
       "      <td>so is esg investing just all about the e black...</td>\n",
       "      <td>2020-01-14 22:40:54</td>\n",
       "      <td>2020-01-14</td>\n",
       "      <td>22-40-54</td>\n",
       "    </tr>\n",
       "    <tr>\n",
       "      <th>3</th>\n",
       "      <td>a big step forward for mainstreaming sustainab...</td>\n",
       "      <td>a big step forward for mainstreaming sustainab...</td>\n",
       "      <td>a big step forward for mainstreaming sustainab...</td>\n",
       "      <td>2020-01-14 22:30:54</td>\n",
       "      <td>2020-01-14</td>\n",
       "      <td>22-30-54</td>\n",
       "    </tr>\n",
       "    <tr>\n",
       "      <th>4</th>\n",
       "      <td>in many cases yes but ive also seen genuine es...</td>\n",
       "      <td>in many cases yes but ive also seen genuine es...</td>\n",
       "      <td>in many cases yes but ive also seen genuine es...</td>\n",
       "      <td>2020-01-14 22:06:34</td>\n",
       "      <td>2020-01-14</td>\n",
       "      <td>22-06-34</td>\n",
       "    </tr>\n",
       "  </tbody>\n",
       "</table>\n",
       "</div>"
      ],
      "text/plain": [
       "                                                text  \\\n",
       "0  new post cramer on blackrock s climate change ...   \n",
       "1  esg investing is easy to do when everything go...   \n",
       "2  so is esg investing just all about the e black...   \n",
       "3  a big step forward for mainstreaming sustainab...   \n",
       "4  in many cases yes but ive also seen genuine es...   \n",
       "\n",
       "                                      original_tweet  \\\n",
       "0  new post cramer on blackrock's climate change ...   \n",
       "1  esg investing is easy to do when everything go...   \n",
       "2  so is esg investing just all about the e\\n\\nbl...   \n",
       "3  a big step forward for mainstreaming sustainab...   \n",
       "4  in many cases yes but ive also seen genuine es...   \n",
       "\n",
       "                                             cleaned            timestamp  \\\n",
       "0  new post cramer on blackrock s climate change ...  2020-01-14 23:59:05   \n",
       "1  esg investing is easy to do when everything go...  2020-01-14 23:28:49   \n",
       "2  so is esg investing just all about the e black...  2020-01-14 22:40:54   \n",
       "3  a big step forward for mainstreaming sustainab...  2020-01-14 22:30:54   \n",
       "4  in many cases yes but ive also seen genuine es...  2020-01-14 22:06:34   \n",
       "\n",
       "         date      time  \n",
       "0  2020-01-14  23-59-05  \n",
       "1  2020-01-14  23-28-49  \n",
       "2  2020-01-14  22-40-54  \n",
       "3  2020-01-14  22-30-54  \n",
       "4  2020-01-14  22-06-34  "
      ]
     },
     "execution_count": 16,
     "metadata": {},
     "output_type": "execute_result"
    }
   ],
   "source": [
    "#Extracting date and time\n",
    "#extracting date and time\n",
    "tweets['timestamp']= esg['timestamp']\n",
    "tweets['date'] = pd.to_datetime(tweets['timestamp'], errors='coerce').dt.strftime('%Y-%m-%d')\n",
    "tweets['time'] = pd.to_datetime(tweets['timestamp'], errors='coerce').dt.strftime(\"%H-%M-%S\")\n",
    "\n",
    "tweets.head()"
   ]
  },
  {
   "cell_type": "code",
   "execution_count": 17,
   "metadata": {},
   "outputs": [],
   "source": [
    "tweets_copy1 = tweets.copy()"
   ]
  },
  {
   "cell_type": "code",
   "execution_count": 18,
   "metadata": {},
   "outputs": [
    {
     "data": {
      "text/plain": [
       "['i', 'me', 'my', 'myself', 'we']"
      ]
     },
     "execution_count": 18,
     "metadata": {},
     "output_type": "execute_result"
    }
   ],
   "source": [
    "#remove stop words\n",
    "stop_words = stopwords.words('english')\n",
    "stop_words[0:5]"
   ]
  },
  {
   "cell_type": "code",
   "execution_count": 19,
   "metadata": {},
   "outputs": [
    {
     "data": {
      "text/plain": [
       "0     new post cramer blackrock climate change inves...\n",
       "1     esg investing easy everything goes upsecurity ...\n",
       "2     esg investing blackrock said increasingly disp...\n",
       "3     big step forward mainstreaming sustainable inv...\n",
       "4     many cases yes ive also seen genuine esg inves...\n",
       "5     one small step one giant leap worlds biggest a...\n",
       "6                     sustainability stardard investing\n",
       "7                                    bs bully investing\n",
       "8     responsible investing takes account environmen...\n",
       "9                             lays focus sustainability\n",
       "10    bushfires australia highlight growing global c...\n",
       "11    fink correct edge fundamental reshaping financ...\n",
       "12    streamline valuealigned investment research jo...\n",
       "13                                        investing fad\n",
       "14    blackrock world largest asset manager shifted ...\n",
       "15    min read first article discuss global tokenisi...\n",
       "16    world largest asset manager joins trillion cli...\n",
       "17    wall street compet advantages huge lucrative m...\n",
       "18                                                     \n",
       "19          shakes business focus sustainable investing\n",
       "Name: cleaned, dtype: object"
      ]
     },
     "execution_count": 19,
     "metadata": {},
     "output_type": "execute_result"
    }
   ],
   "source": [
    "not_stopwords = ['not']\n",
    "common_words =['please',\n",
    "               'the','would','could','can','may','must', 'should'\n",
    "              # 'us','i','you','this','we','me','that','it',\n",
    "               'de','s','pic','t','m','en','la','que','don','re','e','el','ca', 'wealth', 'management']\n",
    "stop_words.extend(word for word in common_words if word not in stop_words)\n",
    "final_stop_words = set([word for word in stop_words if word not in not_stopwords])\n",
    "tweets_copy1.cleaned = tweets_copy1.cleaned.apply(lambda x: ' '.join([word for word in x.split() if word not in final_stop_words]))\n",
    "    \n",
    "tweets_copy1['cleaned'].head(20)"
   ]
  },
  {
   "cell_type": "code",
   "execution_count": 20,
   "metadata": {},
   "outputs": [
    {
     "data": {
      "text/plain": [
       "0     new post cramer blackrock climate change inves...\n",
       "1     esg investing easy everything goes upsecurity ...\n",
       "2     esg investing blackrock said increasingly disp...\n",
       "3     big step forward mainstreaming sustainable inv...\n",
       "4     many cases yes ive also seen genuine esg inves...\n",
       "5     one small step one giant leap worlds biggest a...\n",
       "6                     sustainability stardard investing\n",
       "7                                    bs bully investing\n",
       "8     responsible investing takes account environmen...\n",
       "9                             lays focus sustainability\n",
       "10    bushfires australia highlight growing global c...\n",
       "11    fink correct edge fundamental reshaping financ...\n",
       "12    streamline valuealigned investment research jo...\n",
       "13                                        investing fad\n",
       "14    blackrock world largest asset manager shifted ...\n",
       "15    min read first article discuss global tokenisi...\n",
       "16    world largest asset manager joins trillion cli...\n",
       "17    wall street compet advantages huge lucrative m...\n",
       "18                                                     \n",
       "19          shakes business focus sustainable investing\n",
       "Name: cleaned, dtype: object"
      ]
     },
     "execution_count": 20,
     "metadata": {},
     "output_type": "execute_result"
    }
   ],
   "source": [
    "# remove whitespace and punctuations\n",
    "rm_punc = re.compile(r\"(\\W)\")\n",
    "rm_space = re.compile(r\"(\\s+)\")\n",
    "tweets_copy1.text = tweets_copy1.text.apply(lambda x: rm_punc.sub(' ', x))\n",
    "tweets_copy1.text = tweets_copy1.text.apply(lambda x: rm_space.sub(' ', x))\n",
    "tweets_copy1['cleaned'].head(20)"
   ]
  },
  {
   "cell_type": "code",
   "execution_count": 21,
   "metadata": {},
   "outputs": [
    {
     "data": {
      "text/plain": [
       "0    new post cramer blackrock climate change inves...\n",
       "1    esg investing easy everything goes upsecurity ...\n",
       "2    esg investing blackrock said increasingly disp...\n",
       "3    big step forward mainstreaming sustainable inv...\n",
       "4    many cases yes ive also seen genuine esg inves...\n",
       "Name: cleaned, dtype: object"
      ]
     },
     "execution_count": 21,
     "metadata": {},
     "output_type": "execute_result"
    }
   ],
   "source": [
    "stop_words.extend(word for word in common_words if word not in stop_words)\n",
    "final_stop_words = set([word for word in stop_words if word not in not_stopwords])\n",
    "tweets_copy1.cleaned = tweets_copy1.cleaned.apply(lambda x: ' '.join([word for word in x.split() if word not in final_stop_words]))\n",
    "    \n",
    "tweets_copy1['cleaned'].head()"
   ]
  },
  {
   "cell_type": "code",
   "execution_count": 22,
   "metadata": {},
   "outputs": [
    {
     "data": {
      "text/html": [
       "<div>\n",
       "<style scoped>\n",
       "    .dataframe tbody tr th:only-of-type {\n",
       "        vertical-align: middle;\n",
       "    }\n",
       "\n",
       "    .dataframe tbody tr th {\n",
       "        vertical-align: top;\n",
       "    }\n",
       "\n",
       "    .dataframe thead th {\n",
       "        text-align: right;\n",
       "    }\n",
       "</style>\n",
       "<table border=\"1\" class=\"dataframe\">\n",
       "  <thead>\n",
       "    <tr style=\"text-align: right;\">\n",
       "      <th></th>\n",
       "      <th>text</th>\n",
       "      <th>original_tweet</th>\n",
       "      <th>cleaned</th>\n",
       "      <th>timestamp</th>\n",
       "      <th>date</th>\n",
       "      <th>time</th>\n",
       "      <th>sw_clean</th>\n",
       "    </tr>\n",
       "  </thead>\n",
       "  <tbody>\n",
       "    <tr>\n",
       "      <th>0</th>\n",
       "      <td>new post cramer on blackrock s climate change ...</td>\n",
       "      <td>new post cramer on blackrock's climate change ...</td>\n",
       "      <td>new post cramer on blackrock s climate change ...</td>\n",
       "      <td>2020-01-14 23:59:05</td>\n",
       "      <td>2020-01-14</td>\n",
       "      <td>23-59-05</td>\n",
       "      <td>new post cramer blackrock climate change inves...</td>\n",
       "    </tr>\n",
       "    <tr>\n",
       "      <th>1</th>\n",
       "      <td>esg investing is easy to do when everything go...</td>\n",
       "      <td>esg investing is easy to do when everything go...</td>\n",
       "      <td>esg investing is easy to do when everything go...</td>\n",
       "      <td>2020-01-14 23:28:49</td>\n",
       "      <td>2020-01-14</td>\n",
       "      <td>23-28-49</td>\n",
       "      <td>esg investing easy everything goes upsecurity ...</td>\n",
       "    </tr>\n",
       "    <tr>\n",
       "      <th>2</th>\n",
       "      <td>so is esg investing just all about the e black...</td>\n",
       "      <td>so is esg investing just all about the e\\n\\nbl...</td>\n",
       "      <td>so is esg investing just all about the e black...</td>\n",
       "      <td>2020-01-14 22:40:54</td>\n",
       "      <td>2020-01-14</td>\n",
       "      <td>22-40-54</td>\n",
       "      <td>esg investing blackrock said increasingly disp...</td>\n",
       "    </tr>\n",
       "    <tr>\n",
       "      <th>3</th>\n",
       "      <td>a big step forward for mainstreaming sustainab...</td>\n",
       "      <td>a big step forward for mainstreaming sustainab...</td>\n",
       "      <td>a big step forward for mainstreaming sustainab...</td>\n",
       "      <td>2020-01-14 22:30:54</td>\n",
       "      <td>2020-01-14</td>\n",
       "      <td>22-30-54</td>\n",
       "      <td>big step forward mainstreaming sustainable inv...</td>\n",
       "    </tr>\n",
       "    <tr>\n",
       "      <th>4</th>\n",
       "      <td>in many cases yes but ive also seen genuine es...</td>\n",
       "      <td>in many cases yes but ive also seen genuine es...</td>\n",
       "      <td>in many cases yes but ive also seen genuine es...</td>\n",
       "      <td>2020-01-14 22:06:34</td>\n",
       "      <td>2020-01-14</td>\n",
       "      <td>22-06-34</td>\n",
       "      <td>many cases yes ive also seen genuine esg inves...</td>\n",
       "    </tr>\n",
       "  </tbody>\n",
       "</table>\n",
       "</div>"
      ],
      "text/plain": [
       "                                                text  \\\n",
       "0  new post cramer on blackrock s climate change ...   \n",
       "1  esg investing is easy to do when everything go...   \n",
       "2  so is esg investing just all about the e black...   \n",
       "3  a big step forward for mainstreaming sustainab...   \n",
       "4  in many cases yes but ive also seen genuine es...   \n",
       "\n",
       "                                      original_tweet  \\\n",
       "0  new post cramer on blackrock's climate change ...   \n",
       "1  esg investing is easy to do when everything go...   \n",
       "2  so is esg investing just all about the e\\n\\nbl...   \n",
       "3  a big step forward for mainstreaming sustainab...   \n",
       "4  in many cases yes but ive also seen genuine es...   \n",
       "\n",
       "                                             cleaned            timestamp  \\\n",
       "0  new post cramer on blackrock s climate change ...  2020-01-14 23:59:05   \n",
       "1  esg investing is easy to do when everything go...  2020-01-14 23:28:49   \n",
       "2  so is esg investing just all about the e black...  2020-01-14 22:40:54   \n",
       "3  a big step forward for mainstreaming sustainab...  2020-01-14 22:30:54   \n",
       "4  in many cases yes but ive also seen genuine es...  2020-01-14 22:06:34   \n",
       "\n",
       "         date      time                                           sw_clean  \n",
       "0  2020-01-14  23-59-05  new post cramer blackrock climate change inves...  \n",
       "1  2020-01-14  23-28-49  esg investing easy everything goes upsecurity ...  \n",
       "2  2020-01-14  22-40-54  esg investing blackrock said increasingly disp...  \n",
       "3  2020-01-14  22-30-54  big step forward mainstreaming sustainable inv...  \n",
       "4  2020-01-14  22-06-34  many cases yes ive also seen genuine esg inves...  "
      ]
     },
     "execution_count": 22,
     "metadata": {},
     "output_type": "execute_result"
    }
   ],
   "source": [
    "#new column with a stopwords less column\n",
    "tweets['sw_clean'] = tweets_copy1['cleaned']\n",
    "tweets.head()"
   ]
  },
  {
   "cell_type": "markdown",
   "metadata": {},
   "source": [
    "# Lemmatization"
   ]
  },
  {
   "cell_type": "code",
   "execution_count": 23,
   "metadata": {},
   "outputs": [],
   "source": [
    "w_tokenizer = nltk.tokenize.WhitespaceTokenizer()\n",
    "lemmatizer = nltk.stem.WordNetLemmatizer()\n",
    "\n",
    "def lemmatize_text(text):\n",
    "  return [lemmatizer.lemmatize(w) for w in w_tokenizer.tokenize(text)]\n",
    "\n",
    "\n",
    "\n",
    "tweets['text_lemmatized_tokens'] = tweets.sw_clean.apply(lemmatize_text)"
   ]
  },
  {
   "cell_type": "code",
   "execution_count": 24,
   "metadata": {},
   "outputs": [],
   "source": [
    "tweets_copy3=tweets.copy()\n",
    "\n",
    "corpus = []\n",
    "new = tweets_copy3['text_lemmatized_tokens'].values.tolist()\n",
    "corpus = [word for i in new for word in i]"
   ]
  },
  {
   "cell_type": "code",
   "execution_count": 25,
   "metadata": {},
   "outputs": [
    {
     "data": {
      "text/plain": [
       "<matplotlib.axes._subplots.AxesSubplot at 0x1a2e7aadd0>"
      ]
     },
     "execution_count": 25,
     "metadata": {},
     "output_type": "execute_result"
    },
    {
     "data": {
      "image/png": "[encoded data removed]",
      "text/plain": [
       "<Figure size 432x288 with 1 Axes>"
      ]
     },
     "metadata": {
      "needs_background": "light"
     },
     "output_type": "display_data"
    }
   ],
   "source": [
    "counter = Counter(corpus)\n",
    "most = counter.most_common()\n",
    "\n",
    "x, y= [], []\n",
    "j, k= [], []\n",
    "\n",
    "for word,count in most[:30]:\n",
    "    if (word not in final_stop_words):\n",
    "            x.append(word)\n",
    "            y.append(count)\n",
    "        \n",
    "for word,count in most[:]:\n",
    "    if (word not in final_stop_words):\n",
    "        j.append(word)\n",
    "        k.append(count)\n",
    "        \n",
    "sns.barplot(x = y, y = x)"
   ]
  },
  {
   "cell_type": "code",
   "execution_count": 26,
   "metadata": {},
   "outputs": [],
   "source": [
    "combined_frequency = list(zip(j,k))\n",
    "with open('blank.csv','w') as out:\n",
    "    csv_out=csv.writer(out)\n",
    "    csv_out.writerow(['word','frequency'])\n",
    "    csv_out.writerows(combined_frequency)"
   ]
  },
  {
   "cell_type": "markdown",
   "metadata": {},
   "source": [
    "# Bigrams"
   ]
  },
  {
   "cell_type": "code",
   "execution_count": 27,
   "metadata": {},
   "outputs": [],
   "source": [
    "from nltk.util import ngrams\n",
    "from sklearn.feature_extraction.text import CountVectorizer\n",
    "def get_top_ngram(corpus, n=None):\n",
    "    vec = CountVectorizer(ngram_range=(n, n)).fit(corpus)\n",
    "    bag_of_words = vec.transform(corpus)\n",
    "    sum_words = bag_of_words.sum(axis=0) \n",
    "    words_freq = [(word, sum_words[0, idx]) \n",
    "                  for word, idx in vec.vocabulary_.items()]\n",
    "    words_freq =sorted(words_freq, key = lambda x: x[1], reverse=True)\n",
    "    return words_freq[:100]"
   ]
  },
  {
   "cell_type": "code",
   "execution_count": 28,
   "metadata": {},
   "outputs": [
    {
     "data": {
      "text/plain": [
       "<matplotlib.axes._subplots.AxesSubplot at 0x1a2ea96210>"
      ]
     },
     "execution_count": 28,
     "metadata": {},
     "output_type": "execute_result"
    },
    {
     "data": {
      "image/png": "[encoded data removed]",
      "text/plain": [
       "<Figure size 432x288 with 1 Axes>"
      ]
     },
     "metadata": {
      "needs_background": "light"
     },
     "output_type": "display_data"
    }
   ],
   "source": [
    "top_n_bigrams=get_top_ngram(tweets['sw_clean'],2)[:20]\n",
    "all_n_bigrams=get_top_ngram(tweets['sw_clean'],2)\n",
    "x,y=map(list,zip(*top_n_bigrams))\n",
    "j,k=map(list,zip(*all_n_bigrams))\n",
    "sns.barplot(x=y,y=x)"
   ]
  },
  {
   "cell_type": "code",
   "execution_count": 29,
   "metadata": {},
   "outputs": [],
   "source": [
    "phrase_freq = list(zip(j,k))\n",
    "\n",
    "with open('bi-gram.csv','w') as out:\n",
    "    csv_out=csv.writer(out)\n",
    "    csv_out.writerow(['phrase','frequency'])\n",
    "    csv_out.writerows(phrase_freq)"
   ]
  },
  {
   "cell_type": "markdown",
   "metadata": {},
   "source": [
    "# Trigram"
   ]
  },
  {
   "cell_type": "code",
   "execution_count": 30,
   "metadata": {},
   "outputs": [
    {
     "data": {
      "text/plain": [
       "<matplotlib.axes._subplots.AxesSubplot at 0x1a2ffed690>"
      ]
     },
     "execution_count": 30,
     "metadata": {},
     "output_type": "execute_result"
    },
    {
     "data": {
      "image/png": "[encoded data removed]",
      "text/plain": [
       "<Figure size 432x288 with 1 Axes>"
      ]
     },
     "metadata": {
      "needs_background": "light"
     },
     "output_type": "display_data"
    }
   ],
   "source": [
    "top_n_trigrams=get_top_ngram(tweets['sw_clean'],3)[:20]\n",
    "all_n_trigrams=get_top_ngram(tweets['sw_clean'],3)\n",
    "x,y=map(list,zip(*top_n_trigrams))\n",
    "j,k=map(list,zip(*all_n_trigrams))\n",
    "sns.barplot(x=y,y=x)"
   ]
  },
  {
   "cell_type": "code",
   "execution_count": 33,
   "metadata": {},
   "outputs": [],
   "source": [
    "phrase_freq = list(zip(j,k))\n",
    "\n",
    "with open('tri-gram.csv','w') as out:\n",
    "    csv_out=csv.writer(out)\n",
    "    csv_out.writerow(['phrase','frequency'])\n",
    "    csv_out.writerows(phrase_freq)"
   ]
  },
  {
   "cell_type": "code",
   "execution_count": 31,
   "metadata": {},
   "outputs": [],
   "source": [
    "keywords=['wetsuweten','territory','heriditary']"
   ]
  },
  {
   "cell_type": "code",
   "execution_count": 32,
   "metadata": {},
   "outputs": [],
   "source": [
    "df2=tweets_copy3[tweets_copy3.text.apply(lambda x: any(substring in x for substring in keywords))]"
   ]
  },
  {
   "cell_type": "code",
   "execution_count": 33,
   "metadata": {},
   "outputs": [
    {
     "data": {
      "text/plain": [
       "(67, 8)"
      ]
     },
     "execution_count": 33,
     "metadata": {},
     "output_type": "execute_result"
    }
   ],
   "source": [
    "df2.shape"
   ]
  },
  {
   "cell_type": "code",
   "execution_count": 34,
   "metadata": {},
   "outputs": [],
   "source": [
    "df2.to_csv('wets.csv')"
   ]
  },
  {
   "cell_type": "code",
   "execution_count": null,
   "metadata": {},
   "outputs": [],
   "source": []
  }
 ],
 "metadata": {
  "kernelspec": {
   "display_name": "Python 3",
   "language": "python",
   "name": "python3"
  },
  "language_info": {
   "codemirror_mode": {
    "name": "ipython",
    "version": 3
   },
   "file_extension": ".py",
   "mimetype": "text/x-python",
   "name": "python",
   "nbconvert_exporter": "python",
   "pygments_lexer": "ipython3",
   "version": "3.7.7"
  }
 },
 "nbformat": 4,
 "nbformat_minor": 4
}
