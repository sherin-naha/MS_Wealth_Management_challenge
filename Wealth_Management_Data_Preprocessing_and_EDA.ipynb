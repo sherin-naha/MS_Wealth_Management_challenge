{
 "cells": [
  {
   "cell_type": "markdown",
   "metadata": {
    "colab_type": "text",
    "id": "aCdNwvSwwk-d"
   },
   "source": [
    "**This Colab files contains all the cleaning and data processing methodologies applied until now. Refer to each segement separately. The data-set imported here is wm_tweets.csv. It contains around 50k rows**"
   ]
  },
  {
   "cell_type": "markdown",
   "metadata": {
    "colab_type": "text",
    "id": "SjKj-WH9wVum"
   },
   "source": [
    "# Imports and Package Installations"
   ]
  },
  {
   "cell_type": "code",
   "execution_count": null,
   "metadata": {
    "colab": {
     "base_uri": "https://localhost:8080/",
     "height": 124
    },
    "colab_type": "code",
    "id": "jbLmE5jRNyp9",
    "outputId": "281240d2-73f7-49a8-811b-4d4fcc81e432"
   },
   "outputs": [
    {
     "name": "stdout",
     "output_type": "stream",
     "text": [
      "Go to this URL in a browser: https://accounts.google.com/o/oauth2/auth?client_id=947318989803-6bn6qk8qdgf4n4g3pfee6491hc0brc4i.apps.googleusercontent.com&redirect_uri=urn%3aietf%3awg%3aoauth%3a2.0%3aoob&response_type=code&scope=email%20https%3a%2f%2fwww.googleapis.com%2fauth%2fdocs.test%20https%3a%2f%2fwww.googleapis.com%2fauth%2fdrive%20https%3a%2f%2fwww.googleapis.com%2fauth%2fdrive.photos.readonly%20https%3a%2f%2fwww.googleapis.com%2fauth%2fpeopleapi.readonly\n",
      "\n",
      "Enter your authorization code:\n",
      "··········\n",
      "Mounted at /content/drive\n"
     ]
    }
   ],
   "source": [
    "#This command will help you connect your google drive to this collab notebook\n",
    "from google.colab import drive\n",
    "drive.mount('/content/drive')"
   ]
  },
  {
   "cell_type": "code",
   "execution_count": null,
   "metadata": {
    "colab": {},
    "colab_type": "code",
    "id": "-WQBCmmFHaZP"
   },
   "outputs": [],
   "source": [
    "import csv\n",
    "import re\n",
    "import os\n",
    "import pandas as pd\n",
    "import numpy as np\n",
    "import nltk"
   ]
  },
  {
   "cell_type": "code",
   "execution_count": null,
   "metadata": {
    "colab": {},
    "colab_type": "code",
    "id": "Jn-wYrZ8m7yf"
   },
   "outputs": [],
   "source": [
    "import sklearn"
   ]
  },
  {
   "cell_type": "code",
   "execution_count": null,
   "metadata": {
    "colab": {
     "base_uri": "https://localhost:8080/",
     "height": 72
    },
    "colab_type": "code",
    "id": "Djlah2A0PK8G",
    "outputId": "ac285bb8-6746-4524-c0d4-21bde3572c2a"
   },
   "outputs": [
    {
     "name": "stderr",
     "output_type": "stream",
     "text": [
      "/usr/local/lib/python3.6/dist-packages/IPython/core/interactiveshell.py:2718: DtypeWarning: Columns (0,3,4,12,18,19) have mixed types.Specify dtype option on import or set low_memory=False.\n",
      "  interactivity=interactivity, compiler=compiler, result=result)\n"
     ]
    }
   ],
   "source": [
    "#loading file into dataframe\n",
    "#click on the folder icon on the left\n",
    "#Go to the exact csv file and then click on three dots\n",
    "# select copy path and paste it below, your CSV will open up as a dataframe\n",
    "path = \"/content/drive/My Drive/Dataset/Dataset/wm_tweets_final.csv\"\n",
    "wm_final = pd.read_csv(path)"
   ]
  },
  {
   "cell_type": "code",
   "execution_count": 1,
   "metadata": {
    "colab": {
     "base_uri": "https://localhost:8080/",
     "height": 225
    },
    "colab_type": "code",
    "id": "M-zBVr60HaZS",
    "outputId": "315ad3c5-face-4b95-d9bb-b98997845971"
   },
   "outputs": [
    {
     "ename": "NameError",
     "evalue": "name 'nltk' is not defined",
     "output_type": "error",
     "traceback": [
      "\u001b[0;31m---------------------------------------------------------------------------\u001b[0m",
      "\u001b[0;31mNameError\u001b[0m                                 Traceback (most recent call last)",
      "\u001b[0;32m<ipython-input-1-dcd81c369aa7>\u001b[0m in \u001b[0;36m<module>\u001b[0;34m\u001b[0m\n\u001b[1;32m      8\u001b[0m \u001b[0mpstem\u001b[0m \u001b[0;34m=\u001b[0m \u001b[0mPorterStemmer\u001b[0m\u001b[0;34m(\u001b[0m\u001b[0;34m)\u001b[0m\u001b[0;34m\u001b[0m\u001b[0;34m\u001b[0m\u001b[0m\n\u001b[1;32m      9\u001b[0m \u001b[0mlem\u001b[0m \u001b[0;34m=\u001b[0m \u001b[0mWordNetLemmatizer\u001b[0m\u001b[0;34m(\u001b[0m\u001b[0;34m)\u001b[0m\u001b[0;34m\u001b[0m\u001b[0;34m\u001b[0m\u001b[0m\n\u001b[0;32m---> 10\u001b[0;31m \u001b[0mnltk\u001b[0m\u001b[0;34m.\u001b[0m\u001b[0mdownload\u001b[0m\u001b[0;34m(\u001b[0m\u001b[0;34m'punkt'\u001b[0m\u001b[0;34m)\u001b[0m\u001b[0;34m\u001b[0m\u001b[0;34m\u001b[0m\u001b[0m\n\u001b[0m\u001b[1;32m     11\u001b[0m \u001b[0mnltk\u001b[0m\u001b[0;34m.\u001b[0m\u001b[0mdownload\u001b[0m\u001b[0;34m(\u001b[0m\u001b[0;34m'wordnet'\u001b[0m\u001b[0;34m)\u001b[0m\u001b[0;34m\u001b[0m\u001b[0;34m\u001b[0m\u001b[0m\n\u001b[1;32m     12\u001b[0m \u001b[0mnltk\u001b[0m\u001b[0;34m.\u001b[0m\u001b[0mdownload\u001b[0m\u001b[0;34m(\u001b[0m\u001b[0;34m'stopwords'\u001b[0m\u001b[0;34m)\u001b[0m\u001b[0;34m\u001b[0m\u001b[0;34m\u001b[0m\u001b[0m\n",
      "\u001b[0;31mNameError\u001b[0m: name 'nltk' is not defined"
     ]
    }
   ],
   "source": [
    "from nltk import TweetTokenizer\n",
    "from nltk.corpus import stopwords\n",
    "from nltk.tokenize import word_tokenize\n",
    "from nltk.stem import WordNetLemmatizer\n",
    "from nltk.corpus import sentiwordnet as swn\n",
    "from nltk.stem import PorterStemmer\n",
    "\n",
    "pstem = PorterStemmer()\n",
    "lem = WordNetLemmatizer()\n",
    "nltk.download('punkt')\n",
    "nltk.download('wordnet')\n",
    "nltk.download('stopwords')\n",
    "nltk.download('averaged_perceptron_tagger')\n",
    "nltk.download('universal_tagset')"
   ]
  },
  {
   "cell_type": "code",
   "execution_count": null,
   "metadata": {
    "colab": {
     "base_uri": "https://localhost:8080/",
     "height": 72
    },
    "colab_type": "code",
    "id": "ttxDThwHHaZY",
    "outputId": "f2f7b3b8-e1a3-4d13-ef6a-ffdca5d64d7f"
   },
   "outputs": [
    {
     "name": "stderr",
     "output_type": "stream",
     "text": [
      "/usr/local/lib/python3.6/dist-packages/statsmodels/tools/_testing.py:19: FutureWarning: pandas.util.testing is deprecated. Use the functions in the public API at pandas.testing instead.\n",
      "  import pandas.util.testing as tm\n"
     ]
    }
   ],
   "source": [
    "from pprint import pprint\n",
    "from datetime import datetime\n",
    "\n",
    "#plotting\n",
    "import matplotlib\n",
    "import matplotlib.pyplot as plt\n",
    "import seaborn as sns\n",
    "import plotly.express as px\n",
    "%matplotlib inline\n",
    "\n",
    "\n",
    "#word count\n",
    "from collections import Counter\n",
    "\n",
    "\n",
    "#sentiment analysis\n",
    "from textblob import TextBlob\n"
   ]
  },
  {
   "cell_type": "code",
   "execution_count": null,
   "metadata": {
    "colab": {},
    "colab_type": "code",
    "id": "KmajkbbbHaZb"
   },
   "outputs": [],
   "source": [
    "#word clouds\n",
    "import heapq\n",
    "from wordcloud import WordCloud, STOPWORDS\n",
    "from PIL import Image\n",
    "import collections\n",
    "import matplotlib.cm as cm\n",
    "from matplotlib import rcParams\n",
    "from tqdm import tqdm"
   ]
  },
  {
   "cell_type": "code",
   "execution_count": null,
   "metadata": {
    "colab": {},
    "colab_type": "code",
    "id": "gMCrRWY0HaZg"
   },
   "outputs": [],
   "source": [
    "# Topic modeling\n",
    "# spacy for lemmatization\n",
    "import spacy;\n",
    "import en_core_web_sm\n",
    "# Gensim\n",
    "import gensim\n",
    "import gensim.corpora as corpora\n",
    "from gensim.utils import simple_preprocess\n",
    "from gensim.models import CoherenceModel"
   ]
  },
  {
   "cell_type": "code",
   "execution_count": null,
   "metadata": {
    "colab": {
     "base_uri": "https://localhost:8080/",
     "height": 624
    },
    "colab_type": "code",
    "id": "9suWp2SahPw6",
    "outputId": "b7511d05-0dd3-41d1-f7e9-2367ce641b6c"
   },
   "outputs": [
    {
     "name": "stdout",
     "output_type": "stream",
     "text": [
      "Collecting pyldavis\n",
      "\u001b[?25l  Downloading https://files.pythonhosted.org/packages/a5/3a/af82e070a8a96e13217c8f362f9a73e82d61ac8fff3a2561946a97f96266/pyLDAvis-2.1.2.tar.gz (1.6MB)\n",
      "\u001b[K     |████████████████████████████████| 1.6MB 2.8MB/s \n",
      "\u001b[?25hRequirement already satisfied: wheel>=0.23.0 in /usr/local/lib/python3.6/dist-packages (from pyldavis) (0.34.2)\n",
      "Requirement already satisfied: numpy>=1.9.2 in /usr/local/lib/python3.6/dist-packages (from pyldavis) (1.18.5)\n",
      "Requirement already satisfied: scipy>=0.18.0 in /usr/local/lib/python3.6/dist-packages (from pyldavis) (1.4.1)\n",
      "Requirement already satisfied: pandas>=0.17.0 in /usr/local/lib/python3.6/dist-packages (from pyldavis) (1.0.5)\n",
      "Requirement already satisfied: joblib>=0.8.4 in /usr/local/lib/python3.6/dist-packages (from pyldavis) (0.15.1)\n",
      "Requirement already satisfied: jinja2>=2.7.2 in /usr/local/lib/python3.6/dist-packages (from pyldavis) (2.11.2)\n",
      "Requirement already satisfied: numexpr in /usr/local/lib/python3.6/dist-packages (from pyldavis) (2.7.1)\n",
      "Requirement already satisfied: pytest in /usr/local/lib/python3.6/dist-packages (from pyldavis) (3.6.4)\n",
      "Requirement already satisfied: future in /usr/local/lib/python3.6/dist-packages (from pyldavis) (0.16.0)\n",
      "Collecting funcy\n",
      "\u001b[?25l  Downloading https://files.pythonhosted.org/packages/ce/4b/6ffa76544e46614123de31574ad95758c421aae391a1764921b8a81e1eae/funcy-1.14.tar.gz (548kB)\n",
      "\u001b[K     |████████████████████████████████| 552kB 17.4MB/s \n",
      "\u001b[?25hRequirement already satisfied: pytz>=2017.2 in /usr/local/lib/python3.6/dist-packages (from pandas>=0.17.0->pyldavis) (2018.9)\n",
      "Requirement already satisfied: python-dateutil>=2.6.1 in /usr/local/lib/python3.6/dist-packages (from pandas>=0.17.0->pyldavis) (2.8.1)\n",
      "Requirement already satisfied: MarkupSafe>=0.23 in /usr/local/lib/python3.6/dist-packages (from jinja2>=2.7.2->pyldavis) (1.1.1)\n",
      "Requirement already satisfied: setuptools in /usr/local/lib/python3.6/dist-packages (from pytest->pyldavis) (47.3.1)\n",
      "Requirement already satisfied: attrs>=17.4.0 in /usr/local/lib/python3.6/dist-packages (from pytest->pyldavis) (19.3.0)\n",
      "Requirement already satisfied: py>=1.5.0 in /usr/local/lib/python3.6/dist-packages (from pytest->pyldavis) (1.8.2)\n",
      "Requirement already satisfied: six>=1.10.0 in /usr/local/lib/python3.6/dist-packages (from pytest->pyldavis) (1.12.0)\n",
      "Requirement already satisfied: more-itertools>=4.0.0 in /usr/local/lib/python3.6/dist-packages (from pytest->pyldavis) (8.4.0)\n",
      "Requirement already satisfied: atomicwrites>=1.0 in /usr/local/lib/python3.6/dist-packages (from pytest->pyldavis) (1.4.0)\n",
      "Requirement already satisfied: pluggy<0.8,>=0.5 in /usr/local/lib/python3.6/dist-packages (from pytest->pyldavis) (0.7.1)\n",
      "Building wheels for collected packages: pyldavis, funcy\n",
      "  Building wheel for pyldavis (setup.py) ... \u001b[?25l\u001b[?25hdone\n",
      "  Created wheel for pyldavis: filename=pyLDAvis-2.1.2-py2.py3-none-any.whl size=97711 sha256=d9ca324a5d40856ca4d904b378df69ab9e0e76917cebb19c0d414386ddb555d8\n",
      "  Stored in directory: /root/.cache/pip/wheels/98/71/24/513a99e58bb6b8465bae4d2d5e9dba8f0bef8179e3051ac414\n",
      "  Building wheel for funcy (setup.py) ... \u001b[?25l\u001b[?25hdone\n",
      "  Created wheel for funcy: filename=funcy-1.14-py2.py3-none-any.whl size=32042 sha256=8d56545d5bc5aa6eb45a7270f8c435b6f0ec0e0c84a678359b5a4ec1de467e03\n",
      "  Stored in directory: /root/.cache/pip/wheels/20/5a/d8/1d875df03deae6f178dfdf70238cca33f948ef8a6f5209f2eb\n",
      "Successfully built pyldavis funcy\n",
      "Installing collected packages: funcy, pyldavis\n",
      "Successfully installed funcy-1.14 pyldavis-2.1.2\n"
     ]
    }
   ],
   "source": [
    "pip install pyldavis"
   ]
  },
  {
   "cell_type": "code",
   "execution_count": null,
   "metadata": {
    "colab": {},
    "colab_type": "code",
    "id": "gHOngBkChVH5"
   },
   "outputs": [],
   "source": [
    "import pyLDAvis.gensim"
   ]
  },
  {
   "cell_type": "code",
   "execution_count": null,
   "metadata": {
    "colab": {},
    "colab_type": "code",
    "id": "leqAgRnoHaZk"
   },
   "outputs": [],
   "source": [
    "#for tweet tokenization\n",
    "from nltk.tokenize import TweetTokenizer\n",
    "tt = TweetTokenizer()"
   ]
  },
  {
   "cell_type": "markdown",
   "metadata": {
    "colab_type": "text",
    "id": "LAyDZUX9yB3l"
   },
   "source": [
    "# Loading Final Dataset"
   ]
  },
  {
   "cell_type": "code",
   "execution_count": null,
   "metadata": {
    "colab": {
     "base_uri": "https://localhost:8080/",
     "height": 35
    },
    "colab_type": "code",
    "id": "XiVJ2RwpR56T",
    "outputId": "c6927675-1ff8-478c-987d-3eff9a360ada"
   },
   "outputs": [
    {
     "data": {
      "text/plain": [
       "(50629, 22)"
      ]
     },
     "execution_count": 13,
     "metadata": {
      "tags": []
     },
     "output_type": "execute_result"
    }
   ],
   "source": [
    "#Checking the number of rows in Wealth Management DataFrame\n",
    "wm_final.shape"
   ]
  },
  {
   "cell_type": "code",
   "execution_count": null,
   "metadata": {
    "colab": {
     "base_uri": "https://localhost:8080/",
     "height": 586
    },
    "colab_type": "code",
    "id": "6D269da2HaZt",
    "outputId": "7ca9074f-b50e-4727-e637-c3ca9ccb39dd"
   },
   "outputs": [
    {
     "data": {
      "text/html": [
       "<div>\n",
       "<style scoped>\n",
       "    .dataframe tbody tr th:only-of-type {\n",
       "        vertical-align: middle;\n",
       "    }\n",
       "\n",
       "    .dataframe tbody tr th {\n",
       "        vertical-align: top;\n",
       "    }\n",
       "\n",
       "    .dataframe thead th {\n",
       "        text-align: right;\n",
       "    }\n",
       "</style>\n",
       "<table border=\"1\" class=\"dataframe\">\n",
       "  <thead>\n",
       "    <tr style=\"text-align: right;\">\n",
       "      <th></th>\n",
       "      <th>Unnamed: 0</th>\n",
       "      <th>screen_name</th>\n",
       "      <th>username</th>\n",
       "      <th>user_id</th>\n",
       "      <th>tweet_id</th>\n",
       "      <th>tweet_url</th>\n",
       "      <th>timestamp</th>\n",
       "      <th>timestamp_epochs</th>\n",
       "      <th>text</th>\n",
       "      <th>text_html</th>\n",
       "      <th>links</th>\n",
       "      <th>hashtags</th>\n",
       "      <th>has_media</th>\n",
       "      <th>img_urls</th>\n",
       "      <th>video_url</th>\n",
       "      <th>likes</th>\n",
       "      <th>retweets</th>\n",
       "      <th>replies</th>\n",
       "      <th>is_replied</th>\n",
       "      <th>is_reply_to</th>\n",
       "      <th>parent_tweet_id</th>\n",
       "      <th>reply_to_users</th>\n",
       "    </tr>\n",
       "  </thead>\n",
       "  <tbody>\n",
       "    <tr>\n",
       "      <th>0</th>\n",
       "      <td>0</td>\n",
       "      <td>hapeit</td>\n",
       "      <td>Hugh Perry</td>\n",
       "      <td>51955491</td>\n",
       "      <td>1247671808616280067</td>\n",
       "      <td>/hapeit/status/1247671808616280067</td>\n",
       "      <td>2020-04-07 23:45:14</td>\n",
       "      <td>1586303114</td>\n",
       "      <td>The 15 Best Investing Books of All Time | Weal...</td>\n",
       "      <td>&lt;p class=\"TweetTextSize js-tweet-text tweet-te...</td>\n",
       "      <td>['https://www.wealthmanagement.com/people/poll...</td>\n",
       "      <td>[]</td>\n",
       "      <td>False</td>\n",
       "      <td>[]</td>\n",
       "      <td>NaN</td>\n",
       "      <td>2.0</td>\n",
       "      <td>1.0</td>\n",
       "      <td>0.0</td>\n",
       "      <td>False</td>\n",
       "      <td>False</td>\n",
       "      <td>NaN</td>\n",
       "      <td>[]</td>\n",
       "    </tr>\n",
       "    <tr>\n",
       "      <th>1</th>\n",
       "      <td>1</td>\n",
       "      <td>TheChestnutPost</td>\n",
       "      <td>The Chestnut Post</td>\n",
       "      <td>880112324987822082</td>\n",
       "      <td>1247671082288590850</td>\n",
       "      <td>/TheChestnutPost/status/1247671082288590850</td>\n",
       "      <td>2020-04-07 23:42:21</td>\n",
       "      <td>1586302941</td>\n",
       "      <td>Opus Wealth Management Group with $350 Million...</td>\n",
       "      <td>&lt;p class=\"TweetTextSize js-tweet-text tweet-te...</td>\n",
       "      <td>['https://www.thechestnutpost.com/news/opus-we...</td>\n",
       "      <td>[]</td>\n",
       "      <td>False</td>\n",
       "      <td>[]</td>\n",
       "      <td>NaN</td>\n",
       "      <td>0.0</td>\n",
       "      <td>0.0</td>\n",
       "      <td>0.0</td>\n",
       "      <td>False</td>\n",
       "      <td>False</td>\n",
       "      <td>NaN</td>\n",
       "      <td>[]</td>\n",
       "    </tr>\n",
       "    <tr>\n",
       "      <th>2</th>\n",
       "      <td>2</td>\n",
       "      <td>BBQHog7000</td>\n",
       "      <td>BBQ Hog 7000</td>\n",
       "      <td>1862195880</td>\n",
       "      <td>1247670786774745089</td>\n",
       "      <td>/BBQHog7000/status/1247670786774745089</td>\n",
       "      <td>2020-04-07 23:41:10</td>\n",
       "      <td>1586302870</td>\n",
       "      <td>Chatham Wealth Management Partners with Local ...</td>\n",
       "      <td>&lt;p class=\"TweetTextSize js-tweet-text tweet-te...</td>\n",
       "      <td>['http://TAPinto.net', 'https://ift.tt/3e3lDuq']</td>\n",
       "      <td>[]</td>\n",
       "      <td>False</td>\n",
       "      <td>[]</td>\n",
       "      <td>NaN</td>\n",
       "      <td>0.0</td>\n",
       "      <td>0.0</td>\n",
       "      <td>0.0</td>\n",
       "      <td>False</td>\n",
       "      <td>False</td>\n",
       "      <td>NaN</td>\n",
       "      <td>[]</td>\n",
       "    </tr>\n",
       "    <tr>\n",
       "      <th>3</th>\n",
       "      <td>3</td>\n",
       "      <td>IAM__Network</td>\n",
       "      <td>IAM Platform</td>\n",
       "      <td>226310002</td>\n",
       "      <td>1247668718043385857</td>\n",
       "      <td>/IAM__Network/status/1247668718043385857</td>\n",
       "      <td>2020-04-07 23:32:57</td>\n",
       "      <td>1586302377</td>\n",
       "      <td>FN’s Trading and Tech Awards 2020: The nominee...</td>\n",
       "      <td>&lt;p class=\"TweetTextSize js-tweet-text tweet-te...</td>\n",
       "      <td>['https://blog.iammarketingmedia.com/fns-tradi...</td>\n",
       "      <td>['Bank', 'blockchain', 'Finance', 'FinancialTe...</td>\n",
       "      <td>True</td>\n",
       "      <td>['https://pbs.twimg.com/media/EVCcFkgWAAEyx8S....</td>\n",
       "      <td>NaN</td>\n",
       "      <td>1.0</td>\n",
       "      <td>0.0</td>\n",
       "      <td>0.0</td>\n",
       "      <td>False</td>\n",
       "      <td>False</td>\n",
       "      <td>NaN</td>\n",
       "      <td>[]</td>\n",
       "    </tr>\n",
       "    <tr>\n",
       "      <th>4</th>\n",
       "      <td>4</td>\n",
       "      <td>DuisThrivent</td>\n",
       "      <td>Connor Duis</td>\n",
       "      <td>1179406874275438593</td>\n",
       "      <td>1247667977899495424</td>\n",
       "      <td>/DuisThrivent/status/1247667977899495424</td>\n",
       "      <td>2020-04-07 23:30:01</td>\n",
       "      <td>1586302201</td>\n",
       "      <td>67: If you were born after 1959, this is your ...</td>\n",
       "      <td>&lt;p class=\"TweetTextSize js-tweet-text tweet-te...</td>\n",
       "      <td>[]</td>\n",
       "      <td>['financialgudiance', 'financialstrategy', 'fi...</td>\n",
       "      <td>True</td>\n",
       "      <td>['https://pbs.twimg.com/media/EVCbahYU4AMz47z....</td>\n",
       "      <td>NaN</td>\n",
       "      <td>0.0</td>\n",
       "      <td>0.0</td>\n",
       "      <td>0.0</td>\n",
       "      <td>False</td>\n",
       "      <td>False</td>\n",
       "      <td>NaN</td>\n",
       "      <td>[]</td>\n",
       "    </tr>\n",
       "  </tbody>\n",
       "</table>\n",
       "</div>"
      ],
      "text/plain": [
       "  Unnamed: 0      screen_name  ... parent_tweet_id reply_to_users\n",
       "0          0           hapeit  ...             NaN             []\n",
       "1          1  TheChestnutPost  ...             NaN             []\n",
       "2          2       BBQHog7000  ...             NaN             []\n",
       "3          3     IAM__Network  ...             NaN             []\n",
       "4          4     DuisThrivent  ...             NaN             []\n",
       "\n",
       "[5 rows x 22 columns]"
      ]
     },
     "execution_count": 14,
     "metadata": {
      "tags": []
     },
     "output_type": "execute_result"
    }
   ],
   "source": [
    "wm_final.head()"
   ]
  },
  {
   "cell_type": "code",
   "execution_count": null,
   "metadata": {
    "colab": {
     "base_uri": "https://localhost:8080/",
     "height": 35
    },
    "colab_type": "code",
    "id": "PqOxWh_tHaZ4",
    "outputId": "4ee6100b-d3a3-4e64-afef-3a506775235c"
   },
   "outputs": [
    {
     "data": {
      "text/plain": [
       "(45472, 22)"
      ]
     },
     "execution_count": 106,
     "metadata": {
      "tags": []
     },
     "output_type": "execute_result"
    }
   ],
   "source": [
    "wm_final = wm_final.drop_duplicates(subset = 'text', keep = 'first').reset_index(drop = True)\n",
    "wm_final.shape"
   ]
  },
  {
   "cell_type": "code",
   "execution_count": null,
   "metadata": {
    "colab": {
     "base_uri": "https://localhost:8080/",
     "height": 35
    },
    "colab_type": "code",
    "id": "A6kPAuxlRmOB",
    "outputId": "feb6fae9-e656-4b4c-eb76-43b55e6e7ee5"
   },
   "outputs": [
    {
     "data": {
      "text/plain": [
       "10.154259416539928"
      ]
     },
     "execution_count": 107,
     "metadata": {
      "tags": []
     },
     "output_type": "execute_result"
    }
   ],
   "source": [
    "((50629 - 45488)/50629)*100\n",
    "#10% tweets are duplicated"
   ]
  },
  {
   "cell_type": "markdown",
   "metadata": {
    "colab_type": "text",
    "id": "uxQCMN78yJ_j"
   },
   "source": [
    "# Data Cleaning Process\n",
    "\n",
    "This does not include Stemming, Lemmatization, Tokenization or Stop Words Removal\n",
    "\n",
    "Once this segment is complete please follow the instructions. Make a copy of the tweets dataframe to perform any new analysis. You can choose the add that column seprately to the tweets dataframe prior to this analysis\n",
    "```\n",
    "tweets_copy1 = tweets.copy()\n",
    "tweets_copy2 = tweets.copy()\n",
    "```"
   ]
  },
  {
   "cell_type": "code",
   "execution_count": null,
   "metadata": {
    "colab": {
     "base_uri": "https://localhost:8080/",
     "height": 121
    },
    "colab_type": "code",
    "id": "Ewc7S2HnHaZ7",
    "outputId": "4d1d9de6-8218-4761-8614-b52bf495204a"
   },
   "outputs": [
    {
     "data": {
      "text/plain": [
       "0    the 15 best investing books of all time | weal...\n",
       "1    opus wealth management group with $350 million...\n",
       "2    chatham wealth management partners with local ...\n",
       "3    fn’s trading and tech awards 2020: the nominee...\n",
       "4    67: if you were born after 1959, this is your ...\n",
       "Name: text, dtype: object"
      ]
     },
     "execution_count": 144,
     "metadata": {
      "tags": []
     },
     "output_type": "execute_result"
    }
   ],
   "source": [
    "#convert to lower case\n",
    "wm_final['text'] = wm_final['text'].str.lower()\n",
    "wm_final.head()['text']"
   ]
  },
  {
   "cell_type": "code",
   "execution_count": null,
   "metadata": {
    "colab": {
     "base_uri": "https://localhost:8080/",
     "height": 35
    },
    "colab_type": "code",
    "id": "r-kg_SX6HaZ-",
    "outputId": "902d03e6-28d6-46a2-db47-665d6ab07b01"
   },
   "outputs": [
    {
     "data": {
      "text/plain": [
       "(45472, 1)"
      ]
     },
     "execution_count": 145,
     "metadata": {
      "tags": []
     },
     "output_type": "execute_result"
    }
   ],
   "source": [
    "#Allocating a separate Dataframe for the tweet text\n",
    "tweets = wm_final[[\"text\"]]\n",
    "tweets.head()\n",
    "tweets['text'].head()\n",
    "tweets.shape"
   ]
  },
  {
   "cell_type": "code",
   "execution_count": null,
   "metadata": {
    "colab": {},
    "colab_type": "code",
    "id": "35tgoM1nHaaC"
   },
   "outputs": [],
   "source": [
    "\n",
    "# get rid of all kinds of strange symbols from text\n",
    "def preprocess(Text):\n",
    "    #Text = Text.str.decode('utf-8')\n",
    "    Text = Text.str.replace(\"(<br/>)\", \"\")\n",
    "    Text = Text.str.replace('(<a).*(>).*(</a>)', '')\n",
    "    Text = Text.str.replace('(&amp)', '')\n",
    "    Text = Text.str.replace('(&gt)', '')\n",
    "    Text = Text.str.replace('(&lt)', '')\n",
    "    Text = Text.str.replace('(\\xa0…)', ' ')  \n",
    "    Text = Text.str.replace('(\\u2066)', ' ')\n",
    "    Text = Text.str.replace('(\\u2069)', ' ')\n",
    "    Text = Text.str.replace('(\\n)', ' ')\n",
    "    Text = Text.str.replace('+', '')\n",
    "    \n",
    "    #removing twitter images URL\n",
    "    Text = Text.str.replace('pic.twitter.com', '')\n",
    "    return Text"
   ]
  },
  {
   "cell_type": "code",
   "execution_count": null,
   "metadata": {
    "colab": {
     "base_uri": "https://localhost:8080/",
     "height": 209
    },
    "colab_type": "code",
    "id": "-hHVgbj6HaaE",
    "outputId": "abe1be60-b6cc-4938-d8c8-1be9a0678bf1"
   },
   "outputs": [
    {
     "name": "stderr",
     "output_type": "stream",
     "text": [
      "/usr/local/lib/python3.6/dist-packages/ipykernel_launcher.py:2: SettingWithCopyWarning:\n",
      "\n",
      "\n",
      "A value is trying to be set on a copy of a slice from a DataFrame.\n",
      "Try using .loc[row_indexer,col_indexer] = value instead\n",
      "\n",
      "See the caveats in the documentation: https://pandas.pydata.org/pandas-docs/stable/user_guide/indexing.html#returning-a-view-versus-a-copy\n",
      "\n"
     ]
    },
    {
     "data": {
      "application/vnd.google.colaboratory.intrinsic": {
       "type": "string"
      },
      "text/plain": [
       "'sofi acquires galileo as coronavirus can’t stop fintech m&a   read more: https://blog.iammarketingmedia.com/sofi-acquires-galileo-coronavirus-fintechs-merger-acquisitions-software-payments-processing-51586292675/?utm_campaign=twitter&utm_medium=twitter&utm_source=twitter  #bank #blockchain #finance #financialtechnology #fintech #investors #israeli #payments #startupnation #wealthmanagement'"
      ]
     },
     "execution_count": 147,
     "metadata": {
      "tags": []
     },
     "output_type": "execute_result"
    }
   ],
   "source": [
    "#apply all the preprocess functions\n",
    "tweets['text'] = preprocess(tweets.text)\n",
    "tweets.loc[19, 'text']"
   ]
  },
  {
   "cell_type": "code",
   "execution_count": null,
   "metadata": {
    "colab": {
     "base_uri": "https://localhost:8080/",
     "height": 521
    },
    "colab_type": "code",
    "id": "Q8FcFZYgHaaI",
    "outputId": "ff3a00af-3ed5-4f42-c65b-1ca9eb079b17"
   },
   "outputs": [
    {
     "name": "stderr",
     "output_type": "stream",
     "text": [
      "<input>:2: DeprecationWarning:\n",
      "\n",
      "invalid escape sequence \\/\n",
      "\n",
      "<input>:2: DeprecationWarning:\n",
      "\n",
      "invalid escape sequence \\/\n",
      "\n",
      "<input>:2: DeprecationWarning:\n",
      "\n",
      "invalid escape sequence \\/\n",
      "\n",
      "<input>:2: DeprecationWarning:\n",
      "\n",
      "invalid escape sequence \\/\n",
      "\n",
      "<input>:2: DeprecationWarning:\n",
      "\n",
      "invalid escape sequence \\/\n",
      "\n",
      "<input>:2: DeprecationWarning:\n",
      "\n",
      "invalid escape sequence \\/\n",
      "\n",
      "<ipython-input-148-02786bc73cff>:2: DeprecationWarning:\n",
      "\n",
      "invalid escape sequence \\/\n",
      "\n"
     ]
    },
    {
     "data": {
      "application/vnd.google.colaboratory.intrinsic": {
       "type": "string"
      },
      "text/plain": [
       "'the 15 best investing books of all time | wealth management  @wealth_mgmt '"
      ]
     },
     "execution_count": 148,
     "metadata": {
      "tags": []
     },
     "output_type": "execute_result"
    }
   ],
   "source": [
    "#Removing urls\n",
    "tweets = tweets.replace('https?:\\/\\/.*[\\r\\n]*', '', regex = True)\n",
    "tweets['text'][0]"
   ]
  },
  {
   "cell_type": "code",
   "execution_count": null,
   "metadata": {
    "colab": {
     "base_uri": "https://localhost:8080/",
     "height": 35
    },
    "colab_type": "code",
    "id": "DYmnEBCmS_P7",
    "outputId": "53057180-d6d4-4c55-d6c8-344e37212b49"
   },
   "outputs": [
    {
     "data": {
      "application/vnd.google.colaboratory.intrinsic": {
       "type": "string"
      },
      "text/plain": [
       "'the  best investing books of all time | wealth management  _mgmt '"
      ]
     },
     "execution_count": 149,
     "metadata": {
      "tags": []
     },
     "output_type": "execute_result"
    }
   ],
   "source": [
    "#removing hashtags(including the word after #), numbers and twitter handles\n",
    "#removing random symbols after /\n",
    "tweets = tweets.replace(\"[0-9]+\", '', regex = True)\n",
    "tweets = tweets.replace(\"#[a-zA-Z0-9]+\", '', regex = True)\n",
    "tweets = tweets.replace(\"@[a-zA-Z0-9]+\", '', regex = True)\n",
    "tweets = tweets.replace(\"/[a-zA-Z0-9]+\", '', regex = True)\n",
    "tweets['text'][0]\n"
   ]
  },
  {
   "cell_type": "code",
   "execution_count": null,
   "metadata": {
    "colab": {
     "base_uri": "https://localhost:8080/",
     "height": 521
    },
    "colab_type": "code",
    "id": "SQlfiVAsX9YH",
    "outputId": "faa79b7d-7b94-4230-b5f8-9c1e236c0943"
   },
   "outputs": [
    {
     "name": "stderr",
     "output_type": "stream",
     "text": [
      "<input>:1: DeprecationWarning:\n",
      "\n",
      "invalid escape sequence \\;\n",
      "\n",
      "<input>:1: DeprecationWarning:\n",
      "\n",
      "invalid escape sequence \\;\n",
      "\n",
      "<input>:1: DeprecationWarning:\n",
      "\n",
      "invalid escape sequence \\;\n",
      "\n",
      "<input>:1: DeprecationWarning:\n",
      "\n",
      "invalid escape sequence \\;\n",
      "\n",
      "<input>:1: DeprecationWarning:\n",
      "\n",
      "invalid escape sequence \\;\n",
      "\n",
      "<input>:1: DeprecationWarning:\n",
      "\n",
      "invalid escape sequence \\;\n",
      "\n",
      "<ipython-input-188-7caa06c15e78>:1: DeprecationWarning:\n",
      "\n",
      "invalid escape sequence \\;\n",
      "\n"
     ]
    },
    {
     "data": {
      "application/vnd.google.colaboratory.intrinsic": {
       "type": "string"
      },
      "text/plain": [
       "'the  best investing books of all time  wealth management  mgmt '"
      ]
     },
     "execution_count": 188,
     "metadata": {
      "tags": []
     },
     "output_type": "execute_result"
    }
   ],
   "source": [
    "tweets = tweets.replace(\"[,@!&\\;|'-?\\.$%_]\",'', regex = True)\n",
    "tweets['text'][0]"
   ]
  },
  {
   "cell_type": "code",
   "execution_count": null,
   "metadata": {
    "colab": {},
    "colab_type": "code",
    "id": "7Ruhde94LyyF"
   },
   "outputs": [],
   "source": [
    "tweets = tweets.replace(\"[\\\\u2018\\\\u2019]\", \"'\", regex = True)"
   ]
  },
  {
   "cell_type": "code",
   "execution_count": null,
   "metadata": {
    "colab": {},
    "colab_type": "code",
    "id": "Wb-j57ZbZXyo"
   },
   "outputs": [],
   "source": [
    "##Removing urls\n",
    "#tweets = tweets.replace('https?:\\/\\/.*[\\r\\n]*', '', regex = True)\n",
    "\n",
    "#text = re.sub(r\"https:(\\/\\/t\\.co\\/([A-Za-z0-9]|[A-Za-z]){10})\", \"\", text)"
   ]
  },
  {
   "cell_type": "code",
   "execution_count": null,
   "metadata": {
    "colab": {
     "base_uri": "https://localhost:8080/",
     "height": 202
    },
    "colab_type": "code",
    "id": "pgHVvND3HaaN",
    "outputId": "b90d5a0e-dfad-4294-8225-2ff894647a3c"
   },
   "outputs": [
    {
     "data": {
      "text/html": [
       "<div>\n",
       "<style scoped>\n",
       "    .dataframe tbody tr th:only-of-type {\n",
       "        vertical-align: middle;\n",
       "    }\n",
       "\n",
       "    .dataframe tbody tr th {\n",
       "        vertical-align: top;\n",
       "    }\n",
       "\n",
       "    .dataframe thead th {\n",
       "        text-align: right;\n",
       "    }\n",
       "</style>\n",
       "<table border=\"1\" class=\"dataframe\">\n",
       "  <thead>\n",
       "    <tr style=\"text-align: right;\">\n",
       "      <th></th>\n",
       "      <th>text</th>\n",
       "      <th>text_len</th>\n",
       "      <th>word_count</th>\n",
       "    </tr>\n",
       "  </thead>\n",
       "  <tbody>\n",
       "    <tr>\n",
       "      <th>0</th>\n",
       "      <td>the  best investing books of all time  wealth ...</td>\n",
       "      <td>63</td>\n",
       "      <td>10</td>\n",
       "    </tr>\n",
       "    <tr>\n",
       "      <th>1</th>\n",
       "      <td>opus wealth management group with  million in ...</td>\n",
       "      <td>105</td>\n",
       "      <td>15</td>\n",
       "    </tr>\n",
       "    <tr>\n",
       "      <th>2</th>\n",
       "      <td>chatham wealth management partners with local ...</td>\n",
       "      <td>83</td>\n",
       "      <td>12</td>\n",
       "    </tr>\n",
       "    <tr>\n",
       "      <th>3</th>\n",
       "      <td>fn's trading and tech awards  the nominees   r...</td>\n",
       "      <td>55</td>\n",
       "      <td>9</td>\n",
       "    </tr>\n",
       "    <tr>\n",
       "      <th>4</th>\n",
       "      <td>if you were born after  this is your full ret...</td>\n",
       "      <td>64</td>\n",
       "      <td>11</td>\n",
       "    </tr>\n",
       "  </tbody>\n",
       "</table>\n",
       "</div>"
      ],
      "text/plain": [
       "                                                text  text_len  word_count\n",
       "0  the  best investing books of all time  wealth ...        63          10\n",
       "1  opus wealth management group with  million in ...       105          15\n",
       "2  chatham wealth management partners with local ...        83          12\n",
       "3  fn's trading and tech awards  the nominees   r...        55           9\n",
       "4   if you were born after  this is your full ret...        64          11"
      ]
     },
     "execution_count": 153,
     "metadata": {
      "tags": []
     },
     "output_type": "execute_result"
    }
   ],
   "source": [
    "# Get the lenghth of text and word count\n",
    "tweets['text_len'] = tweets.text.astype(str).apply(len)\n",
    "tweets['word_count'] = tweets.text.apply(lambda x: len(str(x).split()))\n",
    "tweets.head()"
   ]
  },
  {
   "cell_type": "code",
   "execution_count": null,
   "metadata": {
    "colab": {
     "base_uri": "https://localhost:8080/",
     "height": 35
    },
    "colab_type": "code",
    "id": "93MXRlecHaaS",
    "outputId": "c836d760-0eec-4fd4-dd55-a6dddd87174e"
   },
   "outputs": [
    {
     "data": {
      "application/vnd.google.colaboratory.intrinsic": {
       "type": "string"
      },
      "text/plain": [
       "'the  best investing books of all time  wealth management  mgmt '"
      ]
     },
     "execution_count": 154,
     "metadata": {
      "tags": []
     },
     "output_type": "execute_result"
    }
   ],
   "source": [
    "tweets.text=tweets.text.astype(str)\n",
    "tweets['text'][0]"
   ]
  },
  {
   "cell_type": "code",
   "execution_count": null,
   "metadata": {
    "colab": {},
    "colab_type": "code",
    "id": "YAzJwDPw1xHC"
   },
   "outputs": [],
   "source": [
    "#dealing with contracted words\n",
    "CONTRACTION_MAP = {\n",
    "\"ain't\": \"is not\",\n",
    "\"aren't\": \"are not\",\n",
    "\"can't\": \"cannot\",\n",
    "\"can't've\": \"cannot have\",\n",
    "\"'cause\": \"because\",\n",
    "\"could've\": \"could have\",\n",
    "\"couldn't\": \"could not\",\n",
    "\"couldn't've\": \"could not have\",\n",
    "\"didn't\": \"did not\",\n",
    "\"doesn't\": \"does not\",\n",
    "\"don't\": \"do not\",\n",
    "\"hadn't\": \"had not\",\n",
    "\"hadn't've\": \"had not have\",\n",
    "\"hasn't\": \"has not\",\n",
    "\"haven't\": \"have not\",\n",
    "\"he'd\": \"he would\",\n",
    "\"he'd've\": \"he would have\",\n",
    "\"he'll\": \"he will\",\n",
    "\"he'll've\": \"he he will have\",\n",
    "\"he's\": \"he is\",\n",
    "\"how'd\": \"how did\",\n",
    "\"how'd'y\": \"how do you\",\n",
    "\"how'll\": \"how will\",\n",
    "\"how's\": \"how is\",\n",
    "\"I'd\": \"I would\",\n",
    "\"I'd've\": \"I would have\",\n",
    "\"I'll\": \"I will\",\n",
    "\"I'll've\": \"I will have\",\n",
    "\"I'm\": \"I am\",\n",
    "\"I've\": \"I have\",\n",
    "\"i'd\": \"i would\",\n",
    "\"i'd've\": \"i would have\",\n",
    "\"i'll\": \"i will\",\n",
    "\"i'll've\": \"i will have\",\n",
    "\"i'm\": \"i am\",\n",
    "\"i've\": \"i have\",\n",
    "\"isn't\": \"is not\",\n",
    "\"it'd\": \"it would\",\n",
    "\"it'd've\": \"it would have\",\n",
    "\"it'll\": \"it will\",\n",
    "\"it'll've\": \"it will have\",\n",
    "\"it's\": \"it is\",\n",
    "\"let's\": \"let us\",\n",
    "\"ma'am\": \"madam\",\n",
    "\"mayn't\": \"may not\",\n",
    "\"might've\": \"might have\",\n",
    "\"mightn't\": \"might not\",\n",
    "\"mightn't've\": \"might not have\",\n",
    "\"must've\": \"must have\",\n",
    "\"mustn't\": \"must not\",\n",
    "\"mustn't've\": \"must not have\",\n",
    "\"needn't\": \"need not\",\n",
    "\"needn't've\": \"need not have\",\n",
    "\"o'clock\": \"of the clock\",\n",
    "\"oughtn't\": \"ought not\",\n",
    "\"oughtn't've\": \"ought not have\",\n",
    "\"shan't\": \"shall not\",\n",
    "\"sha'n't\": \"shall not\",\n",
    "\"shan't've\": \"shall not have\",\n",
    "\"she'd\": \"she would\",\n",
    "\"she'd've\": \"she would have\",\n",
    "\"she'll\": \"she will\",\n",
    "\"she'll've\": \"she will have\",\n",
    "\"she's\": \"she is\",\n",
    "\"should've\": \"should have\",\n",
    "\"shouldn't\": \"should not\",\n",
    "\"shouldn't've\": \"should not have\",\n",
    "\"so've\": \"so have\",\n",
    "\"so's\": \"so as\",\n",
    "\"that'd\": \"that would\",\n",
    "\"that'd've\": \"that would have\",\n",
    "\"that's\": \"that is\",\n",
    "\"there'd\": \"there would\",\n",
    "\"there'd've\": \"there would have\",\n",
    "\"there's\": \"there is\",\n",
    "\"they'd\": \"they would\",\n",
    "\"they'd've\": \"they would have\",\n",
    "\"they'll\": \"they will\",\n",
    "\"they'll've\": \"they will have\",\n",
    "\"they're\": \"they are\",\n",
    "\"they've\": \"they have\",\n",
    "\"to've\": \"to have\",\n",
    "\"wasn't\": \"was not\",\n",
    "\"we'd\": \"we would\",\n",
    "\"we'd've\": \"we would have\",\n",
    "\"we'll\": \"we will\",\n",
    "\"we'll've\": \"we will have\",\n",
    "\"we're\": \"we are\",\n",
    "\"we've\": \"we have\",\n",
    "\"weren't\": \"were not\",\n",
    "\"what'll\": \"what will\",\n",
    "\"what'll've\": \"what will have\",\n",
    "\"what're\": \"what are\",\n",
    "\"what's\": \"what is\",\n",
    "\"what've\": \"what have\",\n",
    "\"when's\": \"when is\",\n",
    "\"when've\": \"when have\",\n",
    "\"where'd\": \"where did\",\n",
    "\"where's\": \"where is\",\n",
    "\"where've\": \"where have\",\n",
    "\"who'll\": \"who will\",\n",
    "\"who'll've\": \"who will have\",\n",
    "\"who's\": \"who is\",\n",
    "\"who've\": \"who have\",\n",
    "\"why's\": \"why is\",\n",
    "\"why've\": \"why have\",\n",
    "\"will've\": \"will have\",\n",
    "\"won't\": \"will not\",\n",
    "\"won't've\": \"will not have\",\n",
    "\"would've\": \"would have\",\n",
    "\"wouldn't\": \"would not\",\n",
    "\"wouldn't've\": \"would not have\",\n",
    "\"y'all\": \"you all\",\n",
    "\"y'all'd\": \"you all would\",\n",
    "\"y'all'd've\": \"you all would have\",\n",
    "\"y'all're\": \"you all are\",\n",
    "\"y'all've\": \"you all have\",\n",
    "\"you'd\": \"you would\",\n",
    "\"you'd've\": \"you would have\",\n",
    "\"you'll\": \"you will\",\n",
    "\"you'll've\": \"you will have\",\n",
    "\"you're\": \"you are\",\n",
    "\"you've\": \"you have\"\n",
    "}"
   ]
  },
  {
   "cell_type": "code",
   "execution_count": null,
   "metadata": {
    "colab": {
     "base_uri": "https://localhost:8080/",
     "height": 35
    },
    "colab_type": "code",
    "id": "zM2Xq-I72AGj",
    "outputId": "ba51bbd8-da00-4894-c471-80dd60c70378"
   },
   "outputs": [
    {
     "data": {
      "application/vnd.google.colaboratory.intrinsic": {
       "type": "string"
      },
      "text/plain": [
       "'you all'"
      ]
     },
     "execution_count": 156,
     "metadata": {
      "tags": []
     },
     "output_type": "execute_result"
    }
   ],
   "source": [
    "def expand_contractions(text, contraction_mapping=CONTRACTION_MAP):\n",
    "  contractions_pattern = re.compile('({})'.format('|'.join(contraction_mapping.keys())), \n",
    "                                      flags=re.IGNORECASE|re.DOTALL)\n",
    "  def expand_match(contraction):\n",
    "    match = contraction.group(0)\n",
    "    first_char = match[0]\n",
    "    expanded_contraction = contraction_mapping.get(match)\\\n",
    "                                if contraction_mapping.get(match)\\\n",
    "                                else contraction_mapping.get(match.lower())                       \n",
    "    expanded_contraction = first_char+expanded_contraction[1:]\n",
    "    return expanded_contraction\n",
    "        \n",
    "  expanded_text = contractions_pattern.sub(expand_match, text)\n",
    "  expanded_text = re.sub(\"'\", \"\", expanded_text)\n",
    "  return expanded_text\n",
    "\n",
    "expand_contractions(\"y'all\")"
   ]
  },
  {
   "cell_type": "code",
   "execution_count": null,
   "metadata": {
    "colab": {},
    "colab_type": "code",
    "id": "9q34vESRDyAj"
   },
   "outputs": [],
   "source": [
    "def normalize_corpus(corpus):\n",
    "  normalized_corpus = []\n",
    "  \n",
    "  for doc in corpus:\n",
    "    doc = expand_contractions(doc)\n",
    "    normalized_corpus.append(doc)\n",
    "\n",
    "  return normalized_corpus"
   ]
  },
  {
   "cell_type": "code",
   "execution_count": null,
   "metadata": {
    "colab": {},
    "colab_type": "code",
    "id": "CGdBR78B4kTj"
   },
   "outputs": [],
   "source": [
    "tweets['cleaned'] = pd.Series(normalize_corpus(tweets['text']))"
   ]
  },
  {
   "cell_type": "code",
   "execution_count": null,
   "metadata": {
    "colab": {
     "base_uri": "https://localhost:8080/",
     "height": 815
    },
    "colab_type": "code",
    "id": "soolBNw3G59d",
    "outputId": "c0367d38-bfac-445b-bfb0-a62247bfeafd"
   },
   "outputs": [
    {
     "data": {
      "text/html": [
       "<div>\n",
       "<style scoped>\n",
       "    .dataframe tbody tr th:only-of-type {\n",
       "        vertical-align: middle;\n",
       "    }\n",
       "\n",
       "    .dataframe tbody tr th {\n",
       "        vertical-align: top;\n",
       "    }\n",
       "\n",
       "    .dataframe thead th {\n",
       "        text-align: right;\n",
       "    }\n",
       "</style>\n",
       "<table border=\"1\" class=\"dataframe\">\n",
       "  <thead>\n",
       "    <tr style=\"text-align: right;\">\n",
       "      <th></th>\n",
       "      <th>text</th>\n",
       "      <th>text_len</th>\n",
       "      <th>word_count</th>\n",
       "      <th>cleaned</th>\n",
       "    </tr>\n",
       "  </thead>\n",
       "  <tbody>\n",
       "    <tr>\n",
       "      <th>0</th>\n",
       "      <td>the  best investing books of all time  wealth ...</td>\n",
       "      <td>63</td>\n",
       "      <td>10</td>\n",
       "      <td>the  best investing books of all time  wealth ...</td>\n",
       "    </tr>\n",
       "    <tr>\n",
       "      <th>1</th>\n",
       "      <td>opus wealth management group with  million in ...</td>\n",
       "      <td>105</td>\n",
       "      <td>15</td>\n",
       "      <td>opus wealth management group with  million in ...</td>\n",
       "    </tr>\n",
       "    <tr>\n",
       "      <th>2</th>\n",
       "      <td>chatham wealth management partners with local ...</td>\n",
       "      <td>83</td>\n",
       "      <td>12</td>\n",
       "      <td>chatham wealth management partners with local ...</td>\n",
       "    </tr>\n",
       "    <tr>\n",
       "      <th>3</th>\n",
       "      <td>fn's trading and tech awards  the nominees   r...</td>\n",
       "      <td>55</td>\n",
       "      <td>9</td>\n",
       "      <td>fns trading and tech awards  the nominees   re...</td>\n",
       "    </tr>\n",
       "    <tr>\n",
       "      <th>4</th>\n",
       "      <td>if you were born after  this is your full ret...</td>\n",
       "      <td>64</td>\n",
       "      <td>11</td>\n",
       "      <td>if you were born after  this is your full ret...</td>\n",
       "    </tr>\n",
       "    <tr>\n",
       "      <th>5</th>\n",
       "      <td>insights into wealth management</td>\n",
       "      <td>33</td>\n",
       "      <td>4</td>\n",
       "      <td>insights into wealth management</td>\n",
       "    </tr>\n",
       "    <tr>\n",
       "      <th>6</th>\n",
       "      <td>while i appreciate the hustle of  and counting...</td>\n",
       "      <td>266</td>\n",
       "      <td>54</td>\n",
       "      <td>while i appreciate the hustle of  and counting...</td>\n",
       "    </tr>\n",
       "    <tr>\n",
       "      <th>7</th>\n",
       "      <td>no its lack of wealth management   little do t...</td>\n",
       "      <td>104</td>\n",
       "      <td>17</td>\n",
       "      <td>no its lack of wealth management   little do t...</td>\n",
       "    </tr>\n",
       "    <tr>\n",
       "      <th>8</th>\n",
       "      <td>mangrove water technologies joins chevron tech...</td>\n",
       "      <td>92</td>\n",
       "      <td>11</td>\n",
       "      <td>mangrove water technologies joins chevron tech...</td>\n",
       "    </tr>\n",
       "    <tr>\n",
       "      <th>9</th>\n",
       "      <td>from thrasher 'the consulting model for a rece...</td>\n",
       "      <td>95</td>\n",
       "      <td>16</td>\n",
       "      <td>from thrasher the consulting model for a reces...</td>\n",
       "    </tr>\n",
       "    <tr>\n",
       "      <th>10</th>\n",
       "      <td>here is a look at the bestperforming stocks of...</td>\n",
       "      <td>89</td>\n",
       "      <td>15</td>\n",
       "      <td>here is a look at the bestperforming stocks of...</td>\n",
       "    </tr>\n",
       "    <tr>\n",
       "      <th>11</th>\n",
       "      <td>covid economic response plan – key points for ...</td>\n",
       "      <td>84</td>\n",
       "      <td>12</td>\n",
       "      <td>covid economic response plan – key points for ...</td>\n",
       "    </tr>\n",
       "    <tr>\n",
       "      <th>12</th>\n",
       "      <td>concerned about recent market volatility join ...</td>\n",
       "      <td>139</td>\n",
       "      <td>20</td>\n",
       "      <td>concerned about recent market volatility join ...</td>\n",
       "    </tr>\n",
       "    <tr>\n",
       "      <th>13</th>\n",
       "      <td>here is your market update for today</td>\n",
       "      <td>38</td>\n",
       "      <td>7</td>\n",
       "      <td>here is your market update for today</td>\n",
       "    </tr>\n",
       "    <tr>\n",
       "      <th>14</th>\n",
       "      <td>had a great time being a guest on the money sa...</td>\n",
       "      <td>93</td>\n",
       "      <td>17</td>\n",
       "      <td>had a great time being a guest on the money sa...</td>\n",
       "    </tr>\n",
       "    <tr>\n",
       "      <th>15</th>\n",
       "      <td>jack you are a leader and others should emulat...</td>\n",
       "      <td>77</td>\n",
       "      <td>16</td>\n",
       "      <td>jack you are a leader and others should emulat...</td>\n",
       "    </tr>\n",
       "    <tr>\n",
       "      <th>16</th>\n",
       "      <td>artificial intelligence startups ask dominic c...</td>\n",
       "      <td>108</td>\n",
       "      <td>14</td>\n",
       "      <td>artificial intelligence startups ask dominic c...</td>\n",
       "    </tr>\n",
       "    <tr>\n",
       "      <th>17</th>\n",
       "      <td>you may be anxious about the recent market vol...</td>\n",
       "      <td>181</td>\n",
       "      <td>31</td>\n",
       "      <td>you may be anxious about the recent market vol...</td>\n",
       "    </tr>\n",
       "    <tr>\n",
       "      <th>18</th>\n",
       "      <td>how can you drive the right kind of traffic to...</td>\n",
       "      <td>153</td>\n",
       "      <td>26</td>\n",
       "      <td>how can you drive the right kind of traffic to...</td>\n",
       "    </tr>\n",
       "    <tr>\n",
       "      <th>19</th>\n",
       "      <td>sofi acquires galileo as coronavirus can't sto...</td>\n",
       "      <td>72</td>\n",
       "      <td>11</td>\n",
       "      <td>sofi acquires galileo as coronavirus cannot st...</td>\n",
       "    </tr>\n",
       "    <tr>\n",
       "      <th>20</th>\n",
       "      <td>many families excluded from benefits – the mon...</td>\n",
       "      <td>63</td>\n",
       "      <td>10</td>\n",
       "      <td>many families excluded from benefits – the mon...</td>\n",
       "    </tr>\n",
       "    <tr>\n",
       "      <th>21</th>\n",
       "      <td>the future of the financial markets after covid</td>\n",
       "      <td>48</td>\n",
       "      <td>8</td>\n",
       "      <td>the future of the financial markets after covid</td>\n",
       "    </tr>\n",
       "    <tr>\n",
       "      <th>22</th>\n",
       "      <td>concerned about your investments during the  c...</td>\n",
       "      <td>130</td>\n",
       "      <td>20</td>\n",
       "      <td>concerned about your investments during the  c...</td>\n",
       "    </tr>\n",
       "    <tr>\n",
       "      <th>23</th>\n",
       "      <td>opus wealth management group with  million in ...</td>\n",
       "      <td>233</td>\n",
       "      <td>34</td>\n",
       "      <td>opus wealth management group with  million in ...</td>\n",
       "    </tr>\n",
       "    <tr>\n",
       "      <th>24</th>\n",
       "      <td>indiana trust wealth management salutes the un...</td>\n",
       "      <td>97</td>\n",
       "      <td>14</td>\n",
       "      <td>indiana trust wealth management salutes the un...</td>\n",
       "    </tr>\n",
       "  </tbody>\n",
       "</table>\n",
       "</div>"
      ],
      "text/plain": [
       "                                                 text  ...                                            cleaned\n",
       "0   the  best investing books of all time  wealth ...  ...  the  best investing books of all time  wealth ...\n",
       "1   opus wealth management group with  million in ...  ...  opus wealth management group with  million in ...\n",
       "2   chatham wealth management partners with local ...  ...  chatham wealth management partners with local ...\n",
       "3   fn's trading and tech awards  the nominees   r...  ...  fns trading and tech awards  the nominees   re...\n",
       "4    if you were born after  this is your full ret...  ...   if you were born after  this is your full ret...\n",
       "5                    insights into wealth management   ...                   insights into wealth management \n",
       "6   while i appreciate the hustle of  and counting...  ...  while i appreciate the hustle of  and counting...\n",
       "7   no its lack of wealth management   little do t...  ...  no its lack of wealth management   little do t...\n",
       "8   mangrove water technologies joins chevron tech...  ...  mangrove water technologies joins chevron tech...\n",
       "9   from thrasher 'the consulting model for a rece...  ...  from thrasher the consulting model for a reces...\n",
       "10  here is a look at the bestperforming stocks of...  ...  here is a look at the bestperforming stocks of...\n",
       "11  covid economic response plan – key points for ...  ...  covid economic response plan – key points for ...\n",
       "12  concerned about recent market volatility join ...  ...  concerned about recent market volatility join ...\n",
       "13             here is your market update for today    ...             here is your market update for today  \n",
       "14  had a great time being a guest on the money sa...  ...  had a great time being a guest on the money sa...\n",
       "15  jack you are a leader and others should emulat...  ...  jack you are a leader and others should emulat...\n",
       "16  artificial intelligence startups ask dominic c...  ...  artificial intelligence startups ask dominic c...\n",
       "17  you may be anxious about the recent market vol...  ...  you may be anxious about the recent market vol...\n",
       "18  how can you drive the right kind of traffic to...  ...  how can you drive the right kind of traffic to...\n",
       "19  sofi acquires galileo as coronavirus can't sto...  ...  sofi acquires galileo as coronavirus cannot st...\n",
       "20  many families excluded from benefits – the mon...  ...  many families excluded from benefits – the mon...\n",
       "21   the future of the financial markets after covid   ...   the future of the financial markets after covid \n",
       "22  concerned about your investments during the  c...  ...  concerned about your investments during the  c...\n",
       "23  opus wealth management group with  million in ...  ...  opus wealth management group with  million in ...\n",
       "24  indiana trust wealth management salutes the un...  ...  indiana trust wealth management salutes the un...\n",
       "\n",
       "[25 rows x 4 columns]"
      ]
     },
     "execution_count": 159,
     "metadata": {
      "tags": []
     },
     "output_type": "execute_result"
    }
   ],
   "source": [
    "tweets.head(25)"
   ]
  },
  {
   "cell_type": "code",
   "execution_count": null,
   "metadata": {
    "colab": {
     "base_uri": "https://localhost:8080/",
     "height": 35
    },
    "colab_type": "code",
    "id": "9ojQOw7KHaab",
    "outputId": "640bbf59-359e-4568-a7dc-12ef3ab62d5b"
   },
   "outputs": [
    {
     "data": {
      "application/vnd.google.colaboratory.intrinsic": {
       "type": "string"
      },
      "text/plain": [
       "'the  best investing books of all time  wealth management  mgmt '"
      ]
     },
     "execution_count": 161,
     "metadata": {
      "tags": []
     },
     "output_type": "execute_result"
    }
   ],
   "source": [
    "tweets['text'][0]"
   ]
  },
  {
   "cell_type": "markdown",
   "metadata": {
    "colab_type": "text",
    "id": "URJ2mZLszp4k"
   },
   "source": [
    "Now after this as a rule make a copy of the tweets dataframe to do any further analysis\n",
    "\n",
    "\n",
    "\n",
    "```\n",
    "tweets_copy1 = tweets.copy()\n",
    "tweets_copy2 = tweets.copy()\n",
    "```"
   ]
  },
  {
   "cell_type": "markdown",
   "metadata": {
    "colab_type": "text",
    "id": "haI3ICMmnRbu"
   },
   "source": [
    "# Removal of StopWords"
   ]
  },
  {
   "cell_type": "code",
   "execution_count": null,
   "metadata": {
    "colab": {},
    "colab_type": "code",
    "id": "RiKqZhwxsIEp"
   },
   "outputs": [],
   "source": [
    "tweets_copy1 = tweets.copy()"
   ]
  },
  {
   "cell_type": "code",
   "execution_count": null,
   "metadata": {
    "colab": {
     "base_uri": "https://localhost:8080/",
     "height": 35
    },
    "colab_type": "code",
    "id": "d-4J39elkXa4",
    "outputId": "34b08c7b-7c50-44d9-d83c-24256d2952f2"
   },
   "outputs": [
    {
     "data": {
      "text/plain": [
       "['i', 'me', 'my', 'myself', 'we']"
      ]
     },
     "execution_count": 190,
     "metadata": {
      "tags": []
     },
     "output_type": "execute_result"
    }
   ],
   "source": [
    "#remove stop words\n",
    "stop_words = stopwords.words('english')\n",
    "stop_words[0:5]"
   ]
  },
  {
   "cell_type": "code",
   "execution_count": null,
   "metadata": {
    "colab": {
     "base_uri": "https://localhost:8080/",
     "height": 381
    },
    "colab_type": "code",
    "id": "ijWFTsVQHaaf",
    "outputId": "7a447ee1-2ee3-4c9a-ca8a-5dc0095082ae"
   },
   "outputs": [
    {
     "data": {
      "text/plain": [
       "0                        best investing books time mgmt\n",
       "1     opus group million assets joins level four adv...\n",
       "2     chatham partners local smoke bbq feed frontlin...\n",
       "3                 fns trading tech awards nominees read\n",
       "4                              born full retirement age\n",
       "5                                              insights\n",
       "6     appreciate hustle counting folks asked connect...\n",
       "7             lack little olodo politicians elites know\n",
       "8     mangrove water technologies joins chevron tech...\n",
       "9     thrasher consulting model recession new forhir...\n",
       "10         look bestperforming stocks virus low tuesday\n",
       "11    covid economic response plan – key points busi...\n",
       "12    concerned recent market volatility join econom...\n",
       "13                                  market update today\n",
       "14    great time guest money savage podcast differen...\n",
       "15           jack leader others emulate let call action\n",
       "16    artificial intelligence startups ask dominic c...\n",
       "17    anxious recent market volatility important rem...\n",
       "18    drive right kind traffic website expensive onl...\n",
       "19    sofi acquires galileo coronavirus cannot stop ...\n",
       "Name: cleaned, dtype: object"
      ]
     },
     "execution_count": 191,
     "metadata": {
      "tags": []
     },
     "output_type": "execute_result"
    }
   ],
   "source": [
    "not_stopwords = ['not']\n",
    "common_words =['please',\n",
    "               'the','would','could','can','may','must', 'should'\n",
    "              # 'us','i','you','this','we','me','that','it',\n",
    "               'de','s','pic','t','m','en','la','que','don','re','e','el','ca', 'wealth', 'management']\n",
    "stop_words.extend(word for word in common_words if word not in stop_words)\n",
    "final_stop_words = set([word for word in stop_words if word not in not_stopwords])\n",
    "tweets_copy1.cleaned = tweets_copy1.cleaned.apply(lambda x: ' '.join([word for word in x.split() if word not in final_stop_words]))\n",
    "    \n",
    "tweets_copy1['cleaned'].head(20)"
   ]
  },
  {
   "cell_type": "code",
   "execution_count": null,
   "metadata": {
    "colab": {
     "base_uri": "https://localhost:8080/",
     "height": 381
    },
    "colab_type": "code",
    "id": "XjtiFbfwHaai",
    "outputId": "c32cc7d0-d190-4069-e187-232781a0926e"
   },
   "outputs": [
    {
     "data": {
      "text/plain": [
       "0                        best investing books time mgmt\n",
       "1     opus group million assets joins level four adv...\n",
       "2     chatham partners local smoke bbq feed frontlin...\n",
       "3                 fns trading tech awards nominees read\n",
       "4                              born full retirement age\n",
       "5                                              insights\n",
       "6     appreciate hustle counting folks asked connect...\n",
       "7             lack little olodo politicians elites know\n",
       "8     mangrove water technologies joins chevron tech...\n",
       "9     thrasher consulting model recession new forhir...\n",
       "10         look bestperforming stocks virus low tuesday\n",
       "11    covid economic response plan – key points busi...\n",
       "12    concerned recent market volatility join econom...\n",
       "13                                  market update today\n",
       "14    great time guest money savage podcast differen...\n",
       "15           jack leader others emulate let call action\n",
       "16    artificial intelligence startups ask dominic c...\n",
       "17    anxious recent market volatility important rem...\n",
       "18    drive right kind traffic website expensive onl...\n",
       "19    sofi acquires galileo coronavirus cannot stop ...\n",
       "Name: cleaned, dtype: object"
      ]
     },
     "execution_count": 192,
     "metadata": {
      "tags": []
     },
     "output_type": "execute_result"
    }
   ],
   "source": [
    "# remove whitespace and punctuations\n",
    "rm_punc = re.compile(r\"(\\W)\")\n",
    "rm_space = re.compile(r\"(\\s+)\")\n",
    "tweets_copy1.text = tweets_copy1.text.apply(lambda x: rm_punc.sub(' ', x))\n",
    "tweets_copy1.text = tweets_copy1.text.apply(lambda x: rm_space.sub(' ', x))\n",
    "tweets_copy1.text = tweets_copy1.text.apply(lambda x: rm_apos.sub(' ', x))\n",
    "tweets_copy1['cleaned'].head(20)"
   ]
  },
  {
   "cell_type": "code",
   "execution_count": null,
   "metadata": {
    "colab": {
     "base_uri": "https://localhost:8080/",
     "height": 121
    },
    "colab_type": "code",
    "id": "nebWv2nNlMfJ",
    "outputId": "3003266c-5d01-467c-f583-f0438d8c5a12"
   },
   "outputs": [
    {
     "data": {
      "text/plain": [
       "0                       best investing books time mgmt\n",
       "1    opus group million assets joins level four adv...\n",
       "2    chatham partners local smoke bbq feed frontlin...\n",
       "3                fns trading tech awards nominees read\n",
       "4                             born full retirement age\n",
       "Name: cleaned, dtype: object"
      ]
     },
     "execution_count": 193,
     "metadata": {
      "tags": []
     },
     "output_type": "execute_result"
    }
   ],
   "source": [
    "stop_words.extend(word for word in common_words if word not in stop_words)\n",
    "final_stop_words = set([word for word in stop_words if word not in not_stopwords])\n",
    "tweets_copy1.cleaned = tweets_copy1.cleaned.apply(lambda x: ' '.join([word for word in x.split() if word not in final_stop_words]))\n",
    "    \n",
    "tweets_copy1['cleaned'].head()"
   ]
  },
  {
   "cell_type": "code",
   "execution_count": null,
   "metadata": {
    "colab": {
     "base_uri": "https://localhost:8080/",
     "height": 254
    },
    "colab_type": "code",
    "id": "u7Sti7foOJ0M",
    "outputId": "cb7717b7-f1d8-4613-f0c7-8b0450d32208"
   },
   "outputs": [
    {
     "data": {
      "text/html": [
       "<div>\n",
       "<style scoped>\n",
       "    .dataframe tbody tr th:only-of-type {\n",
       "        vertical-align: middle;\n",
       "    }\n",
       "\n",
       "    .dataframe tbody tr th {\n",
       "        vertical-align: top;\n",
       "    }\n",
       "\n",
       "    .dataframe thead th {\n",
       "        text-align: right;\n",
       "    }\n",
       "</style>\n",
       "<table border=\"1\" class=\"dataframe\">\n",
       "  <thead>\n",
       "    <tr style=\"text-align: right;\">\n",
       "      <th></th>\n",
       "      <th>text</th>\n",
       "      <th>text_len</th>\n",
       "      <th>word_count</th>\n",
       "      <th>cleaned</th>\n",
       "      <th>sw_clean</th>\n",
       "      <th>text_lemmatized</th>\n",
       "    </tr>\n",
       "  </thead>\n",
       "  <tbody>\n",
       "    <tr>\n",
       "      <th>0</th>\n",
       "      <td>the  best investing books of all time  wealth ...</td>\n",
       "      <td>63</td>\n",
       "      <td>10</td>\n",
       "      <td>the  best investing books of all time  wealth ...</td>\n",
       "      <td>best investing books time mgmt</td>\n",
       "      <td>[best, investing, book, time, mgmt]</td>\n",
       "    </tr>\n",
       "    <tr>\n",
       "      <th>1</th>\n",
       "      <td>opus wealth management group with  million in ...</td>\n",
       "      <td>105</td>\n",
       "      <td>15</td>\n",
       "      <td>opus wealth management group with  million in ...</td>\n",
       "      <td>opus group million assets joins level four adv...</td>\n",
       "      <td>[opus, group, million, asset, join, level, fou...</td>\n",
       "    </tr>\n",
       "    <tr>\n",
       "      <th>2</th>\n",
       "      <td>chatham wealth management partners with local ...</td>\n",
       "      <td>83</td>\n",
       "      <td>12</td>\n",
       "      <td>chatham wealth management partners with local ...</td>\n",
       "      <td>chatham partners local smoke bbq feed frontlin...</td>\n",
       "      <td>[chatham, partner, local, smoke, bbq, feed, fr...</td>\n",
       "    </tr>\n",
       "    <tr>\n",
       "      <th>3</th>\n",
       "      <td>fns trading and tech awards  the nominees   re...</td>\n",
       "      <td>55</td>\n",
       "      <td>9</td>\n",
       "      <td>fns trading and tech awards  the nominees   re...</td>\n",
       "      <td>fns trading tech awards nominees read</td>\n",
       "      <td>[fns, trading, tech, award, nominee, read]</td>\n",
       "    </tr>\n",
       "    <tr>\n",
       "      <th>4</th>\n",
       "      <td>if you were born after  this is your full ret...</td>\n",
       "      <td>64</td>\n",
       "      <td>11</td>\n",
       "      <td>if you were born after  this is your full ret...</td>\n",
       "      <td>born full retirement age</td>\n",
       "      <td>[born, full, retirement, age]</td>\n",
       "    </tr>\n",
       "  </tbody>\n",
       "</table>\n",
       "</div>"
      ],
      "text/plain": [
       "                                                text  ...                                    text_lemmatized\n",
       "0  the  best investing books of all time  wealth ...  ...                [best, investing, book, time, mgmt]\n",
       "1  opus wealth management group with  million in ...  ...  [opus, group, million, asset, join, level, fou...\n",
       "2  chatham wealth management partners with local ...  ...  [chatham, partner, local, smoke, bbq, feed, fr...\n",
       "3  fns trading and tech awards  the nominees   re...  ...         [fns, trading, tech, award, nominee, read]\n",
       "4   if you were born after  this is your full ret...  ...                      [born, full, retirement, age]\n",
       "\n",
       "[5 rows x 6 columns]"
      ]
     },
     "execution_count": 194,
     "metadata": {
      "tags": []
     },
     "output_type": "execute_result"
    }
   ],
   "source": [
    "#new column with a stopwords less column\n",
    "tweets['sw_clean'] = tweets_copy1['cleaned']\n",
    "tweets.head()"
   ]
  },
  {
   "cell_type": "markdown",
   "metadata": {
    "colab_type": "text",
    "id": "WbvqyMFJxHub"
   },
   "source": [
    "Not needed rn\n",
    "\n",
    "```\n",
    "wm_new = wm_final.drop(columns = ['text'])\n",
    "wm_new['text'] = tweets['text']\n",
    "wm_new = wm_new.drop('Unnamed: 0',axis=1)\n",
    "\n",
    "wm_final = wm_final.drop(columns = ['text'])\n",
    "wm_final['text'] = tweets['text']\n",
    "wm_final = wm_final.drop('Unnamed: 0',axis=1)\n",
    "\n",
    "wm_new.head()\n",
    "```\n",
    "\n"
   ]
  },
  {
   "cell_type": "markdown",
   "metadata": {
    "colab_type": "text",
    "id": "qjyVoHBfPAeW"
   },
   "source": [
    "# Lemmatization"
   ]
  },
  {
   "cell_type": "code",
   "execution_count": null,
   "metadata": {
    "colab": {},
    "colab_type": "code",
    "id": "MtFc4fmQO_-M"
   },
   "outputs": [],
   "source": [
    "w_tokenizer = nltk.tokenize.WhitespaceTokenizer()\n",
    "lemmatizer = nltk.stem.WordNetLemmatizer()\n",
    "\n",
    "def lemmatize_text(text):\n",
    "  return [lemmatizer.lemmatize(w) for w in w_tokenizer.tokenize(text)]\n",
    "\n",
    "\n",
    "\n",
    "tweets['text_lemmatized'] = tweets.sw_clean.apply(lemmatize_text)\n"
   ]
  },
  {
   "cell_type": "code",
   "execution_count": null,
   "metadata": {
    "colab": {
     "base_uri": "https://localhost:8080/",
     "height": 289
    },
    "colab_type": "code",
    "id": "YzU3JmRAWha0",
    "outputId": "09caa743-c81d-4ccb-8c1e-96f233052277"
   },
   "outputs": [
    {
     "data": {
      "text/html": [
       "<div>\n",
       "<style scoped>\n",
       "    .dataframe tbody tr th:only-of-type {\n",
       "        vertical-align: middle;\n",
       "    }\n",
       "\n",
       "    .dataframe tbody tr th {\n",
       "        vertical-align: top;\n",
       "    }\n",
       "\n",
       "    .dataframe thead th {\n",
       "        text-align: right;\n",
       "    }\n",
       "</style>\n",
       "<table border=\"1\" class=\"dataframe\">\n",
       "  <thead>\n",
       "    <tr style=\"text-align: right;\">\n",
       "      <th></th>\n",
       "      <th>text</th>\n",
       "      <th>text_len</th>\n",
       "      <th>word_count</th>\n",
       "      <th>cleaned</th>\n",
       "      <th>sw_clean</th>\n",
       "      <th>text_lemmatized</th>\n",
       "    </tr>\n",
       "  </thead>\n",
       "  <tbody>\n",
       "    <tr>\n",
       "      <th>0</th>\n",
       "      <td>the  best investing books of all time  wealth ...</td>\n",
       "      <td>63</td>\n",
       "      <td>10</td>\n",
       "      <td>the  best investing books of all time  wealth ...</td>\n",
       "      <td>best investing books time mgmt</td>\n",
       "      <td>[best, investing, book, time, mgmt]</td>\n",
       "    </tr>\n",
       "    <tr>\n",
       "      <th>1</th>\n",
       "      <td>opus wealth management group with  million in ...</td>\n",
       "      <td>105</td>\n",
       "      <td>15</td>\n",
       "      <td>opus wealth management group with  million in ...</td>\n",
       "      <td>opus group million assets joins level four adv...</td>\n",
       "      <td>[opus, group, million, asset, join, level, fou...</td>\n",
       "    </tr>\n",
       "    <tr>\n",
       "      <th>2</th>\n",
       "      <td>chatham wealth management partners with local ...</td>\n",
       "      <td>83</td>\n",
       "      <td>12</td>\n",
       "      <td>chatham wealth management partners with local ...</td>\n",
       "      <td>chatham partners local smoke bbq feed frontlin...</td>\n",
       "      <td>[chatham, partner, local, smoke, bbq, feed, fr...</td>\n",
       "    </tr>\n",
       "    <tr>\n",
       "      <th>3</th>\n",
       "      <td>fns trading and tech awards  the nominees   re...</td>\n",
       "      <td>55</td>\n",
       "      <td>9</td>\n",
       "      <td>fns trading and tech awards  the nominees   re...</td>\n",
       "      <td>fns trading tech awards nominees read</td>\n",
       "      <td>[fns, trading, tech, award, nominee, read]</td>\n",
       "    </tr>\n",
       "    <tr>\n",
       "      <th>4</th>\n",
       "      <td>if you were born after  this is your full ret...</td>\n",
       "      <td>64</td>\n",
       "      <td>11</td>\n",
       "      <td>if you were born after  this is your full ret...</td>\n",
       "      <td>born full retirement age</td>\n",
       "      <td>[born, full, retirement, age]</td>\n",
       "    </tr>\n",
       "  </tbody>\n",
       "</table>\n",
       "</div>"
      ],
      "text/plain": [
       "                                                text  ...                                    text_lemmatized\n",
       "0  the  best investing books of all time  wealth ...  ...                [best, investing, book, time, mgmt]\n",
       "1  opus wealth management group with  million in ...  ...  [opus, group, million, asset, join, level, fou...\n",
       "2  chatham wealth management partners with local ...  ...  [chatham, partner, local, smoke, bbq, feed, fr...\n",
       "3  fns trading and tech awards  the nominees   re...  ...         [fns, trading, tech, award, nominee, read]\n",
       "4   if you were born after  this is your full ret...  ...                      [born, full, retirement, age]\n",
       "\n",
       "[5 rows x 6 columns]"
      ]
     },
     "execution_count": 196,
     "metadata": {
      "tags": []
     },
     "output_type": "execute_result"
    }
   ],
   "source": [
    "tweets.head()"
   ]
  },
  {
   "cell_type": "markdown",
   "metadata": {
    "colab_type": "text",
    "id": "8k1YdrMEPmGe"
   },
   "source": [
    "# POS tagging and Sentiment **Labeling**\n",
    "\n",
    "[Swachh Bharat Sentiment Analysis on Twitter Data](https://towardsdatascience.com/sentiment-analysis-on-swachh-bharat-using-twitter-216369cfa534)\n",
    "\n",
    "Check out tfidf and sentiment analysis in the above link"
   ]
  },
  {
   "cell_type": "code",
   "execution_count": null,
   "metadata": {
    "colab": {
     "base_uri": "https://localhost:8080/",
     "height": 271
    },
    "colab_type": "code",
    "id": "6BAwvby5Pt2q",
    "outputId": "094d13fc-289a-4653-a5ed-0ef52ebd7b54"
   },
   "outputs": [
    {
     "data": {
      "text/html": [
       "<div>\n",
       "<style scoped>\n",
       "    .dataframe tbody tr th:only-of-type {\n",
       "        vertical-align: middle;\n",
       "    }\n",
       "\n",
       "    .dataframe tbody tr th {\n",
       "        vertical-align: top;\n",
       "    }\n",
       "\n",
       "    .dataframe thead th {\n",
       "        text-align: right;\n",
       "    }\n",
       "</style>\n",
       "<table border=\"1\" class=\"dataframe\">\n",
       "  <thead>\n",
       "    <tr style=\"text-align: right;\">\n",
       "      <th></th>\n",
       "      <th>text</th>\n",
       "      <th>text_len</th>\n",
       "      <th>word_count</th>\n",
       "      <th>cleaned</th>\n",
       "      <th>sw_clean</th>\n",
       "    </tr>\n",
       "  </thead>\n",
       "  <tbody>\n",
       "    <tr>\n",
       "      <th>0</th>\n",
       "      <td>the  best investing books of all time  wealth ...</td>\n",
       "      <td>63</td>\n",
       "      <td>10</td>\n",
       "      <td>the  best investing books of all time  wealth ...</td>\n",
       "      <td>best investing books time mgmt</td>\n",
       "    </tr>\n",
       "    <tr>\n",
       "      <th>1</th>\n",
       "      <td>opus wealth management group with  million in ...</td>\n",
       "      <td>105</td>\n",
       "      <td>15</td>\n",
       "      <td>opus wealth management group with  million in ...</td>\n",
       "      <td>opus group million assets joins level four adv...</td>\n",
       "    </tr>\n",
       "    <tr>\n",
       "      <th>2</th>\n",
       "      <td>chatham wealth management partners with local ...</td>\n",
       "      <td>83</td>\n",
       "      <td>12</td>\n",
       "      <td>chatham wealth management partners with local ...</td>\n",
       "      <td>chatham partners local smoke bbq feed frontlin...</td>\n",
       "    </tr>\n",
       "    <tr>\n",
       "      <th>3</th>\n",
       "      <td>fns trading and tech awards  the nominees   re...</td>\n",
       "      <td>55</td>\n",
       "      <td>9</td>\n",
       "      <td>fns trading and tech awards  the nominees   re...</td>\n",
       "      <td>fns trading tech awards nominees read</td>\n",
       "    </tr>\n",
       "    <tr>\n",
       "      <th>4</th>\n",
       "      <td>if you were born after  this is your full ret...</td>\n",
       "      <td>64</td>\n",
       "      <td>11</td>\n",
       "      <td>if you were born after  this is your full ret...</td>\n",
       "      <td>born full retirement age</td>\n",
       "    </tr>\n",
       "  </tbody>\n",
       "</table>\n",
       "</div>"
      ],
      "text/plain": [
       "                                                text  ...                                           sw_clean\n",
       "0  the  best investing books of all time  wealth ...  ...                     best investing books time mgmt\n",
       "1  opus wealth management group with  million in ...  ...  opus group million assets joins level four adv...\n",
       "2  chatham wealth management partners with local ...  ...  chatham partners local smoke bbq feed frontlin...\n",
       "3  fns trading and tech awards  the nominees   re...  ...              fns trading tech awards nominees read\n",
       "4   if you were born after  this is your full ret...  ...                           born full retirement age\n",
       "\n",
       "[5 rows x 5 columns]"
      ]
     },
     "execution_count": 176,
     "metadata": {
      "tags": []
     },
     "output_type": "execute_result"
    }
   ],
   "source": [
    "tweets_copy = tweets.copy()\n",
    "tweets_copy.head()"
   ]
  },
  {
   "cell_type": "code",
   "execution_count": null,
   "metadata": {
    "colab": {},
    "colab_type": "code",
    "id": "vDxIXT92SN9d"
   },
   "outputs": [],
   "source": [
    "from nltk.tag import pos_tag\n",
    "from nltk.tag import map_tag"
   ]
  },
  {
   "cell_type": "markdown",
   "metadata": {
    "colab_type": "text",
    "id": "vkgcSvfckW6k"
   },
   "source": [
    "Need to work on this."
   ]
  },
  {
   "cell_type": "code",
   "execution_count": null,
   "metadata": {
    "colab": {},
    "colab_type": "code",
    "id": "2aWiOHOBUE-f"
   },
   "outputs": [],
   "source": [
    "li_swn = []\n",
    "li_swn_pos = []\n",
    "li_swn_neg = []\n",
    "missing_words = []\n",
    "\n",
    "for i in range(len(tweets_copy.index)):\n",
    "  text = tweets_copy.loc[i]['sw_clean']\n",
    "  tokens = nltk.word_tokenize(text)\n",
    "  tagged_sent = pos_tag(tokens)\n",
    "  store_it = [(word, map_tag('en-ptb', 'universal', tag)) for word, tag in tagged_sent]\n",
    "\n",
    "  pos_total = 0\n",
    "  neg_total = 0\n",
    "  for word,tag in store_it:\n",
    "    if (tag == 'NOUN'):\n",
    "      tag = 'n'\n",
    "    elif (tag == 'VERB'):\n",
    "      tag = 'v'\n",
    "    elif (tag == 'ADJ'):\n",
    "      tag = 'a'\n",
    "    elif (tag == 'ADV'):\n",
    "      tag = 'r'\n",
    "    else:\n",
    "      tag = 'nothing'\n",
    "    this_word_pos = 0\n",
    "    this_word_neg = 0\n",
    "    if (tag!='nothing'):\n",
    "      concat = word+'.'+tag+'.01'\n",
    "      try:\n",
    "        this_word_pos = swn.senti_synset(concat).pos_score()\n",
    "        this_word_neg = swn.senti_synset(concat).neg_score()\n",
    "        #print(word,tag,':',this_word_pos,this_word_neg)\n",
    "      except Exception as e:\n",
    "        wor = lem.lemmatize(word)\n",
    "        concat = wor+'.'+tag+'.01'\n",
    "        # Checking if there's a possiblity of lemmatized word be accepted into SWN corpus\n",
    "        try:\n",
    "          this_word_pos = swn.senti_synset(concat).pos_score()\n",
    "          this_word_neg = swn.senti_synset(concat).neg_score()\n",
    "        except Exception as e:\n",
    "          wor = pstem.stem(word)\n",
    "          concat = wor+'.'+tag+'.01'\n",
    "          # Checking if there's a possiblity of lemmatized word be accepted\n",
    "          try:\n",
    "            this_word_pos = swn.senti_synset(concat).pos_score()\n",
    "            this_word_neg = swn.senti_synset(concat).neg_score()\n",
    "          except:\n",
    "            missing_words.append(word)\n",
    "            continue\n",
    "    pos_total+=this_word_pos\n",
    "    neg_total+=this_word_neg\n",
    "  \n",
    "  li_swn_pos.append(pos_total)\n",
    "  li_swn_neg.append(neg_total)\n",
    "\n",
    "  if (pos_total!=0 or neg_total!=0):\n",
    "    if (pos_total>neg_total):\n",
    "      li_swn.append(1)\n",
    "    else:\n",
    "      li_swn.append(-1)\n",
    "  else:\n",
    "    li_swn.append(0)\n",
    "\n",
    "tweets_copy.insert(5,\"pos_score\",li_swn_pos,True)\n",
    "tweets_copy.insert(6,\"neg_score\",li_swn_neg,True)\n",
    "tweets_copy.insert(7,\"sent_score\",li_swn,True)\n",
    "\n",
    "\n",
    "\n"
   ]
  },
  {
   "cell_type": "code",
   "execution_count": null,
   "metadata": {
    "colab": {
     "base_uri": "https://localhost:8080/",
     "height": 497
    },
    "colab_type": "code",
    "id": "-0rF-2azUOxQ",
    "outputId": "0815254e-c21a-4d2d-922f-906aacad6834"
   },
   "outputs": [
    {
     "data": {
      "text/html": [
       "<div>\n",
       "<style scoped>\n",
       "    .dataframe tbody tr th:only-of-type {\n",
       "        vertical-align: middle;\n",
       "    }\n",
       "\n",
       "    .dataframe tbody tr th {\n",
       "        vertical-align: top;\n",
       "    }\n",
       "\n",
       "    .dataframe thead th {\n",
       "        text-align: right;\n",
       "    }\n",
       "</style>\n",
       "<table border=\"1\" class=\"dataframe\">\n",
       "  <thead>\n",
       "    <tr style=\"text-align: right;\">\n",
       "      <th></th>\n",
       "      <th>text</th>\n",
       "      <th>text_len</th>\n",
       "      <th>word_count</th>\n",
       "      <th>cleaned</th>\n",
       "      <th>sw_clean</th>\n",
       "      <th>pos_score</th>\n",
       "      <th>neg_score</th>\n",
       "      <th>sent_score</th>\n",
       "      <th>pos_score</th>\n",
       "      <th>neg_score</th>\n",
       "      <th>sent_score</th>\n",
       "    </tr>\n",
       "  </thead>\n",
       "  <tbody>\n",
       "    <tr>\n",
       "      <th>0</th>\n",
       "      <td>the  best investing books of all time  wealth ...</td>\n",
       "      <td>63</td>\n",
       "      <td>10</td>\n",
       "      <td>the  best investing books of all time  wealth ...</td>\n",
       "      <td>best investing books time mgmt</td>\n",
       "      <td>0</td>\n",
       "      <td>0</td>\n",
       "      <td>0</td>\n",
       "      <td>0</td>\n",
       "      <td>0</td>\n",
       "      <td>0</td>\n",
       "    </tr>\n",
       "    <tr>\n",
       "      <th>1</th>\n",
       "      <td>opus wealth management group with  million in ...</td>\n",
       "      <td>105</td>\n",
       "      <td>15</td>\n",
       "      <td>opus wealth management group with  million in ...</td>\n",
       "      <td>opus group million assets joins level four adv...</td>\n",
       "      <td>0</td>\n",
       "      <td>0</td>\n",
       "      <td>0</td>\n",
       "      <td>0</td>\n",
       "      <td>0</td>\n",
       "      <td>0</td>\n",
       "    </tr>\n",
       "    <tr>\n",
       "      <th>2</th>\n",
       "      <td>chatham wealth management partners with local ...</td>\n",
       "      <td>83</td>\n",
       "      <td>12</td>\n",
       "      <td>chatham wealth management partners with local ...</td>\n",
       "      <td>chatham partners local smoke bbq feed frontlin...</td>\n",
       "      <td>0</td>\n",
       "      <td>0</td>\n",
       "      <td>0</td>\n",
       "      <td>0</td>\n",
       "      <td>0</td>\n",
       "      <td>0</td>\n",
       "    </tr>\n",
       "    <tr>\n",
       "      <th>3</th>\n",
       "      <td>fns trading and tech awards  the nominees   re...</td>\n",
       "      <td>55</td>\n",
       "      <td>9</td>\n",
       "      <td>fns trading and tech awards  the nominees   re...</td>\n",
       "      <td>fns trading tech awards nominees read</td>\n",
       "      <td>0</td>\n",
       "      <td>0</td>\n",
       "      <td>0</td>\n",
       "      <td>0</td>\n",
       "      <td>0</td>\n",
       "      <td>0</td>\n",
       "    </tr>\n",
       "    <tr>\n",
       "      <th>4</th>\n",
       "      <td>if you were born after  this is your full ret...</td>\n",
       "      <td>64</td>\n",
       "      <td>11</td>\n",
       "      <td>if you were born after  this is your full ret...</td>\n",
       "      <td>born full retirement age</td>\n",
       "      <td>0</td>\n",
       "      <td>0</td>\n",
       "      <td>0</td>\n",
       "      <td>0</td>\n",
       "      <td>0</td>\n",
       "      <td>0</td>\n",
       "    </tr>\n",
       "  </tbody>\n",
       "</table>\n",
       "</div>"
      ],
      "text/plain": [
       "                                                text  ...  sent_score\n",
       "0  the  best investing books of all time  wealth ...  ...           0\n",
       "1  opus wealth management group with  million in ...  ...           0\n",
       "2  chatham wealth management partners with local ...  ...           0\n",
       "3  fns trading and tech awards  the nominees   re...  ...           0\n",
       "4   if you were born after  this is your full ret...  ...           0\n",
       "\n",
       "[5 rows x 11 columns]"
      ]
     },
     "execution_count": 181,
     "metadata": {
      "tags": []
     },
     "output_type": "execute_result"
    }
   ],
   "source": [
    "tweets_copy.head()"
   ]
  },
  {
   "cell_type": "markdown",
   "metadata": {
    "colab_type": "text",
    "id": "-Y7ZuKveHaan"
   },
   "source": [
    "# Sentiment Analysis\n",
    "\n",
    "[Spacy Documentation](https://spacy.io/usage/spacy-101)"
   ]
  },
  {
   "cell_type": "code",
   "execution_count": null,
   "metadata": {
    "colab": {
     "base_uri": "https://localhost:8080/",
     "height": 381
    },
    "colab_type": "code",
    "id": "VG70BM46Haao",
    "outputId": "a5213732-7121-423f-aa87-32c06f239836"
   },
   "outputs": [
    {
     "name": "stderr",
     "output_type": "stream",
     "text": [
      "/usr/local/lib/python3.6/dist-packages/ipykernel_launcher.py:6: SettingWithCopyWarning:\n",
      "\n",
      "\n",
      "A value is trying to be set on a copy of a slice from a DataFrame\n",
      "\n",
      "See the caveats in the documentation: https://pandas.pydata.org/pandas-docs/stable/user_guide/indexing.html#returning-a-view-versus-a-copy\n",
      "\n",
      "/usr/local/lib/python3.6/dist-packages/ipykernel_launcher.py:7: SettingWithCopyWarning:\n",
      "\n",
      "\n",
      "A value is trying to be set on a copy of a slice from a DataFrame\n",
      "\n",
      "See the caveats in the documentation: https://pandas.pydata.org/pandas-docs/stable/user_guide/indexing.html#returning-a-view-versus-a-copy\n",
      "\n",
      "/usr/local/lib/python3.6/dist-packages/ipykernel_launcher.py:8: SettingWithCopyWarning:\n",
      "\n",
      "\n",
      "A value is trying to be set on a copy of a slice from a DataFrame\n",
      "\n",
      "See the caveats in the documentation: https://pandas.pydata.org/pandas-docs/stable/user_guide/indexing.html#returning-a-view-versus-a-copy\n",
      "\n"
     ]
    }
   ],
   "source": [
    "# get the polarity of each text\n",
    "tweets['polarity'] = tweets.text.map(lambda text: TextBlob(text).sentiment.polarity)\n",
    "\n",
    "# classify sentiment into positive and negative ones\n",
    "tweets['sentiment'] = ''\n",
    "tweets['sentiment'][tweets['polarity'] > 0] = 'positive'\n",
    "tweets['sentiment'][tweets['polarity'] == 0] = 'neutral'\n",
    "tweets['sentiment'][tweets['polarity'] < 0] = 'negative'"
   ]
  },
  {
   "cell_type": "code",
   "execution_count": null,
   "metadata": {
    "colab": {
     "base_uri": "https://localhost:8080/",
     "height": 202
    },
    "colab_type": "code",
    "id": "joh1obI2Haar",
    "outputId": "0a03c5cb-0531-4a34-c978-776037133d63"
   },
   "outputs": [
    {
     "data": {
      "text/html": [
       "<div>\n",
       "<style scoped>\n",
       "    .dataframe tbody tr th:only-of-type {\n",
       "        vertical-align: middle;\n",
       "    }\n",
       "\n",
       "    .dataframe tbody tr th {\n",
       "        vertical-align: top;\n",
       "    }\n",
       "\n",
       "    .dataframe thead th {\n",
       "        text-align: right;\n",
       "    }\n",
       "</style>\n",
       "<table border=\"1\" class=\"dataframe\">\n",
       "  <thead>\n",
       "    <tr style=\"text-align: right;\">\n",
       "      <th></th>\n",
       "      <th>text</th>\n",
       "      <th>text_len</th>\n",
       "      <th>word_count</th>\n",
       "      <th>date</th>\n",
       "      <th>time</th>\n",
       "      <th>polarity</th>\n",
       "      <th>sentiment</th>\n",
       "    </tr>\n",
       "  </thead>\n",
       "  <tbody>\n",
       "    <tr>\n",
       "      <th>0</th>\n",
       "      <td>best investing books time wealth management mgmt</td>\n",
       "      <td>63</td>\n",
       "      <td>10</td>\n",
       "      <td>2020-04-07</td>\n",
       "      <td>23-45-14</td>\n",
       "      <td>1.00</td>\n",
       "      <td>positive</td>\n",
       "    </tr>\n",
       "    <tr>\n",
       "      <th>1</th>\n",
       "      <td>opus wealth management group million assets ma...</td>\n",
       "      <td>105</td>\n",
       "      <td>15</td>\n",
       "      <td>2020-04-07</td>\n",
       "      <td>23-42-21</td>\n",
       "      <td>0.00</td>\n",
       "      <td>neutral</td>\n",
       "    </tr>\n",
       "    <tr>\n",
       "      <th>2</th>\n",
       "      <td>chatham wealth management partners local smoke...</td>\n",
       "      <td>83</td>\n",
       "      <td>12</td>\n",
       "      <td>2020-04-07</td>\n",
       "      <td>23-41-10</td>\n",
       "      <td>0.00</td>\n",
       "      <td>neutral</td>\n",
       "    </tr>\n",
       "    <tr>\n",
       "      <th>3</th>\n",
       "      <td>fn trading tech awards nominees read</td>\n",
       "      <td>55</td>\n",
       "      <td>9</td>\n",
       "      <td>2020-04-07</td>\n",
       "      <td>23-32-57</td>\n",
       "      <td>0.00</td>\n",
       "      <td>neutral</td>\n",
       "    </tr>\n",
       "    <tr>\n",
       "      <th>4</th>\n",
       "      <td>born full retirement age</td>\n",
       "      <td>64</td>\n",
       "      <td>11</td>\n",
       "      <td>2020-04-07</td>\n",
       "      <td>23-30-01</td>\n",
       "      <td>0.35</td>\n",
       "      <td>positive</td>\n",
       "    </tr>\n",
       "  </tbody>\n",
       "</table>\n",
       "</div>"
      ],
      "text/plain": [
       "                                                text  ...  sentiment\n",
       "0   best investing books time wealth management mgmt  ...   positive\n",
       "1  opus wealth management group million assets ma...  ...    neutral\n",
       "2  chatham wealth management partners local smoke...  ...    neutral\n",
       "3               fn trading tech awards nominees read  ...    neutral\n",
       "4                           born full retirement age  ...   positive\n",
       "\n",
       "[5 rows x 7 columns]"
      ]
     },
     "execution_count": 228,
     "metadata": {
      "tags": []
     },
     "output_type": "execute_result"
    }
   ],
   "source": [
    "tweets.head()"
   ]
  },
  {
   "cell_type": "code",
   "execution_count": null,
   "metadata": {
    "colab": {
     "base_uri": "https://localhost:8080/",
     "height": 355
    },
    "colab_type": "code",
    "id": "Pt628EFKHaav",
    "outputId": "0540399b-1fea-4f32-b61c-eb2bb5d3d9f0"
   },
   "outputs": [
    {
     "data": {
      "text/plain": [
       "(0.0, 1000.0)"
      ]
     },
     "execution_count": 229,
     "metadata": {
      "tags": []
     },
     "output_type": "execute_result"
    },
    {
     "data": {
      "image/png": "[encoded data removed]",
      "text/plain": [
       "<Figure size 864x360 with 1 Axes>"
      ]
     },
     "metadata": {
      "needs_background": "light",
      "tags": []
     },
     "output_type": "display_data"
    }
   ],
   "source": [
    "fig = plt.figure(figsize=(12,5))\n",
    "sns.distplot(tweets['polarity'],kde = False)\n",
    "plt.ylim(0, 1000)"
   ]
  },
  {
   "cell_type": "code",
   "execution_count": null,
   "metadata": {
    "colab": {
     "base_uri": "https://localhost:8080/",
     "height": 104
    },
    "colab_type": "code",
    "id": "SIbbGUoFHaay",
    "outputId": "872c608a-dd66-421f-e054-5dae2757b5ea"
   },
   "outputs": [
    {
     "data": {
      "text/plain": [
       "sentiment\n",
       "negative     4195\n",
       "neutral     23089\n",
       "positive    18204\n",
       "Name: text, dtype: int64"
      ]
     },
     "execution_count": 230,
     "metadata": {
      "tags": []
     },
     "output_type": "execute_result"
    }
   ],
   "source": [
    "# Sentiment \n",
    "tweets.groupby('sentiment').text.count()"
   ]
  },
  {
   "cell_type": "code",
   "execution_count": null,
   "metadata": {
    "colab": {
     "base_uri": "https://localhost:8080/",
     "height": 373
    },
    "colab_type": "code",
    "id": "keqGPXyrHaa1",
    "outputId": "08866ccb-4442-4435-eb93-e930e17f2992"
   },
   "outputs": [
    {
     "data": {
      "image/png": "[encoded data removed]",
      "text/plain": [
       "<Figure size 432x432 with 1 Axes>"
      ]
     },
     "metadata": {
      "tags": []
     },
     "output_type": "display_data"
    }
   ],
   "source": [
    "# draw a pie chart to show the ratio of 'Negative', 'Neutral' and 'Positive' tweets\n",
    "fig = plt.figure(figsize=(6,6))\n",
    "labels = 'Negative', 'Neutral', 'Positive'\n",
    "sizes = tweets.groupby('sentiment').text.count().values\n",
    "colors = ['gold', 'lightcoral', 'lightskyblue']\n",
    "explode = (0.1, 0, 0) \n",
    "\n",
    "# Plot\n",
    "plt.pie(sizes, explode=explode, labels=labels, colors=colors,\n",
    "autopct='%1.2f%%', shadow=True, startangle=140)\n",
    "plt.title('The Proportion of Three Sentiments')\n",
    "plt.show()"
   ]
  },
  {
   "cell_type": "code",
   "execution_count": null,
   "metadata": {
    "colab": {
     "base_uri": "https://localhost:8080/",
     "height": 35
    },
    "colab_type": "code",
    "id": "jhwnzIINxCDw",
    "outputId": "36a313b1-4b07-43b4-cc68-e82ec3d8b6de"
   },
   "outputs": [
    {
     "name": "stdout",
     "output_type": "stream",
     "text": [
      "date and time: 04/07/2020\n"
     ]
    }
   ],
   "source": [
    "now = wm_new['timestamp'][1]\n",
    "date_time = now.strftime(\"%m/%d/%Y\")\n",
    "print(\"date and time:\",date_time)"
   ]
  },
  {
   "cell_type": "code",
   "execution_count": null,
   "metadata": {
    "colab": {
     "base_uri": "https://localhost:8080/",
     "height": 551
    },
    "colab_type": "code",
    "id": "i0JcX2kEqUym",
    "outputId": "6686aebe-4617-45d1-9fd8-898648b31303"
   },
   "outputs": [
    {
     "data": {
      "text/html": [
       "<div>\n",
       "<style scoped>\n",
       "    .dataframe tbody tr th:only-of-type {\n",
       "        vertical-align: middle;\n",
       "    }\n",
       "\n",
       "    .dataframe tbody tr th {\n",
       "        vertical-align: top;\n",
       "    }\n",
       "\n",
       "    .dataframe thead th {\n",
       "        text-align: right;\n",
       "    }\n",
       "</style>\n",
       "<table border=\"1\" class=\"dataframe\">\n",
       "  <thead>\n",
       "    <tr style=\"text-align: right;\">\n",
       "      <th></th>\n",
       "      <th>screen_name</th>\n",
       "      <th>username</th>\n",
       "      <th>user_id</th>\n",
       "      <th>tweet_id</th>\n",
       "      <th>tweet_url</th>\n",
       "      <th>timestamp</th>\n",
       "      <th>timestamp_epochs</th>\n",
       "      <th>text_html</th>\n",
       "      <th>links</th>\n",
       "      <th>hashtags</th>\n",
       "      <th>has_media</th>\n",
       "      <th>img_urls</th>\n",
       "      <th>video_url</th>\n",
       "      <th>likes</th>\n",
       "      <th>retweets</th>\n",
       "      <th>replies</th>\n",
       "      <th>is_replied</th>\n",
       "      <th>is_reply_to</th>\n",
       "      <th>parent_tweet_id</th>\n",
       "      <th>reply_to_users</th>\n",
       "      <th>text</th>\n",
       "      <th>date</th>\n",
       "      <th>time</th>\n",
       "    </tr>\n",
       "  </thead>\n",
       "  <tbody>\n",
       "    <tr>\n",
       "      <th>0</th>\n",
       "      <td>hapeit</td>\n",
       "      <td>Hugh Perry</td>\n",
       "      <td>51955491</td>\n",
       "      <td>1247671808616280067</td>\n",
       "      <td>/hapeit/status/1247671808616280067</td>\n",
       "      <td>2020-04-07 23:45:14</td>\n",
       "      <td>1586303114</td>\n",
       "      <td>&lt;p class=\"TweetTextSize js-tweet-text tweet-te...</td>\n",
       "      <td>['https://www.wealthmanagement.com/people/poll...</td>\n",
       "      <td>[]</td>\n",
       "      <td>False</td>\n",
       "      <td>[]</td>\n",
       "      <td>NaN</td>\n",
       "      <td>2.0</td>\n",
       "      <td>1.0</td>\n",
       "      <td>0.0</td>\n",
       "      <td>False</td>\n",
       "      <td>False</td>\n",
       "      <td>NaN</td>\n",
       "      <td>[]</td>\n",
       "      <td>best investing books time wealth management mgmt</td>\n",
       "      <td>2020-04-07</td>\n",
       "      <td>23-45-14</td>\n",
       "    </tr>\n",
       "    <tr>\n",
       "      <th>1</th>\n",
       "      <td>TheChestnutPost</td>\n",
       "      <td>The Chestnut Post</td>\n",
       "      <td>880112324987822082</td>\n",
       "      <td>1247671082288590850</td>\n",
       "      <td>/TheChestnutPost/status/1247671082288590850</td>\n",
       "      <td>2020-04-07 23:42:21</td>\n",
       "      <td>1586302941</td>\n",
       "      <td>&lt;p class=\"TweetTextSize js-tweet-text tweet-te...</td>\n",
       "      <td>['https://www.thechestnutpost.com/news/opus-we...</td>\n",
       "      <td>[]</td>\n",
       "      <td>False</td>\n",
       "      <td>[]</td>\n",
       "      <td>NaN</td>\n",
       "      <td>0.0</td>\n",
       "      <td>0.0</td>\n",
       "      <td>0.0</td>\n",
       "      <td>False</td>\n",
       "      <td>False</td>\n",
       "      <td>NaN</td>\n",
       "      <td>[]</td>\n",
       "      <td>opus wealth management group million assets ma...</td>\n",
       "      <td>2020-04-07</td>\n",
       "      <td>23-42-21</td>\n",
       "    </tr>\n",
       "    <tr>\n",
       "      <th>2</th>\n",
       "      <td>BBQHog7000</td>\n",
       "      <td>BBQ Hog 7000</td>\n",
       "      <td>1862195880</td>\n",
       "      <td>1247670786774745089</td>\n",
       "      <td>/BBQHog7000/status/1247670786774745089</td>\n",
       "      <td>2020-04-07 23:41:10</td>\n",
       "      <td>1586302870</td>\n",
       "      <td>&lt;p class=\"TweetTextSize js-tweet-text tweet-te...</td>\n",
       "      <td>['http://TAPinto.net', 'https://ift.tt/3e3lDuq']</td>\n",
       "      <td>[]</td>\n",
       "      <td>False</td>\n",
       "      <td>[]</td>\n",
       "      <td>NaN</td>\n",
       "      <td>0.0</td>\n",
       "      <td>0.0</td>\n",
       "      <td>0.0</td>\n",
       "      <td>False</td>\n",
       "      <td>False</td>\n",
       "      <td>NaN</td>\n",
       "      <td>[]</td>\n",
       "      <td>chatham wealth management partners local smoke...</td>\n",
       "      <td>2020-04-07</td>\n",
       "      <td>23-41-10</td>\n",
       "    </tr>\n",
       "    <tr>\n",
       "      <th>3</th>\n",
       "      <td>IAM__Network</td>\n",
       "      <td>IAM Platform</td>\n",
       "      <td>226310002</td>\n",
       "      <td>1247668718043385857</td>\n",
       "      <td>/IAM__Network/status/1247668718043385857</td>\n",
       "      <td>2020-04-07 23:32:57</td>\n",
       "      <td>1586302377</td>\n",
       "      <td>&lt;p class=\"TweetTextSize js-tweet-text tweet-te...</td>\n",
       "      <td>['https://blog.iammarketingmedia.com/fns-tradi...</td>\n",
       "      <td>['Bank', 'blockchain', 'Finance', 'FinancialTe...</td>\n",
       "      <td>True</td>\n",
       "      <td>['https://pbs.twimg.com/media/EVCcFkgWAAEyx8S....</td>\n",
       "      <td>NaN</td>\n",
       "      <td>1.0</td>\n",
       "      <td>0.0</td>\n",
       "      <td>0.0</td>\n",
       "      <td>False</td>\n",
       "      <td>False</td>\n",
       "      <td>NaN</td>\n",
       "      <td>[]</td>\n",
       "      <td>fn trading tech awards nominees read</td>\n",
       "      <td>2020-04-07</td>\n",
       "      <td>23-32-57</td>\n",
       "    </tr>\n",
       "    <tr>\n",
       "      <th>4</th>\n",
       "      <td>DuisThrivent</td>\n",
       "      <td>Connor Duis</td>\n",
       "      <td>1179406874275438593</td>\n",
       "      <td>1247667977899495424</td>\n",
       "      <td>/DuisThrivent/status/1247667977899495424</td>\n",
       "      <td>2020-04-07 23:30:01</td>\n",
       "      <td>1586302201</td>\n",
       "      <td>&lt;p class=\"TweetTextSize js-tweet-text tweet-te...</td>\n",
       "      <td>[]</td>\n",
       "      <td>['financialgudiance', 'financialstrategy', 'fi...</td>\n",
       "      <td>True</td>\n",
       "      <td>['https://pbs.twimg.com/media/EVCbahYU4AMz47z....</td>\n",
       "      <td>NaN</td>\n",
       "      <td>0.0</td>\n",
       "      <td>0.0</td>\n",
       "      <td>0.0</td>\n",
       "      <td>False</td>\n",
       "      <td>False</td>\n",
       "      <td>NaN</td>\n",
       "      <td>[]</td>\n",
       "      <td>born full retirement age</td>\n",
       "      <td>2020-04-07</td>\n",
       "      <td>23-30-01</td>\n",
       "    </tr>\n",
       "  </tbody>\n",
       "</table>\n",
       "</div>"
      ],
      "text/plain": [
       "       screen_name           username  ...        date      time\n",
       "0           hapeit         Hugh Perry  ...  2020-04-07  23-45-14\n",
       "1  TheChestnutPost  The Chestnut Post  ...  2020-04-07  23-42-21\n",
       "2       BBQHog7000       BBQ Hog 7000  ...  2020-04-07  23-41-10\n",
       "3     IAM__Network       IAM Platform  ...  2020-04-07  23-32-57\n",
       "4     DuisThrivent        Connor Duis  ...  2020-04-07  23-30-01\n",
       "\n",
       "[5 rows x 23 columns]"
      ]
     },
     "execution_count": 224,
     "metadata": {
      "tags": []
     },
     "output_type": "execute_result"
    }
   ],
   "source": [
    "#extracting date and time\n",
    "wm_new['date'] = pd.to_datetime(wm_new['timestamp'], errors='coerce').dt.strftime('%Y-%m-%d')\n",
    "wm_new['time'] = pd.to_datetime(wm_new['timestamp'], errors='coerce').dt.strftime(\"%H-%M-%S\")\n",
    "\n",
    "\n",
    "#wm_new['date'] = wm_new['timestamp'].apply( lambda x: x.strftime(\"%Y-%m-%d\"))\n",
    "#wm_new['time'] = wm_new['timestamp'].apply( lambda x: x.strftime(\"%H-%M-%S\"))\n",
    "wm_new.drop(['Date'],axis = 1, inplace =True)\n",
    "\n",
    "wm_new.head()\n"
   ]
  },
  {
   "cell_type": "code",
   "execution_count": null,
   "metadata": {
    "colab": {},
    "colab_type": "code",
    "id": "8Do5BINxHaa7"
   },
   "outputs": [],
   "source": [
    "tweets['date'] = wm_new.date\n",
    "tweets['time'] = wm_new.time"
   ]
  },
  {
   "cell_type": "code",
   "execution_count": null,
   "metadata": {
    "colab": {
     "base_uri": "https://localhost:8080/",
     "height": 202
    },
    "colab_type": "code",
    "id": "lHbcmvEZHabA",
    "outputId": "39e10c7d-9581-4a94-e10a-2b60adf64f8c"
   },
   "outputs": [
    {
     "data": {
      "text/html": [
       "<div>\n",
       "<style scoped>\n",
       "    .dataframe tbody tr th:only-of-type {\n",
       "        vertical-align: middle;\n",
       "    }\n",
       "\n",
       "    .dataframe tbody tr th {\n",
       "        vertical-align: top;\n",
       "    }\n",
       "\n",
       "    .dataframe thead th {\n",
       "        text-align: right;\n",
       "    }\n",
       "</style>\n",
       "<table border=\"1\" class=\"dataframe\">\n",
       "  <thead>\n",
       "    <tr style=\"text-align: right;\">\n",
       "      <th></th>\n",
       "      <th>text</th>\n",
       "      <th>text_len</th>\n",
       "      <th>word_count</th>\n",
       "      <th>date</th>\n",
       "      <th>time</th>\n",
       "      <th>polarity</th>\n",
       "      <th>sentiment</th>\n",
       "    </tr>\n",
       "  </thead>\n",
       "  <tbody>\n",
       "    <tr>\n",
       "      <th>0</th>\n",
       "      <td>best investing books time wealth management mgmt</td>\n",
       "      <td>63</td>\n",
       "      <td>10</td>\n",
       "      <td>2020-04-07</td>\n",
       "      <td>23-45-14</td>\n",
       "      <td>1.00</td>\n",
       "      <td>positive</td>\n",
       "    </tr>\n",
       "    <tr>\n",
       "      <th>1</th>\n",
       "      <td>opus wealth management group million assets ma...</td>\n",
       "      <td>105</td>\n",
       "      <td>15</td>\n",
       "      <td>2020-04-07</td>\n",
       "      <td>23-42-21</td>\n",
       "      <td>0.00</td>\n",
       "      <td>neutral</td>\n",
       "    </tr>\n",
       "    <tr>\n",
       "      <th>2</th>\n",
       "      <td>chatham wealth management partners local smoke...</td>\n",
       "      <td>83</td>\n",
       "      <td>12</td>\n",
       "      <td>2020-04-07</td>\n",
       "      <td>23-41-10</td>\n",
       "      <td>0.00</td>\n",
       "      <td>neutral</td>\n",
       "    </tr>\n",
       "    <tr>\n",
       "      <th>3</th>\n",
       "      <td>fn trading tech awards nominees read</td>\n",
       "      <td>55</td>\n",
       "      <td>9</td>\n",
       "      <td>2020-04-07</td>\n",
       "      <td>23-32-57</td>\n",
       "      <td>0.00</td>\n",
       "      <td>neutral</td>\n",
       "    </tr>\n",
       "    <tr>\n",
       "      <th>4</th>\n",
       "      <td>born full retirement age</td>\n",
       "      <td>64</td>\n",
       "      <td>11</td>\n",
       "      <td>2020-04-07</td>\n",
       "      <td>23-30-01</td>\n",
       "      <td>0.35</td>\n",
       "      <td>positive</td>\n",
       "    </tr>\n",
       "  </tbody>\n",
       "</table>\n",
       "</div>"
      ],
      "text/plain": [
       "                                                text  ...  sentiment\n",
       "0   best investing books time wealth management mgmt  ...   positive\n",
       "1  opus wealth management group million assets ma...  ...    neutral\n",
       "2  chatham wealth management partners local smoke...  ...    neutral\n",
       "3               fn trading tech awards nominees read  ...    neutral\n",
       "4                           born full retirement age  ...   positive\n",
       "\n",
       "[5 rows x 7 columns]"
      ]
     },
     "execution_count": 232,
     "metadata": {
      "tags": []
     },
     "output_type": "execute_result"
    }
   ],
   "source": [
    "tweets.head()"
   ]
  },
  {
   "cell_type": "code",
   "execution_count": null,
   "metadata": {
    "colab": {
     "base_uri": "https://localhost:8080/",
     "height": 367
    },
    "colab_type": "code",
    "id": "CPaFjH9FHabC",
    "outputId": "d927460e-3f25-45d1-f1e9-a8f84e8c8024"
   },
   "outputs": [
    {
     "data": {
      "text/plain": [
       "Text(0.5, 1.0, 'Average sentiment of Tweets across Dates')"
      ]
     },
     "execution_count": 233,
     "metadata": {
      "tags": []
     },
     "output_type": "execute_result"
    },
    {
     "data": {
      "image/png": "[encoded data removed]",
      "text/plain": [
       "<Figure size 1440x360 with 1 Axes>"
      ]
     },
     "metadata": {
      "needs_background": "light",
      "tags": []
     },
     "output_type": "display_data"
    }
   ],
   "source": [
    "# plot sentiment fluctuation with date\n",
    "fig, ax1 = plt.subplots(figsize=(20,5))\n",
    "tweets.groupby(['date']).mean()['polarity'].plot()\n",
    "plt.title('Average sentiment of Tweets across Dates')"
   ]
  },
  {
   "cell_type": "markdown",
   "metadata": {
    "colab_type": "text",
    "id": "3VEHOJKS3JRV"
   },
   "source": [
    "#Frequency Analysis"
   ]
  },
  {
   "cell_type": "markdown",
   "metadata": {
    "colab_type": "text",
    "id": "yW40S8zA7RRe"
   },
   "source": [
    "## Tokenization and 1-gram frequency analysis"
   ]
  },
  {
   "cell_type": "code",
   "execution_count": null,
   "metadata": {
    "colab": {
     "base_uri": "https://localhost:8080/",
     "height": 289
    },
    "colab_type": "code",
    "id": "EzBE6jFo3clm",
    "outputId": "448b43dd-ba0f-4b82-ad3c-39fb0d4622a4"
   },
   "outputs": [
    {
     "data": {
      "text/html": [
       "<div>\n",
       "<style scoped>\n",
       "    .dataframe tbody tr th:only-of-type {\n",
       "        vertical-align: middle;\n",
       "    }\n",
       "\n",
       "    .dataframe tbody tr th {\n",
       "        vertical-align: top;\n",
       "    }\n",
       "\n",
       "    .dataframe thead th {\n",
       "        text-align: right;\n",
       "    }\n",
       "</style>\n",
       "<table border=\"1\" class=\"dataframe\">\n",
       "  <thead>\n",
       "    <tr style=\"text-align: right;\">\n",
       "      <th></th>\n",
       "      <th>text</th>\n",
       "      <th>text_len</th>\n",
       "      <th>word_count</th>\n",
       "      <th>cleaned</th>\n",
       "      <th>sw_clean</th>\n",
       "      <th>text_lemmatized</th>\n",
       "    </tr>\n",
       "  </thead>\n",
       "  <tbody>\n",
       "    <tr>\n",
       "      <th>0</th>\n",
       "      <td>the  best investing books of all time  wealth ...</td>\n",
       "      <td>63</td>\n",
       "      <td>10</td>\n",
       "      <td>the  best investing books of all time  wealth ...</td>\n",
       "      <td>best investing books time mgmt</td>\n",
       "      <td>[best, investing, book, time, mgmt]</td>\n",
       "    </tr>\n",
       "    <tr>\n",
       "      <th>1</th>\n",
       "      <td>opus wealth management group with  million in ...</td>\n",
       "      <td>105</td>\n",
       "      <td>15</td>\n",
       "      <td>opus wealth management group with  million in ...</td>\n",
       "      <td>opus group million assets joins level four adv...</td>\n",
       "      <td>[opus, group, million, asset, join, level, fou...</td>\n",
       "    </tr>\n",
       "    <tr>\n",
       "      <th>2</th>\n",
       "      <td>chatham wealth management partners with local ...</td>\n",
       "      <td>83</td>\n",
       "      <td>12</td>\n",
       "      <td>chatham wealth management partners with local ...</td>\n",
       "      <td>chatham partners local smoke bbq feed frontlin...</td>\n",
       "      <td>[chatham, partner, local, smoke, bbq, feed, fr...</td>\n",
       "    </tr>\n",
       "    <tr>\n",
       "      <th>3</th>\n",
       "      <td>fns trading and tech awards  the nominees   re...</td>\n",
       "      <td>55</td>\n",
       "      <td>9</td>\n",
       "      <td>fns trading and tech awards  the nominees   re...</td>\n",
       "      <td>fns trading tech awards nominees read</td>\n",
       "      <td>[fns, trading, tech, award, nominee, read]</td>\n",
       "    </tr>\n",
       "    <tr>\n",
       "      <th>4</th>\n",
       "      <td>if you were born after  this is your full ret...</td>\n",
       "      <td>64</td>\n",
       "      <td>11</td>\n",
       "      <td>if you were born after  this is your full ret...</td>\n",
       "      <td>born full retirement age</td>\n",
       "      <td>[born, full, retirement, age]</td>\n",
       "    </tr>\n",
       "  </tbody>\n",
       "</table>\n",
       "</div>"
      ],
      "text/plain": [
       "                                                text  ...                                    text_lemmatized\n",
       "0  the  best investing books of all time  wealth ...  ...                [best, investing, book, time, mgmt]\n",
       "1  opus wealth management group with  million in ...  ...  [opus, group, million, asset, join, level, fou...\n",
       "2  chatham wealth management partners with local ...  ...  [chatham, partner, local, smoke, bbq, feed, fr...\n",
       "3  fns trading and tech awards  the nominees   re...  ...         [fns, trading, tech, award, nominee, read]\n",
       "4   if you were born after  this is your full ret...  ...                      [born, full, retirement, age]\n",
       "\n",
       "[5 rows x 6 columns]"
      ]
     },
     "execution_count": 185,
     "metadata": {
      "tags": []
     },
     "output_type": "execute_result"
    }
   ],
   "source": [
    "tweets.head()"
   ]
  },
  {
   "cell_type": "code",
   "execution_count": null,
   "metadata": {
    "colab": {},
    "colab_type": "code",
    "id": "yVN7fcJy3GyE"
   },
   "outputs": [],
   "source": [
    "corpus = []\n",
    "new = tweets['text_lemmatized'].values.tolist()\n",
    "corpus = [word for i in new for word in i]"
   ]
  },
  {
   "cell_type": "code",
   "execution_count": null,
   "metadata": {
    "colab": {
     "base_uri": "https://localhost:8080/",
     "height": 283
    },
    "colab_type": "code",
    "id": "xfHzHO924Ajz",
    "outputId": "8e34d7f9-8f77-49b0-fde1-f992d0f40260"
   },
   "outputs": [
    {
     "data": {
      "text/plain": [
       "<matplotlib.axes._subplots.AxesSubplot at 0x7fd87e54a828>"
      ]
     },
     "execution_count": 198,
     "metadata": {
      "tags": []
     },
     "output_type": "execute_result"
    },
    {
     "data": {
      "image/png": "[encoded data removed]",
      "text/plain": [
       "<Figure size 432x288 with 1 Axes>"
      ]
     },
     "metadata": {
      "needs_background": "light",
      "tags": []
     },
     "output_type": "display_data"
    }
   ],
   "source": [
    "counter = Counter(corpus)\n",
    "most = counter.most_common()\n",
    "\n",
    "x, y= [], []\n",
    "j, k= [], []\n",
    "\n",
    "for word,count in most[:30]:\n",
    "    if (word not in final_stop_words):\n",
    "            x.append(word)\n",
    "            y.append(count)\n",
    "        \n",
    "for word,count in most[:]:\n",
    "    if (word not in final_stop_words):\n",
    "        j.append(word)\n",
    "        k.append(count)\n",
    "        \n",
    "sns.barplot(x = y, y = x)"
   ]
  },
  {
   "cell_type": "code",
   "execution_count": null,
   "metadata": {
    "colab": {},
    "colab_type": "code",
    "id": "kLssnfZl4pIb"
   },
   "outputs": [],
   "source": [
    "combined_frequency = list(zip(j,k))\n",
    "with open('blank.csv','w') as out:\n",
    "    csv_out=csv.writer(out)\n",
    "    csv_out.writerow(['word','frequency'])\n",
    "    csv_out.writerows(combined_frequency)"
   ]
  },
  {
   "cell_type": "markdown",
   "metadata": {
    "colab_type": "text",
    "id": "v3RGy3co7Nno"
   },
   "source": [
    "##Bigrams"
   ]
  },
  {
   "cell_type": "code",
   "execution_count": null,
   "metadata": {
    "colab": {},
    "colab_type": "code",
    "id": "wvT2IIZC7F1p"
   },
   "outputs": [],
   "source": [
    "from nltk.util import ngrams\n",
    "from sklearn.feature_extraction.text import CountVectorizer\n",
    "def get_top_ngram(corpus, n=None):\n",
    "    vec = CountVectorizer(ngram_range=(n, n)).fit(corpus)\n",
    "    bag_of_words = vec.transform(corpus)\n",
    "    sum_words = bag_of_words.sum(axis=0) \n",
    "    words_freq = [(word, sum_words[0, idx]) \n",
    "                  for word, idx in vec.vocabulary_.items()]\n",
    "    words_freq =sorted(words_freq, key = lambda x: x[1], reverse=True)\n",
    "    return words_freq[:100]"
   ]
  },
  {
   "cell_type": "code",
   "execution_count": null,
   "metadata": {
    "colab": {
     "base_uri": "https://localhost:8080/",
     "height": 283
    },
    "colab_type": "code",
    "id": "E65f-KmD7MHb",
    "outputId": "1eeb7785-375c-43dc-e25b-01fbf8a9eb5b"
   },
   "outputs": [
    {
     "data": {
      "text/plain": [
       "<matplotlib.axes._subplots.AxesSubplot at 0x7fd8785798d0>"
      ]
     },
     "execution_count": 202,
     "metadata": {
      "tags": []
     },
     "output_type": "execute_result"
    },
    {
     "data": {
      "image/png": "[encoded data removed]",
      "text/plain": [
       "<Figure size 432x288 with 1 Axes>"
      ]
     },
     "metadata": {
      "needs_background": "light",
      "tags": []
     },
     "output_type": "display_data"
    }
   ],
   "source": [
    "top_n_bigrams=get_top_ngram(tweets['sw_clean'],2)[:20]\n",
    "all_n_bigrams=get_top_ngram(tweets['sw_clean'],2)\n",
    "x,y=map(list,zip(*top_n_bigrams))\n",
    "j,k=map(list,zip(*all_n_bigrams))\n",
    "sns.barplot(x=y,y=x)"
   ]
  },
  {
   "cell_type": "code",
   "execution_count": null,
   "metadata": {
    "colab": {},
    "colab_type": "code",
    "id": "hSlqcwmM8GtK"
   },
   "outputs": [],
   "source": [
    "phrase_freq = list(zip(j,k))\n",
    "\n",
    "with open('bi-gram.csv','w') as out:\n",
    "    csv_out=csv.writer(out)\n",
    "    csv_out.writerow(['phrase','frequency'])\n",
    "    csv_out.writerows(phrase_freq)"
   ]
  },
  {
   "cell_type": "markdown",
   "metadata": {
    "colab_type": "text",
    "id": "-_kN--eF8RNE"
   },
   "source": [
    "## Tri-gram"
   ]
  },
  {
   "cell_type": "code",
   "execution_count": null,
   "metadata": {
    "colab": {
     "base_uri": "https://localhost:8080/",
     "height": 283
    },
    "colab_type": "code",
    "id": "gaIjzaYl8VPs",
    "outputId": "2b285818-40ff-4dba-85db-b713d3b20adf"
   },
   "outputs": [
    {
     "data": {
      "text/plain": [
       "<matplotlib.axes._subplots.AxesSubplot at 0x7fd87a016cc0>"
      ]
     },
     "execution_count": 203,
     "metadata": {
      "tags": []
     },
     "output_type": "execute_result"
    },
    {
     "data": {
      "image/png": "[encoded data removed]",
      "text/plain": [
       "<Figure size 432x288 with 1 Axes>"
      ]
     },
     "metadata": {
      "needs_background": "light",
      "tags": []
     },
     "output_type": "display_data"
    }
   ],
   "source": [
    "top_n_trigrams=get_top_ngram(tweets['sw_clean'],3)[:20]\n",
    "all_n_trigrams=get_top_ngram(tweets['sw_clean'],3)\n",
    "x,y=map(list,zip(*top_n_trigrams))\n",
    "j,k=map(list,zip(*all_n_trigrams))\n",
    "sns.barplot(x=y,y=x)"
   ]
  },
  {
   "cell_type": "code",
   "execution_count": null,
   "metadata": {
    "colab": {},
    "colab_type": "code",
    "id": "judGJXhO8fQX"
   },
   "outputs": [],
   "source": [
    "phrase_freq = list(zip(j,k))\n",
    "\n",
    "with open('tri-gram.csv','w') as out:\n",
    "    csv_out=csv.writer(out)\n",
    "    csv_out.writerow(['phrase','frequency'])\n",
    "    csv_out.writerows(phrase_freq)"
   ]
  },
  {
   "cell_type": "markdown",
   "metadata": {
    "colab_type": "text",
    "id": "lJyitKw2HabF"
   },
   "source": [
    "# Word cloud"
   ]
  },
  {
   "cell_type": "code",
   "execution_count": null,
   "metadata": {
    "colab": {
     "base_uri": "https://localhost:8080/",
     "height": 35
    },
    "colab_type": "code",
    "id": "Qv3w86CmHabF",
    "outputId": "7cbf45fb-2dbd-44cb-e9b7-a06b721aca95"
   },
   "outputs": [
    {
     "name": "stderr",
     "output_type": "stream",
     "text": [
      "100%|██████████| 45472/45472 [00:00<00:00, 54671.22it/s]\n"
     ]
    }
   ],
   "source": [
    "# Create word frequency count\n",
    "num_words = 300\n",
    "word2count = {}\n",
    "for i in tqdm(range(len(tweets['sw_clean']))): \n",
    "    for word in tweets['sw_clean'].iloc[i].split():\n",
    "        if word not in word2count.keys(): \n",
    "            word2count[word] = 1\n",
    "        else: \n",
    "            word2count[word] += 1\n",
    "            \n",
    "freq_words = heapq.nlargest(num_words, word2count, key=word2count.get)"
   ]
  },
  {
   "cell_type": "code",
   "execution_count": null,
   "metadata": {
    "colab": {},
    "colab_type": "code",
    "id": "OVnHuNPQHabI"
   },
   "outputs": [],
   "source": [
    "from wordcloud import WordCloud, ImageColorGenerator\n",
    "from os import path, getcwd\n",
    "from PIL import Image\n",
    "d = getcwd()"
   ]
  },
  {
   "cell_type": "code",
   "execution_count": null,
   "metadata": {
    "colab": {
     "base_uri": "https://localhost:8080/",
     "height": 215
    },
    "colab_type": "code",
    "id": "qyWOLmreHabK",
    "outputId": "85e8c626-286e-45f8-d303-251a3c74345f"
   },
   "outputs": [
    {
     "data": {
      "text/plain": [
       "<Figure size 720x720 with 0 Axes>"
      ]
     },
     "metadata": {
      "tags": []
     },
     "output_type": "display_data"
    },
    {
     "data": {
      "image/png": "[encoded data removed]",
      "text/plain": [
       "<Figure size 432x288 with 1 Axes>"
      ]
     },
     "metadata": {
      "needs_background": "light",
      "tags": []
     },
     "output_type": "display_data"
    }
   ],
   "source": [
    "# Create stopword list:\n",
    "stopwords = set(STOPWORDS)\n",
    "stopwords.update([\"wealth\",\"management\"])\n",
    "\n",
    "\n",
    "fig = plt.figure(figsize=(10,10))\n",
    "wordcloud = WordCloud(max_font_size=50, max_words=100, background_color=\"white\",stopwords=stopwords)\n",
    "wordcloud.generate(str(set(tweets['sw_clean'])))\n",
    "#wordcloud.generate(str(set(tweets['text'])))\n",
    "plt.figure()\n",
    "plt.imshow(wordcloud, interpolation=\"bilinear\")\n",
    "plt.axis(\"off\")\n",
    "plt.show()\n",
    "\n",
    "#wordcloud = WordCloud(width=600, height=500, random_state=1, max_words=num_words, \n",
    "                          #min_font_size=10,  max_font_size=140,\n",
    "                          #background_color='white',stopwords=set(STOPWORDS),mask = mask)\n",
    "#wordcloud.generate(str(set(tweets['text'][tweets['sentiment'] == 'positive'])))"
   ]
  },
  {
   "cell_type": "code",
   "execution_count": null,
   "metadata": {
    "colab": {
     "base_uri": "https://localhost:8080/",
     "height": 215
    },
    "colab_type": "code",
    "id": "v9R62F8zz9jO",
    "outputId": "b81a0777-1d8f-4da5-809c-fe02942d409e"
   },
   "outputs": [
    {
     "data": {
      "text/plain": [
       "<Figure size 720x720 with 0 Axes>"
      ]
     },
     "metadata": {
      "tags": []
     },
     "output_type": "display_data"
    },
    {
     "data": {
      "image/png": "[encoded data removed]",
      "text/plain": [
       "<Figure size 432x288 with 1 Axes>"
      ]
     },
     "metadata": {
      "needs_background": "light",
      "tags": []
     },
     "output_type": "display_data"
    }
   ],
   "source": [
    "fig = plt.figure(figsize=(10,10))\n",
    "wordcloud = WordCloud(max_font_size=50, max_words=100, background_color=\"white\",stopwords=stopwords)\n",
    "wordcloud.generate(str(set(tweets['text'][tweets['sentiment'] == 'negative'])))\n",
    "#wordcloud.generate(str(set(tweets['text'])))\n",
    "plt.figure()\n",
    "plt.imshow(wordcloud, interpolation=\"bilinear\")\n",
    "plt.axis(\"off\")\n",
    "plt.show()\n"
   ]
  },
  {
   "cell_type": "code",
   "execution_count": null,
   "metadata": {
    "colab": {
     "base_uri": "https://localhost:8080/",
     "height": 357
    },
    "colab_type": "code",
    "id": "EgNinlkdHabN",
    "outputId": "37df7fd2-94a1-42db-c1d9-5a2a0a7f05f2"
   },
   "outputs": [
    {
     "ename": "FileNotFoundError",
     "evalue": "ignored",
     "output_type": "error",
     "traceback": [
      "\u001b[0;31m---------------------------------------------------------------------------\u001b[0m",
      "\u001b[0;31mFileNotFoundError\u001b[0m                         Traceback (most recent call last)",
      "\u001b[0;32m<ipython-input-243-f89d7636c872>\u001b[0m in \u001b[0;36m<module>\u001b[0;34m()\u001b[0m\n\u001b[1;32m      1\u001b[0m \u001b[0mmask\u001b[0m \u001b[0;34m=\u001b[0m \u001b[0mnp\u001b[0m\u001b[0;34m.\u001b[0m\u001b[0marray\u001b[0m\u001b[0;34m(\u001b[0m\u001b[0mImage\u001b[0m\u001b[0;34m.\u001b[0m\u001b[0mopen\u001b[0m\u001b[0;34m(\u001b[0m\u001b[0mpath\u001b[0m\u001b[0;34m.\u001b[0m\u001b[0mjoin\u001b[0m\u001b[0;34m(\u001b[0m\u001b[0md\u001b[0m\u001b[0;34m,\u001b[0m\u001b[0;34m'twitter.png'\u001b[0m\u001b[0;34m)\u001b[0m\u001b[0;34m)\u001b[0m\u001b[0;34m.\u001b[0m\u001b[0mconvert\u001b[0m\u001b[0;34m(\u001b[0m\u001b[0;34m\"RGB\"\u001b[0m\u001b[0;34m)\u001b[0m\u001b[0;34m)\u001b[0m\u001b[0;34m\u001b[0m\u001b[0;34m\u001b[0m\u001b[0m\n\u001b[0;32m----> 2\u001b[0;31m \u001b[0mcolor\u001b[0m \u001b[0;34m=\u001b[0m \u001b[0mnp\u001b[0m\u001b[0;34m.\u001b[0m\u001b[0marray\u001b[0m\u001b[0;34m(\u001b[0m\u001b[0mImage\u001b[0m\u001b[0;34m.\u001b[0m\u001b[0mopen\u001b[0m\u001b[0;34m(\u001b[0m\u001b[0mpath\u001b[0m\u001b[0;34m.\u001b[0m\u001b[0mjoin\u001b[0m\u001b[0;34m(\u001b[0m\u001b[0md\u001b[0m\u001b[0;34m,\u001b[0m\u001b[0;34m'color.png'\u001b[0m\u001b[0;34m)\u001b[0m\u001b[0;34m)\u001b[0m\u001b[0;34m.\u001b[0m\u001b[0mconvert\u001b[0m\u001b[0;34m(\u001b[0m\u001b[0;34m\"RGB\"\u001b[0m\u001b[0;34m)\u001b[0m\u001b[0;34m)\u001b[0m\u001b[0;34m\u001b[0m\u001b[0;34m\u001b[0m\u001b[0m\n\u001b[0m\u001b[1;32m      3\u001b[0m \u001b[0;34m\u001b[0m\u001b[0m\n\u001b[1;32m      4\u001b[0m \u001b[0;32mdef\u001b[0m \u001b[0mfunc\u001b[0m\u001b[0;34m(\u001b[0m\u001b[0marr\u001b[0m\u001b[0;34m)\u001b[0m\u001b[0;34m:\u001b[0m\u001b[0;34m\u001b[0m\u001b[0;34m\u001b[0m\u001b[0m\n\u001b[1;32m      5\u001b[0m     \u001b[0;32mif\u001b[0m\u001b[0;34m(\u001b[0m\u001b[0marr\u001b[0m\u001b[0;34m[\u001b[0m\u001b[0;36m2\u001b[0m\u001b[0;34m]\u001b[0m\u001b[0;34m==\u001b[0m\u001b[0;36m0\u001b[0m\u001b[0;34m)\u001b[0m\u001b[0;34m:\u001b[0m\u001b[0;34m\u001b[0m\u001b[0;34m\u001b[0m\u001b[0m\n",
      "\u001b[0;32m/usr/local/lib/python3.6/dist-packages/PIL/Image.py\u001b[0m in \u001b[0;36mopen\u001b[0;34m(fp, mode)\u001b[0m\n\u001b[1;32m   2807\u001b[0m \u001b[0;34m\u001b[0m\u001b[0m\n\u001b[1;32m   2808\u001b[0m     \u001b[0;32mif\u001b[0m \u001b[0mfilename\u001b[0m\u001b[0;34m:\u001b[0m\u001b[0;34m\u001b[0m\u001b[0;34m\u001b[0m\u001b[0m\n\u001b[0;32m-> 2809\u001b[0;31m         \u001b[0mfp\u001b[0m \u001b[0;34m=\u001b[0m \u001b[0mbuiltins\u001b[0m\u001b[0;34m.\u001b[0m\u001b[0mopen\u001b[0m\u001b[0;34m(\u001b[0m\u001b[0mfilename\u001b[0m\u001b[0;34m,\u001b[0m \u001b[0;34m\"rb\"\u001b[0m\u001b[0;34m)\u001b[0m\u001b[0;34m\u001b[0m\u001b[0;34m\u001b[0m\u001b[0m\n\u001b[0m\u001b[1;32m   2810\u001b[0m         \u001b[0mexclusive_fp\u001b[0m \u001b[0;34m=\u001b[0m \u001b[0;32mTrue\u001b[0m\u001b[0;34m\u001b[0m\u001b[0;34m\u001b[0m\u001b[0m\n\u001b[1;32m   2811\u001b[0m \u001b[0;34m\u001b[0m\u001b[0m\n",
      "\u001b[0;31mFileNotFoundError\u001b[0m: [Errno 2] No such file or directory: '/content/color.png'"
     ]
    }
   ],
   "source": [
    "mask = np.array(Image.open(path.join(d,'twitter.png')).convert(\"RGB\"))\n",
    "color = np.array(Image.open(path.join(d,'color.png')).convert(\"RGB\"))\n",
    "\n",
    "def func(arr):   \n",
    "    if(arr[2]==0):\n",
    "        return np.array([255,255,255],dtype=\"uint8\")\n",
    "    else:\n",
    "        return arr\n",
    "\n",
    "mask=np.apply_along_axis(func, 2, mask)\n",
    "color=np.apply_along_axis(func, 2, color)\n",
    "def func(arr):   \n",
    "    if(arr[2]==0):\n",
    "        return np.array([255,255,255],dtype=\"uint8\")\n",
    "    else:\n",
    "        return arr\n",
    "\n",
    "mask=np.apply_along_axis(func, 2, mask)\n",
    "color=np.apply_along_axis(func, 2, color)"
   ]
  },
  {
   "cell_type": "code",
   "execution_count": null,
   "metadata": {
    "colab": {},
    "colab_type": "code",
    "id": "xErQ7pbmHabQ"
   },
   "outputs": [],
   "source": [
    "add_stopwords = ['day','like','go','one','today','let','get',\n",
    " '2', '1','3','4','5','take','make','think','want','way',\n",
    "'see','still', 'via', 'now','much', 'even','watch','क',\n",
    " 'all','really','thing', 'every','around','here','made',\n",
    " 'also','part','total', 'things',  'little','getting',\n",
    " 'last','essential','long', 'another', 'look', 'next','there',\n",
    " 'people','time','new','thank','need','good','going','know',\n",
    " 'week','everyone','live','love','right','home','us','stay','re',\n",
    "'help', 'work', 'quarantine', 'life', 'keep', 'york', \"york'\", 'don']\n",
    "\n",
    "# Add meaningless words into stopwords\n",
    "for i in range(len(add_stopwords)):\n",
    "    STOPWORDS.add(add_stopwords[i])"
   ]
  },
  {
   "cell_type": "markdown",
   "metadata": {
    "colab_type": "text",
    "id": "meFTjV1mHabV"
   },
   "source": [
    "# Topic Modeling (Gensim)\n"
   ]
  },
  {
   "cell_type": "markdown",
   "metadata": {
    "colab_type": "text",
    "id": "-41OoQNNHabW"
   },
   "source": [
    "## preprocessing"
   ]
  },
  {
   "cell_type": "code",
   "execution_count": null,
   "metadata": {
    "colab": {},
    "colab_type": "code",
    "id": "-n7z_rmbHabW"
   },
   "outputs": [],
   "source": [
    "# tokenize each sentence into a list of words, removing punctuations\n",
    "def sent_to_words(sentences):\n",
    "    for sentence in sentences:\n",
    "        yield(gensim.utils.simple_preprocess(str(sentence), deacc=True))  # deacc=True removes punctuations\n",
    "\n",
    "data_words = list(sent_to_words(tweets['text']))\n",
    "\n",
    "# Remove Stop and common Words\n",
    "stopwords = nltk.corpus.stopwords.words('english')\n",
    "# 'home', 'stay','new','york', 'time',\n",
    "# newStopWords =  ['s','t',  'm', 're','don','ve','2', '3', '1', \n",
    "#                  'it', 'i', 'us', 'get', 'you', 'let', 'going', 'know', \n",
    "#                 'make', 'take', 'still','got', 'can', 'this', 'all', 'me','go',\n",
    "#                 'even', 'here', 'well', 'much', 'many', 'way', 'want', 'every', 'little']\n",
    "# stopwords.extend(newStopWords)\n",
    "\n",
    "data_words = [[word for word in doc if word not in stopwords] for doc in data_words]"
   ]
  },
  {
   "cell_type": "code",
   "execution_count": null,
   "metadata": {
    "colab": {
     "base_uri": "https://localhost:8080/",
     "height": 107
    },
    "colab_type": "code",
    "id": "b8I-mtMPHaba",
    "outputId": "b8e9940d-c136-4d89-b9ce-5e7157109ee0"
   },
   "outputs": [
    {
     "name": "stderr",
     "output_type": "stream",
     "text": [
      "/usr/local/lib/python3.6/dist-packages/smart_open/smart_open_lib.py:253: UserWarning:\n",
      "\n",
      "This function is deprecated, use smart_open.open instead. See the migration notes for details: https://github.com/RaRe-Technologies/smart_open/blob/master/README.rst#migrating-to-the-new-open-function\n",
      "\n"
     ]
    }
   ],
   "source": [
    "#we are creating a dictionary from the data, then convert \n",
    "#to bag-of-words corpus and save the dictionary and corpus for future use.\n",
    "from gensim import corpora\n",
    "dictionary = corpora.Dictionary(data_words)\n",
    "corpus = [dictionary.doc2bow(text) for text in data_words]\n",
    "\n",
    "import pickle\n",
    "pickle.dump(corpus, open('corpus.pkl', 'wb'))\n",
    "dictionary.save('dictionary.gensim')"
   ]
  },
  {
   "cell_type": "code",
   "execution_count": null,
   "metadata": {
    "colab": {
     "base_uri": "https://localhost:8080/",
     "height": 453
    },
    "colab_type": "code",
    "id": "fn820bkSfNzo",
    "outputId": "fab66702-38c8-42d2-8cd7-2520de0f06ce"
   },
   "outputs": [
    {
     "name": "stdout",
     "output_type": "stream",
     "text": [
      "(0, '0.035*\"raised\" + 0.015*\"long\" + 0.015*\"individuals\" + 0.013*\"bought\" + 0.011*\"united\"')\n",
      "(1, '0.084*\"holding\" + 0.022*\"era\" + 0.018*\"bonus\" + 0.018*\"del\" + 0.013*\"il\"')\n",
      "(2, '0.082*\"position\" + 0.049*\"inc\" + 0.045*\"co\" + 0.022*\"shares\" + 0.022*\"trimmed\"')\n",
      "(3, '0.026*\"industry\" + 0.022*\"family\" + 0.020*\"top\" + 0.017*\"ceo\" + 0.015*\"years\"')\n",
      "(4, '0.098*\"financial\" + 0.040*\"advisor\" + 0.032*\"planning\" + 0.031*\"clients\" + 0.030*\"services\"')\n",
      "(5, '0.021*\"firm\" + 0.018*\"team\" + 0.016*\"manager\" + 0.015*\"service\" + 0.014*\"financial\"')\n",
      "(6, '0.035*\"mutual\" + 0.018*\"risk\" + 0.017*\"credit\" + 0.016*\"northwestern\" + 0.016*\"commercial\"')\n",
      "(7, '0.072*\"stake\" + 0.032*\"market\" + 0.028*\"latest\" + 0.026*\"price\" + 0.021*\"stock\"')\n",
      "(8, '0.057*\"digital\" + 0.035*\"crypto\" + 0.033*\"platform\" + 0.020*\"day\" + 0.018*\"join\"')\n",
      "(9, '0.098*\"llc\" + 0.042*\"shares\" + 0.022*\"inc\" + 0.015*\"lp\" + 0.014*\"rt\"')\n",
      "(10, '0.026*\"get\" + 0.024*\"money\" + 0.020*\"time\" + 0.018*\"know\" + 0.017*\"make\"')\n",
      "(11, '0.030*\"boosted\" + 0.015*\"billion\" + 0.014*\"three\" + 0.011*\"listen\" + 0.010*\"stanleys\"')\n",
      "(12, '0.026*\"asset\" + 0.017*\"new\" + 0.016*\"report\" + 0.015*\"banking\" + 0.015*\"industry\"')\n",
      "(13, '0.020*\"key\" + 0.020*\"director\" + 0.020*\"details\" + 0.015*\"daily\" + 0.012*\"managing\"')\n",
      "(14, '0.030*\"business\" + 0.020*\"increased\" + 0.019*\"finance\" + 0.017*\"banks\" + 0.012*\"women\"')\n",
      "(15, '0.054*\"million\" + 0.043*\"declined\" + 0.026*\"group\" + 0.025*\"value\" + 0.023*\"bank\"')\n",
      "(16, '0.043*\"news\" + 0.026*\"street\" + 0.025*\"since\" + 0.023*\"wall\" + 0.022*\"magazine\"')\n",
      "(17, '0.020*\"products\" + 0.017*\"ai\" + 0.017*\"takes\" + 0.013*\"new\" + 0.012*\"business\"')\n",
      "(18, '0.017*\"us\" + 0.015*\"looking\" + 0.012*\"team\" + 0.011*\"part\" + 0.010*\"based\"')\n",
      "(19, '0.051*\"morgan\" + 0.046*\"rose\" + 0.038*\"via\" + 0.037*\"stanley\" + 0.033*\"new\"')\n"
     ]
    },
    {
     "name": "stderr",
     "output_type": "stream",
     "text": [
      "/usr/local/lib/python3.6/dist-packages/smart_open/smart_open_lib.py:253: UserWarning:\n",
      "\n",
      "This function is deprecated, use smart_open.open instead. See the migration notes for details: https://github.com/RaRe-Technologies/smart_open/blob/master/README.rst#migrating-to-the-new-open-function\n",
      "\n"
     ]
    }
   ],
   "source": [
    "#find (num_topics) topics in the data\n",
    "NUM_TOPICS = 20\n",
    "ldamodel = gensim.models.ldamodel.LdaModel(corpus, num_topics = NUM_TOPICS, id2word = dictionary, passes = 15)\n",
    "ldamodel.save('model5.gensim')\n",
    "topics = ldamodel.print_topics(num_words = 5)\n",
    "for topic in topics:\n",
    "    print(topic)"
   ]
  },
  {
   "cell_type": "code",
   "execution_count": null,
   "metadata": {
    "colab": {
     "base_uri": "https://localhost:8080/",
     "height": 107
    },
    "colab_type": "code",
    "id": "blCDbLcNfioK",
    "outputId": "574a8731-bad5-43f1-f849-80b7e423629c"
   },
   "outputs": [
    {
     "name": "stderr",
     "output_type": "stream",
     "text": [
      "/usr/local/lib/python3.6/dist-packages/smart_open/smart_open_lib.py:253: UserWarning:\n",
      "\n",
      "This function is deprecated, use smart_open.open instead. See the migration notes for details: https://github.com/RaRe-Technologies/smart_open/blob/master/README.rst#migrating-to-the-new-open-function\n",
      "\n"
     ]
    }
   ],
   "source": [
    "#Visualizing topics\n",
    "# Saliency: a measure of how much the term tells you about the topic.\n",
    "# Relevance: a weighted average of the probability of the word given the topic and the word given the topic normalized by the probability of the topic.\n",
    "# The size of the bubble measures the importance of the topics, relative to the data\n",
    "dictionary = gensim.corpora.Dictionary.load('dictionary.gensim')\n",
    "corpus = pickle.load(open('corpus.pkl', 'rb'))\n",
    "lda = gensim.models.ldamodel.LdaModel.load('model5.gensim')"
   ]
  },
  {
   "cell_type": "code",
   "execution_count": null,
   "metadata": {
    "colab": {
     "base_uri": "https://localhost:8080/",
     "height": 861
    },
    "colab_type": "code",
    "id": "rzRUXgQLgg4K",
    "outputId": "a04e516f-26c6-4ce1-989c-a0b2149f3dd4"
   },
   "outputs": [
    {
     "data": {
      "text/html": [
       "\n",
       "<link rel=\"stylesheet\" type=\"text/css\" href=\"https://cdn.rawgit.com/bmabey/pyLDAvis/files/ldavis.v1.0.0.css\">\n",
       "\n",
       "\n",
       "<div id=\"ldavis_el121139725444004504139827939\"></div>\n",
       "<script type=\"text/javascript\">\n",
       "\n",
       "var ldavis_el121139725444004504139827939_data = {\"mdsDat\": {\"x\": [0.05105662766760891, 0.16308186451638418, 0.18360214191459864, -0.12504290471420737, -0.19527904070118215, -0.13569253195469325, 0.14420401271937397, 0.009871057313258758, -0.12381985609355621, 0.12973701955828065, -0.1790056604166773, 0.1196132640357667, -0.10957808209141447, 0.10103580533714028, -0.015227223606383278, 0.017396479964621202, 0.12541468384739773, -0.0021376732520530474, -0.19060748741329575, 0.031377503369032486], \"y\": [0.030095950323301403, 0.023791597320099136, 0.10599491863509179, 0.029170486727636228, 0.11300824821925416, -0.103301101860692, -0.0018952711173724588, -0.1062982759889579, 0.12770776566020026, 0.1644053486202396, 0.1756621619095951, 0.025857738191213207, -0.09895215737167361, 0.058275037861671514, -0.05665844676835239, -0.2005209146132799, 0.009642588632374037, -0.16874829800983787, 0.003173127083286632, -0.130410503453796], \"topics\": [1, 2, 3, 4, 5, 6, 7, 8, 9, 10, 11, 12, 13, 14, 15, 16, 17, 18, 19, 20], \"cluster\": [1, 1, 1, 1, 1, 1, 1, 1, 1, 1, 1, 1, 1, 1, 1, 1, 1, 1, 1, 1], \"Freq\": [3.676403284072876, 3.6166017055511475, 4.576544284820557, 5.487576961517334, 9.129996299743652, 6.27816915512085, 3.0512266159057617, 4.942278861999512, 5.854628562927246, 4.037813663482666, 8.963345527648926, 3.3591156005859375, 5.173664093017578, 3.371018171310425, 4.767009258270264, 6.1724772453308105, 3.33255672454834, 4.040426731109619, 6.201391696929932, 3.9677627086639404]}, \"tinfo\": {\"Term\": [\"financial\", \"llc\", \"position\", \"stake\", \"holding\", \"digital\", \"million\", \"advisor\", \"inc\", \"declined\", \"planning\", \"shares\", \"morgan\", \"co\", \"services\", \"market\", \"rose\", \"crypto\", \"clients\", \"news\", \"get\", \"platform\", \"help\", \"new\", \"industry\", \"business\", \"money\", \"value\", \"via\", \"stanley\", \"raised\", \"long\", \"individuals\", \"bought\", \"united\", \"edge\", \"san\", \"enjoy\", \"stop\", \"email\", \"update\", \"entertainment\", \"luxembourg\", \"francisco\", \"adopts\", \"address\", \"names\", \"brokerage\", \"deals\", \"weve\", \"states\", \"evening\", \"acquire\", \"serving\", \"canadians\", \"several\", \"lexington\", \"food\", \"highland\", \"raymond\", \"term\", \"america\", \"north\", \"list\", \"stay\", \"live\", \"strategy\", \"power\", \"online\", \"ig\", \"company\", \"trust\", \"us\", \"private\", \"holding\", \"era\", \"bonus\", \"del\", \"il\", \"di\", \"per\", \"club\", \"al\", \"profit\", \"los\", \"weather\", \"driven\", \"un\", \"disrupting\", \"skills\", \"es\", \"wins\", \"und\", \"se\", \"content\", \"las\", \"oneill\", \"sees\", \"elite\", \"department\", \"integration\", \"predictions\", \"puja\", \"levels\", \"smart\", \"generation\", \"banker\", \"position\", \"co\", \"trimmed\", \"lowered\", \"com\", \"upped\", \"lending\", \"apple\", \"aapl\", \"sold\", \"exchange\", \"ceos\", \"plumb\", \"sva\", \"summer\", \"amazon\", \"old\", \"lenox\", \"facebook\", \"fast\", \"dominion\", \"blue\", \"school\", \"bc\", \"stony\", \"gain\", \"boost\", \"confident\", \"travel\", \"else\", \"holder\", \"valuation\", \"inc\", \"american\", \"cut\", \"tiedemann\", \"shares\", \"stock\", \"securities\", \"share\", \"capital\", \"international\", \"family\", \"ceo\", \"trends\", \"marketing\", \"revenue\", \"interesting\", \"improve\", \"serve\", \"platforms\", \"continues\", \"game\", \"leaders\", \"offices\", \"lets\", \"increases\", \"segment\", \"whats\", \"cutting\", \"md\", \"revolution\", \"cvs\", \"piece\", \"play\", \"brand\", \"king\", \"staff\", \"transforming\", \"pressure\", \"cap\", \"employee\", \"leader\", \"greater\", \"proud\", \"top\", \"industry\", \"sales\", \"focus\", \"years\", \"growth\", \"office\", \"next\", \"future\", \"business\", \"firms\", \"year\", \"find\", \"advisors\", \"clients\", \"experience\", \"last\", \"planning\", \"goals\", \"provide\", \"already\", \"corp\", \"cryptocurrency\", \"relationships\", \"acquires\", \"competition\", \"give\", \"providing\", \"traditional\", \"achieve\", \"media\", \"comprehensive\", \"dividend\", \"evolving\", \"raises\", \"greenwich\", \"creating\", \"options\", \"raise\", \"prospects\", \"communications\", \"assurance\", \"pension\", \"page\", \"nicola\", \"increasing\", \"models\", \"financial\", \"offer\", \"services\", \"advisor\", \"strategies\", \"needs\", \"advice\", \"plan\", \"help\", \"call\", \"insurance\", \"clients\", \"want\", \"learn\", \"tax\", \"solutions\", \"experience\", \"find\", \"need\", \"life\", \"investment\", \"us\", \"client\", \"value\", \"welcome\", \"btw\", \"level\", \"independent\", \"panel\", \"intelligence\", \"city\", \"network\", \"named\", \"nc\", \"pleased\", \"artificial\", \"seeking\", \"assistant\", \"sale\", \"done\", \"exciting\", \"innovation\", \"circle\", \"country\", \"promotion\", \"attract\", \"mar\", \"held\", \"rkl\", \"executives\", \"presented\", \"paid\", \"onboarding\", \"outcomes\", \"awards\", \"show\", \"ltd\", \"members\", \"job\", \"rbc\", \"service\", \"manager\", \"canada\", \"summit\", \"announce\", \"offering\", \"firm\", \"buy\", \"team\", \"two\", \"associate\", \"client\", \"company\", \"role\", \"group\", \"private\", \"new\", \"im\", \"discuss\", \"financial\", \"join\", \"best\", \"bank\", \"investment\", \"advisors\", \"top\", \"mutual\", \"northwestern\", \"commercial\", \"align\", \"award\", \"willingdon\", \"giving\", \"beyond\", \"wilson\", \"suisse\", \"mba\", \"children\", \"rachel\", \"essential\", \"bancorp\", \"star\", \"whos\", \"push\", \"pa\", \"oracle\", \"bmo\", \"intern\", \"philip\", \"forecast\", \"cyber\", \"orcl\", \"airdrop\", \"ends\", \"espana\", \"directly\", \"credit\", \"risk\", \"annual\", \"india\", \"info\", \"legal\", \"head\", \"company\", \"ltd\", \"session\", \"stake\", \"price\", \"lifted\", \"blog\", \"project\", \"john\", \"ico\", \"survey\", \"scotia\", \"schwab\", \"index\", \"cio\", \"van\", \"chairman\", \"win\", \"harassment\", \"episode\", \"importance\", \"lyons\", \"sexual\", \"entities\", \"allocation\", \"integrated\", \"evercore\", \"td\", \"milestone\", \"july\", \"men\", \"fool\", \"motley\", \"latest\", \"analysis\", \"market\", \"says\", \"recent\", \"stock\", \"big\", \"data\", \"research\", \"share\", \"website\", \"read\", \"partners\", \"approach\", \"post\", \"news\", \"value\", \"new\", \"investor\", \"company\", \"growth\", \"digital\", \"crypto\", \"day\", \"retail\", \"mpcx\", \"blockchain\", \"happy\", \"sponsor\", \"safe\", \"pursue\", \"unit\", \"plc\", \"stand\", \"miss\", \"evolution\", \"talks\", \"rich\", \"friday\", \"fee\", \"love\", \"institutional\", \"weekend\", \"earn\", \"left\", \"hosting\", \"mind\", \"months\", \"intl\", \"tops\", \"connections\", \"platform\", \"thank\", \"community\", \"thanks\", \"join\", \"technologies\", \"event\", \"great\", \"banking\", \"account\", \"many\", \"support\", \"one\", \"team\", \"us\", \"today\", \"dont\", \"place\", \"llc\", \"lp\", \"etf\", \"real\", \"buys\", \"comes\", \"age\", \"seacrest\", \"sells\", \"vanguard\", \"issues\", \"human\", \"compliance\", \"employees\", \"vs\", \"acquired\", \"behind\", \"reasons\", \"huge\", \"managements\", \"leave\", \"ensure\", \"evermay\", \"short\", \"featuring\", \"currently\", \"night\", \"steps\", \"bond\", \"arbor\", \"rt\", \"shares\", \"estate\", \"inc\", \"costs\", \"think\", \"finances\", \"new\", \"time\", \"make\", \"good\", \"take\", \"go\", \"things\", \"click\", \"really\", \"sure\", \"toronto\", \"learning\", \"everyone\", \"savings\", \"never\", \"interview\", \"ever\", \"hard\", \"decisions\", \"number\", \"got\", \"touch\", \"saving\", \"tool\", \"talking\", \"seen\", \"anyone\", \"difference\", \"advantage\", \"happening\", \"golf\", \"know\", \"money\", \"get\", \"important\", \"going\", \"always\", \"helping\", \"way\", \"like\", \"even\", \"back\", \"look\", \"start\", \"much\", \"different\", \"people\", \"check\", \"right\", \"retirement\", \"work\", \"need\", \"one\", \"see\", \"us\", \"free\", \"article\", \"help\", \"learn\", \"today\", \"great\", \"future\", \"boosted\", \"billion\", \"listen\", \"stanleys\", \"associates\", \"innovative\", \"higher\", \"disruption\", \"premier\", \"icymi\", \"hong\", \"der\", \"arm\", \"reach\", \"local\", \"posted\", \"third\", \"kong\", \"joining\", \"annex\", \"singapore\", \"control\", \"merriman\", \"americans\", \"fidelity\", \"die\", \"goal\", \"mit\", \"forbes\", \"monday\", \"et\", \"three\", \"sponsored\", \"international\", \"without\", \"bank\", \"according\", \"pm\", \"wells\", \"fargo\", \"series\", \"transform\", \"helps\", \"estimates\", \"webinar\", \"operations\", \"automated\", \"consulting\", \"april\", \"destination\", \"consultant\", \"royal\", \"ok\", \"download\", \"published\", \"launch\", \"ishares\", \"sentiment\", \"views\", \"rsvp\", \"mellon\", \"stillwater\", \"bny\", \"user\", \"double\", \"ii\", \"token\", \"funding\", \"highnetworth\", \"link\", \"report\", \"asset\", \"th\", \"energy\", \"register\", \"conference\", \"global\", \"banking\", \"london\", \"industry\", \"free\", \"new\", \"investment\", \"technology\", \"senior\", \"private\", \"business\", \"learn\", \"join\", \"details\", \"daily\", \"areas\", \"gold\", \"expertise\", \"smith\", \"machine\", \"internship\", \"transformation\", \"bp\", \"protecting\", \"target\", \"advancements\", \"congrats\", \"weekly\", \"expanding\", \"accounting\", \"close\", \"vancouver\", \"challenge\", \"shorts\", \"half\", \"others\", \"coverage\", \"capgemini\", \"hot\", \"especially\", \"opinion\", \"choice\", \"pwc\", \"managing\", \"director\", \"key\", \"second\", \"five\", \"thomas\", \"information\", \"con\", \"growing\", \"call\", \"technology\", \"check\", \"increased\", \"advisers\", \"chase\", \"hsbc\", \"reports\", \"small\", \"james\", \"johnson\", \"increase\", \"systems\", \"ask\", \"forum\", \"jpmorgan\", \"former\", \"record\", \"institute\", \"retire\", \"something\", \"results\", \"quarter\", \"students\", \"college\", \"recruitment\", \"asian\", \"jpm\", \"field\", \"considering\", \"disrupt\", \"profits\", \"canadian\", \"class\", \"banks\", \"finance\", \"fees\", \"executive\", \"apply\", \"say\", \"potential\", \"women\", \"ready\", \"business\", \"cost\", \"development\", \"st\", \"getting\", \"banking\", \"first\", \"june\", \"million\", \"declined\", \"decreased\", \"shareholder\", \"holdings\", \"fund\", \"high\", \"stocks\", \"chief\", \"south\", \"worth\", \"officer\", \"general\", \"equity\", \"net\", \"korean\", \"endurance\", \"interest\", \"release\", \"goldman\", \"designed\", \"regulation\", \"standard\", \"hedge\", \"robo\", \"omaha\", \"branch\", \"sachs\", \"rate\", \"exclusive\", \"china\", \"capital\", \"trade\", \"value\", \"group\", \"trust\", \"bank\", \"market\", \"asset\", \"investment\", \"private\", \"investors\", \"markets\", \"firm\", \"new\", \"stock\", \"street\", \"since\", \"wall\", \"magazine\", \"let\", \"division\", \"emerging\", \"launches\", \"desjardins\", \"state\", \"mobile\", \"specialist\", \"economy\", \"millennials\", \"follow\", \"sell\", \"early\", \"underwriting\", \"purchased\", \"expected\", \"avoid\", \"paying\", \"legacy\", \"caisses\", \"mouvement\", \"seems\", \"bankorus\", \"matter\", \"mistakes\", \"federal\", \"morning\", \"news\", \"common\", \"process\", \"education\", \"des\", \"group\", \"ai\", \"takes\", \"study\", \"changing\", \"guide\", \"asia\", \"explains\", \"invests\", \"move\", \"bnp\", \"paribas\", \"returns\", \"rating\", \"moving\", \"makes\", \"reuters\", \"oak\", \"merrill\", \"sign\", \"patriot\", \"enhancing\", \"lynch\", \"design\", \"used\", \"step\", \"appoints\", \"provider\", \"deliver\", \"road\", \"landscape\", \"products\", \"analyst\", \"deutsche\", \"todays\", \"acquisition\", \"ubs\", \"customers\", \"head\", \"yet\", \"business\", \"new\", \"bank\", \"private\", \"find\", \"global\", \"group\", \"based\", \"forward\", \"within\", \"career\", \"insight\", \"hiring\", \"member\", \"trillion\", \"vice\", \"changes\", \"calamos\", \"review\", \"excellent\", \"meeting\", \"microsoft\", \"david\", \"challenges\", \"discover\", \"cornerstone\", \"msft\", \"boston\", \"recruit\", \"competitive\", \"sheets\", \"worst\", \"mi\", \"amazing\", \"thursday\", \"affluent\", \"fiduciary\", \"unique\", \"president\", \"part\", \"looking\", \"opportunity\", \"uk\", \"personal\", \"us\", \"congratulations\", \"team\", \"today\", \"industry\", \"new\", \"advisor\", \"advisors\", \"year\", \"working\", \"client\", \"join\", \"bank\", \"senior\", \"great\", \"morgan\", \"rose\", \"via\", \"stanley\", \"relationship\", \"swissborg\", \"purchases\", \"york\", \"coming\", \"ahead\", \"jobs\", \"bitcoin\", \"resources\", \"ny\", \"benefit\", \"jp\", \"accounts\", \"prepare\", \"yesterday\", \"cant\", \"adeeva\", \"agree\", \"expect\", \"whitepaper\", \"worlds\", \"analysts\", \"spring\", \"answer\", \"european\", \"wait\", \"biggest\", \"building\", \"limited\", \"usa\", \"said\", \"new\", \"change\", \"bank\", \"manager\", \"business\", \"asset\", \"banks\"], \"Freq\": [4582.0, 1851.0, 1741.0, 1663.0, 1411.0, 1569.0, 1553.0, 1971.0, 1468.0, 1241.0, 1368.0, 1274.0, 941.0, 956.0, 1399.0, 1470.0, 852.0, 951.0, 1809.0, 867.0, 1204.0, 984.0, 1339.0, 2999.0, 1261.0, 1899.0, 1079.0, 1250.0, 698.0, 684.0, 607.006591796875, 264.5600280761719, 259.24749755859375, 215.91708374023438, 192.41685485839844, 189.8660125732422, 146.34498596191406, 122.1666259765625, 117.99646759033203, 112.6249771118164, 100.45909118652344, 95.82220458984375, 90.73851776123047, 88.4720230102539, 88.34963989257812, 86.90957641601562, 86.78628540039062, 81.92700958251953, 81.87568664550781, 80.77857208251953, 78.01009368896484, 73.0270004272461, 68.44738006591797, 67.73356628417969, 64.51380920410156, 60.62773513793945, 60.52447509765625, 60.02946853637695, 59.42677307128906, 59.41493225097656, 149.3740997314453, 150.6868438720703, 107.92301177978516, 117.21358489990234, 101.72449493408203, 151.25131225585938, 154.2083282470703, 92.24323272705078, 120.56424713134766, 94.66217041015625, 122.8040542602539, 114.27485656738281, 125.77689361572266, 118.96159362792969, 1410.8065185546875, 363.9217529296875, 307.5606994628906, 296.38482666015625, 218.789794921875, 180.7025146484375, 177.1380615234375, 163.25514221191406, 162.6344757080078, 155.89891052246094, 147.01585388183594, 141.59739685058594, 129.430419921875, 107.64987182617188, 105.1270751953125, 86.76268768310547, 79.01313781738281, 74.34427642822266, 72.78237915039062, 70.59429931640625, 70.10488891601562, 64.21087646484375, 63.845558166503906, 62.511051177978516, 62.14961242675781, 60.9611701965332, 60.23031997680664, 59.60554885864258, 58.31795120239258, 53.91722869873047, 161.2495574951172, 157.84996032714844, 89.46288299560547, 1740.94970703125, 956.0135498046875, 475.0950622558594, 449.4368591308594, 327.8934020996094, 277.7518005371094, 181.85414123535156, 153.45433044433594, 147.43197631835938, 142.8335723876953, 130.06004333496094, 122.91160583496094, 120.65959930419922, 120.65959930419922, 106.68582916259766, 105.47441864013672, 103.79560089111328, 99.45108795166016, 95.25823211669922, 88.96306610107422, 85.2803726196289, 77.35562896728516, 74.08853912353516, 71.2098617553711, 66.1820297241211, 60.74776077270508, 57.68937301635742, 56.81707763671875, 53.052764892578125, 51.91995620727539, 335.35260009765625, 321.24609375, 1052.93505859375, 131.87510681152344, 318.0599365234375, 92.53611755371094, 476.14056396484375, 416.9858703613281, 129.45465087890625, 209.07656860351562, 141.48582458496094, 116.93539428710938, 574.1903686523438, 432.8799133300781, 347.0898132324219, 227.5737762451172, 204.41796875, 175.3238525390625, 170.00131225585938, 160.11622619628906, 151.41549682617188, 151.3739776611328, 140.14439392089844, 136.16444396972656, 133.39866638183594, 132.83164978027344, 124.25346374511719, 117.41402435302734, 111.55149841308594, 110.80294036865234, 106.69432830810547, 100.11399841308594, 92.93402862548828, 92.57953643798828, 89.69156646728516, 89.4342269897461, 87.57896423339844, 86.91759490966797, 86.08739471435547, 85.68299865722656, 78.34870910644531, 76.9730224609375, 261.2048034667969, 228.2918701171875, 176.49404907226562, 521.623046875, 673.8621215820312, 206.77638244628906, 181.82302856445312, 380.04547119140625, 349.3556213378906, 297.572998046875, 272.411376953125, 372.44635009765625, 343.464111328125, 251.01145935058594, 206.6301727294922, 210.53016662597656, 201.32835388183594, 184.78318786621094, 151.4100341796875, 144.3888702392578, 1367.929443359375, 474.4129638671875, 452.05352783203125, 347.62493896484375, 343.2024230957031, 289.0947265625, 258.880126953125, 238.2832489013672, 217.29246520996094, 207.3762664794922, 179.53468322753906, 176.8985595703125, 156.9708709716797, 142.5944061279297, 132.97683715820312, 121.49011993408203, 119.50547790527344, 106.22257995605469, 100.54619598388672, 97.40338897705078, 95.93203735351562, 90.72232055664062, 88.4813003540039, 88.39920806884766, 88.26770782470703, 88.13786315917969, 87.55410766601562, 81.01851654052734, 78.81084442138672, 77.97943115234375, 4157.13720703125, 289.01007080078125, 1268.2451171875, 1712.116943359375, 308.4296875, 404.454345703125, 613.8301391601562, 415.2113037109375, 1023.432373046875, 470.5381774902344, 380.9142761230469, 1299.3026123046875, 406.1673278808594, 982.0374145507812, 443.1187438964844, 403.8699035644531, 495.9602355957031, 596.407470703125, 550.052734375, 375.4137268066406, 427.9019470214844, 386.9259338378906, 309.6223449707031, 307.8147888183594, 237.6805877685547, 221.62342834472656, 221.12692260742188, 208.2255859375, 197.88882446289062, 179.2261199951172, 160.2720947265625, 140.61532592773438, 140.05471801757812, 139.83444213867188, 132.31829833984375, 124.75084686279297, 117.7938003540039, 116.78565216064453, 107.70960235595703, 105.87705993652344, 104.49186706542969, 102.4542236328125, 97.20440673828125, 91.54297637939453, 89.33885955810547, 83.05597686767578, 82.16240692138672, 80.79731750488281, 80.25975799560547, 79.61514282226562, 76.54475402832031, 76.44641876220703, 75.18429565429688, 74.60037231445312, 266.190185546875, 197.87612915039062, 422.0987548828125, 133.06137084960938, 258.65020751953125, 335.1706237792969, 434.2298889160156, 471.14166259765625, 218.3008575439453, 147.62953186035156, 161.63900756835938, 165.9315948486328, 610.25634765625, 243.9719696044922, 514.9059448242188, 183.10882568359375, 191.41688537597656, 394.4362487792969, 331.0799865722656, 165.2808380126953, 365.0974426269531, 362.89031982421875, 417.16192626953125, 210.57672119140625, 178.91812133789062, 424.185546875, 265.7667236328125, 232.70816040039062, 293.4710998535156, 272.7260437011719, 226.14564514160156, 204.420166015625, 496.432861328125, 232.0821075439453, 225.9929656982422, 172.0098114013672, 168.29348754882812, 145.13490295410156, 134.1877899169922, 119.85765838623047, 108.3839111328125, 96.465576171875, 92.67330169677734, 88.91460418701172, 82.3985366821289, 81.92349243164062, 80.2352523803711, 64.50714874267578, 63.17228317260742, 61.74946975708008, 59.850303649902344, 59.69084548950195, 59.30555725097656, 55.79225158691406, 55.12078094482422, 53.09550094604492, 52.07140350341797, 51.9755973815918, 51.55498123168945, 51.373897552490234, 51.21286392211914, 48.37601089477539, 247.66941833496094, 251.82186889648438, 186.9669647216797, 121.43993377685547, 91.19143676757812, 78.7392349243164, 174.19281005859375, 169.9120635986328, 80.7366943359375, 61.7789421081543, 1662.1734619140625, 603.3397216796875, 389.01068115234375, 304.61285400390625, 195.3861846923828, 143.65098571777344, 141.1249237060547, 136.19580078125, 135.79559326171875, 115.7105941772461, 110.31121826171875, 103.85087585449219, 99.0092544555664, 96.3614730834961, 94.97798919677734, 94.69280242919922, 92.7556381225586, 91.91378784179688, 90.79413604736328, 90.45838165283203, 88.93238830566406, 88.35731506347656, 84.54561614990234, 83.37837219238281, 82.19337463378906, 78.99081420898438, 78.92977142333984, 77.8534927368164, 76.77381134033203, 76.2474136352539, 640.4418334960938, 130.02378845214844, 744.360107421875, 233.3208770751953, 177.7167510986328, 480.6705627441406, 233.29090881347656, 201.83265686035156, 208.51695251464844, 318.6460876464844, 175.4818878173828, 345.05743408203125, 179.42237854003906, 136.5224151611328, 135.0149688720703, 192.41851806640625, 216.0414581298828, 280.05120849609375, 125.97123718261719, 138.2342987060547, 123.39839172363281, 1568.4500732421875, 950.8666381835938, 547.8165283203125, 358.84124755859375, 292.36639404296875, 277.5985107421875, 248.62913513183594, 210.30116271972656, 205.50216674804688, 201.94796752929688, 197.31039428710938, 191.44253540039062, 178.35610961914062, 169.18682861328125, 149.61077880859375, 143.39682006835938, 140.55328369140625, 133.89012145996094, 114.7947998046875, 152.7106170654297, 105.8259506225586, 104.54844665527344, 101.18734741210938, 99.9815902709961, 96.70272827148438, 96.1953353881836, 94.67879486083984, 92.7417221069336, 92.02599334716797, 90.84361267089844, 899.558349609375, 341.5050048828125, 170.71835327148438, 251.115478515625, 492.5991516113281, 147.2902374267578, 235.16600036621094, 414.3220520019531, 428.8865966796875, 149.27511596679688, 184.2518768310547, 189.53562927246094, 276.54852294921875, 243.6615753173828, 264.99200439453125, 198.7238311767578, 163.63668823242188, 156.36593627929688, 1850.6309814453125, 286.55712890625, 258.57537841796875, 249.4042205810547, 163.16790771484375, 153.99749755859375, 153.24295043945312, 150.437255859375, 143.07064819335938, 141.64291381835938, 117.41380310058594, 109.12896728515625, 107.28197479248047, 105.65505981445312, 105.4972915649414, 103.4065933227539, 102.4718017578125, 102.13446807861328, 101.09351348876953, 100.23602294921875, 94.2683334350586, 87.97239685058594, 82.48430633544922, 82.24266052246094, 81.62347412109375, 81.35079193115234, 80.4360122680664, 79.7650146484375, 78.30286407470703, 70.86869049072266, 261.74774169921875, 797.8464965820312, 200.61282348632812, 414.2360534667969, 100.15849304199219, 104.65872192382812, 87.68782043457031, 84.45111846923828, 827.5533447265625, 728.695556640625, 576.3156127929688, 531.7188720703125, 335.48626708984375, 268.090576171875, 255.90101623535156, 239.4041748046875, 231.63845825195312, 226.9873504638672, 214.6698760986328, 195.19178771972656, 190.8829803466797, 168.6653289794922, 159.34141540527344, 148.8165283203125, 133.9828338623047, 131.85301208496094, 130.54425048828125, 129.73696899414062, 129.56179809570312, 129.36679077148438, 128.993896484375, 118.1657943725586, 115.1985092163086, 114.72872161865234, 110.6168441772461, 106.873291015625, 98.11571502685547, 95.6680679321289, 742.1220703125, 1012.2789306640625, 1093.400390625, 292.7536926269531, 226.31854248046875, 183.39012145996094, 170.63485717773438, 390.104248046875, 531.5062866210938, 209.56837463378906, 253.18670654296875, 327.3652038574219, 276.69305419921875, 242.55369567871094, 197.98513793945312, 402.496337890625, 398.0501708984375, 268.3114318847656, 403.7300720214844, 336.766845703125, 475.7609558105469, 431.071533203125, 308.256103515625, 404.9443054199219, 263.59771728515625, 255.56121826171875, 315.1552429199219, 304.7915954589844, 282.0666198730469, 261.7568054199219, 256.3773498535156, 467.680908203125, 239.5211639404297, 169.104248046875, 149.32801818847656, 146.55587768554688, 146.45553588867188, 136.2805938720703, 127.87168884277344, 110.18994903564453, 106.89971923828125, 104.22811126708984, 104.03314971923828, 103.84831237792969, 103.52254486083984, 100.76918029785156, 100.50987243652344, 93.14203643798828, 91.3490982055664, 91.33804321289062, 87.46532440185547, 84.39701843261719, 83.813720703125, 75.68939971923828, 74.38379669189453, 73.38409423828125, 73.00193786621094, 71.73938751220703, 66.93798828125, 63.31914520263672, 63.02293014526367, 108.07176971435547, 215.7607879638672, 100.52313995361328, 135.23959350585938, 79.71350860595703, 98.84794616699219, 79.28977966308594, 81.36666107177734, 317.5543518066406, 300.00689697265625, 227.35211181640625, 207.11715698242188, 189.43936157226562, 185.12815856933594, 177.90457153320312, 177.89178466796875, 170.05572509765625, 160.84619140625, 158.07229614257812, 150.0979461669922, 140.6028289794922, 140.02386474609375, 132.98045349121094, 129.80218505859375, 119.61360931396484, 116.56413269042969, 115.54804992675781, 94.74456787109375, 91.13984680175781, 88.44729614257812, 84.12062072753906, 79.26298522949219, 78.1602783203125, 77.35267639160156, 76.11276245117188, 71.08169555664062, 70.13321685791016, 68.99809265136719, 122.68663024902344, 190.21510314941406, 376.9600830078125, 625.1776123046875, 313.9762878417969, 149.29782104492188, 228.42796325683594, 198.59078979492188, 317.6612243652344, 360.3248291015625, 192.28170776367188, 355.3872375488281, 218.54319763183594, 405.7501220703125, 283.9627380371094, 188.060546875, 170.7808837890625, 211.5537567138672, 207.82766723632812, 198.3999786376953, 183.21437072753906, 314.3558349609375, 243.1911163330078, 189.0998077392578, 181.9302978515625, 165.53794860839844, 159.24813842773438, 139.63499450683594, 124.8879623413086, 124.5291976928711, 118.53629302978516, 106.79984283447266, 99.52835083007812, 95.52051544189453, 92.9360580444336, 84.29724884033203, 83.95018768310547, 81.29695892333984, 80.14688110351562, 79.94281768798828, 79.54376220703125, 75.12223052978516, 71.14018249511719, 71.0848617553711, 65.34361267089844, 62.02082061767578, 61.479888916015625, 61.131839752197266, 60.502193450927734, 60.38920974731445, 58.98307418823242, 189.77279663085938, 315.53704833984375, 322.038818359375, 110.6090087890625, 152.17893981933594, 71.90290832519531, 165.99693298339844, 88.7886962890625, 90.24222564697266, 98.68944549560547, 89.90167236328125, 87.0574722290039, 452.6521301269531, 204.63832092285156, 190.35791015625, 180.80857849121094, 178.3424835205078, 166.87493896484375, 151.6643524169922, 150.2684783935547, 147.8484649658203, 147.13088989257812, 146.13565063476562, 144.72048950195312, 135.9107208251953, 130.2842559814453, 129.98606872558594, 127.25287628173828, 116.44770812988281, 114.74888610839844, 108.66974639892578, 107.17517852783203, 100.82262420654297, 99.27610778808594, 97.32086181640625, 96.9862060546875, 94.49940490722656, 94.29511260986328, 94.12910461425781, 88.12865447998047, 87.24755096435547, 86.8010025024414, 153.3727569580078, 385.7950134277344, 419.32415771484375, 164.6489715576172, 159.25636291503906, 182.8453369140625, 175.47581481933594, 126.03514099121094, 277.3872375488281, 149.9739990234375, 658.217041015625, 143.70655822753906, 150.37100219726562, 156.92559814453125, 144.18556213378906, 240.62423706054688, 147.3631134033203, 131.11097717285156, 1552.3682861328125, 1240.694580078125, 541.2918701171875, 463.43548583984375, 439.98541259765625, 413.1180114746094, 373.41497802734375, 272.12738037109375, 224.354736328125, 214.77267456054688, 205.4645538330078, 192.9665069580078, 186.6895294189453, 182.63467407226562, 176.60911560058594, 154.26133728027344, 145.0221405029297, 137.9606475830078, 132.766357421875, 131.84677124023438, 128.34078979492188, 125.86161804199219, 105.53266906738281, 99.72280883789062, 99.25898742675781, 97.19953918457031, 96.5172348022461, 92.07498931884766, 90.9793930053711, 89.55970001220703, 254.962890625, 623.9462280273438, 135.44898986816406, 725.9995727539062, 757.370849609375, 329.15472412109375, 671.1718139648438, 567.3455200195312, 412.7070617675781, 471.0771179199219, 384.217529296875, 206.19874572753906, 174.14002990722656, 202.67141723632812, 199.1185302734375, 161.35281372070312, 397.6037902832031, 385.1156005859375, 359.6278991699219, 336.1865539550781, 229.57833862304688, 199.21102905273438, 189.67633056640625, 173.9042510986328, 165.0131378173828, 161.57052612304688, 150.29029846191406, 142.86026000976562, 139.28076171875, 139.06137084960938, 134.4883575439453, 126.46249389648438, 119.06649017333984, 116.1761703491211, 115.943603515625, 111.18696594238281, 103.69611358642578, 89.7545394897461, 89.13516998291016, 81.19246673583984, 81.19246673583984, 81.1881332397461, 74.01822662353516, 68.05718994140625, 66.79891967773438, 65.83662414550781, 160.3384246826172, 673.9273071289062, 96.15349578857422, 109.96038818359375, 97.07122802734375, 89.54606628417969, 122.02143859863281, 321.396240234375, 319.1326599121094, 200.85391235351562, 180.46412658691406, 178.3939208984375, 171.51051330566406, 171.280517578125, 146.41336059570312, 138.9556884765625, 136.30764770507812, 134.0347137451172, 132.48348999023438, 127.05925750732422, 126.92340850830078, 115.81658935546875, 114.02108001708984, 113.32897186279297, 112.02771759033203, 108.82059478759766, 108.68128967285156, 108.66673278808594, 95.20063781738281, 92.52352142333984, 90.5851058959961, 88.22151184082031, 84.38277435302734, 83.92717742919922, 81.19625091552734, 81.1822509765625, 80.35490417480469, 376.2886657714844, 214.70135498046875, 182.03761291503906, 97.16403198242188, 112.68545532226562, 170.4074249267578, 128.11709594726562, 189.29861450195312, 102.09892272949219, 223.45262145996094, 250.14108276367188, 183.98765563964844, 146.7716522216797, 137.0250244140625, 127.8929672241211, 131.22679138183594, 297.22418212890625, 245.1378936767578, 215.23092651367188, 211.679443359375, 207.89073181152344, 206.00381469726562, 184.27935791015625, 173.25057983398438, 170.0813751220703, 167.67576599121094, 138.3609161376953, 133.98431396484375, 125.16450500488281, 124.90787506103516, 123.82196044921875, 121.45398712158203, 121.42893981933594, 114.38836669921875, 113.68856048583984, 111.97535705566406, 110.75875091552734, 105.68077850341797, 103.3470230102539, 98.60487365722656, 97.28557586669922, 96.60704803466797, 94.857666015625, 94.45256805419922, 90.80374145507812, 89.46924591064453, 166.04159545898438, 240.1947479248047, 307.6961669921875, 430.5999755859375, 280.976806640625, 210.60983276367188, 267.7808532714844, 491.8750305175781, 129.72509765625, 351.78521728515625, 254.59292602539062, 231.60780334472656, 296.9482421875, 258.7535400390625, 224.08316040039062, 202.827880859375, 155.4836883544922, 179.61183166503906, 177.25765991210938, 184.22372436523438, 149.8142852783203, 155.22052001953125, 940.2971801757812, 851.7254638671875, 697.4144897460938, 684.0079345703125, 260.8039855957031, 255.8616943359375, 186.30030822753906, 176.81004333496094, 160.62625122070312, 130.43882751464844, 130.2000732421875, 118.89378356933594, 117.63079071044922, 116.9065170288086, 114.73021697998047, 108.65585327148438, 104.87298583984375, 98.92030334472656, 97.80946350097656, 97.57096099853516, 96.90550994873047, 84.96375274658203, 83.08381652832031, 80.96438598632812, 77.87781524658203, 76.10618591308594, 74.4632797241211, 74.23236846923828, 71.87285614013672, 71.7430419921875, 143.776611328125, 312.9928283691406, 146.05377197265625, 124.66596221923828, 134.5309295654297, 617.4898071289062, 152.9100341796875, 301.2236633300781, 163.81524658203125, 121.44722747802734, 101.22880554199219, 98.39276123046875], \"Total\": [4582.0, 1851.0, 1741.0, 1663.0, 1411.0, 1569.0, 1553.0, 1971.0, 1468.0, 1241.0, 1368.0, 1274.0, 941.0, 956.0, 1399.0, 1470.0, 852.0, 951.0, 1809.0, 867.0, 1204.0, 984.0, 1339.0, 2999.0, 1261.0, 1899.0, 1079.0, 1250.0, 698.0, 684.0, 607.9262084960938, 265.4796447753906, 260.1671142578125, 216.8367156982422, 193.33648681640625, 190.78564453125, 147.26461791992188, 123.08626556396484, 118.91610717773438, 113.54461669921875, 101.37873077392578, 96.7418441772461, 91.65815734863281, 89.39166259765625, 89.26927947998047, 87.82921600341797, 87.70592498779297, 82.84664916992188, 82.79532623291016, 81.69821166992188, 78.92973327636719, 73.94664001464844, 69.36701965332031, 68.65320587158203, 65.4334487915039, 61.54736328125, 61.4441032409668, 60.9490966796875, 60.34640121459961, 60.33456039428711, 158.14303588867188, 179.83164978027344, 129.49122619628906, 159.1483154296875, 135.5874786376953, 251.95872497558594, 407.2389831542969, 136.5521697998047, 303.8970642089844, 157.0734100341797, 850.8385620117188, 582.8657836914062, 2025.49658203125, 1631.9580078125, 1411.73046875, 364.8456115722656, 308.48455810546875, 297.3086853027344, 219.71365356445312, 181.62637329101562, 178.06192016601562, 164.1790008544922, 163.55833435058594, 156.82276916503906, 147.93971252441406, 142.52125549316406, 130.35427856445312, 108.57373809814453, 106.05094146728516, 87.68655395507812, 79.93700408935547, 75.26814270019531, 73.70624542236328, 71.5181655883789, 71.02875518798828, 65.1347427368164, 64.76941680908203, 63.434906005859375, 63.07346725463867, 61.88502502441406, 61.1541748046875, 60.52940368652344, 59.24180603027344, 54.84108352661133, 184.54766845703125, 181.64151000976562, 118.5289306640625, 1741.883544921875, 956.947265625, 476.02880859375, 450.37060546875, 328.8271484375, 278.685546875, 182.7878875732422, 154.38807678222656, 148.36572265625, 143.76731872558594, 130.99378967285156, 123.84534454345703, 121.59333801269531, 121.59333801269531, 107.61956787109375, 106.40815734863281, 104.72933959960938, 100.38482666015625, 96.19197082519531, 89.89680480957031, 86.214111328125, 78.28936767578125, 75.02227783203125, 72.14360046386719, 67.11576843261719, 61.681495666503906, 58.62310791015625, 57.75081253051758, 53.98649978637695, 52.85369110107422, 393.9957580566406, 381.4359436035156, 1468.0601806640625, 153.4388427734375, 468.1456604003906, 108.44756317138672, 1274.8759765625, 1059.8536376953125, 219.85447692871094, 751.0147705078125, 799.4148559570312, 461.8889465332031, 575.1113891601562, 433.8008728027344, 348.0107727050781, 228.4947509765625, 205.3389434814453, 176.2448272705078, 170.9222869873047, 161.03720092773438, 152.3364715576172, 152.29495239257812, 141.06536865234375, 137.08541870117188, 134.31964111328125, 133.75262451171875, 125.1744384765625, 118.33499908447266, 112.47247314453125, 111.72391510009766, 107.61530303955078, 101.03497314453125, 93.8550033569336, 93.5005111694336, 90.61254119873047, 90.3552017211914, 88.49993896484375, 87.83856964111328, 87.00836944580078, 86.60397338867188, 79.26968383789062, 77.89399719238281, 266.6892395019531, 232.9320068359375, 206.46475219726562, 779.1177368164062, 1261.680908203125, 277.42083740234375, 238.96949768066406, 688.4606323242188, 664.682861328125, 538.7844848632812, 549.6154174804688, 993.1826171875, 1899.7213134765625, 1006.4724731445312, 814.8626708984375, 1128.3936767578125, 1173.634765625, 1809.60693359375, 740.5760498046875, 352.3907470703125, 1368.852294921875, 475.3357849121094, 452.9763488769531, 348.5477600097656, 344.125244140625, 290.0175476074219, 259.8029479980469, 239.20608520507812, 218.21530151367188, 208.29910278320312, 180.45751953125, 177.82139587402344, 157.89370727539062, 143.51724243164062, 133.89967346191406, 122.41294860839844, 120.42830657958984, 107.1454086303711, 101.46902465820312, 98.32621765136719, 96.85486602783203, 91.64514923095703, 89.40412902832031, 89.32203674316406, 89.19053649902344, 89.0606918334961, 88.47693634033203, 81.94134521484375, 79.73367309570312, 78.90225982666016, 4582.1962890625, 300.713623046875, 1399.829345703125, 1971.7430419921875, 333.90301513671875, 465.0044250488281, 731.9595336914062, 490.6111145019531, 1339.455810546875, 570.100341796875, 449.9870300292969, 1809.60693359375, 525.5712890625, 1521.4395751953125, 617.0570068359375, 562.3085327148438, 740.5760498046875, 1128.3936767578125, 1026.681884765625, 608.112060546875, 1906.5767822265625, 2025.49658203125, 1068.88232421875, 1250.689208984375, 238.60458374023438, 222.54742431640625, 222.05091857910156, 209.1495819091797, 198.8128204345703, 180.15011596679688, 161.1960906982422, 141.53932189941406, 140.9787139892578, 140.75843811035156, 133.24229431152344, 125.6748275756836, 118.71778106689453, 117.70963287353516, 108.63358306884766, 106.80104064941406, 105.41584777832031, 103.37820434570312, 98.12838745117188, 92.46695709228516, 90.2628402709961, 83.9799575805664, 83.08638763427734, 81.72129821777344, 81.1837387084961, 80.53912353515625, 77.46873474121094, 77.37039947509766, 76.1082763671875, 75.52435302734375, 282.06036376953125, 215.49510192871094, 503.7066955566406, 143.18971252441406, 301.61822509765625, 409.47869873046875, 641.296630859375, 750.0491333007812, 288.3699645996094, 176.3470001220703, 202.42127990722656, 210.3314208984375, 1395.5130615234375, 368.4591979980469, 1233.883056640625, 248.4616241455078, 275.2608337402344, 1068.88232421875, 850.8385620117188, 223.03614807128906, 1552.992431640625, 1631.9580078125, 2999.05712890625, 445.7590026855469, 293.3643493652344, 4582.1962890625, 1142.81396484375, 724.6945190429688, 1835.130859375, 1906.5767822265625, 1173.634765625, 779.1177368164062, 497.3529357910156, 233.002197265625, 226.91305541992188, 172.92990112304688, 169.2135772705078, 146.05499267578125, 135.10787963867188, 120.77774047851562, 109.30399322509766, 97.38565826416016, 93.5933837890625, 89.83468627929688, 83.31861877441406, 82.84357452392578, 81.15533447265625, 65.42723083496094, 64.09237670898438, 62.669559478759766, 60.77039337158203, 60.61093521118164, 60.22564697265625, 56.71234130859375, 56.040870666503906, 54.01559066772461, 52.991493225097656, 52.895687103271484, 52.47507095336914, 52.29398727416992, 52.13295364379883, 49.29610061645508, 290.6412353515625, 376.6260070800781, 271.1715087890625, 167.4411163330078, 117.2663803100586, 100.70574188232422, 612.4931640625, 850.8385620117188, 503.7066955566406, 106.52546691894531, 1663.1007080078125, 604.2669067382812, 389.9378356933594, 305.5400085449219, 196.31336975097656, 144.5781707763672, 142.05210876464844, 137.12298583984375, 136.7227783203125, 116.63775634765625, 111.23838806152344, 104.77804565429688, 99.93641662597656, 97.28863525390625, 95.9051513671875, 95.61996459960938, 93.68280029296875, 92.84095764160156, 91.72129821777344, 91.38554382324219, 89.85955810546875, 89.28448486328125, 85.4727783203125, 84.3055419921875, 83.12054443359375, 79.91798400878906, 79.85693359375, 78.78065490722656, 77.70097351074219, 77.17457580566406, 706.4429931640625, 149.0586700439453, 1470.902099609375, 345.7282409667969, 247.71400451660156, 1059.8536376953125, 380.9500427246094, 316.38134765625, 366.7635803222656, 751.0147705078125, 278.8997802734375, 1097.58056640625, 450.7807922363281, 252.75296020507812, 256.3762512207031, 867.2222900390625, 1250.689208984375, 2999.05712890625, 263.3646545410156, 850.8385620117188, 664.682861328125, 1569.376953125, 951.79345703125, 548.7433471679688, 359.7680969238281, 293.2932434082031, 278.5253601074219, 249.55599975585938, 211.22802734375, 206.4290313720703, 202.8748321533203, 198.2372589111328, 192.36940002441406, 179.28297424316406, 170.1136932373047, 150.5376434326172, 144.3236846923828, 141.4801483154297, 134.81698608398438, 115.72164154052734, 153.95118713378906, 106.75279235839844, 105.47528839111328, 102.11418914794922, 100.90843200683594, 97.62957000732422, 97.12217712402344, 95.60563659667969, 93.66856384277344, 92.95283508300781, 91.77045440673828, 984.9912719726562, 477.85693359375, 204.63438415527344, 360.9970703125, 1142.81396484375, 183.6995849609375, 375.591796875, 908.7163696289062, 1206.80908203125, 197.05247497558594, 325.25372314453125, 353.448486328125, 1033.0404052734375, 1233.883056640625, 2025.49658203125, 1090.36865234375, 356.91046142578125, 278.9888916015625, 1851.5589599609375, 287.48516845703125, 259.50341796875, 250.332275390625, 164.09596252441406, 154.92555236816406, 154.17100524902344, 151.3653106689453, 143.9987030029297, 142.5709686279297, 118.34184265136719, 110.0570068359375, 108.21001434326172, 106.58309936523438, 106.42533111572266, 104.33463287353516, 103.39984130859375, 103.06250762939453, 102.02155303955078, 101.1640625, 95.19637298583984, 88.90043640136719, 83.41234588623047, 83.17070007324219, 82.551513671875, 82.2788314819336, 81.36405181884766, 80.69305419921875, 79.23090362548828, 71.7967300415039, 332.5108642578125, 1274.8759765625, 340.4704284667969, 1468.0601806640625, 136.09422302246094, 302.4211120605469, 138.37586975097656, 2999.05712890625, 828.4715576171875, 729.61376953125, 577.2338256835938, 532.6370849609375, 336.40460205078125, 269.0087890625, 256.8192138671875, 240.3223876953125, 232.55667114257812, 227.9055633544922, 215.5880889892578, 196.11000061035156, 191.8011932373047, 169.5835418701172, 160.25962829589844, 149.7347412109375, 134.9010467529297, 132.77122497558594, 131.46246337890625, 130.65518188476562, 130.48001098632812, 130.28500366210938, 129.912109375, 119.08399963378906, 116.11671447753906, 115.64692687988281, 111.53504943847656, 107.79149627685547, 99.03392028808594, 96.58627319335938, 780.8726196289062, 1079.01953125, 1204.13916015625, 306.193359375, 240.5792999267578, 191.7942657470703, 178.0103759765625, 446.9434509277344, 671.6073608398438, 230.325439453125, 298.7190246582031, 412.1425476074219, 339.8490295410156, 289.7181396484375, 223.2828369140625, 645.171875, 639.1690673828125, 352.4119873046875, 654.5167236328125, 522.7345581054688, 1026.681884765625, 1033.0404052734375, 601.7400512695312, 2025.49658203125, 483.0120849609375, 424.2867431640625, 1339.455810546875, 1521.4395751953125, 1090.36865234375, 908.7163696289062, 993.1826171875, 468.6038818359375, 240.44415283203125, 170.02723693847656, 150.25100708007812, 147.47886657714844, 147.37852478027344, 137.20358276367188, 128.794677734375, 111.11293029785156, 107.82270050048828, 105.15109252929688, 104.95613098144531, 104.77129364013672, 104.46443939208984, 101.6921615600586, 101.43285369873047, 94.06501770019531, 92.27207946777344, 92.26102447509766, 88.3883056640625, 85.31999969482422, 84.73670196533203, 76.61238098144531, 75.30677795410156, 74.30707550048828, 73.92491912841797, 72.6623764038086, 67.86096954345703, 64.24212646484375, 63.94591522216797, 119.82804107666016, 300.9814147949219, 116.2481918334961, 461.8889465332031, 132.57919311523438, 1835.130859375, 168.296630859375, 282.7381286621094, 318.4801330566406, 300.93267822265625, 228.2779083251953, 208.04295349121094, 190.3651580810547, 186.053955078125, 178.8303680419922, 178.8175811767578, 170.9815216064453, 161.77198791503906, 158.9980926513672, 151.02374267578125, 141.52862548828125, 140.9496612548828, 133.90625, 130.7279815673828, 120.53939819335938, 117.48992156982422, 116.47383880615234, 95.67035675048828, 92.06563568115234, 89.37308502197266, 85.0464096069336, 80.18877410888672, 79.08606719970703, 78.2784652709961, 77.0385513305664, 72.00748443603516, 71.05900573730469, 69.92388153076172, 130.1165313720703, 212.51644897460938, 566.9141235351562, 1275.7960205078125, 513.83447265625, 190.1713104248047, 340.59124755859375, 284.9712219238281, 741.692138671875, 1206.80908203125, 374.67510986328125, 1261.680908203125, 483.0120849609375, 2999.05712890625, 1906.5767822265625, 763.0671997070312, 484.8177185058594, 1631.9580078125, 1899.7213134765625, 1521.4395751953125, 1142.81396484375, 315.27850341796875, 244.11378479003906, 190.02247619628906, 182.85296630859375, 166.4606170654297, 160.17080688476562, 140.5576629638672, 125.81061553955078, 125.45185089111328, 119.45894622802734, 107.72249603271484, 100.45100402832031, 96.44316864013672, 93.85871124267578, 85.21990203857422, 84.87284088134766, 82.21961212158203, 81.06953430175781, 80.86547088623047, 80.46641540527344, 76.04488372802734, 72.06283569335938, 72.00751495361328, 66.26626586914062, 62.943477630615234, 62.40254592895508, 62.05449676513672, 61.42485046386719, 61.311866760253906, 59.905731201171875, 223.69349670410156, 404.60601806640625, 446.5278015136719, 143.62110900878906, 237.47280883789062, 79.72637939453125, 320.913818359375, 114.91951751708984, 314.7893371582031, 570.100341796875, 763.0671997070312, 639.1690673828125, 453.57421875, 205.56039428710938, 191.2799835205078, 181.73065185546875, 179.26455688476562, 167.79701232910156, 152.58642578125, 151.1905517578125, 148.77053833007812, 148.05296325683594, 147.05772399902344, 145.64256286621094, 136.83279418945312, 131.20632934570312, 130.90814208984375, 128.17495727539062, 117.36978912353516, 115.67096710205078, 109.59182739257812, 108.09725952148438, 101.74470520019531, 100.19818878173828, 98.2429428100586, 97.90828704833984, 95.4214859008789, 95.21719360351562, 95.05118560791016, 89.05073547363281, 88.16963195800781, 87.72308349609375, 166.50132751464844, 485.0627136230469, 556.8328857421875, 186.8956756591797, 180.18130493164062, 222.36746215820312, 217.1269073486328, 141.6221466064453, 463.7090148925781, 185.2604217529297, 1899.7213134765625, 180.9104461669922, 202.8119659423828, 248.65684509277344, 208.68052673339844, 1206.80908203125, 672.3329467773438, 208.70228576660156, 1553.29736328125, 1241.6236572265625, 542.2210083007812, 464.3645935058594, 440.9145202636719, 414.047119140625, 374.3440856933594, 273.0564880371094, 225.2838592529297, 215.70179748535156, 206.3936767578125, 193.8956298828125, 187.61865234375, 183.5637969970703, 177.53823852539062, 155.19046020507812, 145.95126342773438, 138.8897705078125, 133.6954803466797, 132.77589416503906, 129.26991271972656, 126.79073333740234, 106.46178436279297, 100.65192413330078, 100.18810272216797, 98.12865447998047, 97.44635009765625, 93.00410461425781, 91.90850830078125, 90.48881530761719, 291.1625061035156, 799.4148559570312, 149.5841827392578, 1250.689208984375, 1552.992431640625, 582.8657836914062, 1835.130859375, 1470.902099609375, 1275.7960205078125, 1906.5767822265625, 1631.9580078125, 648.5601806640625, 401.1888427734375, 1395.5130615234375, 2999.05712890625, 1059.8536376953125, 398.5258483886719, 386.03765869140625, 360.5499572753906, 337.1086120605469, 230.50039672851562, 200.13308715820312, 190.598388671875, 174.82630920410156, 165.93519592285156, 162.49258422851562, 151.2123565673828, 143.78231811523438, 140.20281982421875, 139.98342895507812, 135.41041564941406, 127.38455963134766, 119.98855590820312, 117.09823608398438, 116.86566925048828, 112.1090316772461, 104.61817932128906, 90.67660522460938, 90.05723571777344, 82.11453247070312, 82.11453247070312, 82.11019897460938, 74.94029235839844, 68.97925567626953, 67.72098541259766, 66.7586898803711, 166.8060760498047, 867.2222900390625, 109.93207550048828, 163.67860412597656, 153.38418579101562, 144.56185913085938, 1552.992431640625, 322.32147216796875, 320.0578918457031, 201.77914428710938, 181.3893585205078, 179.31915283203125, 172.4357452392578, 172.20574951171875, 147.33859252929688, 139.88092041015625, 137.23287963867188, 134.95994567871094, 133.40872192382812, 127.98448944091797, 127.84864044189453, 116.7418212890625, 114.9463119506836, 114.25420379638672, 112.95294952392578, 109.7458267211914, 109.60652160644531, 109.59196472167969, 96.12586975097656, 93.4487533569336, 91.51033782958984, 89.14674377441406, 85.3080062866211, 84.85240936279297, 82.1214828491211, 82.10748291015625, 81.28013610839844, 427.4992980957031, 238.45867919921875, 221.46902465820312, 106.59867858886719, 139.74661254882812, 361.4306945800781, 217.0203857421875, 612.4931640625, 124.73652648925781, 1899.7213134765625, 2999.05712890625, 1835.130859375, 1631.9580078125, 1128.3936767578125, 741.692138671875, 1552.992431640625, 298.1466369628906, 246.06036376953125, 216.1533966064453, 212.60191345214844, 208.81320190429688, 206.92628479003906, 185.2018280029297, 174.1730499267578, 171.00384521484375, 168.59823608398438, 139.28338623046875, 134.9067840576172, 126.08697509765625, 125.8303451538086, 124.74443054199219, 122.37645721435547, 122.35140991210938, 115.31083679199219, 114.61103057861328, 112.8978271484375, 111.68122100830078, 106.6032485961914, 104.26949310302734, 99.52734375, 98.20804595947266, 97.5295181274414, 95.78013610839844, 95.37503814697266, 91.72621154785156, 90.39171600341797, 172.50759887695312, 267.2516174316406, 422.1158752441406, 685.7842407226562, 418.4039001464844, 312.5534362792969, 483.4840393066406, 2025.49658203125, 160.36231994628906, 1233.883056640625, 1090.36865234375, 1261.680908203125, 2999.05712890625, 1971.7430419921875, 1173.634765625, 814.8626708984375, 362.5859375, 1068.88232421875, 1142.81396484375, 1835.130859375, 484.8177185058594, 908.7163696289062, 941.2228393554688, 852.651123046875, 698.3401489257812, 684.93359375, 261.7296447753906, 256.787353515625, 187.2259521484375, 177.73568725585938, 161.55189514160156, 131.36447143554688, 131.12571716308594, 119.81942749023438, 118.55643463134766, 117.83216094970703, 115.6558609008789, 109.58149719238281, 105.79862976074219, 99.845947265625, 98.735107421875, 98.4966049194336, 97.8311538696289, 85.88939666748047, 84.00946044921875, 81.89002990722656, 78.80345916748047, 77.03182983398438, 75.38892364501953, 75.15802001953125, 72.79850006103516, 72.66868591308594, 166.43258666992188, 458.10101318359375, 191.5373077392578, 157.8735809326172, 178.43312072753906, 2999.05712890625, 274.7835693359375, 1835.130859375, 750.0491333007812, 1899.7213134765625, 1275.7960205078125, 485.0627136230469], \"Category\": [\"Default\", \"Default\", \"Default\", \"Default\", \"Default\", \"Default\", \"Default\", \"Default\", \"Default\", \"Default\", \"Default\", \"Default\", \"Default\", \"Default\", \"Default\", \"Default\", \"Default\", \"Default\", \"Default\", \"Default\", \"Default\", \"Default\", \"Default\", \"Default\", \"Default\", \"Default\", \"Default\", \"Default\", \"Default\", \"Default\", \"Topic1\", \"Topic1\", \"Topic1\", \"Topic1\", \"Topic1\", \"Topic1\", \"Topic1\", \"Topic1\", \"Topic1\", \"Topic1\", \"Topic1\", \"Topic1\", \"Topic1\", \"Topic1\", \"Topic1\", \"Topic1\", \"Topic1\", \"Topic1\", \"Topic1\", \"Topic1\", \"Topic1\", \"Topic1\", \"Topic1\", \"Topic1\", \"Topic1\", \"Topic1\", \"Topic1\", \"Topic1\", \"Topic1\", \"Topic1\", \"Topic1\", \"Topic1\", \"Topic1\", \"Topic1\", \"Topic1\", \"Topic1\", \"Topic1\", \"Topic1\", \"Topic1\", \"Topic1\", \"Topic1\", \"Topic1\", \"Topic1\", \"Topic1\", \"Topic2\", \"Topic2\", \"Topic2\", \"Topic2\", \"Topic2\", \"Topic2\", \"Topic2\", \"Topic2\", \"Topic2\", \"Topic2\", \"Topic2\", \"Topic2\", \"Topic2\", \"Topic2\", \"Topic2\", \"Topic2\", \"Topic2\", \"Topic2\", \"Topic2\", \"Topic2\", \"Topic2\", \"Topic2\", \"Topic2\", \"Topic2\", \"Topic2\", \"Topic2\", \"Topic2\", \"Topic2\", \"Topic2\", \"Topic2\", \"Topic2\", \"Topic2\", \"Topic2\", \"Topic3\", \"Topic3\", \"Topic3\", \"Topic3\", \"Topic3\", \"Topic3\", \"Topic3\", \"Topic3\", \"Topic3\", \"Topic3\", \"Topic3\", \"Topic3\", \"Topic3\", \"Topic3\", \"Topic3\", \"Topic3\", \"Topic3\", \"Topic3\", \"Topic3\", \"Topic3\", \"Topic3\", \"Topic3\", \"Topic3\", \"Topic3\", \"Topic3\", \"Topic3\", \"Topic3\", \"Topic3\", \"Topic3\", \"Topic3\", \"Topic3\", \"Topic3\", \"Topic3\", \"Topic3\", \"Topic3\", \"Topic3\", \"Topic3\", \"Topic3\", \"Topic3\", \"Topic3\", \"Topic3\", \"Topic3\", \"Topic4\", \"Topic4\", \"Topic4\", \"Topic4\", \"Topic4\", \"Topic4\", \"Topic4\", \"Topic4\", \"Topic4\", \"Topic4\", \"Topic4\", \"Topic4\", \"Topic4\", \"Topic4\", \"Topic4\", \"Topic4\", \"Topic4\", \"Topic4\", \"Topic4\", \"Topic4\", \"Topic4\", \"Topic4\", \"Topic4\", \"Topic4\", \"Topic4\", \"Topic4\", \"Topic4\", \"Topic4\", \"Topic4\", \"Topic4\", \"Topic4\", \"Topic4\", \"Topic4\", \"Topic4\", \"Topic4\", \"Topic4\", \"Topic4\", \"Topic4\", \"Topic4\", \"Topic4\", \"Topic4\", \"Topic4\", \"Topic4\", \"Topic4\", \"Topic4\", \"Topic4\", \"Topic4\", \"Topic4\", \"Topic4\", \"Topic4\", \"Topic5\", \"Topic5\", \"Topic5\", \"Topic5\", \"Topic5\", \"Topic5\", \"Topic5\", \"Topic5\", \"Topic5\", \"Topic5\", \"Topic5\", \"Topic5\", \"Topic5\", \"Topic5\", \"Topic5\", \"Topic5\", \"Topic5\", \"Topic5\", \"Topic5\", \"Topic5\", \"Topic5\", \"Topic5\", \"Topic5\", \"Topic5\", \"Topic5\", \"Topic5\", \"Topic5\", \"Topic5\", \"Topic5\", \"Topic5\", \"Topic5\", \"Topic5\", \"Topic5\", \"Topic5\", \"Topic5\", \"Topic5\", \"Topic5\", \"Topic5\", \"Topic5\", \"Topic5\", \"Topic5\", \"Topic5\", \"Topic5\", \"Topic5\", \"Topic5\", \"Topic5\", \"Topic5\", \"Topic5\", \"Topic5\", \"Topic5\", \"Topic5\", \"Topic5\", \"Topic5\", \"Topic5\", \"Topic6\", \"Topic6\", \"Topic6\", \"Topic6\", \"Topic6\", \"Topic6\", \"Topic6\", \"Topic6\", \"Topic6\", \"Topic6\", \"Topic6\", \"Topic6\", \"Topic6\", \"Topic6\", \"Topic6\", \"Topic6\", \"Topic6\", \"Topic6\", \"Topic6\", \"Topic6\", \"Topic6\", \"Topic6\", \"Topic6\", \"Topic6\", \"Topic6\", \"Topic6\", \"Topic6\", \"Topic6\", \"Topic6\", \"Topic6\", \"Topic6\", \"Topic6\", \"Topic6\", \"Topic6\", \"Topic6\", \"Topic6\", \"Topic6\", \"Topic6\", \"Topic6\", \"Topic6\", \"Topic6\", \"Topic6\", \"Topic6\", \"Topic6\", \"Topic6\", \"Topic6\", \"Topic6\", \"Topic6\", \"Topic6\", \"Topic6\", \"Topic6\", \"Topic6\", \"Topic6\", \"Topic6\", \"Topic6\", \"Topic6\", \"Topic6\", \"Topic6\", \"Topic6\", \"Topic6\", \"Topic6\", \"Topic6\", \"Topic7\", \"Topic7\", \"Topic7\", \"Topic7\", \"Topic7\", \"Topic7\", \"Topic7\", \"Topic7\", \"Topic7\", \"Topic7\", \"Topic7\", \"Topic7\", \"Topic7\", \"Topic7\", \"Topic7\", \"Topic7\", \"Topic7\", \"Topic7\", \"Topic7\", \"Topic7\", \"Topic7\", \"Topic7\", \"Topic7\", \"Topic7\", \"Topic7\", \"Topic7\", \"Topic7\", \"Topic7\", \"Topic7\", \"Topic7\", \"Topic7\", \"Topic7\", \"Topic7\", \"Topic7\", \"Topic7\", \"Topic7\", \"Topic7\", \"Topic7\", \"Topic7\", \"Topic7\", \"Topic8\", \"Topic8\", \"Topic8\", \"Topic8\", \"Topic8\", \"Topic8\", \"Topic8\", \"Topic8\", \"Topic8\", \"Topic8\", \"Topic8\", \"Topic8\", \"Topic8\", \"Topic8\", \"Topic8\", \"Topic8\", \"Topic8\", \"Topic8\", \"Topic8\", \"Topic8\", \"Topic8\", \"Topic8\", \"Topic8\", \"Topic8\", \"Topic8\", \"Topic8\", \"Topic8\", \"Topic8\", \"Topic8\", \"Topic8\", \"Topic8\", \"Topic8\", \"Topic8\", \"Topic8\", \"Topic8\", \"Topic8\", \"Topic8\", \"Topic8\", \"Topic8\", \"Topic8\", \"Topic8\", \"Topic8\", \"Topic8\", \"Topic8\", \"Topic8\", \"Topic8\", \"Topic8\", \"Topic8\", \"Topic8\", \"Topic8\", \"Topic8\", \"Topic9\", \"Topic9\", \"Topic9\", \"Topic9\", \"Topic9\", \"Topic9\", \"Topic9\", \"Topic9\", \"Topic9\", \"Topic9\", \"Topic9\", \"Topic9\", \"Topic9\", \"Topic9\", \"Topic9\", \"Topic9\", \"Topic9\", \"Topic9\", \"Topic9\", \"Topic9\", \"Topic9\", \"Topic9\", \"Topic9\", \"Topic9\", \"Topic9\", \"Topic9\", \"Topic9\", \"Topic9\", \"Topic9\", \"Topic9\", \"Topic9\", \"Topic9\", \"Topic9\", \"Topic9\", \"Topic9\", \"Topic9\", \"Topic9\", \"Topic9\", \"Topic9\", \"Topic9\", \"Topic9\", \"Topic9\", \"Topic9\", \"Topic9\", \"Topic9\", \"Topic9\", \"Topic9\", \"Topic9\", \"Topic10\", \"Topic10\", \"Topic10\", \"Topic10\", \"Topic10\", \"Topic10\", \"Topic10\", \"Topic10\", \"Topic10\", \"Topic10\", \"Topic10\", \"Topic10\", \"Topic10\", \"Topic10\", \"Topic10\", \"Topic10\", \"Topic10\", \"Topic10\", \"Topic10\", \"Topic10\", \"Topic10\", \"Topic10\", \"Topic10\", \"Topic10\", \"Topic10\", \"Topic10\", \"Topic10\", \"Topic10\", \"Topic10\", \"Topic10\", \"Topic10\", \"Topic10\", \"Topic10\", \"Topic10\", \"Topic10\", \"Topic10\", \"Topic10\", \"Topic10\", \"Topic11\", \"Topic11\", \"Topic11\", \"Topic11\", \"Topic11\", \"Topic11\", \"Topic11\", \"Topic11\", \"Topic11\", \"Topic11\", \"Topic11\", \"Topic11\", \"Topic11\", \"Topic11\", \"Topic11\", \"Topic11\", \"Topic11\", \"Topic11\", \"Topic11\", \"Topic11\", \"Topic11\", \"Topic11\", \"Topic11\", \"Topic11\", \"Topic11\", \"Topic11\", \"Topic11\", \"Topic11\", \"Topic11\", \"Topic11\", \"Topic11\", \"Topic11\", \"Topic11\", \"Topic11\", \"Topic11\", \"Topic11\", \"Topic11\", \"Topic11\", \"Topic11\", \"Topic11\", \"Topic11\", \"Topic11\", \"Topic11\", \"Topic11\", \"Topic11\", \"Topic11\", \"Topic11\", \"Topic11\", \"Topic11\", \"Topic11\", \"Topic11\", \"Topic11\", \"Topic11\", \"Topic11\", \"Topic11\", \"Topic11\", \"Topic11\", \"Topic11\", \"Topic11\", \"Topic11\", \"Topic11\", \"Topic12\", \"Topic12\", \"Topic12\", \"Topic12\", \"Topic12\", \"Topic12\", \"Topic12\", \"Topic12\", \"Topic12\", \"Topic12\", \"Topic12\", \"Topic12\", \"Topic12\", \"Topic12\", \"Topic12\", \"Topic12\", \"Topic12\", \"Topic12\", \"Topic12\", \"Topic12\", \"Topic12\", \"Topic12\", \"Topic12\", \"Topic12\", \"Topic12\", \"Topic12\", \"Topic12\", \"Topic12\", \"Topic12\", \"Topic12\", \"Topic12\", \"Topic12\", \"Topic12\", \"Topic12\", \"Topic12\", \"Topic12\", \"Topic12\", \"Topic12\", \"Topic13\", \"Topic13\", \"Topic13\", \"Topic13\", \"Topic13\", \"Topic13\", \"Topic13\", \"Topic13\", \"Topic13\", \"Topic13\", \"Topic13\", \"Topic13\", \"Topic13\", \"Topic13\", \"Topic13\", \"Topic13\", \"Topic13\", \"Topic13\", \"Topic13\", \"Topic13\", \"Topic13\", \"Topic13\", \"Topic13\", \"Topic13\", \"Topic13\", \"Topic13\", \"Topic13\", \"Topic13\", \"Topic13\", \"Topic13\", \"Topic13\", \"Topic13\", \"Topic13\", \"Topic13\", \"Topic13\", \"Topic13\", \"Topic13\", \"Topic13\", \"Topic13\", \"Topic13\", \"Topic13\", \"Topic13\", \"Topic13\", \"Topic13\", \"Topic13\", \"Topic13\", \"Topic13\", \"Topic13\", \"Topic13\", \"Topic13\", \"Topic13\", \"Topic14\", \"Topic14\", \"Topic14\", \"Topic14\", \"Topic14\", \"Topic14\", \"Topic14\", \"Topic14\", \"Topic14\", \"Topic14\", \"Topic14\", \"Topic14\", \"Topic14\", \"Topic14\", \"Topic14\", \"Topic14\", \"Topic14\", \"Topic14\", \"Topic14\", \"Topic14\", \"Topic14\", \"Topic14\", \"Topic14\", \"Topic14\", \"Topic14\", \"Topic14\", \"Topic14\", \"Topic14\", \"Topic14\", \"Topic14\", \"Topic14\", \"Topic14\", \"Topic14\", \"Topic14\", \"Topic14\", \"Topic14\", \"Topic14\", \"Topic14\", \"Topic14\", \"Topic14\", \"Topic14\", \"Topic14\", \"Topic15\", \"Topic15\", \"Topic15\", \"Topic15\", \"Topic15\", \"Topic15\", \"Topic15\", \"Topic15\", \"Topic15\", \"Topic15\", \"Topic15\", \"Topic15\", \"Topic15\", \"Topic15\", \"Topic15\", \"Topic15\", \"Topic15\", \"Topic15\", \"Topic15\", \"Topic15\", \"Topic15\", \"Topic15\", \"Topic15\", \"Topic15\", \"Topic15\", \"Topic15\", \"Topic15\", \"Topic15\", \"Topic15\", \"Topic15\", \"Topic15\", \"Topic15\", \"Topic15\", \"Topic15\", \"Topic15\", \"Topic15\", \"Topic15\", \"Topic15\", \"Topic15\", \"Topic15\", \"Topic15\", \"Topic15\", \"Topic15\", \"Topic15\", \"Topic15\", \"Topic15\", \"Topic15\", \"Topic15\", \"Topic16\", \"Topic16\", \"Topic16\", \"Topic16\", \"Topic16\", \"Topic16\", \"Topic16\", \"Topic16\", \"Topic16\", \"Topic16\", \"Topic16\", \"Topic16\", \"Topic16\", \"Topic16\", \"Topic16\", \"Topic16\", \"Topic16\", \"Topic16\", \"Topic16\", \"Topic16\", \"Topic16\", \"Topic16\", \"Topic16\", \"Topic16\", \"Topic16\", \"Topic16\", \"Topic16\", \"Topic16\", \"Topic16\", \"Topic16\", \"Topic16\", \"Topic16\", \"Topic16\", \"Topic16\", \"Topic16\", \"Topic16\", \"Topic16\", \"Topic16\", \"Topic16\", \"Topic16\", \"Topic16\", \"Topic16\", \"Topic16\", \"Topic16\", \"Topic16\", \"Topic16\", \"Topic17\", \"Topic17\", \"Topic17\", \"Topic17\", \"Topic17\", \"Topic17\", \"Topic17\", \"Topic17\", \"Topic17\", \"Topic17\", \"Topic17\", \"Topic17\", \"Topic17\", \"Topic17\", \"Topic17\", \"Topic17\", \"Topic17\", \"Topic17\", \"Topic17\", \"Topic17\", \"Topic17\", \"Topic17\", \"Topic17\", \"Topic17\", \"Topic17\", \"Topic17\", \"Topic17\", \"Topic17\", \"Topic17\", \"Topic17\", \"Topic17\", \"Topic17\", \"Topic17\", \"Topic17\", \"Topic17\", \"Topic17\", \"Topic17\", \"Topic18\", \"Topic18\", \"Topic18\", \"Topic18\", \"Topic18\", \"Topic18\", \"Topic18\", \"Topic18\", \"Topic18\", \"Topic18\", \"Topic18\", \"Topic18\", \"Topic18\", \"Topic18\", \"Topic18\", \"Topic18\", \"Topic18\", \"Topic18\", \"Topic18\", \"Topic18\", \"Topic18\", \"Topic18\", \"Topic18\", \"Topic18\", \"Topic18\", \"Topic18\", \"Topic18\", \"Topic18\", \"Topic18\", \"Topic18\", \"Topic18\", \"Topic18\", \"Topic18\", \"Topic18\", \"Topic18\", \"Topic18\", \"Topic18\", \"Topic18\", \"Topic18\", \"Topic18\", \"Topic18\", \"Topic18\", \"Topic18\", \"Topic18\", \"Topic18\", \"Topic18\", \"Topic19\", \"Topic19\", \"Topic19\", \"Topic19\", \"Topic19\", \"Topic19\", \"Topic19\", \"Topic19\", \"Topic19\", \"Topic19\", \"Topic19\", \"Topic19\", \"Topic19\", \"Topic19\", \"Topic19\", \"Topic19\", \"Topic19\", \"Topic19\", \"Topic19\", \"Topic19\", \"Topic19\", \"Topic19\", \"Topic19\", \"Topic19\", \"Topic19\", \"Topic19\", \"Topic19\", \"Topic19\", \"Topic19\", \"Topic19\", \"Topic19\", \"Topic19\", \"Topic19\", \"Topic19\", \"Topic19\", \"Topic19\", \"Topic19\", \"Topic19\", \"Topic19\", \"Topic19\", \"Topic19\", \"Topic19\", \"Topic19\", \"Topic19\", \"Topic19\", \"Topic19\", \"Topic19\", \"Topic19\", \"Topic19\", \"Topic19\", \"Topic19\", \"Topic19\", \"Topic20\", \"Topic20\", \"Topic20\", \"Topic20\", \"Topic20\", \"Topic20\", \"Topic20\", \"Topic20\", \"Topic20\", \"Topic20\", \"Topic20\", \"Topic20\", \"Topic20\", \"Topic20\", \"Topic20\", \"Topic20\", \"Topic20\", \"Topic20\", \"Topic20\", \"Topic20\", \"Topic20\", \"Topic20\", \"Topic20\", \"Topic20\", \"Topic20\", \"Topic20\", \"Topic20\", \"Topic20\", \"Topic20\", \"Topic20\", \"Topic20\", \"Topic20\", \"Topic20\", \"Topic20\", \"Topic20\", \"Topic20\", \"Topic20\", \"Topic20\", \"Topic20\", \"Topic20\", \"Topic20\", \"Topic20\"], \"logprob\": [30.0, 29.0, 28.0, 27.0, 26.0, 25.0, 24.0, 23.0, 22.0, 21.0, 20.0, 19.0, 18.0, 17.0, 16.0, 15.0, 14.0, 13.0, 12.0, 11.0, 10.0, 9.0, 8.0, 7.0, 6.0, 5.0, 4.0, 3.0, 2.0, 1.0, -3.34089994430542, -4.17140007019043, -4.191699981689453, -4.374599933624268, -4.489799976348877, -4.5030999183654785, -4.763500213623047, -4.9440999031066895, -4.978799819946289, -5.025400161743164, -5.139699935913086, -5.186999797821045, -5.241499900817871, -5.2667999267578125, -5.268099784851074, -5.284599781036377, -5.285999774932861, -5.343599796295166, -5.344200134277344, -5.357699871063232, -5.392600059509277, -5.458600044250488, -5.523399829864502, -5.533899784088135, -5.582600116729736, -5.644700050354004, -5.646399974822998, -5.654600143432617, -5.664700031280518, -5.664899826049805, -4.743000030517578, -4.7342000007629395, -5.067999839782715, -4.985400199890137, -5.127200126647949, -4.730500221252441, -4.711100101470947, -5.224999904632568, -4.957300186157227, -5.199100017547607, -4.938899993896484, -5.010799884796143, -4.914899826049805, -4.970600128173828, -2.481100082397461, -3.8361001014709473, -4.00439977645874, -4.041399955749512, -4.344900131225586, -4.536200046539307, -4.556099891662598, -4.637700080871582, -4.641499996185303, -4.683800220489502, -4.742499828338623, -4.780099868774414, -4.869900226593018, -5.054200172424316, -5.077899932861328, -5.269899845123291, -5.363399982452393, -5.424300193786621, -5.4456000328063965, -5.476099967956543, -5.483099937438965, -5.570899963378906, -5.576600074768066, -5.597700119018555, -5.603499889373779, -5.622799873352051, -5.634900093078613, -5.645299911499023, -5.667099952697754, -5.74560022354126, -4.650100231170654, -4.67140007019043, -5.239200115203857, -2.5062999725341797, -3.1057000160217285, -3.8048999309539795, -3.8605000972747803, -4.17579984664917, -4.341700077056885, -4.7652997970581055, -4.935100078582764, -4.975100040435791, -5.006800174713135, -5.100500106811523, -5.1570000648498535, -5.17549991607666, -5.17549991607666, -5.298600196838379, -5.309999942779541, -5.326000213623047, -5.368800163269043, -5.411900043487549, -5.480199813842773, -5.522500038146973, -5.619999885559082, -5.6631999015808105, -5.7027997970581055, -5.776000022888184, -5.861700057983398, -5.913400173187256, -5.928599834442139, -5.997200012207031, -6.018799781799316, -4.153299808502197, -4.196199893951416, -3.0090999603271484, -5.086599826812744, -4.206200122833252, -5.440899848937988, -3.8027000427246094, -3.9354000091552734, -5.105100154876709, -4.625800132751465, -5.016300201416016, -5.2067999839782715, -3.796999931335449, -4.079500198364258, -4.3003997802734375, -4.722499847412109, -4.829800128936768, -4.983399868011475, -5.014200210571289, -5.074100017547607, -5.130000114440918, -5.130199909210205, -5.207300186157227, -5.236100196838379, -5.256700038909912, -5.260900020599365, -5.327700138092041, -5.384300231933594, -5.435500144958496, -5.442200183868408, -5.480000019073486, -5.543700218200684, -5.618100166320801, -5.6219000816345215, -5.653600215911865, -5.656499862670898, -5.677499771118164, -5.684999942779541, -5.6946001052856445, -5.6992998123168945, -5.78879976272583, -5.80649995803833, -4.584700107574463, -4.719399929046631, -4.9766998291015625, -3.8931000232696533, -3.63700008392334, -4.818399906158447, -4.947000026702881, -4.209700107574463, -4.293900012969971, -4.4542999267578125, -4.542699813842773, -4.229899883270264, -4.3109002113342285, -4.624499797821045, -4.8190999031066895, -4.8003997802734375, -4.845099925994873, -4.930799961090088, -5.130000114440918, -5.177499771118164, -3.437999963760376, -4.497000217437744, -4.545300006866455, -4.808000087738037, -4.820799827575684, -4.992300033569336, -5.102700233459473, -5.1855998039245605, -5.2778000831604, -5.32450008392334, -5.468699932098389, -5.483500003814697, -5.603000164031982, -5.699100017547607, -5.768899917602539, -5.8592000007629395, -5.875699996948242, -5.993500232696533, -6.048500061035156, -6.0802001953125, -6.095399856567383, -6.151299953460693, -6.176300048828125, -6.177199840545654, -6.178699970245361, -6.180200099945068, -6.186800003051758, -6.264400005340576, -6.291999816894531, -6.302599906921387, -2.3264999389648438, -4.992599964141846, -3.513700008392334, -3.213599920272827, -4.927599906921387, -4.656499862670898, -4.2393999099731445, -4.630300045013428, -3.7281999588012695, -4.505199909210205, -4.7164998054504395, -3.489500045776367, -4.652299880981445, -3.769399881362915, -4.565199851989746, -4.6579999923706055, -4.452600002288818, -4.268199920654297, -4.349100112915039, -4.730999946594238, -4.600200176239014, -4.700799942016602, -4.923699855804443, -4.929599761962891, -4.813700199127197, -4.883600234985352, -4.885900020599365, -4.946000099182129, -4.9969000816345215, -5.095900058746338, -5.207699775695801, -5.338600158691406, -5.342599868774414, -5.344099998474121, -5.399400234222412, -5.4583001136779785, -5.515699863433838, -5.5243000984191895, -5.605199813842773, -5.622300148010254, -5.635499954223633, -5.655200004577637, -5.707799911499023, -5.7677998542785645, -5.792200088500977, -5.865099906921387, -5.875899791717529, -5.892600059509277, -5.8993000984191895, -5.907400131225586, -5.946700096130371, -5.947999954223633, -5.964600086212158, -5.972400188446045, -4.700399875640869, -4.9969000816345215, -4.2393999099731445, -5.393799781799316, -4.729100227355957, -4.46999979019165, -4.210999965667725, -4.12939977645874, -4.89870023727417, -5.289899826049805, -5.19920015335083, -5.172999858856201, -3.870699882507324, -4.787499904632568, -4.040599822998047, -5.07450008392334, -5.030099868774414, -4.30709981918335, -4.4822001457214355, -5.1768999099731445, -4.384399890899658, -4.390500068664551, -4.251100063323975, -4.934700012207031, -5.097700119018555, -4.234399795532227, -4.702000141143799, -4.834799766540527, -4.602799892425537, -4.67609977722168, -4.863399982452393, -4.964399814605713, -3.355600118637085, -4.116000175476074, -4.142600059509277, -4.415500164031982, -4.437300205230713, -4.585400104522705, -4.66379976272583, -4.776800155639648, -4.877399921417236, -4.993899822235107, -5.033999919891357, -5.075399875640869, -5.151500225067139, -5.157299995422363, -5.178100109100342, -5.396299839019775, -5.417200088500977, -5.440000057220459, -5.471199989318848, -5.473899841308594, -5.480400085449219, -5.541399955749512, -5.553500175476074, -5.591000080108643, -5.610400199890137, -5.612299919128418, -5.6203999519348145, -5.623899936676025, -5.627099990844727, -5.684100151062012, -4.051000118255615, -4.034299850463867, -4.332099914550781, -4.763599872589111, -5.050099849700928, -5.196899890899658, -4.402900218963623, -4.427800178527832, -5.171899795532227, -5.439499855041504, -2.629499912261963, -3.642899990081787, -4.081699848175049, -4.326300144195557, -4.770400047302246, -5.078000068664551, -5.095699787139893, -5.131199836730957, -5.134200096130371, -5.2941999435424805, -5.3420000076293945, -5.402400016784668, -5.450099945068359, -5.477200031280518, -5.491700172424316, -5.494699954986572, -5.515399932861328, -5.524499893188477, -5.5366997718811035, -5.54040002822876, -5.557499885559082, -5.564000129699707, -5.607999801635742, -5.6219000816345215, -5.636300086975098, -5.676000118255615, -5.676799774169922, -5.690499782562256, -5.704500198364258, -5.711400032043457, -3.583199977874756, -5.177599906921387, -3.432800054550171, -4.592899799346924, -4.865099906921387, -3.8701999187469482, -4.593100070953369, -4.7378997802734375, -4.7052998542785645, -4.281300067901611, -4.877799987792969, -4.201600074768066, -4.855599880218506, -5.128799915313721, -5.139999866485596, -4.785699844360352, -4.669899940490723, -4.410399913787842, -5.2093000411987305, -5.116399765014648, -5.229899883270264, -2.8568999767303467, -3.3573999404907227, -3.908799886703491, -4.331900119781494, -4.5366997718811035, -4.588600158691406, -4.698800086975098, -4.866199970245361, -4.8892998695373535, -4.906700134277344, -4.929999828338623, -4.96019983291626, -5.031000137329102, -5.083700180053711, -5.206699848175049, -5.249100208282471, -5.269199848175049, -5.317699909210205, -5.47160005569458, -5.186200141906738, -5.5528998374938965, -5.565100193023682, -5.597799777984619, -5.609799861907959, -5.643099784851074, -5.648399829864502, -5.664299964904785, -5.684899806976318, -5.692699909210205, -5.705599784851074, -3.4128000736236572, -4.381400108337402, -5.074699878692627, -4.688799858093262, -4.014999866485596, -5.222300052642822, -4.754499912261963, -4.1880998611450195, -4.153600215911865, -5.209000110626221, -4.9984002113342285, -4.970200061798096, -4.592400074005127, -4.718999862670898, -4.635000228881836, -4.922800064086914, -5.117099761962891, -5.162499904632568, -2.3199000358581543, -4.185299873352051, -4.288000106811523, -4.324100017547607, -4.7484002113342285, -4.806300163269043, -4.811200141906738, -4.829699993133545, -4.879899978637695, -4.889900207519531, -5.077499866485596, -5.150700092315674, -5.167799949645996, -5.183000087738037, -5.184500217437744, -5.204500198364258, -5.213600158691406, -5.216899871826172, -5.227200031280518, -5.2357001304626465, -5.297100067138672, -5.366199970245361, -5.430600166320801, -5.433499813079834, -5.441100120544434, -5.444399833679199, -5.4558000564575195, -5.464099884033203, -5.482600212097168, -5.582399845123291, -4.2758002281188965, -3.16129994392395, -4.541800022125244, -3.816800117492676, -5.236499786376953, -5.192500114440918, -5.3694000244140625, -5.4070000648498535, -3.9221999645233154, -4.0493998527526855, -4.283999919891357, -4.364500045776367, -4.825099945068359, -5.049300193786621, -5.095900058746338, -5.162499904632568, -5.195499897003174, -5.215799808502197, -5.271599769592285, -5.366700172424316, -5.388999938964844, -5.512700080871582, -5.5696001052856445, -5.637899875640869, -5.7428998947143555, -5.758999824523926, -5.768899917602539, -5.775100231170654, -5.776500225067139, -5.7779998779296875, -5.780900001525879, -5.868599891662598, -5.894000053405762, -5.898099899291992, -5.934599876403809, -5.968999862670898, -6.054500102996826, -6.079800128936768, -4.031099796295166, -3.7207000255584717, -3.6435999870300293, -4.961299896240234, -5.218699932098389, -5.428999900817871, -5.501100063323975, -4.674200057983398, -4.3649001121521, -5.295599937438965, -5.106500148773193, -4.849599838256836, -5.0177001953125, -5.149400234222412, -5.352499961853027, -4.64300012588501, -4.654099941253662, -5.048500061035156, -4.639900207519531, -4.821300029754639, -4.4756999015808105, -4.574399948120117, -4.9096999168396, -4.636899948120117, -5.066199779510498, -5.0971999168396, -4.887599945068359, -4.921000003814697, -4.998499870300293, -5.073200225830078, -5.093999862670898, -3.511399984359741, -4.180500030517578, -4.52869987487793, -4.6529998779296875, -4.671800136566162, -4.672500133514404, -4.744500160217285, -4.808199882507324, -4.956999778747559, -4.987299919128418, -5.012599945068359, -5.014500141143799, -5.016300201416016, -5.019400119781494, -5.04640007019043, -5.048900127410889, -5.125100135803223, -5.144499778747559, -5.144599914550781, -5.187900066375732, -5.223700046539307, -5.230599880218506, -5.332600116729736, -5.349999904632568, -5.363500118255615, -5.36870002746582, -5.386199951171875, -5.455399990081787, -5.511000156402588, -5.515699863433838, -4.976399898529053, -4.284999847412109, -5.048799991607666, -4.752099990844727, -5.280799865722656, -5.0655999183654785, -5.286099910736084, -5.260200023651123, -4.330399990081787, -4.38730001449585, -4.664599895477295, -4.757800102233887, -4.8470001220703125, -4.869999885559082, -4.909800052642822, -4.909900188446045, -4.954999923706055, -5.0106000900268555, -5.0279998779296875, -5.079800128936768, -5.145199775695801, -5.1493000984191895, -5.200900077819824, -5.225100040435791, -5.30679988861084, -5.332699775695801, -5.341400146484375, -5.539899826049805, -5.578700065612793, -5.608699798583984, -5.65880012512207, -5.718299865722656, -5.7322998046875, -5.742700099945068, -5.758900165557861, -5.827300071716309, -5.840700149536133, -5.85699987411499, -5.281499862670898, -4.842899799346924, -4.158999919891357, -3.65310001373291, -4.341800212860107, -5.08519983291626, -4.659900188446045, -4.799799919128418, -4.330100059509277, -4.204100131988525, -4.832099914550781, -4.217899799346924, -4.704100131988525, -4.085400104522705, -4.442299842834473, -4.854300022125244, -4.950699806213379, -4.736599922180176, -4.75439977645874, -4.80079984664917, -4.88040018081665, -3.9121999740600586, -4.168900012969971, -4.420499801635742, -4.459099769592285, -4.553500175476074, -4.592299938201904, -4.723700046539307, -4.835299968719482, -4.838200092315674, -4.887499809265137, -4.991799831390381, -5.062300205230713, -5.103400230407715, -5.130799770355225, -5.228400230407715, -5.232500076293945, -5.264599800109863, -5.278900146484375, -5.281400203704834, -5.286399841308594, -5.343599796295166, -5.398099899291992, -5.398900032043457, -5.483099937438965, -5.535299777984619, -5.544000148773193, -5.549699783325195, -5.559999942779541, -5.5619001388549805, -5.5854997634887695, -4.416900157928467, -3.9084999561309814, -3.8880999088287354, -4.956699848175049, -4.637700080871582, -5.387400150299072, -4.55079984664917, -5.176499843597412, -5.160200119018555, -5.070700168609619, -5.164000034332275, -5.196199893951416, -3.8940999507904053, -4.688000202178955, -4.760300159454346, -4.811800003051758, -4.825500011444092, -4.892000198364258, -4.987599849700928, -4.996799945831299, -5.013000011444092, -5.017899990081787, -5.024700164794922, -5.03439998626709, -5.0971999168396, -5.139500141143799, -5.1417999267578125, -5.163099765777588, -5.251800060272217, -5.266499996185303, -5.320899963378906, -5.334799766540527, -5.395899772644043, -5.411300182342529, -5.43120002746582, -5.434700012207031, -5.460599899291992, -5.462800025939941, -5.464600086212158, -5.530399799346924, -5.540500164031982, -5.545599937438965, -4.976399898529053, -4.053899765014648, -3.970599889755249, -4.905399799346924, -4.938700199127197, -4.800600051879883, -4.841700077056885, -5.172699928283691, -4.383800029754639, -4.998799800872803, -3.519700050354004, -5.041500091552734, -4.996099948883057, -4.953499794006348, -5.038099765777588, -4.526000022888184, -5.016300201416016, -5.133200168609619, -2.920099973678589, -3.144200086593628, -3.9737000465393066, -4.128900051116943, -4.1809000968933105, -4.243899822235107, -4.344900131225586, -4.661300182342529, -4.854400157928467, -4.8979997634887695, -4.942299842834473, -5.005099773406982, -5.0381999015808105, -5.060100078582764, -5.093699932098389, -5.229000091552734, -5.2906999588012695, -5.34060001373291, -5.379000186920166, -5.386000156402588, -5.412899971008301, -5.432400226593018, -5.60860013961792, -5.665200233459473, -5.669899940490723, -5.690800189971924, -5.69789981842041, -5.744999885559082, -5.756999969482422, -5.77269983291626, -4.726500034332275, -3.8315000534057617, -5.359000205993652, -3.6800999641418457, -3.6377999782562256, -4.471099853515625, -3.7585999965667725, -3.9265999794006348, -4.244900226593018, -4.112599849700928, -4.316400051116943, -4.938799858093262, -5.107800006866455, -4.955999851226807, -4.973700046539307, -5.184000015258789, -3.665800094604492, -3.697700023651123, -3.766200065612793, -3.8336000442504883, -4.215000152587891, -4.356900215148926, -4.405900001525879, -4.492700099945068, -4.545199871063232, -4.566299915313721, -4.638700008392334, -4.6894001960754395, -4.714799880981445, -4.716300010681152, -4.749800205230713, -4.811299800872803, -4.871600151062012, -4.896100044250488, -4.898099899291992, -4.940000057220459, -5.009799957275391, -5.154200077056885, -5.161099910736084, -5.25439977645874, -5.25439977645874, -5.254499912261963, -5.34689998626709, -5.4309000968933105, -5.4496002197265625, -5.464099884033203, -4.573999881744385, -3.1380999088287354, -5.085299968719482, -4.951099872589111, -5.075799942016602, -5.156499862670898, -4.847099781036377, -4.071199893951416, -4.0782999992370605, -4.541299819946289, -4.6483001708984375, -4.659900188446045, -4.69920015335083, -4.7006001472473145, -4.857399940490723, -4.9096999168396, -4.928899765014648, -4.945799827575684, -4.957399845123291, -4.999199867248535, -5.00029993057251, -5.091899871826172, -5.107500076293945, -5.11359977722168, -5.125100135803223, -5.154200077056885, -5.155399799346924, -5.155600070953369, -5.287899971008301, -5.316400051116943, -5.337600231170654, -5.363999843597412, -5.4085001945495605, -5.413899898529053, -5.447000026702881, -5.447199821472168, -5.457399845123291, -3.9135000705718994, -4.474599838256836, -4.639599800109863, -5.267499923706055, -5.11929988861084, -4.705699920654297, -4.990900039672852, -4.600500106811523, -5.217899799346924, -4.434700012207031, -4.321800231933594, -4.629000186920166, -4.855000019073486, -4.923699855804443, -4.992700099945068, -4.966899871826172, -4.5777997970581055, -4.770500183105469, -4.900599956512451, -4.917200088500977, -4.935299873352051, -4.944399833679199, -5.055799961090088, -5.117499828338623, -5.136000156402588, -5.150300025939941, -5.342400074005127, -5.374599933624268, -5.442699909210205, -5.444699764251709, -5.453400135040283, -5.472799777984619, -5.4730000495910645, -5.532700061798096, -5.53879976272583, -5.553999900817871, -5.564899921417236, -5.6118998527526855, -5.634200096130371, -5.68120002746582, -5.6946001052856445, -5.701600074768066, -5.719900131225586, -5.7241997718811035, -5.763599872589111, -5.77839994430542, -5.159999847412109, -4.790800094604492, -4.5432000160217285, -4.207099914550781, -4.633999824523926, -4.922299861907959, -4.68209981918335, -4.074100017547607, -5.406899929046631, -4.409299850463867, -4.732600212097168, -4.827199935913086, -4.578700065612793, -4.716400146484375, -4.860300064086914, -4.95989990234375, -5.2256999015808105, -5.081500053405762, -5.094699859619141, -5.056099891662598, -5.262899875640869, -5.227399826049805, -2.9795000553131104, -3.0785000324249268, -3.2783000469207764, -3.2976999282836914, -4.261899948120117, -4.281099796295166, -4.598400115966797, -4.650599956512451, -4.746600151062012, -4.954800128936768, -4.956600189208984, -5.047500133514404, -5.058199882507324, -5.064300060272217, -5.083099842071533, -5.137499809265137, -5.172999858856201, -5.231400012969971, -5.242700099945068, -5.245100021362305, -5.251999855041504, -5.383500099182129, -5.405900001525879, -5.431700229644775, -5.470600128173828, -5.493599891662598, -5.515399932861328, -5.518499851226807, -5.55079984664917, -5.552599906921387, -4.857500076293945, -4.079500198364258, -4.841700077056885, -5.000100135803223, -4.923900127410889, -3.400099992752075, -4.795899868011475, -4.1178998947143555, -4.7270002365112305, -5.026199817657471, -5.2083001136779785, -5.236700057983398], \"loglift\": [30.0, 29.0, 28.0, 27.0, 26.0, 25.0, 24.0, 23.0, 22.0, 21.0, 20.0, 19.0, 18.0, 17.0, 16.0, 15.0, 14.0, 13.0, 12.0, 11.0, 10.0, 9.0, 8.0, 7.0, 6.0, 5.0, 4.0, 3.0, 2.0, 1.0, 3.3017001152038574, 3.299799919128418, 3.2997000217437744, 3.2990000247955322, 3.2985000610351562, 3.2983999252319336, 3.296999931335449, 3.2957000732421875, 3.2955000400543213, 3.295099973678589, 3.294100046157837, 3.2936999797821045, 3.2932000160217285, 3.2929000854492188, 3.2929000854492188, 3.2927000522613525, 3.2927000522613525, 3.292099952697754, 3.292099952697754, 3.2918999195098877, 3.2915000915527344, 3.2906999588012695, 3.289900064468384, 3.2897000312805176, 3.289099931716919, 3.2881999015808105, 3.2881999015808105, 3.2880001068115234, 3.287899971008301, 3.287899971008301, 3.2462000846862793, 3.1263999938964844, 3.121000051498413, 2.9974000453948975, 3.015899896621704, 2.7929000854492188, 2.3320999145507812, 2.9110000133514404, 2.378700017929077, 2.796799898147583, 1.3675999641418457, 1.6739000082015991, 0.5242000222206116, 0.684499979019165, 3.319000005722046, 3.3171000480651855, 3.3166000843048096, 3.316499948501587, 3.3153998851776123, 3.314500093460083, 3.3143999576568604, 3.313999891281128, 3.313999891281128, 3.313699960708618, 3.3134000301361084, 3.3131000995635986, 3.3125, 3.3111000061035156, 3.3108999729156494, 3.309000015258789, 3.308000087738037, 3.307300090789795, 3.306999921798706, 3.3066000938415527, 3.30649995803833, 3.3053998947143555, 3.305299997329712, 3.305000066757202, 3.3048999309539795, 3.3046000003814697, 3.3043999671936035, 3.30430006980896, 3.3039000034332275, 3.3025999069213867, 3.1847000122070312, 3.1791999340057373, 3.038300037384033, 3.083699941635132, 3.083199977874756, 3.0822999477386475, 3.082200050354004, 3.081399917602539, 3.080899953842163, 3.0790998935699463, 3.078200101852417, 3.077899932861328, 3.077699899673462, 3.0771000385284424, 3.07669997215271, 3.0764999389648438, 3.0764999389648438, 3.075500011444092, 3.0754001140594482, 3.0752999782562256, 3.074899911880493, 3.07450008392334, 3.0738000869750977, 3.0732998847961426, 3.072200059890747, 3.071700096130371, 3.071199893951416, 3.070199966430664, 3.069000005722046, 3.06820011138916, 3.0678999423980713, 3.066800117492676, 3.0664000511169434, 2.923099994659424, 2.9124999046325684, 2.7518999576568604, 2.932800054550171, 2.697700023651123, 2.925600051879883, 2.099299907684326, 2.151400089263916, 2.5546000003814697, 1.8055000305175781, 1.3524999618530273, 1.7105000019073486, 2.901099920272827, 2.900599956512451, 2.9000000953674316, 2.8986001014709473, 2.898200035095215, 2.89739990234375, 2.8973000049591064, 2.896899938583374, 2.8966000080108643, 2.8966000080108643, 2.8961000442504883, 2.895900011062622, 2.8958001136779785, 2.8958001136779785, 2.8952999114990234, 2.89490008354187, 2.8945000171661377, 2.894399881362915, 2.8940999507904053, 2.8935000896453857, 2.8928000926971436, 2.8928000926971436, 2.8924999237060547, 2.892400026321411, 2.892199993133545, 2.8921000957489014, 2.8919999599456787, 2.8919999599456787, 2.8910000324249268, 2.8907999992370605, 2.8819000720977783, 2.8826000690460205, 2.745800018310547, 2.501499891281128, 2.2755000591278076, 2.608799934387207, 2.6294000148773193, 2.308500051498413, 2.259500026702881, 2.309000015258789, 2.2007999420166016, 1.9219000339508057, 1.1922999620437622, 1.5140000581741333, 1.5305999517440796, 1.2237999439239502, 1.139799952507019, 0.6209999918937683, 1.3151999711990356, 2.010499954223633, 2.392899990081787, 2.391700029373169, 2.3915998935699463, 2.3910000324249268, 2.390899896621704, 2.390399932861328, 2.390000104904175, 2.389699935913086, 2.389400005340576, 2.38919997215271, 2.3884999752044678, 2.388400077819824, 2.387700080871582, 2.387200117111206, 2.386699914932251, 2.385999917984009, 2.3859000205993652, 2.384999990463257, 2.384500026702881, 2.384200096130371, 2.384000062942505, 2.383500099182129, 2.38319993019104, 2.38319993019104, 2.38319993019104, 2.38319993019104, 2.3831000328063965, 2.3822999000549316, 2.381999969482422, 2.3817999362945557, 2.296299934387207, 2.3538999557495117, 2.2948999404907227, 2.2523999214172363, 2.314199924468994, 2.2541000843048096, 2.217600107192993, 2.2267000675201416, 2.124500036239624, 2.20169997215271, 2.2269999980926514, 2.062299966812134, 2.1359000205993652, 1.9558000564575195, 2.0625, 2.0625998973846436, 1.9926999807357788, 1.75600004196167, 1.7695000171661377, 1.9112999439239502, 0.899399995803833, 0.7383000254631042, 1.1546000242233276, 0.9916999936103821, 2.76419997215271, 2.7639000415802, 2.7639000415802, 2.763700008392334, 2.763400077819824, 2.7629001140594482, 2.7623000144958496, 2.7614998817443848, 2.7614998817443848, 2.7614998817443848, 2.7611000537872314, 2.760699987411499, 2.7602999210357666, 2.760200023651123, 2.759500026702881, 2.759399890899658, 2.7592999935150146, 2.7590999603271484, 2.7585999965667725, 2.757999897003174, 2.7578001022338867, 2.756999969482422, 2.7569000720977783, 2.756700038909912, 2.7565999031066895, 2.7565999031066895, 2.7560999393463135, 2.7560999393463135, 2.7558999061584473, 2.7558000087738037, 2.710200071334839, 2.682800054550171, 2.5913000106811523, 2.694700002670288, 2.6143999099731445, 2.5678000450134277, 2.378200054168701, 2.303100109100342, 2.4897000789642334, 2.5903000831604004, 2.543100118637085, 2.5309998989105225, 1.940999984741211, 2.355799913406372, 1.8941999673843384, 2.462899923324585, 2.4047999382019043, 1.7711999416351318, 1.8242000341415405, 2.468400001525879, 1.3202999830245972, 1.2647000551223755, 0.7954999804496765, 2.018199920654297, 2.2736001014709473, 0.38830000162124634, 1.309499979019165, 1.632099986076355, 0.9350000023841858, 0.8234999775886536, 1.121399998664856, 1.4300999641418457, 3.487799882888794, 3.4856998920440674, 3.485599994659424, 3.484299898147583, 3.4842000007629395, 3.483299970626831, 3.482800006866455, 3.4820001125335693, 3.4811999797821045, 3.48009991645813, 3.4797000885009766, 3.479300022125244, 3.4784998893737793, 3.4784998893737793, 3.4781999588012695, 3.4755001068115234, 3.4751999378204346, 3.4748001098632812, 3.474400043487549, 3.474299907684326, 3.4742000102996826, 3.473299980163574, 3.473099946975708, 3.472399950027466, 3.472100019454956, 3.472100019454956, 3.47189998626709, 3.47189998626709, 3.4718000888824463, 3.4707999229431152, 3.3296000957489014, 3.087100028991699, 3.117799997329712, 3.1684000492095947, 3.238100051879883, 3.2435998916625977, 2.232300043106079, 1.8787000179290771, 1.6588000059127808, 2.9447999000549316, 3.0067999362945557, 3.0058000087738037, 3.005000114440918, 3.004300117492676, 3.0025999546051025, 3.0009000301361084, 3.0007998943328857, 3.0006000995635986, 3.000499963760376, 2.9993999004364014, 2.999000072479248, 2.998500108718872, 2.997999906539917, 2.99780011177063, 2.9976000785827637, 2.9976000785827637, 2.9974000453948975, 2.997299909591675, 2.9972000122070312, 2.9971001148223877, 2.996999979019165, 2.9969000816345215, 2.9964001178741455, 2.996299982070923, 2.9960999488830566, 2.995699882507324, 2.995699882507324, 2.995500087738037, 2.995300054550171, 2.995300054550171, 2.9093000888824463, 2.870699882507324, 2.326200008392334, 2.6140999794006348, 2.675299882888794, 2.216599941253662, 2.5169999599456787, 2.557800054550171, 2.4426000118255615, 2.1500000953674316, 2.5439999103546143, 1.8502000570297241, 2.0861001014709473, 2.391400098800659, 2.3661000728607178, 1.5017000436782837, 1.2513999938964844, 0.6363000273704529, 2.26990008354187, 1.1900999546051025, 1.3235000371932983, 2.8373000621795654, 2.8369998931884766, 2.836199998855591, 2.835400104522705, 2.8348000049591064, 2.8345999717712402, 2.834199905395508, 2.8334999084472656, 2.833400011062622, 2.833400011062622, 2.8333001136779785, 2.8331000804901123, 2.8327999114990234, 2.8324999809265137, 2.8317999839782715, 2.8315000534057617, 2.831399917602539, 2.8310000896453857, 2.829900026321411, 2.8297998905181885, 2.829200029373169, 2.8290998935699463, 2.8287999629974365, 2.828700065612793, 2.828399896621704, 2.8282999992370605, 2.828200101852417, 2.828000068664551, 2.827899932861328, 2.8278000354766846, 2.7472000122070312, 2.502000093460083, 2.6566998958587646, 2.4749999046325684, 1.996399998664856, 2.617000102996826, 2.3696999549865723, 2.052500009536743, 1.8034000396728516, 2.56030011177063, 2.2695999145507812, 2.2147998809814453, 1.5200999975204468, 1.2158000469207764, 0.804099977016449, 1.135599970817566, 2.0580999851226807, 2.259000062942505, 3.2090001106262207, 3.206199884414673, 3.205899953842163, 3.2058000564575195, 3.2037999629974365, 3.2035000324249268, 3.203399896621704, 3.2032999992370605, 3.203000068664551, 3.202899932861328, 3.2016000747680664, 3.2009999752044678, 3.200900077819824, 3.200700044631958, 3.200700044631958, 3.200500011444092, 3.200500011444092, 3.2004001140594482, 3.2002999782562256, 3.2002999782562256, 3.199700117111206, 3.1989998817443848, 3.1982998847961426, 3.198199987411499, 3.198199987411499, 3.1981000900268555, 3.197999954223633, 3.1979000568389893, 3.197700023651123, 3.196500062942505, 2.9702000617980957, 2.740799903869629, 2.680500030517578, 1.944200038909912, 2.902899980545044, 2.148400068283081, 2.7532999515533447, -0.36039999127388, 2.410900115966797, 2.410799980163574, 2.410399913787842, 2.4103000164031982, 2.4093000888824463, 2.408600091934204, 2.408400058746338, 2.4082000255584717, 2.408099889755249, 2.4079999923706055, 2.4077999591827393, 2.4072999954223633, 2.4072000980377197, 2.406599998474121, 2.4063000679016113, 2.405900001525879, 2.4052000045776367, 2.405100107192993, 2.4049999713897705, 2.4049999713897705, 2.4049999713897705, 2.4049999713897705, 2.404900074005127, 2.4042999744415283, 2.404099941253662, 2.404099941253662, 2.4038000106811523, 2.4035000801086426, 2.4026999473571777, 2.4024999141693115, 2.3610999584198, 2.3482000827789307, 2.3155999183654785, 2.3671000003814697, 2.3508999347686768, 2.3671998977661133, 2.3696999549865723, 2.2760000228881836, 2.178100109100342, 2.3176000118255615, 2.2467000484466553, 2.1816999912261963, 2.206399917602539, 2.234299898147583, 2.291800022125244, 1.9401999711990356, 1.9384000301361084, 2.139400005340576, 1.9289000034332275, 1.9723000526428223, 1.642899990081787, 1.5379999876022339, 1.7431000471115112, 0.8022000193595886, 1.806399941444397, 1.9050999879837036, 0.9650999903678894, 0.8041999936103821, 1.0599000453948975, 1.1674000024795532, 1.057800054550171, 3.3914999961853027, 3.3896000385284424, 3.388000011444092, 3.3873000144958496, 3.387200117111206, 3.387200117111206, 3.386699914932251, 3.3863000869750977, 3.385200023651123, 3.3849000930786133, 3.384700059890747, 3.384700059890747, 3.3845999240875244, 3.384399890899658, 3.384399890899658, 3.384399890899658, 3.3835999965667725, 3.3833999633789062, 3.3833999633789062, 3.382999897003174, 3.3826000690460205, 3.382499933242798, 3.3814001083374023, 3.381200075149536, 3.38100004196167, 3.3808999061584473, 3.38070011138916, 3.3798000812530518, 3.378999948501587, 3.378999948501587, 3.2901999950408936, 3.0606000423431396, 3.248199939727783, 2.1651999950408936, 2.8847999572753906, 0.4722000062465668, 2.640899896621704, 2.147900104522705, 2.958699941635132, 2.9584999084472656, 2.9574999809265137, 2.9570999145507812, 2.956700086593628, 2.9565999507904053, 2.956399917602539, 2.956399917602539, 2.956199884414673, 2.9558000564575195, 2.955699920654297, 2.955399990081787, 2.9549999237060547, 2.9549999237060547, 2.954699993133545, 2.9544999599456787, 2.953900098800659, 2.953700065612793, 2.9535999298095703, 2.951900005340576, 2.9514999389648438, 2.951200008392334, 2.9505999088287354, 2.950000047683716, 2.9498000144958496, 2.949700117111206, 2.94950008392334, 2.9486000537872314, 2.948499917984009, 2.9482998847961426, 2.9028000831604004, 2.8506999015808105, 2.553499937057495, 2.248300075531006, 2.4690001010894775, 2.719599962234497, 2.5620999336242676, 2.600399971008301, 2.113600015640259, 1.7529000043869019, 2.2945001125335693, 1.694599986076355, 2.1684999465942383, 0.9613000154495239, 1.0573999881744385, 1.5609999895095825, 1.9182000160217285, 0.9185000061988831, 0.7487999796867371, 0.9244999885559082, 1.13100004196167, 3.38700008392334, 3.386199951171875, 3.3850998878479004, 3.3849000930786133, 3.384399890899658, 3.384200096130371, 3.3833999633789062, 3.3826000690460205, 3.3826000690460205, 3.382200002670288, 3.3814001083374023, 3.38070011138916, 3.3803000450134277, 3.3801000118255615, 3.3791000843048096, 3.378999948501587, 3.378700017929077, 3.378499984741211, 3.378499984741211, 3.3784000873565674, 3.377700090408325, 3.3770999908447266, 3.3770999908447266, 3.3759000301361084, 3.375200033187866, 3.3750998973846436, 3.375, 3.374799966812134, 3.374799966812134, 3.3743999004364014, 3.2255001068115234, 3.1412999629974365, 3.0631000995635986, 3.1287999153137207, 2.944999933242798, 3.2867000102996826, 2.730799913406372, 3.131999969482422, 2.140500068664551, 1.6361000537872314, 1.2512999773025513, 1.396399974822998, 3.0413999557495117, 3.0390000343322754, 3.038599967956543, 3.0383999347686768, 3.038300037384033, 3.037899971008301, 3.037400007247925, 3.0373001098632812, 3.0371999740600586, 3.0371999740600586, 3.0371999740600586, 3.037100076675415, 3.0367000102996826, 3.036400079727173, 3.036400079727173, 3.0362000465393066, 3.035599946975708, 3.035399913787842, 3.0350000858306885, 3.034899950027466, 3.0343000888824463, 3.0341999530792236, 3.0339999198913574, 3.0339999198913574, 3.0336999893188477, 3.0336999893188477, 3.0336999893188477, 3.0329999923706055, 3.032900094985962, 3.032900094985962, 2.9612998962402344, 2.814500093460083, 2.7597999572753906, 2.9166998863220215, 2.9200000762939453, 2.8478000164031982, 2.8304998874664307, 2.926800012588501, 2.529599905014038, 2.832200050354004, 1.9835000038146973, 2.813199996948242, 2.74429988861084, 2.5831000804901123, 2.6737000942230225, 1.430999994277954, 1.5255999565124512, 2.5785999298095703, 2.7844998836517334, 2.7843000888824463, 2.783400058746338, 2.783099889755249, 2.7829999923706055, 2.7827999591827393, 2.782599925994873, 2.7816998958587646, 2.780900001525879, 2.7808001041412354, 2.780600070953369, 2.7802999019622803, 2.780100107192993, 2.7799999713897705, 2.7797999382019043, 2.779099941253662, 2.778700113296509, 2.77839994430542, 2.77810001373291, 2.7780001163482666, 2.777899980545044, 2.7776999473571777, 2.7762999534606934, 2.7757999897003174, 2.7757999897003174, 2.775599956512451, 2.7755000591278076, 2.7750000953674316, 2.774899959564209, 2.7746999263763428, 2.6522998809814453, 2.5373001098632812, 2.685800075531006, 2.2411999702453613, 2.066999912261963, 2.213599920272827, 1.7791999578475952, 1.8323999643325806, 1.656499981880188, 1.3869999647140503, 1.3387000560760498, 1.63919997215271, 1.9505000114440918, 0.8555999994277954, 0.07289999723434448, 0.9028000235557556, 3.3991000652313232, 3.3989999294281006, 3.398900032043457, 3.398699998855591, 3.39739990234375, 3.3968000411987305, 3.3966000080108643, 3.3961000442504883, 3.395900011062622, 3.395699977874756, 3.3952999114990234, 3.3949999809265137, 3.3947999477386475, 3.3947999477386475, 3.3945999145507812, 3.394200086593628, 3.393699884414673, 3.3935000896453857, 3.3935000896453857, 3.393199920654297, 3.3926000595092773, 3.391200065612793, 3.3910999298095703, 3.3901000022888184, 3.3901000022888184, 3.3901000022888184, 3.3891000747680664, 3.388000011444092, 3.387700080871582, 3.387500047683716, 3.3619000911712646, 3.1493000984191895, 3.2674999237060547, 3.0035998821258545, 2.9439001083374023, 2.922499895095825, 0.857699990272522, 3.205899953842163, 3.205899953842163, 3.204200029373169, 3.203700065612793, 3.2035999298095703, 3.203399896621704, 3.203399896621704, 3.202500104904175, 3.202199935913086, 3.2021000385284424, 3.201900005340576, 3.201900005340576, 3.2016000747680664, 3.2016000747680664, 3.200900077819824, 3.200700044631958, 3.200700044631958, 3.2005999088287354, 3.2004001140594482, 3.2002999782562256, 3.2002999782562256, 3.1991000175476074, 3.198899984359741, 3.198699951171875, 3.1984000205993652, 3.1979000568389893, 3.1979000568389893, 3.197499990463257, 3.197499990463257, 3.1974000930786133, 3.081199884414673, 3.1038999557495117, 3.0127999782562256, 3.1161000728607178, 2.9935998916625977, 2.456899881362915, 2.68179988861084, 2.034600019454956, 3.0085999965667725, 1.068600058555603, 0.7247999906539917, 0.9088000059127808, 0.8001999855041504, 1.1003999710083008, 1.4510999917984009, 0.7378000020980835, 2.7772998809814453, 2.776599884033203, 2.776099920272827, 2.7760000228881836, 2.7760000228881836, 2.775899887084961, 2.775399923324585, 2.775099992752075, 2.7750000953674316, 2.774899959564209, 2.7737998962402344, 2.7734999656677246, 2.773099899291992, 2.7730000019073486, 2.7730000019073486, 2.7727999687194824, 2.7727999687194824, 2.77239990234375, 2.7723000049591064, 2.772200107574463, 2.7720999717712402, 2.771699905395508, 2.7715001106262207, 2.7711000442504883, 2.7709999084472656, 2.770900011062622, 2.770699977874756, 2.770699977874756, 2.7702999114990234, 2.7701001167297363, 2.7421998977661133, 2.6737000942230225, 2.464200019836426, 2.315000057220459, 2.382200002670288, 2.3856000900268555, 2.189500093460083, 1.3651000261306763, 2.5683999061584473, 1.5255000591278076, 1.3257999420166016, 1.0851999521255493, 0.46790000796318054, 0.7495999932289124, 1.1246000528335571, 1.3897000551223755, 1.9336999654769897, 0.9968000054359436, 0.9168000221252441, 0.48170000314712524, 1.6059999465942383, 1.013200044631958, 3.2260000705718994, 3.2258999347686768, 3.225600004196167, 3.225600004196167, 3.223400115966797, 3.223400115966797, 3.2219998836517334, 3.2216999530792236, 3.2211999893188477, 3.219899892807007, 3.219899892807007, 3.2191998958587646, 3.219099998474121, 3.219099998474121, 3.218899965286255, 3.2184998989105225, 3.2181999683380127, 3.2177000045776367, 3.2174999713897705, 3.2174999713897705, 3.2174999713897705, 3.216099977493286, 3.21589994430542, 3.21560001373291, 3.2151999473571777, 3.214900016784668, 3.214600086212158, 3.214600086212158, 3.214200019836426, 3.214099884033203, 3.0806000232696533, 2.846100091934204, 2.955899953842163, 2.990799903869629, 2.944499969482422, 1.6466000080108643, 2.6407999992370605, 1.4198999404907227, 1.7056000232696533, 0.47699999809265137, 0.6930000185966492, 1.631700038909912]}, \"token.table\": {\"Topic\": [3, 8, 12, 17, 19, 6, 9, 13, 14, 20, 5, 1, 10, 5, 6, 18, 1, 20, 1, 14, 11, 5, 11, 15, 5, 19, 1, 3, 4, 6, 8, 11, 13, 16, 18, 19, 20, 19, 10, 20, 20, 18, 7, 2, 7, 8, 5, 11, 14, 19, 3, 1, 6, 3, 19, 12, 6, 8, 6, 18, 20, 12, 6, 12, 4, 7, 20, 11, 3, 9, 15, 18, 8, 10, 11, 13, 10, 14, 12, 8, 11, 13, 18, 6, 18, 15, 15, 2, 5, 7, 13, 14, 16, 20, 6, 6, 15, 19, 12, 5, 6, 13, 17, 7, 6, 7, 4, 11, 7, 6, 12, 15, 16, 18, 19, 20, 2, 9, 17, 9, 13, 15, 16, 17, 17, 15, 20, 19, 3, 10, 20, 4, 5, 6, 9, 11, 19, 7, 8, 14, 15, 11, 20, 12, 20, 9, 8, 3, 7, 18, 13, 10, 2, 3, 12, 19, 1, 14, 16, 4, 1, 6, 5, 6, 20, 4, 5, 6, 11, 13, 15, 18, 20, 6, 11, 20, 10, 17, 19, 5, 14, 6, 13, 15, 1, 20, 4, 14, 1, 3, 16, 19, 4, 3, 8, 14, 19, 15, 19, 20, 19, 18, 15, 8, 10, 11, 13, 14, 16, 7, 2, 12, 16, 14, 8, 6, 6, 6, 15, 11, 1, 5, 6, 15, 18, 19, 20, 4, 5, 9, 11, 19, 14, 2, 3, 15, 3, 10, 20, 7, 17, 18, 5, 7, 9, 19, 1, 6, 7, 8, 17, 18, 5, 19, 10, 5, 14, 18, 13, 19, 3, 14, 1, 7, 19, 9, 15, 13, 13, 2, 4, 12, 19, 5, 1, 15, 10, 11, 6, 14, 5, 7, 16, 9, 5, 10, 11, 18, 19, 3, 16, 4, 4, 7, 14, 8, 13, 19, 9, 1, 11, 16, 16, 2, 18, 2, 12, 3, 12, 17, 18, 16, 17, 13, 14, 18, 20, 4, 15, 2, 12, 11, 5, 11, 9, 7, 14, 19, 19, 5, 6, 14, 15, 2, 12, 5, 17, 3, 6, 9, 11, 13, 13, 2, 17, 9, 17, 1, 4, 13, 17, 2, 3, 1, 17, 4, 10, 7, 16, 7, 13, 18, 1, 10, 1, 8, 8, 16, 2, 2, 7, 14, 7, 5, 10, 13, 12, 16, 10, 20, 1, 11, 1, 4, 9, 13, 11, 8, 10, 11, 9, 5, 19, 3, 6, 16, 15, 20, 6, 14, 20, 17, 4, 5, 9, 15, 14, 18, 3, 4, 13, 3, 10, 17, 9, 4, 15, 12, 19, 15, 13, 15, 10, 15, 5, 6, 4, 5, 13, 15, 18, 19, 4, 5, 6, 15, 16, 18, 19, 4, 5, 6, 8, 11, 13, 14, 15, 18, 19, 4, 8, 11, 14, 15, 16, 19, 20, 11, 14, 4, 9, 13, 17, 1, 8, 12, 7, 15, 15, 19, 1, 11, 13, 9, 16, 13, 4, 5, 9, 11, 13, 3, 4, 16, 2, 20, 4, 11, 9, 15, 5, 7, 4, 7, 13, 16, 17, 18, 11, 12, 5, 11, 20, 14, 16, 11, 11, 11, 4, 9, 11, 18, 19, 4, 13, 5, 5, 6, 9, 16, 17, 18, 1, 4, 5, 14, 15, 4, 5, 8, 15, 19, 18, 14, 11, 9, 8, 11, 1, 4, 7, 14, 18, 16, 6, 5, 11, 1, 11, 13, 16, 12, 1, 1, 13, 19, 3, 16, 2, 16, 12, 9, 14, 15, 10, 10, 8, 12, 1, 11, 12, 13, 2, 6, 11, 12, 18, 8, 10, 11, 4, 3, 10, 15, 15, 4, 5, 6, 8, 4, 7, 1, 4, 13, 19, 7, 16, 5, 11, 14, 19, 6, 12, 19, 15, 9, 5, 15, 8, 2, 6, 16, 4, 7, 3, 6, 12, 15, 20, 14, 11, 9, 1, 5, 6, 8, 11, 13, 16, 18, 19, 8, 9, 11, 5, 8, 9, 10, 14, 16, 18, 13, 10, 15, 6, 18, 20, 8, 15, 1, 6, 9, 13, 19, 12, 20, 15, 15, 8, 6, 12, 14, 15, 9, 10, 14, 4, 5, 11, 12, 16, 18, 2, 1, 4, 6, 8, 9, 10, 8, 13, 13, 17, 4, 20, 4, 5, 7, 8, 11, 13, 11, 10, 9, 17, 7, 19, 3, 3, 17, 4, 6, 2, 1, 5, 10, 11, 8, 6, 9, 11, 15, 15, 20, 6, 13, 1, 4, 12, 12, 1, 6, 10, 17, 19, 10, 12, 6, 13, 1, 11, 19, 5, 6, 19, 2, 9, 3, 10, 6, 7, 1, 18, 8, 14, 17, 11, 18, 10, 6, 19, 20, 7, 14, 4, 9, 10, 20, 6, 2, 8, 16, 19, 4, 1, 8, 11, 15, 16, 17, 20, 17, 7, 4, 5, 19, 13, 19, 1, 6, 8, 18, 12, 19, 19, 8, 17, 16, 9, 9, 17, 12, 17, 5, 12, 8, 11, 9, 20, 10, 17, 8, 17, 18, 18, 9, 19, 8, 11, 17, 7, 6, 1, 6, 5, 11, 5, 6, 19, 16, 6, 11, 4, 6, 8, 9, 10, 11, 13, 16, 18, 19, 20, 8, 17, 4, 11, 13, 19, 5, 10, 1, 19, 7, 11, 20, 18, 5, 9, 6, 10, 4, 6, 19, 16, 4, 13, 3, 16, 6, 4, 5, 6, 9, 11, 19, 2, 1, 5, 15, 19, 13, 14, 6, 9, 19, 5, 7, 7, 14, 6, 7, 5, 6, 6, 18, 6, 19, 6, 8, 12, 18, 18, 17, 5, 1, 5, 9, 11, 17, 2, 5, 19, 7, 4, 9, 10, 15, 19, 3, 5, 19, 5, 9, 18, 4, 4, 9, 6, 3, 12, 13, 19, 3, 8, 13, 18, 12, 15, 17, 1, 8, 2, 12, 20, 6, 1, 19, 4, 8, 1, 2, 6, 9, 13, 14, 15, 16, 17, 18, 19, 13, 17, 2, 14, 18, 2, 15, 8, 6, 5, 14, 4, 12, 5, 18, 5, 13, 2, 17, 20, 9, 7, 14, 15, 7, 5, 1, 5, 16, 18, 1, 6, 12, 12, 4, 6, 8, 11, 13, 15, 16, 18, 19, 8, 10, 15, 10, 11, 10, 8, 19, 15, 19, 15, 9, 13, 19, 16, 20, 5, 16, 4, 13, 19, 15, 8, 13, 19, 20, 15, 9, 15, 5, 10, 11, 18, 18, 4, 19, 4, 9, 5, 11, 18, 5, 7, 6, 18, 16, 4, 6, 20, 13, 13, 1, 10, 16, 9, 15, 20, 6, 4, 9, 1, 11, 11, 14, 15, 4, 8, 3, 8, 8, 2, 10, 4, 14, 3, 6, 1, 4, 8, 11, 19, 20, 6, 17, 11, 2, 4, 17, 10, 6, 13, 19, 13, 13, 4, 1, 6, 8, 14, 5, 6, 1, 7, 19, 1, 8, 3, 4, 8, 13, 16, 16, 3, 10, 19, 10, 14, 6, 8, 18, 17, 12, 2, 15, 2, 15, 14, 3, 3, 5, 15, 19, 15, 16, 17, 9, 7, 12, 20, 13, 15, 19, 4, 8, 9, 16, 20, 12, 7, 5, 11, 17, 1, 1, 19, 20, 18, 10, 13, 3, 8, 16, 16, 3, 1, 5, 16, 1, 5, 11, 19, 17, 15, 18, 7, 3, 6, 15, 19, 4, 6, 9, 15, 11, 8, 3, 20, 15, 11, 18, 11, 9, 14, 5, 13, 20, 8, 5, 6, 9, 19, 9, 15, 3, 5, 6, 11, 13, 14, 15, 18, 1, 10, 9, 13, 19, 1, 6, 9, 9, 11, 19, 11, 4, 5, 10, 15, 17, 19, 12, 7, 14, 10, 12, 15, 19, 3, 16, 11, 4, 5, 6, 9, 11, 13, 19, 10, 18, 13, 11, 1, 4, 6, 9, 11, 11, 15, 16, 5, 13, 14, 4, 3, 4, 19, 3, 1, 8, 13, 16, 4, 6, 8, 4, 7, 16, 17, 18, 4, 10, 16, 19, 2, 2, 17, 13, 19, 9, 1, 1, 3, 1, 4, 5, 6, 9, 11, 12, 13, 15, 17, 19, 6, 8, 20, 18, 13, 3, 16, 5, 8, 16, 8, 14, 10, 20, 19, 13, 10, 20, 17, 5, 9, 11, 20, 2, 13, 8, 11, 13, 9, 14, 6, 13, 1, 4, 20, 7, 7, 7, 8, 2, 19, 5, 12, 15, 19, 20, 5, 6, 9, 11, 9, 11, 15, 19, 20, 19, 16, 4, 6, 9, 10, 11, 12, 19, 4, 5, 6, 15, 19, 20, 6, 18, 20], \"Freq\": [0.9907948970794678, 0.23767557740211487, 0.4694092869758606, 0.13666346669197083, 0.1485472470521927, 0.03552353382110596, 0.7561437487602234, 0.20299161970615387, 0.9851664304733276, 0.9924514293670654, 0.9943398237228394, 0.9802929162979126, 0.9872081279754639, 0.9949579834938049, 0.18605102598667145, 0.8086063861846924, 0.9905587434768677, 0.9915041923522949, 0.9857814311981201, 0.9954048991203308, 0.9926571249961853, 0.8388441801071167, 0.15984490513801575, 0.9972738027572632, 0.868267297744751, 0.13135585188865662, 0.012780807912349701, 0.0034082152415066957, 0.17126281559467316, 0.19256415963172913, 0.053679391741752625, 0.13206835091114044, 0.05453144386410713, 0.11843547970056534, 0.06049582362174988, 0.1908600628376007, 0.008520537987351418, 0.9920828342437744, 0.9924045205116272, 0.9896448850631714, 0.9896131157875061, 0.9959001541137695, 0.9909467101097107, 0.9965863227844238, 0.9946226477622986, 0.9856135845184326, 0.998428463935852, 0.9541473984718323, 0.04171136021614075, 0.9918549060821533, 0.9867664575576782, 0.8396742343902588, 0.1557011753320694, 0.8602775931358337, 0.1368623524904251, 0.9826472997665405, 0.1207578182220459, 0.8721398115158081, 0.09645277261734009, 0.9016237258911133, 0.986605167388916, 0.9842931032180786, 0.8003110885620117, 0.19760768115520477, 0.30607935786247253, 0.6896004676818848, 0.9845921993255615, 0.9944060444831848, 0.9910091757774353, 0.17538537085056305, 0.8229621052742004, 0.9846672415733337, 0.5420312285423279, 0.05934648588299751, 0.3956432342529297, 0.9937226176261902, 0.9889029860496521, 0.9946191906929016, 0.9926382899284363, 0.22626207768917084, 0.6033655405044556, 0.10134655237197876, 0.06835000216960907, 0.9946303963661194, 0.9974730014801025, 0.9907230734825134, 0.9928074479103088, 0.007054419256746769, 0.05330005660653114, 0.04154269024729729, 0.4898902177810669, 0.005486770533025265, 0.32371947169303894, 0.07916626334190369, 0.9939713478088379, 0.6938872933387756, 0.09445586800575256, 0.2070763111114502, 0.9967529773712158, 0.9866517782211304, 0.9883310794830322, 0.9942594766616821, 0.9940910935401917, 0.9928281307220459, 0.9430605173110962, 0.05318010598421097, 0.1506432294845581, 0.8469497561454773, 0.9857639074325562, 0.15966163575649261, 0.05394710600376129, 0.055581867694854736, 0.3656415045261383, 0.10026533156633377, 0.10026533156633377, 0.16402100026607513, 0.7508715391159058, 0.13498814404010773, 0.1012411043047905, 0.35548290610313416, 0.298307329416275, 0.19970019161701202, 0.11269388347864151, 0.03314526006579399, 0.9874528050422668, 0.7957733869552612, 0.20203572511672974, 0.9961541295051575, 0.9841482639312744, 0.986461877822876, 0.9943292140960693, 0.045536428689956665, 0.15454788506031036, 0.3215147852897644, 0.17800603806972504, 0.23596149682998657, 0.06485491245985031, 0.9935605525970459, 0.6116287708282471, 0.11550071090459824, 0.27037665247917175, 0.1321856528520584, 0.8652151823043823, 0.9981527924537659, 0.993161141872406, 0.998113751411438, 0.9982326030731201, 0.9835307598114014, 0.9796490669250488, 0.991016149520874, 0.9862672686576843, 0.9844643473625183, 0.9984292387962341, 0.9893709421157837, 0.9987112879753113, 0.9939002990722656, 0.996141254901886, 0.9961581230163574, 0.9954195022583008, 0.9850013852119446, 0.9897805452346802, 0.9975401759147644, 0.12006085366010666, 0.19428029656410217, 0.6832554340362549, 0.18055279552936554, 0.0831700935959816, 0.09738270193338394, 0.0015791789628565311, 0.10948974639177322, 0.3463665843009949, 0.11738564074039459, 0.06369355320930481, 0.6622171401977539, 0.28225648403167725, 0.05428009480237961, 0.9933211803436279, 0.9864270687103271, 0.9907857775688171, 0.8261703252792358, 0.17365364730358124, 0.7559733390808105, 0.2392759621143341, 0.9917572140693665, 0.9933757185935974, 0.9949581623077393, 0.9839827418327332, 0.9850107431411743, 0.041280195116996765, 0.1763790100812912, 0.780570924282074, 0.9971688389778137, 0.998153805732727, 0.9931741952896118, 0.9867545366287231, 0.9942036271095276, 0.9889546632766724, 0.1928790658712387, 0.24746748805046082, 0.5568018555641174, 0.996451735496521, 0.9923404455184937, 0.9933083057403564, 0.10638812929391861, 0.03911328315734863, 0.6226834654808044, 0.09543640911579132, 0.1361142247915268, 0.9943011403083801, 0.9907086491584778, 0.020607048645615578, 0.09960073977708817, 0.8757995963096619, 0.9786033630371094, 0.9925743341445923, 0.9885008931159973, 0.9925798773765564, 0.07207150012254715, 0.9189115762710571, 0.9968101382255554, 0.010291123762726784, 0.2900225818157196, 0.36860933899879456, 0.06081118434667587, 0.08420009911060333, 0.16840019822120667, 0.017775576561689377, 0.10223214328289032, 0.7178354263305664, 0.04144546389579773, 0.11438947916030884, 0.023762065917253494, 0.9868072271347046, 0.9928188323974609, 0.9990101456642151, 0.9880418181419373, 0.997484564781189, 0.9940258264541626, 0.9965838193893433, 0.9959762096405029, 0.8732665181159973, 0.11825484037399292, 0.9851992130279541, 0.0781882256269455, 0.8356366753578186, 0.08307499438524246, 0.14456325769424438, 0.38902798295021057, 0.19980289041996002, 0.1621929258108139, 0.03760995343327522, 0.06581742316484451, 0.9944307208061218, 0.9878248572349548, 0.9888179302215576, 0.9932810068130493, 0.7744550704956055, 0.2175435572862625, 0.6983160972595215, 0.301784873008728, 0.9869990944862366, 0.9908510446548462, 0.09353817999362946, 0.09353817999362946, 0.8106642365455627, 0.9916045665740967, 0.9889408349990845, 0.9962648749351501, 0.9952279329299927, 0.985516369342804, 0.9914970993995667, 0.9913060069084167, 0.9946686625480652, 0.9967301487922668, 0.1989934891462326, 0.7959739565849304, 0.7347850203514099, 0.2571747601032257, 0.994949996471405, 0.980891227722168, 0.9865120649337769, 0.8532856702804565, 0.14450804889202118, 0.9991663694381714, 0.9964914321899414, 0.9844573736190796, 0.39166826009750366, 0.589806318283081, 0.018431447446346283, 0.6792757511138916, 0.3182770013809204, 0.9935204982757568, 0.9908901453018188, 0.9812895655632019, 0.9954374432563782, 0.6384699940681458, 0.3603246510028839, 0.9887522459030151, 0.9986453652381897, 0.9903940558433533, 0.9941913485527039, 0.9994977116584778, 0.9977481365203857, 0.9955982565879822, 0.9863436222076416, 0.9856988787651062, 0.9908902049064636, 0.10376180708408356, 0.269780695438385, 0.6225708723068237, 0.9951978921890259, 0.990176260471344, 0.9943640828132629, 0.9932213425636292, 0.9959448575973511, 0.8217853307723999, 0.1760968565940857, 0.2563951313495636, 0.7396013140678406, 0.9965513348579407, 0.9874883890151978, 0.9952028393745422, 0.10748699307441711, 0.8867676854133606, 0.9991226196289062, 0.9737078547477722, 0.7810066938400269, 0.21749553084373474, 0.9886321425437927, 0.12271429598331451, 0.6101627349853516, 0.2658809721469879, 0.9882007241249084, 0.9900901913642883, 0.9938299059867859, 0.9884575009346008, 0.99433833360672, 0.9859175086021423, 0.9924997091293335, 0.4594990015029907, 0.5379500389099121, 0.9865190982818604, 0.9944313168525696, 0.9896107912063599, 0.9917612671852112, 0.989088773727417, 0.9914208650588989, 0.9958820343017578, 0.143430694937706, 0.2151460349559784, 0.6323989629745483, 0.9829806685447693, 0.9838480353355408, 0.9952034950256348, 0.9968604445457458, 0.9885228872299194, 0.994529128074646, 0.97525554895401, 0.9934822916984558, 0.21033667027950287, 0.783504068851471, 0.9945984482765198, 0.9911747574806213, 0.9898713827133179, 0.9923317432403564, 0.9904344081878662, 0.9927115440368652, 0.9969286322593689, 0.9976822733879089, 0.9882782101631165, 0.9782679677009583, 0.9830068945884705, 0.9898172616958618, 0.4082586467266083, 0.590359628200531, 0.9943352341651917, 0.90129154920578, 0.09179821610450745, 0.9980600476264954, 0.9890313744544983, 0.086833655834198, 0.9117534160614014, 0.9871983528137207, 0.07188655436038971, 0.6256792545318604, 0.3008585274219513, 0.995093047618866, 0.9845141768455505, 0.9830679297447205, 0.9943398833274841, 0.9964284896850586, 0.9964434504508972, 0.9913791418075562, 0.9924134612083435, 0.9865689277648926, 0.9945980310440063, 0.8824445009231567, 0.11099930852651596, 0.993306040763855, 0.9897158741950989, 0.9879839420318604, 0.990107536315918, 0.20389533042907715, 0.6697489023208618, 0.10127251595258713, 0.024305403232574463, 0.9972328543663025, 0.9929981827735901, 0.9876084327697754, 0.9980674982070923, 0.996900737285614, 0.9900240898132324, 0.9933191537857056, 0.9886353611946106, 0.9937639832496643, 0.11236215382814407, 0.8828454613685608, 0.9824098348617554, 0.9846035242080688, 0.9872166514396667, 0.24603432416915894, 0.7524698972702026, 0.6359490156173706, 0.3613346815109253, 0.9072068929672241, 0.09253204613924026, 0.18699148297309875, 0.5281844735145569, 0.06380751729011536, 0.00708972429856658, 0.1214115247130394, 0.09128019958734512, 0.052310511469841, 0.1583646982908249, 0.43711522221565247, 0.04012861102819443, 0.14546620845794678, 0.05804316699504852, 0.1082039326429367, 0.24938586354255676, 0.0824662372469902, 0.05265916511416435, 0.016890674829483032, 0.23945017158985138, 0.07054340839385986, 0.05464630201458931, 0.08842765539884567, 0.022852091118693352, 0.12220900505781174, 0.09221621602773666, 0.1442737579345703, 0.25880035758018494, 0.03272188454866409, 0.21864166855812073, 0.19633129239082336, 0.053544897586107254, 0.0014873583568260074, 0.35372471809387207, 0.640073299407959, 0.7616034746170044, 0.07950805872678757, 0.15483146905899048, 0.9895841479301453, 0.9844280481338501, 0.9909785985946655, 0.9806649088859558, 0.9811981916427612, 0.9908058643341064, 0.9955880641937256, 0.995690643787384, 0.9844318628311157, 0.5465701818466187, 0.45340481400489807, 0.9939400553703308, 0.997471034526825, 0.9867873191833496, 0.37455347180366516, 0.21144147217273712, 0.1027001440525055, 0.2577572166919708, 0.05135007202625275, 0.9889513850212097, 0.9924476742744446, 0.9967026114463806, 0.8698452115058899, 0.1266230344772339, 0.09135156869888306, 0.9077023863792419, 0.30668890476226807, 0.6900500059127808, 0.993763267993927, 0.9918000102043152, 0.14965778589248657, 0.06067207455635071, 0.42874932289123535, 0.18336449563503265, 0.005393073428422213, 0.1725783497095108, 0.9958246350288391, 0.9908841848373413, 0.9971898198127747, 0.9393991827964783, 0.05403623729944229, 0.9953352212905884, 0.9941563606262207, 0.9939300417900085, 0.9978625178337097, 0.9949854016304016, 0.0660272017121315, 0.4555876851081848, 0.28831878304481506, 0.01870770752429962, 0.1705702692270279, 0.9788264036178589, 0.017172392457723618, 0.9953776597976685, 0.042498596012592316, 0.23503011465072632, 0.07147491723299026, 0.48744603991508484, 0.07855801284313202, 0.08435327559709549, 0.13977602124214172, 0.26049166917800903, 0.15883637964725494, 0.28590548038482666, 0.15248292684555054, 0.5250624418258667, 0.12938500940799713, 0.18505065143108368, 0.08575518429279327, 0.07371936738491058, 0.9926435351371765, 0.985251247882843, 0.9895599484443665, 0.9977720379829407, 0.9935163855552673, 0.9933207035064697, 0.12898102402687073, 0.1861245334148407, 0.2840847969055176, 0.08979692310094833, 0.3085748851299286, 0.9935230016708374, 0.9911736845970154, 0.763742983341217, 0.2351701259613037, 0.03932354971766472, 0.9606181383132935, 0.9928287267684937, 0.9964094758033752, 0.9912277460098267, 0.9776887893676758, 0.05379793047904968, 0.9453064799308777, 0.9955235719680786, 0.8502629399299622, 0.14720970392227173, 0.9994825720787048, 0.997925877571106, 0.989052951335907, 0.9935514330863953, 0.9775242209434509, 0.9959794878959656, 0.9899868965148926, 0.9903958439826965, 0.99259352684021, 0.9923698902130127, 0.604812741279602, 0.07003095000982285, 0.3183225095272064, 0.9860086441040039, 0.9967519044876099, 0.4733499586582184, 0.28715068101882935, 0.17273907363414764, 0.06505757570266724, 0.9909419417381287, 0.04245683178305626, 0.9569116830825806, 0.9946040511131287, 0.7172730565071106, 0.28200477361679077, 0.9948206543922424, 0.9987339973449707, 0.990617573261261, 0.9907984733581543, 0.9945035576820374, 0.9888672828674316, 0.26875120401382446, 0.7226421236991882, 0.9955139756202698, 0.5342079997062683, 0.2813706696033478, 0.18388167023658752, 0.7760109901428223, 0.21318982541561127, 0.11217965185642242, 0.3178423345088959, 0.5172728300094604, 0.04674152284860611, 0.9866683483123779, 0.9906463623046875, 0.9961056113243103, 0.9908331632614136, 0.9929482936859131, 0.8466910719871521, 0.15111546218395233, 0.9944686889648438, 0.9811267852783203, 0.9936158061027527, 0.993593692779541, 0.9929369688034058, 0.9874393939971924, 0.25330764055252075, 0.2598026990890503, 0.2922780513763428, 0.16454172134399414, 0.02814529277384281, 0.9935568571090698, 0.9921400547027588, 0.9928624629974365, 0.0330435149371624, 0.2244861125946045, 0.14318856596946716, 0.054548025131225586, 0.02884751372039318, 0.14895807206630707, 0.24703961610794067, 0.05140102282166481, 0.06818503141403198, 0.4784241020679474, 0.1404896229505539, 0.3797016739845276, 0.2389909327030182, 0.16035521030426025, 0.13105954229831696, 0.10638950765132904, 0.04471443220973015, 0.3176266551017761, 0.9909148812294006, 0.9959318041801453, 0.9886612892150879, 0.9961567521095276, 0.8587014079093933, 0.13924887776374817, 0.9914149641990662, 0.9960010051727295, 0.9921255111694336, 0.02012575976550579, 0.2327587902545929, 0.43139129877090454, 0.1601310521364212, 0.1548808515071869, 0.9863319993019104, 0.9946934580802917, 0.9851030707359314, 0.9939137697219849, 0.9892691373825073, 0.21561814844608307, 0.07187271863222122, 0.08145574480295181, 0.6276884078979492, 0.12317261844873428, 0.15452565252780914, 0.7211197018623352, 0.9943509697914124, 0.048663508147001266, 0.9502189755439758, 0.9862138032913208, 0.9923290610313416, 0.9842503070831299, 0.9825785160064697, 0.028377588838338852, 0.40863728523254395, 0.17877881228923798, 0.07094397395849228, 0.18161657452583313, 0.12769915163516998, 0.9059471487998962, 0.0920102521777153, 0.9958301186561584, 0.9952735304832458, 0.978667140007019, 0.018748413771390915, 0.9920821785926819, 0.6454413533210754, 0.0131454449146986, 0.009859083220362663, 0.2004680335521698, 0.13013990223407745, 0.9972721934318542, 0.987432599067688, 0.9909974336624146, 0.9882603883743286, 0.7844637036323547, 0.2085283249616623, 0.9956896305084229, 0.9862048029899597, 0.9978290796279907, 0.9943730235099792, 0.9952672123908997, 0.9846632480621338, 0.9927722215652466, 0.6166626811027527, 0.004933301359415054, 0.3765753209590912, 0.9975948929786682, 0.044668957591056824, 0.07742618769407272, 0.7921295166015625, 0.08487101644277573, 0.23494116961956024, 0.7622535824775696, 0.09881588071584702, 0.8940484523773193, 0.7351632714271545, 0.19478686153888702, 0.0628344714641571, 0.9939584136009216, 0.5993044972419739, 0.10716041177511215, 0.07937808334827423, 0.07937808334827423, 0.127004936337471, 0.9996981024742126, 0.9931935667991638, 0.48575419187545776, 0.5124439597129822, 0.9981932640075684, 0.793414831161499, 0.20381297171115875, 0.18227307498455048, 0.18810580670833588, 0.6284775733947754, 0.9936479926109314, 0.9938215017318726, 0.9969567060470581, 0.9983123540878296, 0.8377891182899475, 0.16080786287784576, 0.9928194284439087, 0.9882875680923462, 0.9921360015869141, 0.9960324764251709, 0.9967114329338074, 0.9991587996482849, 0.9936456084251404, 0.9884933233261108, 0.6279588341712952, 0.15199004113674164, 0.21865233778953552, 0.14752328395843506, 0.8493764996528625, 0.17524780333042145, 0.5657122135162354, 0.16294971108436584, 0.09531021118164062, 0.9869245886802673, 0.015636662021279335, 0.5058120489120483, 0.3854777216911316, 0.0917804092168808, 0.9978347420692444, 0.08724071085453033, 0.0972110778093338, 0.1345999538898468, 0.09471848607063293, 0.4337109625339508, 0.09471848607063293, 0.057329609990119934, 0.9858036041259766, 0.9936599731445312, 0.9942823648452759, 0.9963959455490112, 0.993401050567627, 0.9876959919929504, 0.9935107231140137, 0.06285367906093597, 0.9288376569747925, 0.9900907874107361, 0.9915633201599121, 0.992006778717041, 0.9945706725120544, 0.9940323829650879, 0.9885134100914001, 0.9929746985435486, 0.9991647601127625, 0.9884456992149353, 0.9934532642364502, 0.989353597164154, 0.9873127341270447, 0.9919824004173279, 0.9885648488998413, 0.9852075576782227, 0.06116664037108421, 0.937888503074646, 0.9936652779579163, 0.9987007975578308, 0.03596991300582886, 0.9591977000236511, 0.9847802519798279, 0.9864270687103271, 0.9937023520469666, 0.9933621287345886, 0.9955906271934509, 0.9920474290847778, 0.06212935224175453, 0.8387462496757507, 0.10009729117155075, 0.997279703617096, 0.9930577278137207, 0.9919512271881104, 0.9946117997169495, 0.5357063412666321, 0.46362948417663574, 0.868808925151825, 0.10107430815696716, 0.027956722304224968, 0.9969683289527893, 0.9961895942687988, 0.9965589642524719, 0.04801509156823158, 0.13904370367527008, 0.09336267411708832, 0.030342869460582733, 0.028008803725242615, 0.0706888809800148, 0.13537588715553284, 0.0663541853427887, 0.08335953205823898, 0.09903112798929214, 0.2057313323020935, 0.2213965207338333, 0.7771940231323242, 0.494891494512558, 0.1946815848350525, 0.07277816534042358, 0.23652902245521545, 0.9885119795799255, 0.9832351803779602, 0.8340333700180054, 0.16217315196990967, 0.9956987500190735, 0.9964821934700012, 0.9929377436637878, 0.9890226721763611, 0.9610472321510315, 0.03657965362071991, 0.7892306447029114, 0.2091936618089676, 0.5530968308448792, 0.32480520009994507, 0.12064193189144135, 0.9953808784484863, 0.9901753664016724, 0.9932321906089783, 0.9930359721183777, 0.9884982109069824, 0.9854381680488586, 0.06485709547996521, 0.09292957186698914, 0.08518543839454651, 0.2681405246257782, 0.4172150492668152, 0.07066519558429718, 0.9881206750869751, 0.3981611430644989, 0.05923058092594147, 0.29615291953086853, 0.24679408967494965, 0.9954278469085693, 0.9930834174156189, 0.25334373116493225, 0.07409108430147171, 0.6715998649597168, 0.9911737442016602, 0.9899203777313232, 0.9830669164657593, 0.9860082268714905, 0.9930571913719177, 0.9873228669166565, 0.9946094751358032, 0.9822878241539001, 0.9959116578102112, 0.9928871989250183, 0.2700680196285248, 0.7296574711799622, 0.2395842969417572, 0.39708879590034485, 0.12422889471054077, 0.2373659312725067, 0.9944663643836975, 0.9925382733345032, 0.9880902171134949, 0.06974885612726212, 0.11004819720983505, 0.12864789366722107, 0.6230897903442383, 0.06664890795946121, 0.9940362572669983, 0.44468891620635986, 0.5543099045753479, 0.9814265966415405, 0.9946469664573669, 0.5591620206832886, 0.0896093025803566, 0.261659175157547, 0.08244055509567261, 0.0163061935454607, 0.8458837866783142, 0.1345261037349701, 0.9993773698806763, 0.9137136936187744, 0.08629518002271652, 0.991226851940155, 0.9932399988174438, 0.9928814172744751, 0.9906764030456543, 0.9951202869415283, 0.2864841818809509, 0.505768358707428, 0.20159997045993805, 0.9994927644729614, 0.5265698432922363, 0.30033981800079346, 0.16772224009037018, 0.9957326054573059, 0.8896913528442383, 0.10591563582420349, 0.6737352013587952, 0.31489795446395874, 0.9912537932395935, 0.9899837970733643, 0.9915274977684021, 0.9939493536949158, 0.09728659689426422, 0.8980301022529602, 0.9930260181427002, 0.9979034066200256, 0.07291854172945023, 0.028799761086702347, 0.2224321961402893, 0.05576124042272568, 0.12990529835224152, 0.018382826820015907, 0.07230578362941742, 0.23530016839504242, 0.02451043389737606, 0.09007585048675537, 0.05024639144539833, 0.3238053023815155, 0.6720487475395203, 0.018713481724262238, 0.1005849614739418, 0.879533588886261, 0.9947534799575806, 0.9867342710494995, 0.9933098554611206, 0.9860092997550964, 0.984294593334198, 0.9932929873466492, 0.8524457216262817, 0.140459805727005, 0.9978445768356323, 0.9899542331695557, 0.997464656829834, 0.9955251216888428, 0.9790383577346802, 0.9925926327705383, 0.9934520125389099, 0.9956878423690796, 0.9893160462379456, 0.9848807454109192, 0.989849328994751, 0.9841737747192383, 0.9929603338241577, 0.9984764456748962, 0.9893097877502441, 0.9901151061058044, 0.992307722568512, 0.9778806567192078, 0.818113386631012, 0.1782754510641098, 0.9955540895462036, 0.13119766116142273, 0.049199122935533524, 0.3143277168273926, 0.21684058010578156, 0.11024247854948044, 0.1029537171125412, 0.04008817300200462, 0.013666423037648201, 0.020955180749297142, 0.11335394531488419, 0.07556929439306259, 0.8096710443496704, 0.9946779608726501, 0.9944974184036255, 0.9896906614303589, 0.7185705900192261, 0.2785470187664032, 0.9930627346038818, 0.9943411946296692, 0.9873482584953308, 0.28479886054992676, 0.6694241166114807, 0.0411049909889698, 0.9937635064125061, 0.9972122311592102, 0.9969093799591064, 0.9947980046272278, 0.21696408092975616, 0.6650037169456482, 0.11641974747180939, 0.9929458498954773, 0.5698493719100952, 0.10633552819490433, 0.32173314690589905, 0.9953066110610962, 0.9945996999740601, 0.9978650212287903, 0.988329291343689, 0.3040411174297333, 0.0779200866818428, 0.6172493100166321, 0.9894405603408813, 0.9917673468589783, 0.9934793710708618, 0.993278443813324, 0.9897562861442566, 0.9966062307357788, 0.15890492498874664, 0.7604735493659973, 0.0766148716211319, 0.3292390704154968, 0.6690987944602966, 0.9854190349578857, 0.986511766910553, 0.9881412982940674, 0.2555639445781708, 0.7397903800010681, 0.9992363452911377, 0.9932624101638794, 0.9846364855766296, 0.2105194330215454, 0.7879441976547241, 0.9892036318778992, 0.9979216456413269, 0.2409866452217102, 0.7565860152244568, 0.994167685508728, 0.74615877866745, 0.2523242235183716, 0.9914126396179199, 0.990136981010437, 0.9958227872848511, 0.18882966041564941, 0.8059802651405334, 0.32395386695861816, 0.6739397644996643, 0.9863736629486084, 0.9945321679115295, 0.994713544845581, 0.9927547574043274, 0.9909800291061401, 0.22280848026275635, 0.7728669047355652, 0.5867517590522766, 0.40936169028282166, 0.0781068205833435, 0.1744939535856247, 0.06481204181909561, 0.5118489265441895, 0.13294777274131775, 0.034898791462183, 0.9939538836479187, 0.9864791631698608, 0.9903828501701355, 0.9931440353393555, 0.9887184500694275, 0.9891308546066284, 0.9930645227432251, 0.3362088203430176, 0.35270988941192627, 0.30939462780952454, 0.9929930567741394, 0.9944019913673401, 0.9935592412948608, 0.1200692430138588, 0.6767538785934448, 0.13410331308841705, 0.06861099600791931, 0.9058247208595276, 0.09358283877372742, 0.990485429763794, 0.5820204615592957, 0.41304677724838257, 0.9911066293716431, 0.9848384857177734, 0.27829012274742126, 0.11184866726398468, 0.4247586131095886, 0.03461982682347298, 0.14913155138492584, 0.9970613718032837, 0.37336966395378113, 0.6259432435035706, 0.9947015047073364, 0.9859241247177124, 0.9862596392631531, 0.9188143610954285, 0.07888810336589813, 0.9932040572166443, 0.9973120093345642, 0.9845288395881653, 0.9921703338623047, 0.9952501654624939, 0.8724033236503601, 0.1192103922367096, 0.9926902651786804, 0.9946627616882324, 0.05335149168968201, 0.7184667587280273, 0.07824885845184326, 0.14938418567180634, 0.9941993355751038, 0.9967464208602905, 0.9945589900016785, 0.9941862225532532, 0.12903426587581635, 0.8688307404518127, 0.9815765619277954, 0.1447778344154358, 0.631392240524292, 0.22118836641311646, 0.99045330286026, 0.9993381500244141, 0.9928438663482666, 0.9956624507904053, 0.9986369609832764, 0.9916738867759705, 0.9934701323509216, 0.18243394792079926, 0.8150677680969238, 0.9969685673713684, 0.988220751285553, 0.7522818446159363, 0.22125937044620514, 0.022125937044620514, 0.9871364235877991, 0.9914112091064453, 0.9851753115653992, 0.3934505581855774, 0.45383626222610474, 0.1519077718257904, 0.9961308836936951, 0.9833754897117615, 0.9922962188720703, 0.9224235415458679, 0.07487203925848007, 0.3781563341617584, 0.19890040159225464, 0.16943368315696716, 0.2504671812057495, 0.9986805319786072, 0.9926806688308716, 0.9961386322975159, 0.9857714176177979, 0.9942429661750793, 0.8392544388771057, 0.0907302051782608, 0.0680476576089859, 0.05375606566667557, 0.3083900511264801, 0.5375606417655945, 0.09902433305978775, 0.9976062774658203, 0.9918103814125061, 0.9951202869415283, 0.9969338178634644, 0.9928879141807556, 0.9988039135932922, 0.9966946840286255, 0.9908971786499023, 0.9908283352851868, 0.9955102205276489, 0.7179239392280579, 0.17178314924240112, 0.11020051687955856, 0.9865190386772156, 0.09968529641628265, 0.41738152503967285, 0.19774968922138214, 0.2852782607078552, 0.8002195358276367, 0.19597212970256805, 0.04717801883816719, 0.25685811042785645, 0.15463906526565552, 0.028831012547016144, 0.24637410044670105, 0.11794505268335342, 0.08911404013633728, 0.05897252634167671, 0.9421850442886353, 0.050587113946676254, 0.22769978642463684, 0.6110917329788208, 0.15958446264266968, 0.10254114866256714, 0.18206286430358887, 0.7156953811645508, 0.6952965259552002, 0.1329650729894638, 0.17174655199050903, 0.9962499737739563, 0.17855896055698395, 0.04959971085190773, 0.3471979796886444, 0.22154538333415985, 0.11242601275444031, 0.08927948027849197, 0.9886778593063354, 0.08780030161142349, 0.9030888080596924, 0.09635146707296371, 0.7176522612571716, 0.18273553252220154, 0.9855828285217285, 0.8575572967529297, 0.13831569254398346, 0.9994308352470398, 0.05777862295508385, 0.1705845147371292, 0.03668484091758728, 0.18250708281993866, 0.25862812995910645, 0.05869574472308159, 0.2338658571243286, 0.0844288170337677, 0.9099549651145935, 0.98509681224823, 0.9929790496826172, 0.06674215942621231, 0.6699885725975037, 0.26183462142944336, 0.9897492527961731, 0.9960265755653381, 0.9963212013244629, 0.08690758794546127, 0.9025018215179443, 0.9953807592391968, 0.9949868321418762, 0.9963982105255127, 0.9884106516838074, 0.9817269444465637, 0.9970955848693848, 0.9932650327682495, 0.9978387951850891, 0.19558534026145935, 0.1063709706068039, 0.13210588693618774, 0.5644524097442627, 0.2213621586561203, 0.7365322709083557, 0.04024766385555267, 0.17430727183818817, 0.03320138528943062, 0.2739114463329315, 0.04426851496100426, 0.47035297751426697, 0.14077593386173248, 0.04479233920574188, 0.13757647573947906, 0.6750845909118652, 0.994715690612793, 0.9904180765151978, 0.9906212687492371, 0.0347810760140419, 0.9622764587402344, 0.9937586784362793, 0.9930872321128845, 0.9864001870155334, 0.9975400567054749, 0.062206968665122986, 0.019254537299275398, 0.19106425344944, 0.035053133964538574, 0.13083212077617645, 0.1999509632587433, 0.02320418693125248, 0.0533202588558197, 0.031103484332561493, 0.01086153369396925, 0.24290339648723602, 0.15202036499977112, 0.05700763687491417, 0.7917727828025818, 0.9944231510162354, 0.9836677312850952, 0.8415567874908447, 0.15467865765094757, 0.24626421928405762, 0.1727047711610794, 0.5804799199104309, 0.9906298518180847, 0.9892973899841309, 0.9959952235221863, 0.9980809688568115, 0.9941297173500061, 0.9884252548217773, 0.9866071939468384, 0.9907981753349304, 0.998474657535553, 0.7724927067756653, 0.22642028331756592, 0.8725936412811279, 0.125295490026474, 0.9963425993919373, 0.9953566789627075, 0.627465546131134, 0.29042690992355347, 0.07529586553573608, 0.9954938292503357, 0.9856852293014526, 0.9974661469459534, 0.998492419719696, 0.9914537668228149, 0.99579918384552, 0.9891313910484314, 0.9829562306404114, 0.9927767515182495, 0.988070011138916, 0.9905620217323303, 0.9831516742706299, 0.9946640133857727, 0.3922184109687805, 0.603412926197052, 0.5973573923110962, 0.21349595487117767, 0.1854611337184906, 0.15304134786128998, 0.08799877017736435, 0.11286798864603043, 0.6446866393089294, 0.06067527085542679, 0.4412747025489807, 0.06619120389223099, 0.4274848699569702, 0.9898042678833008, 0.9876990914344788, 0.9932475090026855, 0.2540305256843567, 0.10063045471906662, 0.0994032546877861, 0.07363203912973404, 0.1767168939113617, 0.04663362354040146, 0.24912172555923462, 0.551956057548523, 0.0871509537100792, 0.12636888027191162, 0.059553150087594986, 0.1728493869304657, 0.9925547242164612, 0.1763717532157898, 0.8177235722541809, 0.995860755443573], \"Term\": [\"aapl\", \"according\", \"according\", \"according\", \"according\", \"account\", \"account\", \"account\", \"accounting\", \"accounts\", \"achieve\", \"acquire\", \"acquired\", \"acquires\", \"acquisition\", \"acquisition\", \"address\", \"adeeva\", \"adopts\", \"advancements\", \"advantage\", \"advice\", \"advice\", \"advisers\", \"advisor\", \"advisor\", \"advisors\", \"advisors\", \"advisors\", \"advisors\", \"advisors\", \"advisors\", \"advisors\", \"advisors\", \"advisors\", \"advisors\", \"advisors\", \"affluent\", \"age\", \"agree\", \"ahead\", \"ai\", \"airdrop\", \"al\", \"align\", \"allocation\", \"already\", \"always\", \"always\", \"amazing\", \"amazon\", \"america\", \"america\", \"american\", \"american\", \"americans\", \"analysis\", \"analysis\", \"analyst\", \"analyst\", \"analysts\", \"annex\", \"announce\", \"announce\", \"annual\", \"annual\", \"answer\", \"anyone\", \"apple\", \"apply\", \"apply\", \"appoints\", \"approach\", \"approach\", \"approach\", \"april\", \"arbor\", \"areas\", \"arm\", \"article\", \"article\", \"article\", \"article\", \"artificial\", \"asia\", \"asian\", \"ask\", \"asset\", \"asset\", \"asset\", \"asset\", \"asset\", \"asset\", \"asset\", \"assistant\", \"associate\", \"associate\", \"associate\", \"associates\", \"assurance\", \"attract\", \"automated\", \"avoid\", \"award\", \"awards\", \"awards\", \"back\", \"back\", \"bancorp\", \"bank\", \"bank\", \"bank\", \"bank\", \"bank\", \"bank\", \"bank\", \"banker\", \"banker\", \"banker\", \"banking\", \"banking\", \"banking\", \"banking\", \"banking\", \"bankorus\", \"banks\", \"banks\", \"based\", \"bc\", \"behind\", \"benefit\", \"best\", \"best\", \"best\", \"best\", \"best\", \"best\", \"beyond\", \"big\", \"big\", \"big\", \"biggest\", \"biggest\", \"billion\", \"bitcoin\", \"blockchain\", \"blog\", \"blue\", \"bmo\", \"bnp\", \"bny\", \"bond\", \"bonus\", \"boost\", \"boosted\", \"boston\", \"bought\", \"bp\", \"branch\", \"brand\", \"brokerage\", \"btw\", \"building\", \"building\", \"building\", \"business\", \"business\", \"business\", \"business\", \"business\", \"business\", \"business\", \"business\", \"buy\", \"buy\", \"buy\", \"buys\", \"caisses\", \"calamos\", \"call\", \"call\", \"canada\", \"canada\", \"canadian\", \"canadians\", \"cant\", \"cap\", \"capgemini\", \"capital\", \"capital\", \"capital\", \"career\", \"ceo\", \"ceos\", \"chairman\", \"challenge\", \"challenges\", \"change\", \"change\", \"change\", \"changes\", \"changing\", \"chase\", \"check\", \"check\", \"check\", \"check\", \"check\", \"chief\", \"children\", \"china\", \"china\", \"china\", \"choice\", \"cio\", \"circle\", \"city\", \"class\", \"class\", \"click\", \"client\", \"client\", \"client\", \"client\", \"client\", \"client\", \"client\", \"clients\", \"clients\", \"clients\", \"clients\", \"clients\", \"close\", \"club\", \"co\", \"college\", \"com\", \"comes\", \"coming\", \"commercial\", \"common\", \"common\", \"communications\", \"community\", \"community\", \"community\", \"company\", \"company\", \"company\", \"company\", \"company\", \"company\", \"competition\", \"competitive\", \"compliance\", \"comprehensive\", \"con\", \"con\", \"conference\", \"conference\", \"confident\", \"congrats\", \"congratulations\", \"congratulations\", \"congratulations\", \"connections\", \"considering\", \"consultant\", \"consulting\", \"content\", \"continues\", \"control\", \"cornerstone\", \"corp\", \"cost\", \"cost\", \"costs\", \"costs\", \"country\", \"coverage\", \"creating\", \"credit\", \"credit\", \"crypto\", \"cryptocurrency\", \"currently\", \"customers\", \"customers\", \"customers\", \"cut\", \"cut\", \"cutting\", \"cvs\", \"cyber\", \"daily\", \"data\", \"data\", \"david\", \"day\", \"deals\", \"decisions\", \"declined\", \"decreased\", \"del\", \"deliver\", \"department\", \"der\", \"des\", \"des\", \"des\", \"design\", \"designed\", \"desjardins\", \"destination\", \"details\", \"deutsche\", \"deutsche\", \"development\", \"development\", \"di\", \"die\", \"difference\", \"different\", \"different\", \"digital\", \"directly\", \"director\", \"director\", \"discover\", \"discuss\", \"discuss\", \"discuss\", \"disrupt\", \"disrupting\", \"disruption\", \"dividend\", \"division\", \"dominion\", \"done\", \"dont\", \"dont\", \"double\", \"download\", \"driven\", \"early\", \"earn\", \"economy\", \"edge\", \"education\", \"education\", \"education\", \"elite\", \"else\", \"email\", \"emerging\", \"employee\", \"employees\", \"ends\", \"endurance\", \"energy\", \"energy\", \"enhancing\", \"enjoy\", \"ensure\", \"entertainment\", \"entities\", \"episode\", \"equity\", \"era\", \"es\", \"espana\", \"especially\", \"essential\", \"estate\", \"estate\", \"estimates\", \"et\", \"et\", \"etf\", \"european\", \"even\", \"even\", \"evening\", \"event\", \"event\", \"event\", \"ever\", \"evercore\", \"evermay\", \"everyone\", \"evolution\", \"evolving\", \"excellent\", \"exchange\", \"exciting\", \"exclusive\", \"executive\", \"executive\", \"executives\", \"expanding\", \"expect\", \"expected\", \"experience\", \"experience\", \"experience\", \"experience\", \"expertise\", \"explains\", \"facebook\", \"family\", \"fargo\", \"fast\", \"featuring\", \"federal\", \"fee\", \"fees\", \"fees\", \"fidelity\", \"fiduciary\", \"field\", \"finance\", \"finance\", \"finances\", \"finances\", \"financial\", \"financial\", \"find\", \"find\", \"find\", \"find\", \"find\", \"find\", \"firm\", \"firm\", \"firm\", \"firm\", \"firm\", \"firm\", \"firm\", \"firms\", \"firms\", \"firms\", \"firms\", \"firms\", \"firms\", \"firms\", \"firms\", \"firms\", \"firms\", \"first\", \"first\", \"first\", \"first\", \"first\", \"first\", \"first\", \"first\", \"five\", \"five\", \"focus\", \"focus\", \"focus\", \"follow\", \"food\", \"fool\", \"forbes\", \"forecast\", \"former\", \"forum\", \"forward\", \"francisco\", \"free\", \"free\", \"friday\", \"fund\", \"funding\", \"future\", \"future\", \"future\", \"future\", \"future\", \"gain\", \"game\", \"general\", \"generation\", \"generation\", \"get\", \"get\", \"getting\", \"getting\", \"give\", \"giving\", \"global\", \"global\", \"global\", \"global\", \"global\", \"global\", \"go\", \"goal\", \"goals\", \"going\", \"going\", \"gold\", \"goldman\", \"golf\", \"good\", \"got\", \"great\", \"great\", \"great\", \"great\", \"great\", \"greater\", \"greater\", \"greenwich\", \"group\", \"group\", \"group\", \"group\", \"group\", \"group\", \"growing\", \"growing\", \"growing\", \"growing\", \"growing\", \"growth\", \"growth\", \"growth\", \"growth\", \"growth\", \"guide\", \"half\", \"happening\", \"happy\", \"harassment\", \"hard\", \"head\", \"head\", \"head\", \"head\", \"head\", \"hedge\", \"held\", \"help\", \"help\", \"helping\", \"helping\", \"helps\", \"high\", \"higher\", \"highland\", \"highnetworth\", \"highnetworth\", \"hiring\", \"holder\", \"holder\", \"holding\", \"holdings\", \"hong\", \"hosting\", \"hot\", \"hsbc\", \"huge\", \"human\", \"ico\", \"icymi\", \"ig\", \"ig\", \"ig\", \"ii\", \"il\", \"im\", \"im\", \"im\", \"im\", \"importance\", \"important\", \"important\", \"improve\", \"inc\", \"inc\", \"increase\", \"increased\", \"increases\", \"increasing\", \"independent\", \"index\", \"india\", \"india\", \"individuals\", \"industry\", \"industry\", \"industry\", \"info\", \"info\", \"information\", \"information\", \"information\", \"information\", \"innovation\", \"innovative\", \"insight\", \"institute\", \"institutional\", \"insurance\", \"insurance\", \"integrated\", \"integration\", \"intelligence\", \"interest\", \"interesting\", \"intern\", \"international\", \"international\", \"international\", \"international\", \"international\", \"internship\", \"interview\", \"intl\", \"investment\", \"investment\", \"investment\", \"investment\", \"investment\", \"investment\", \"investment\", \"investment\", \"investment\", \"investor\", \"investor\", \"investor\", \"investors\", \"investors\", \"investors\", \"investors\", \"investors\", \"investors\", \"invests\", \"ishares\", \"issues\", \"james\", \"job\", \"job\", \"jobs\", \"john\", \"johnson\", \"join\", \"join\", \"join\", \"join\", \"join\", \"joining\", \"jp\", \"jpm\", \"jpmorgan\", \"july\", \"june\", \"june\", \"june\", \"june\", \"key\", \"key\", \"key\", \"king\", \"know\", \"know\", \"kong\", \"korean\", \"landscape\", \"las\", \"last\", \"last\", \"last\", \"last\", \"last\", \"last\", \"latest\", \"latest\", \"launch\", \"launches\", \"leader\", \"leader\", \"leaders\", \"learn\", \"learn\", \"learn\", \"learn\", \"learn\", \"learning\", \"leave\", \"left\", \"legacy\", \"legal\", \"legal\", \"lending\", \"lenox\", \"let\", \"lets\", \"level\", \"levels\", \"lexington\", \"life\", \"life\", \"life\", \"lifted\", \"like\", \"like\", \"like\", \"like\", \"limited\", \"limited\", \"link\", \"link\", \"list\", \"list\", \"list\", \"listen\", \"live\", \"live\", \"live\", \"live\", \"live\", \"llc\", \"local\", \"london\", \"london\", \"long\", \"look\", \"look\", \"looking\", \"looking\", \"looking\", \"los\", \"love\", \"lowered\", \"lp\", \"ltd\", \"ltd\", \"luxembourg\", \"lynch\", \"lyons\", \"machine\", \"magazine\", \"make\", \"makes\", \"managements\", \"manager\", \"manager\", \"manager\", \"managing\", \"managing\", \"many\", \"many\", \"many\", \"many\", \"mar\", \"market\", \"market\", \"market\", \"market\", \"marketing\", \"markets\", \"markets\", \"markets\", \"markets\", \"markets\", \"markets\", \"markets\", \"matter\", \"mba\", \"md\", \"media\", \"meeting\", \"mellon\", \"member\", \"members\", \"members\", \"men\", \"merrill\", \"merriman\", \"mi\", \"microsoft\", \"milestone\", \"millennials\", \"million\", \"mind\", \"miss\", \"mistakes\", \"mit\", \"mobile\", \"models\", \"monday\", \"money\", \"money\", \"months\", \"morgan\", \"morning\", \"morning\", \"motley\", \"mouvement\", \"move\", \"moving\", \"mpcx\", \"msft\", \"much\", \"much\", \"much\", \"mutual\", \"named\", \"names\", \"nc\", \"need\", \"need\", \"needs\", \"needs\", \"needs\", \"net\", \"network\", \"never\", \"new\", \"new\", \"new\", \"new\", \"new\", \"new\", \"new\", \"new\", \"new\", \"new\", \"new\", \"news\", \"news\", \"next\", \"next\", \"next\", \"next\", \"nicola\", \"night\", \"north\", \"north\", \"northwestern\", \"number\", \"ny\", \"oak\", \"offer\", \"offer\", \"offering\", \"offering\", \"office\", \"office\", \"office\", \"officer\", \"offices\", \"ok\", \"old\", \"omaha\", \"onboarding\", \"one\", \"one\", \"one\", \"one\", \"one\", \"one\", \"oneill\", \"online\", \"online\", \"online\", \"online\", \"operations\", \"opinion\", \"opportunity\", \"opportunity\", \"opportunity\", \"options\", \"oracle\", \"orcl\", \"others\", \"outcomes\", \"pa\", \"page\", \"paid\", \"panel\", \"paribas\", \"part\", \"part\", \"partners\", \"partners\", \"partners\", \"partners\", \"patriot\", \"paying\", \"pension\", \"people\", \"people\", \"people\", \"people\", \"people\", \"per\", \"personal\", \"personal\", \"philip\", \"piece\", \"place\", \"place\", \"place\", \"place\", \"plan\", \"plan\", \"plan\", \"planning\", \"platform\", \"platform\", \"platforms\", \"play\", \"plc\", \"pleased\", \"plumb\", \"pm\", \"pm\", \"pm\", \"position\", \"post\", \"post\", \"post\", \"posted\", \"potential\", \"potential\", \"power\", \"power\", \"predictions\", \"premier\", \"prepare\", \"presented\", \"president\", \"president\", \"pressure\", \"price\", \"private\", \"private\", \"private\", \"private\", \"private\", \"private\", \"private\", \"private\", \"private\", \"private\", \"private\", \"process\", \"process\", \"products\", \"products\", \"products\", \"profit\", \"profits\", \"project\", \"promotion\", \"prospects\", \"protecting\", \"proud\", \"proud\", \"provide\", \"provider\", \"providing\", \"published\", \"puja\", \"purchased\", \"purchases\", \"pursue\", \"push\", \"pwc\", \"quarter\", \"rachel\", \"raise\", \"raised\", \"raises\", \"rate\", \"rating\", \"raymond\", \"rbc\", \"rbc\", \"reach\", \"read\", \"read\", \"read\", \"read\", \"read\", \"read\", \"read\", \"read\", \"read\", \"ready\", \"ready\", \"ready\", \"real\", \"really\", \"reasons\", \"recent\", \"recent\", \"record\", \"recruit\", \"recruitment\", \"register\", \"register\", \"register\", \"regulation\", \"relationship\", \"relationships\", \"release\", \"report\", \"report\", \"report\", \"reports\", \"research\", \"research\", \"research\", \"resources\", \"results\", \"retail\", \"retire\", \"retirement\", \"retirement\", \"retirement\", \"returns\", \"reuters\", \"revenue\", \"review\", \"revolution\", \"rich\", \"right\", \"right\", \"right\", \"risk\", \"risk\", \"rkl\", \"road\", \"robo\", \"role\", \"role\", \"rose\", \"royal\", \"rsvp\", \"rt\", \"rt\", \"sachs\", \"safe\", \"said\", \"said\", \"sale\", \"sales\", \"sales\", \"san\", \"saving\", \"savings\", \"say\", \"say\", \"says\", \"says\", \"school\", \"schwab\", \"scotia\", \"se\", \"seacrest\", \"second\", \"second\", \"securities\", \"securities\", \"see\", \"see\", \"see\", \"see\", \"see\", \"see\", \"seeking\", \"seems\", \"seen\", \"sees\", \"segment\", \"sell\", \"sells\", \"senior\", \"senior\", \"senior\", \"sentiment\", \"series\", \"serve\", \"service\", \"service\", \"service\", \"service\", \"services\", \"services\", \"serving\", \"session\", \"session\", \"several\", \"sexual\", \"share\", \"share\", \"share\", \"share\", \"share\", \"shareholder\", \"shares\", \"shares\", \"sheets\", \"short\", \"shorts\", \"show\", \"show\", \"sign\", \"since\", \"singapore\", \"skills\", \"small\", \"smart\", \"smart\", \"smith\", \"sold\", \"solutions\", \"solutions\", \"solutions\", \"solutions\", \"something\", \"south\", \"specialist\", \"sponsor\", \"sponsored\", \"sponsored\", \"spring\", \"st\", \"st\", \"st\", \"staff\", \"stake\", \"stand\", \"standard\", \"stanley\", \"stanleys\", \"star\", \"start\", \"start\", \"state\", \"states\", \"stay\", \"stay\", \"stay\", \"step\", \"steps\", \"stillwater\", \"stock\", \"stock\", \"stock\", \"stocks\", \"stony\", \"stop\", \"strategies\", \"strategies\", \"strategy\", \"strategy\", \"strategy\", \"strategy\", \"street\", \"students\", \"study\", \"suisse\", \"summer\", \"summit\", \"summit\", \"summit\", \"support\", \"support\", \"support\", \"support\", \"sure\", \"survey\", \"sva\", \"swissborg\", \"systems\", \"take\", \"takes\", \"talking\", \"talks\", \"target\", \"tax\", \"tax\", \"tax\", \"td\", \"team\", \"team\", \"team\", \"team\", \"technologies\", \"technologies\", \"technology\", \"technology\", \"technology\", \"technology\", \"technology\", \"technology\", \"technology\", \"technology\", \"term\", \"term\", \"th\", \"th\", \"th\", \"thank\", \"thank\", \"thank\", \"thanks\", \"thanks\", \"thanks\", \"things\", \"think\", \"think\", \"think\", \"think\", \"think\", \"think\", \"third\", \"thomas\", \"thomas\", \"three\", \"three\", \"three\", \"thursday\", \"tiedemann\", \"tiedemann\", \"time\", \"today\", \"today\", \"today\", \"today\", \"today\", \"today\", \"today\", \"todays\", \"todays\", \"token\", \"tool\", \"top\", \"top\", \"top\", \"tops\", \"toronto\", \"touch\", \"trade\", \"trade\", \"traditional\", \"transform\", \"transformation\", \"transforming\", \"travel\", \"trends\", \"trillion\", \"trimmed\", \"trust\", \"trust\", \"trust\", \"trust\", \"two\", \"two\", \"two\", \"ubs\", \"ubs\", \"ubs\", \"ubs\", \"ubs\", \"uk\", \"uk\", \"uk\", \"uk\", \"un\", \"und\", \"underwriting\", \"unique\", \"unique\", \"unit\", \"united\", \"update\", \"upped\", \"us\", \"us\", \"us\", \"us\", \"us\", \"us\", \"us\", \"us\", \"us\", \"us\", \"us\", \"usa\", \"usa\", \"usa\", \"used\", \"user\", \"valuation\", \"valuation\", \"value\", \"value\", \"value\", \"van\", \"vancouver\", \"vanguard\", \"via\", \"vice\", \"views\", \"vs\", \"wait\", \"wall\", \"want\", \"want\", \"way\", \"way\", \"weather\", \"webinar\", \"website\", \"website\", \"website\", \"weekend\", \"weekly\", \"welcome\", \"wells\", \"weve\", \"whats\", \"whitepaper\", \"whos\", \"willingdon\", \"wilson\", \"win\", \"wins\", \"within\", \"without\", \"without\", \"women\", \"women\", \"women\", \"work\", \"work\", \"work\", \"work\", \"working\", \"working\", \"working\", \"working\", \"worlds\", \"worst\", \"worth\", \"year\", \"year\", \"year\", \"year\", \"year\", \"year\", \"year\", \"years\", \"years\", \"years\", \"years\", \"years\", \"yesterday\", \"yet\", \"yet\", \"york\"]}, \"R\": 30, \"lambda.step\": 0.01, \"plot.opts\": {\"xlab\": \"PC1\", \"ylab\": \"PC2\"}, \"topic.order\": [1, 2, 3, 4, 5, 6, 7, 8, 9, 10, 11, 12, 13, 14, 15, 16, 17, 18, 19, 20]};\n",
       "\n",
       "function LDAvis_load_lib(url, callback){\n",
       "  var s = document.createElement('script');\n",
       "  s.src = url;\n",
       "  s.async = true;\n",
       "  s.onreadystatechange = s.onload = callback;\n",
       "  s.onerror = function(){console.warn(\"failed to load library \" + url);};\n",
       "  document.getElementsByTagName(\"head\")[0].appendChild(s);\n",
       "}\n",
       "\n",
       "if(typeof(LDAvis) !== \"undefined\"){\n",
       "   // already loaded: just create the visualization\n",
       "   !function(LDAvis){\n",
       "       new LDAvis(\"#\" + \"ldavis_el121139725444004504139827939\", ldavis_el121139725444004504139827939_data);\n",
       "   }(LDAvis);\n",
       "}else if(typeof define === \"function\" && define.amd){\n",
       "   // require.js is available: use it to load d3/LDAvis\n",
       "   require.config({paths: {d3: \"https://cdnjs.cloudflare.com/ajax/libs/d3/3.5.5/d3.min\"}});\n",
       "   require([\"d3\"], function(d3){\n",
       "      window.d3 = d3;\n",
       "      LDAvis_load_lib(\"https://cdn.rawgit.com/bmabey/pyLDAvis/files/ldavis.v1.0.0.js\", function(){\n",
       "        new LDAvis(\"#\" + \"ldavis_el121139725444004504139827939\", ldavis_el121139725444004504139827939_data);\n",
       "      });\n",
       "    });\n",
       "}else{\n",
       "    // require.js not available: dynamically load d3 & LDAvis\n",
       "    LDAvis_load_lib(\"https://cdnjs.cloudflare.com/ajax/libs/d3/3.5.5/d3.min.js\", function(){\n",
       "         LDAvis_load_lib(\"https://cdn.rawgit.com/bmabey/pyLDAvis/files/ldavis.v1.0.0.js\", function(){\n",
       "                 new LDAvis(\"#\" + \"ldavis_el121139725444004504139827939\", ldavis_el121139725444004504139827939_data);\n",
       "            })\n",
       "         });\n",
       "}\n",
       "</script>"
      ],
      "text/plain": [
       "<IPython.core.display.HTML object>"
      ]
     },
     "execution_count": 281,
     "metadata": {
      "tags": []
     },
     "output_type": "execute_result"
    }
   ],
   "source": [
    "lda_display = pyLDAvis.gensim.prepare(lda, corpus, dictionary, sort_topics=False)\n",
    "pyLDAvis.display(lda_display)"
   ]
  },
  {
   "cell_type": "markdown",
   "metadata": {
    "colab_type": "text",
    "id": "q1B2DRtXYsoe"
   },
   "source": [
    "# Topic Modeling (Guided LDA)\n",
    "\n",
    "[Guided LDA Medium Article](https://github.com/polsci/colab-gensim-mallet/blob/master/topic-modeling-with-colab-gensim-mallet.ipynb)\n",
    "\n",
    "[GitHub Guided LDA](https://github.com/vi3k6i5/guidedlda/)\n",
    "\n",
    "[Topic modeling and Visualization of Airline Tweets](http://frickp.github.io/lda-airline-visualization.html)\n",
    "\n",
    "[Tracking Social issues & Topics in presidential speeches](http://tlfvincent.github.io/2015/10/23/presidential-speech-topics/)\n",
    "\n",
    "Also refer to GitHub_topic_modelling.ipynb file to understand how tfidf matrix can be used as input to get better topic modeling results. [Here's](https://medium.com/@osas.usen/topic-extraction-from-tweets-using-lda-a997e4eb0985) the link for the medium article related to it.\n",
    "\n",
    "Some of the possible next steps or alternatives to Guided LDA are listed below with useful resources on each:\n",
    "\n",
    "1.  [Non-Negative Matrix Factorization](https://mlexplained.com/2017/12/28/a-practical-introduction-to-nmf-nonnegative-matrix-factorization/)\n",
    "\n",
    "2. Visualizing Topic Models using [t-sne method](https://towardsdatascience.com/visualizing-topic-models-with-scatterpies-and-t-sne-f21f228f7b02)\n",
    "\n",
    "3. [More](https://lvdmaaten.github.io/tsne/) on t-sne\n",
    "\n"
   ]
  },
  {
   "cell_type": "markdown",
   "metadata": {
    "colab_type": "text",
    "id": "xPvRkDcwmzHs"
   },
   "source": [
    "## Preprocessing - Type I"
   ]
  },
  {
   "cell_type": "code",
   "execution_count": null,
   "metadata": {
    "colab": {},
    "colab_type": "code",
    "id": "6xeuIt52nBI_"
   },
   "outputs": [],
   "source": [
    "from sklearn.feature_extraction.text import CountVectorizer"
   ]
  },
  {
   "cell_type": "code",
   "execution_count": null,
   "metadata": {
    "colab": {
     "base_uri": "https://localhost:8080/",
     "height": 1000
    },
    "colab_type": "code",
    "id": "0p1NejzOnKZr",
    "outputId": "91ced341-6753-4349-e1d5-d21433556986"
   },
   "outputs": [
    {
     "name": "stderr",
     "output_type": "stream",
     "text": [
      "<input>:2: DeprecationWarning:\n",
      "\n",
      "invalid escape sequence \\w\n",
      "\n",
      "<input>:2: DeprecationWarning:\n",
      "\n",
      "invalid escape sequence \\w\n",
      "\n",
      "<input>:2: DeprecationWarning:\n",
      "\n",
      "invalid escape sequence \\w\n",
      "\n",
      "<input>:2: DeprecationWarning:\n",
      "\n",
      "invalid escape sequence \\w\n",
      "\n",
      "<input>:2: DeprecationWarning:\n",
      "\n",
      "invalid escape sequence \\w\n",
      "\n",
      "<input>:2: DeprecationWarning:\n",
      "\n",
      "invalid escape sequence \\w\n",
      "\n",
      "<input>:2: DeprecationWarning:\n",
      "\n",
      "invalid escape sequence \\w\n",
      "\n",
      "<input>:2: DeprecationWarning:\n",
      "\n",
      "invalid escape sequence \\w\n",
      "\n",
      "<input>:2: DeprecationWarning:\n",
      "\n",
      "invalid escape sequence \\w\n",
      "\n",
      "<input>:2: DeprecationWarning:\n",
      "\n",
      "invalid escape sequence \\w\n",
      "\n",
      "<input>:2: DeprecationWarning:\n",
      "\n",
      "invalid escape sequence \\w\n",
      "\n",
      "<input>:2: DeprecationWarning:\n",
      "\n",
      "invalid escape sequence \\w\n",
      "\n",
      "<input>:2: DeprecationWarning:\n",
      "\n",
      "invalid escape sequence \\w\n",
      "\n",
      "<input>:2: DeprecationWarning:\n",
      "\n",
      "invalid escape sequence \\w\n",
      "\n",
      "<input>:2: DeprecationWarning:\n",
      "\n",
      "invalid escape sequence \\w\n",
      "\n",
      "<input>:2: DeprecationWarning:\n",
      "\n",
      "invalid escape sequence \\w\n",
      "\n",
      "<input>:2: DeprecationWarning:\n",
      "\n",
      "invalid escape sequence \\w\n",
      "\n",
      "<input>:2: DeprecationWarning:\n",
      "\n",
      "invalid escape sequence \\w\n",
      "\n",
      "<ipython-input-286-5a1be108a10c>:2: DeprecationWarning:\n",
      "\n",
      "invalid escape sequence \\w\n",
      "\n"
     ]
    },
    {
     "data": {
      "text/plain": [
       "(45488, 820)"
      ]
     },
     "execution_count": 286,
     "metadata": {
      "tags": []
     },
     "output_type": "execute_result"
    }
   ],
   "source": [
    "# the vectorizer object will be used to transform text to vector form\n",
    "vectorizer = CountVectorizer(max_df=0.9, min_df=100, token_pattern='\\w+|\\$[\\d\\.]+|\\S+')\n",
    "# apply transformation\n",
    "tf = vectorizer.fit_transform(tweets['text']) #.toarray()\n",
    "# tf_feature_names tells us what word each column in the matric represents\n",
    "tf_feature_names = vectorizer.get_feature_names()\n",
    "tf.shape # --> (200000, 2296)"
   ]
  },
  {
   "cell_type": "code",
   "execution_count": null,
   "metadata": {
    "colab": {
     "base_uri": "https://localhost:8080/",
     "height": 139
    },
    "colab_type": "code",
    "id": "_DRwI2UInymc",
    "outputId": "5abd0220-fab2-4665-e987-68ba8639561a"
   },
   "outputs": [
    {
     "data": {
      "text/plain": [
       "LatentDirichletAllocation(batch_size=128, doc_topic_prior=None,\n",
       "                          evaluate_every=-1, learning_decay=0.7,\n",
       "                          learning_method='batch', learning_offset=10.0,\n",
       "                          max_doc_update_iter=100, max_iter=10,\n",
       "                          mean_change_tol=0.001, n_components=10, n_jobs=None,\n",
       "                          perp_tol=0.1, random_state=45, topic_word_prior=None,\n",
       "                          total_samples=1000000.0, verbose=0)"
      ]
     },
     "execution_count": 287,
     "metadata": {
      "tags": []
     },
     "output_type": "execute_result"
    }
   ],
   "source": [
    "from sklearn.decomposition import LatentDirichletAllocation\n",
    "number_of_topics = 10\n",
    "model = LatentDirichletAllocation(n_components=number_of_topics, random_state=45) # random state for reproducibility\n",
    "# Fit data to model\n",
    "model.fit(tf)"
   ]
  },
  {
   "cell_type": "code",
   "execution_count": null,
   "metadata": {
    "colab": {
     "base_uri": "https://localhost:8080/",
     "height": 35
    },
    "colab_type": "code",
    "id": "flDJCDQIohLb",
    "outputId": "dc8add08-3dcc-4a93-f707-f5feb5ae160f"
   },
   "outputs": [
    {
     "data": {
      "text/plain": [
       "10"
      ]
     },
     "execution_count": 296,
     "metadata": {
      "tags": []
     },
     "output_type": "execute_result"
    }
   ],
   "source": [
    "model"
   ]
  },
  {
   "cell_type": "code",
   "execution_count": null,
   "metadata": {
    "colab": {
     "base_uri": "https://localhost:8080/",
     "height": 228
    },
    "colab_type": "code",
    "id": "lPXJI5bDYwk5",
    "outputId": "800dd8d2-fd3e-41f5-f857-91c4f6b60d8d"
   },
   "outputs": [
    {
     "name": "stdout",
     "output_type": "stream",
     "text": [
      "Collecting guidedlda\n",
      "\u001b[?25l  Downloading https://files.pythonhosted.org/packages/f8/ee/6d6e2b3525388399e12a4482554c7529a5fcf5e99c50a60abaa02894b8bf/guidedlda-2.0.0.dev22.tar.gz (2.1MB)\n",
      "\u001b[K     |████████████████████████████████| 2.1MB 3.4MB/s \n",
      "\u001b[?25hRequirement already satisfied: numpy in /usr/local/lib/python3.6/dist-packages (from guidedlda) (1.18.5)\n",
      "Building wheels for collected packages: guidedlda\n",
      "  Building wheel for guidedlda (setup.py) ... \u001b[?25l\u001b[?25hdone\n",
      "  Created wheel for guidedlda: filename=guidedlda-2.0.0.dev22-cp36-cp36m-linux_x86_64.whl size=2479734 sha256=05cb254d10ad80f6a829a6fdd712f65af36e9de68c62796e99b17db9565b5bea\n",
      "  Stored in directory: /root/.cache/pip/wheels/cf/cb/c4/95897cbe4e2e12bd01db3c5cb004c744d2cfd68ecc692ce39e\n",
      "Successfully built guidedlda\n",
      "Installing collected packages: guidedlda\n",
      "Successfully installed guidedlda-2.0.0.dev22\n"
     ]
    }
   ],
   "source": [
    "pip install guidedlda"
   ]
  },
  {
   "cell_type": "code",
   "execution_count": null,
   "metadata": {
    "colab": {},
    "colab_type": "code",
    "id": "3-OYyZadY613"
   },
   "outputs": [],
   "source": [
    "import guidedlda"
   ]
  },
  {
   "cell_type": "code",
   "execution_count": null,
   "metadata": {
    "colab": {},
    "colab_type": "code",
    "id": "iq3YxgBWZjQV"
   },
   "outputs": [],
   "source": []
  },
  {
   "cell_type": "code",
   "execution_count": null,
   "metadata": {
    "colab": {},
    "colab_type": "code",
    "id": "XJ94MG0hZ18U"
   },
   "outputs": [],
   "source": [
    "vocab = guidedlda.datasets.load_vocab(guidedlda.datasets.NYT)\n",
    "word2id = dict((v, idx) for idx, v in enumerate(vocab))"
   ]
  },
  {
   "cell_type": "code",
   "execution_count": null,
   "metadata": {
    "colab": {},
    "colab_type": "code",
    "id": "x6nTSEZtZ4Y4"
   },
   "outputs": [],
   "source": [
    "#word2id"
   ]
  },
  {
   "cell_type": "markdown",
   "metadata": {
    "colab_type": "text",
    "id": "h6Ca6fimF387"
   },
   "source": [
    "# LDA Topic Modeling\n",
    "\n",
    "[Another LDA Topic Modeling Link](https://github.com/lda-project/lda)"
   ]
  },
  {
   "cell_type": "markdown",
   "metadata": {
    "colab_type": "text",
    "id": "FRaVnpGlm6TB"
   },
   "source": [
    "## Preprocessing Type II\n",
    "[GitHub for Using Mallet on Colab](https://github.com/polsci/colab-gensim-mallet/blob/master/topic-modeling-with-colab-gensim-mallet.ipynb)"
   ]
  },
  {
   "cell_type": "markdown",
   "metadata": {
    "colab_type": "text",
    "id": "_AhCHy7I0urA"
   },
   "source": [
    "### Upgrade gensim"
   ]
  },
  {
   "cell_type": "code",
   "execution_count": null,
   "metadata": {
    "colab": {
     "base_uri": "https://localhost:8080/",
     "height": 540
    },
    "colab_type": "code",
    "id": "rYQfJoWx0p4g",
    "outputId": "fd36115b-98c5-4f52-ff6e-ade64acfaae2"
   },
   "outputs": [
    {
     "name": "stdout",
     "output_type": "stream",
     "text": [
      "Collecting gensim\n",
      "\u001b[?25l  Downloading https://files.pythonhosted.org/packages/2b/e0/fa6326251692056dc880a64eb22117e03269906ba55a6864864d24ec8b4e/gensim-3.8.3-cp36-cp36m-manylinux1_x86_64.whl (24.2MB)\n",
      "\u001b[K     |████████████████████████████████| 24.2MB 151kB/s \n",
      "\u001b[?25hRequirement already satisfied, skipping upgrade: numpy>=1.11.3 in /usr/local/lib/python3.6/dist-packages (from gensim) (1.18.5)\n",
      "Requirement already satisfied, skipping upgrade: scipy>=0.18.1 in /usr/local/lib/python3.6/dist-packages (from gensim) (1.4.1)\n",
      "Requirement already satisfied, skipping upgrade: smart-open>=1.8.1 in /usr/local/lib/python3.6/dist-packages (from gensim) (2.0.0)\n",
      "Requirement already satisfied, skipping upgrade: six>=1.5.0 in /usr/local/lib/python3.6/dist-packages (from gensim) (1.12.0)\n",
      "Requirement already satisfied, skipping upgrade: boto3 in /usr/local/lib/python3.6/dist-packages (from smart-open>=1.8.1->gensim) (1.14.9)\n",
      "Requirement already satisfied, skipping upgrade: requests in /usr/local/lib/python3.6/dist-packages (from smart-open>=1.8.1->gensim) (2.23.0)\n",
      "Requirement already satisfied, skipping upgrade: boto in /usr/local/lib/python3.6/dist-packages (from smart-open>=1.8.1->gensim) (2.49.0)\n",
      "Requirement already satisfied, skipping upgrade: jmespath<1.0.0,>=0.7.1 in /usr/local/lib/python3.6/dist-packages (from boto3->smart-open>=1.8.1->gensim) (0.10.0)\n",
      "Requirement already satisfied, skipping upgrade: s3transfer<0.4.0,>=0.3.0 in /usr/local/lib/python3.6/dist-packages (from boto3->smart-open>=1.8.1->gensim) (0.3.3)\n",
      "Requirement already satisfied, skipping upgrade: botocore<1.18.0,>=1.17.9 in /usr/local/lib/python3.6/dist-packages (from boto3->smart-open>=1.8.1->gensim) (1.17.9)\n",
      "Requirement already satisfied, skipping upgrade: certifi>=2017.4.17 in /usr/local/lib/python3.6/dist-packages (from requests->smart-open>=1.8.1->gensim) (2020.6.20)\n",
      "Requirement already satisfied, skipping upgrade: urllib3!=1.25.0,!=1.25.1,<1.26,>=1.21.1 in /usr/local/lib/python3.6/dist-packages (from requests->smart-open>=1.8.1->gensim) (1.24.3)\n",
      "Requirement already satisfied, skipping upgrade: idna<3,>=2.5 in /usr/local/lib/python3.6/dist-packages (from requests->smart-open>=1.8.1->gensim) (2.9)\n",
      "Requirement already satisfied, skipping upgrade: chardet<4,>=3.0.2 in /usr/local/lib/python3.6/dist-packages (from requests->smart-open>=1.8.1->gensim) (3.0.4)\n",
      "Requirement already satisfied, skipping upgrade: docutils<0.16,>=0.10 in /usr/local/lib/python3.6/dist-packages (from botocore<1.18.0,>=1.17.9->boto3->smart-open>=1.8.1->gensim) (0.15.2)\n",
      "Requirement already satisfied, skipping upgrade: python-dateutil<3.0.0,>=2.1 in /usr/local/lib/python3.6/dist-packages (from botocore<1.18.0,>=1.17.9->boto3->smart-open>=1.8.1->gensim) (2.8.1)\n",
      "Installing collected packages: gensim\n",
      "  Found existing installation: gensim 3.6.0\n",
      "    Uninstalling gensim-3.6.0:\n",
      "      Successfully uninstalled gensim-3.6.0\n",
      "Successfully installed gensim-3.8.3\n"
     ]
    },
    {
     "data": {
      "application/vnd.colab-display-data+json": {
       "pip_warning": {
        "packages": [
         "gensim"
        ]
       }
      }
     },
     "metadata": {
      "tags": []
     },
     "output_type": "display_data"
    }
   ],
   "source": [
    "!pip install --upgrade gensim\n"
   ]
  },
  {
   "cell_type": "markdown",
   "metadata": {
    "colab_type": "text",
    "id": "-orzrW9q0_6e"
   },
   "source": [
    "### Importing Java"
   ]
  },
  {
   "cell_type": "code",
   "execution_count": 3,
   "metadata": {
    "colab": {
     "base_uri": "https://localhost:8080/",
     "height": 69
    },
    "colab_type": "code",
    "id": "kwLI_A2V0-k1",
    "outputId": "010948a3-4870-43df-ebba-c5e8de5fe8b5"
   },
   "outputs": [
    {
     "name": "stdout",
     "output_type": "stream",
     "text": [
      "/bin/sh: apt-get: command not found\n",
      "java version \"14.0.1\" 2020-04-14\n",
      "Java(TM) SE Runtime Environment (build 14.0.1+7)\n",
      "Java HotSpot(TM) 64-Bit Server VM (build 14.0.1+7, mixed mode, sharing)\n"
     ]
    }
   ],
   "source": [
    "import os       #importing os to set environment variable\n",
    "def install_java():\n",
    "  !apt-get install -y openjdk-8-jdk-headless -qq > /dev/null      #install openjdk\n",
    "  os.environ[\"JAVA_HOME\"] = \"/usr/lib/jvm/java-8-openjdk-amd64\"     #set environment variable\n",
    "  !java -version       #check java version\n",
    "install_java()"
   ]
  },
  {
   "cell_type": "markdown",
   "metadata": {
    "colab_type": "text",
    "id": "_rgbLX501x5H"
   },
   "source": [
    "### Install Mallet"
   ]
  },
  {
   "cell_type": "code",
   "execution_count": 4,
   "metadata": {
    "colab": {
     "base_uri": "https://localhost:8080/",
     "height": 1000
    },
    "colab_type": "code",
    "id": "YzAEv5nF1w31",
    "outputId": "621ac68c-eb8f-4a8b-a68d-b34ad85815aa"
   },
   "outputs": [
    {
     "name": "stdout",
     "output_type": "stream",
     "text": [
      "/bin/sh: wget: command not found\n",
      "unzip:  cannot find or open mallet-2.0.8.zip, mallet-2.0.8.zip.zip or mallet-2.0.8.zip.ZIP.\n"
     ]
    }
   ],
   "source": [
    "!wget http://mallet.cs.umass.edu/dist/mallet-2.0.8.zip\n",
    "!unzip mallet-2.0.8.zip"
   ]
  },
  {
   "cell_type": "code",
   "execution_count": null,
   "metadata": {
    "colab": {},
    "colab_type": "code",
    "id": "v0GFul0Z1790"
   },
   "outputs": [],
   "source": [
    "os.environ['MALLET_HOME'] = '/content/mallet-2.0.8'\n",
    "mallet_path = '/content/mallet-2.0.8/bin/mallet' # you should NOT need to change this "
   ]
  },
  {
   "cell_type": "markdown",
   "metadata": {
    "colab_type": "text",
    "id": "THB-arbkGlts"
   },
   "source": [
    "### Lemmatization"
   ]
  },
  {
   "cell_type": "code",
   "execution_count": null,
   "metadata": {
    "colab": {},
    "colab_type": "code",
    "id": "-vwN4esdx6RQ"
   },
   "outputs": [],
   "source": [
    "def sent_to_words(sentences):\n",
    "    for sentence in sentences:\n",
    "        yield(gensim.utils.simple_preprocess(str(sentence), deacc=True))  # deacc=True removes punctuations\n",
    "\n",
    "data_words = list(sent_to_words(tweets_copy1['text']))\n",
    "\n",
    "#remove remaining stop words\n",
    "data_words = [[word for word in doc if word not in final_stop_words] for doc in data_words]"
   ]
  },
  {
   "cell_type": "code",
   "execution_count": null,
   "metadata": {
    "colab": {},
    "colab_type": "code",
    "id": "BEwVzgGVxUh3"
   },
   "outputs": [],
   "source": [
    "# restrict words to only noun, adjective, verb and adverb\n",
    "def lemmatization(texts, allowed_postags = ['NOUN', 'ADJ', 'VERB', 'ADV']):\n",
    "  \"\"\"https://spacy.io/api/annotation\"\"\"\n",
    "  texts_out = []\n",
    "  for sent in texts:\n",
    "    doc = nlp(\" \".join(sent)) \n",
    "    texts_out.append([token.lemma_ for token in doc if token.pos_ in allowed_postags])\n",
    "    \n",
    "  return texts_out\n",
    "\n",
    "# Initialize spacy 'en' model, keeping only tagger component (for efficiency)\n",
    "nlp = spacy.load('en_core_web_sm', disable=['parser', 'ner'])\n",
    "# Do lemmatization keeping only noun, adj, vb, adv\n",
    "data_lemmatized = lemmatization(data_words, allowed_postags=['NOUN', 'ADJ', 'VERB', 'ADV'])"
   ]
  },
  {
   "cell_type": "code",
   "execution_count": null,
   "metadata": {
    "colab": {},
    "colab_type": "code",
    "id": "sfCUjBLTz2Dp"
   },
   "outputs": [],
   "source": [
    "# Create Dictionary\n",
    "id2word = corpora.Dictionary(data_lemmatized)\n",
    "# Create Corpus\n",
    "texts = data_lemmatized\n",
    "# Term Document Frequency\n",
    "corpus = [id2word.doc2bow(text) for text in texts]"
   ]
  },
  {
   "cell_type": "code",
   "execution_count": null,
   "metadata": {
    "colab": {},
    "colab_type": "code",
    "id": "YO6sNIpc4iD7"
   },
   "outputs": [],
   "source": [
    "start=24\n",
    "limit=32\n",
    "step=2\n",
    "random = 155"
   ]
  },
  {
   "cell_type": "code",
   "execution_count": null,
   "metadata": {
    "colab": {},
    "colab_type": "code",
    "id": "0eTclbX74lGf"
   },
   "outputs": [],
   "source": [
    "#Write the function to compute coherence values for each model. \n",
    "# This could help us choose how many topics should be included into our model.\n",
    "\n",
    "def compute_coherence_values(dictionary, corpus, texts, limit, start=1, step=1):\n",
    "    \"\"\"\n",
    "    Compute c_v coherence for various number of topics\n",
    "\n",
    "    Parameters:\n",
    "    ----------\n",
    "    dictionary : Gensim dictionary\n",
    "    corpus : Gensim corpus\n",
    "    texts : List of input texts\n",
    "    limit : Max num of topics\n",
    "\n",
    "    Returns:\n",
    "    -------\n",
    "    model_list : List of LDA topic models\n",
    "    coherence_values : Coherence values corresponding to the LDA model with respective number of topics\n",
    "    \"\"\"\n",
    "    coherence_values = []\n",
    "    model_list = []\n",
    "    for num_topics in range(start, limit, step):\n",
    "      model = gensim.models.wrappers.LdaMallet(mallet_path, corpus=corpus, num_topics=num_topics, id2word=id2word, random)\n",
    "                                                 #,random_seed=random\n",
    "      model.save('model5.lda')\n",
    "      model_list.append(model)\n",
    "      coherencemodel = CoherenceModel(model=model, texts=texts, dictionary=dictionary, coherence='c_v')\n",
    "      coherence_values.append(coherencemodel.get_coherence())\n",
    "\n",
    "    return model_list, coherence_values"
   ]
  },
  {
   "cell_type": "code",
   "execution_count": null,
   "metadata": {
    "colab": {
     "base_uri": "https://localhost:8080/",
     "height": 107
    },
    "colab_type": "code",
    "id": "GdGP-CqABkOh",
    "outputId": "94adf46b-8126-46c3-c3ff-d9e23bc383b3"
   },
   "outputs": [
    {
     "name": "stderr",
     "output_type": "stream",
     "text": [
      "/usr/local/lib/python3.6/dist-packages/smart_open/smart_open_lib.py:253: UserWarning:\n",
      "\n",
      "This function is deprecated, use smart_open.open instead. See the migration notes for details: https://github.com/RaRe-Technologies/smart_open/blob/master/README.rst#migrating-to-the-new-open-function\n",
      "\n"
     ]
    }
   ],
   "source": [
    "model_list, coherence_values = compute_coherence_values(dictionary=id2word, corpus=corpus, texts=data_lemmatized, start=start, limit=limit, step=step)"
   ]
  },
  {
   "cell_type": "code",
   "execution_count": null,
   "metadata": {
    "colab": {
     "base_uri": "https://localhost:8080/",
     "height": 279
    },
    "colab_type": "code",
    "id": "iZ9UWO6eETx3",
    "outputId": "0dc34740-84df-4421-c3af-563323208085"
   },
   "outputs": [
    {
     "data": {
      "image/png": "[encoded data removed]",
      "text/plain": [
       "<Figure size 432x288 with 1 Axes>"
      ]
     },
     "metadata": {
      "needs_background": "light",
      "tags": []
     },
     "output_type": "display_data"
    }
   ],
   "source": [
    "# plot the coherence values when number of topics equals to different numbers\n",
    "x = range(start, limit, step)\n",
    "plt.plot(x, coherence_values)\n",
    "plt.xlabel(\"Num Topics\")\n",
    "plt.ylabel(\"Coherence score\")\n",
    "plt.legend((\"coherence_values\"), loc='best')\n",
    "plt.show()"
   ]
  },
  {
   "cell_type": "code",
   "execution_count": null,
   "metadata": {
    "colab": {
     "base_uri": "https://localhost:8080/",
     "height": 87
    },
    "colab_type": "code",
    "id": "F4DTwpudEgXP",
    "outputId": "319f885f-5f72-40d1-ee2f-b69a07537e53"
   },
   "outputs": [
    {
     "name": "stdout",
     "output_type": "stream",
     "text": [
      "Num Topics = 24  has Coherence Value of 0.3313\n",
      "Num Topics = 26  has Coherence Value of 0.3291\n",
      "Num Topics = 28  has Coherence Value of 0.3339\n",
      "Num Topics = 30  has Coherence Value of 0.3315\n"
     ]
    }
   ],
   "source": [
    "# plot the coherence values when number of topics equals to different numbers\n",
    "for m, cv in zip(x, coherence_values):\n",
    "    print(\"Num Topics =\", m, \" has Coherence Value of\", round(cv, 4))"
   ]
  },
  {
   "cell_type": "markdown",
   "metadata": {
    "colab_type": "text",
    "id": "1pDpPki7E-n0"
   },
   "source": [
    "#### Finding Key Words for each topic using optimal LdaMallet model"
   ]
  },
  {
   "cell_type": "code",
   "execution_count": null,
   "metadata": {
    "colab": {
     "base_uri": "https://localhost:8080/",
     "height": 107
    },
    "colab_type": "code",
    "id": "jjLQsSQbE0MQ",
    "outputId": "0cb76366-6f84-4f6f-c003-e36ae2f8ec26"
   },
   "outputs": [
    {
     "name": "stderr",
     "output_type": "stream",
     "text": [
      "/usr/local/lib/python3.6/dist-packages/smart_open/smart_open_lib.py:253: UserWarning:\n",
      "\n",
      "This function is deprecated, use smart_open.open instead. See the migration notes for details: https://github.com/RaRe-Technologies/smart_open/blob/master/README.rst#migrating-to-the-new-open-function\n",
      "\n"
     ]
    }
   ],
   "source": [
    "ldamallet = gensim.models.wrappers.LdaMallet(mallet_path, \n",
    "                                             corpus=corpus,\n",
    "                                             num_topics=30, \n",
    "                                             id2word=id2word)"
   ]
  },
  {
   "cell_type": "code",
   "execution_count": null,
   "metadata": {
    "colab": {
     "base_uri": "https://localhost:8080/",
     "height": 1000
    },
    "colab_type": "code",
    "id": "-oxymNxeFFx1",
    "outputId": "9bbb5736-59da-4066-888d-13fa26340272"
   },
   "outputs": [
    {
     "name": "stdout",
     "output_type": "stream",
     "text": [
      "[(0,\n",
      "  '0.091*\"strategy\" + 0.086*\"today\" + 0.041*\"part\" + 0.038*\"register\" + '\n",
      "  '0.032*\"talk\" + 0.028*\"issue\" + 0.028*\"hear\" + 0.023*\"stay\"'),\n",
      " (1,\n",
      "  '0.070*\"week\" + 0.070*\"group\" + 0.052*\"event\" + 0.052*\"woman\" + '\n",
      "  '0.040*\"level\" + 0.027*\"forward\" + 0.024*\"talk\" + 0.020*\"summit\"'),\n",
      " (3,\n",
      "  '0.167*\"make\" + 0.097*\"money\" + 0.048*\"free\" + 0.035*\"online\" + 0.033*\"save\" '\n",
      "  '+ 0.027*\"thing\" + 0.026*\"click\" + 0.023*\"home\"'),\n",
      " (5,\n",
      "  '0.283*\"financial\" + 0.114*\"planning\" + 0.078*\"advice\" + 0.029*\"investment\" '\n",
      "  '+ 0.027*\"professional\" + 0.025*\"achieve\" + 0.023*\"offer\" + '\n",
      "  '0.021*\"comprehensive\"'),\n",
      " (6,\n",
      "  '0.189*\"firm\" + 0.067*\"partner\" + 0.045*\"senior\" + 0.044*\"lead\" + '\n",
      "  '0.038*\"acquire\" + 0.032*\"security\" + 0.032*\"role\" + 0.027*\"associate\"'),\n",
      " (7,\n",
      "  '0.092*\"people\" + 0.056*\"world\" + 0.040*\"move\" + 0.027*\"rich\" + '\n",
      "  '0.025*\"large\" + 0.025*\"show\" + 0.024*\"accord\" + 0.022*\"wealthy\"'),\n",
      " (8,\n",
      "  '0.156*\"year\" + 0.098*\"good\" + 0.071*\"top\" + 0.041*\"award\" + 0.038*\"include\" '\n",
      "  '+ 0.033*\"list\" + 0.023*\"win\" + 0.022*\"announce\"'),\n",
      " (11,\n",
      "  '0.222*\"business\" + 0.065*\"grow\" + 0.045*\"tip\" + 0.044*\"start\" + '\n",
      "  '0.033*\"analyst\" + 0.028*\"small\" + 0.027*\"walk\" + 0.022*\"successful\"'),\n",
      " (13,\n",
      "  '0.186*\"client\" + 0.131*\"find\" + 0.130*\"great\" + 0.110*\"provide\" + '\n",
      "  '0.057*\"leader\" + 0.029*\"stand\" + 0.027*\"competition\" + 0.016*\"focus\"'),\n",
      " (15,\n",
      "  '0.062*\"big\" + 0.037*\"question\" + 0.036*\"money\" + 0.034*\"director\" + '\n",
      "  '0.032*\"information\" + 0.030*\"manage\" + 0.029*\"approach\" + 0.028*\"protect\"'),\n",
      " (17,\n",
      "  '0.188*\"advisor\" + 0.122*\"financial\" + 0.098*\"firm\" + 0.040*\"adviser\" + '\n",
      "  '0.036*\"practice\" + 0.034*\"advisory\" + 0.020*\"add\" + 0.015*\"hire\"'),\n",
      " (18,\n",
      "  '0.117*\"time\" + 0.063*\"high\" + 0.031*\"long\" + 0.028*\"term\" + 0.027*\"put\" + '\n",
      "  '0.025*\"worth\" + 0.025*\"leave\" + 0.024*\"net\"'),\n",
      " (19,\n",
      "  '0.118*\"share\" + 0.102*\"company\" + 0.079*\"buy\" + 0.077*\"fund\" + 0.051*\"sell\" '\n",
      "  '+ 0.040*\"stock\" + 0.031*\"invest\" + 0.029*\"mutual\"'),\n",
      " (20,\n",
      "  '0.066*\"support\" + 0.054*\"day\" + 0.041*\"sponsor\" + 0.034*\"member\" + '\n",
      "  '0.025*\"community\" + 0.022*\"love\" + 0.021*\"happy\" + 0.020*\"podcast\"'),\n",
      " (21,\n",
      "  '0.159*\"private\" + 0.100*\"bank\" + 0.086*\"banking\" + 0.046*\"head\" + '\n",
      "  '0.041*\"global\" + 0.030*\"retail\" + 0.027*\"unit\" + 0.024*\"equity\"'),\n",
      " (22,\n",
      "  '0.159*\"read\" + 0.092*\"late\" + 0.064*\"check\" + 0.051*\"article\" + '\n",
      "  '0.044*\"news\" + 0.035*\"follow\" + 0.033*\"post\" + 0.031*\"full\"'),\n",
      " (24,\n",
      "  '0.088*\"platform\" + 0.085*\"digital\" + 0.049*\"service\" + 0.033*\"base\" + '\n",
      "  '0.033*\"drive\" + 0.031*\"area\" + 0.030*\"tool\" + 0.028*\"trade\"'),\n",
      " (26,\n",
      "  '0.117*\"manager\" + 0.081*\"finance\" + 0.056*\"personal\" + 0.044*\"trust\" + '\n",
      "  '0.042*\"relationship\" + 0.041*\"technology\" + 0.039*\"insight\" + 0.036*\"sale\"'),\n",
      " (27,\n",
      "  '0.121*\"asset\" + 0.083*\"invest\" + 0.066*\"portfolio\" + 0.065*\"give\" + '\n",
      "  '0.064*\"risk\" + 0.051*\"manage\" + 0.045*\"account\" + 0.034*\"investment\"'),\n",
      " (28,\n",
      "  '0.131*\"service\" + 0.077*\"solution\" + 0.051*\"offer\" + 0.046*\"launch\" + '\n",
      "  '0.041*\"technology\" + 0.039*\"product\" + 0.032*\"fintech\" + 0.028*\"create\"')]\n"
     ]
    }
   ],
   "source": [
    "# Show Topics\n",
    "model_topics = ldamallet.show_topics(formatted=False)\n",
    "pprint(sorted(ldamallet.print_topics(num_words=8)))"
   ]
  },
  {
   "cell_type": "markdown",
   "metadata": {
    "colab_type": "text",
    "id": "Ed7TrlJEQHri"
   },
   "source": [
    "### Visualization using PyLDavis\n",
    "\n",
    "> [COVID-19 Mental Health Related Sentiment Analysis](https://towardsdatascience.com/how-to-protect-your-mental-health-during-the-covid-19-3840e4015435)\n",
    "\n"
   ]
  },
  {
   "cell_type": "code",
   "execution_count": null,
   "metadata": {
    "colab": {
     "base_uri": "https://localhost:8080/",
     "height": 107
    },
    "colab_type": "code",
    "id": "wuRh0IBoH2Qt",
    "outputId": "22191199-4213-43a6-c673-df006f3ae177"
   },
   "outputs": [
    {
     "name": "stderr",
     "output_type": "stream",
     "text": [
      "/usr/local/lib/python3.6/dist-packages/smart_open/smart_open_lib.py:253: UserWarning:\n",
      "\n",
      "This function is deprecated, use smart_open.open instead. See the migration notes for details: https://github.com/RaRe-Technologies/smart_open/blob/master/README.rst#migrating-to-the-new-open-function\n",
      "\n"
     ]
    }
   ],
   "source": [
    "import pickle\n",
    "pickle.dump(corpus, open('corpus.pkl', 'wb'))\n",
    "id2word.save('dictionary.lda')"
   ]
  },
  {
   "cell_type": "code",
   "execution_count": null,
   "metadata": {
    "colab": {},
    "colab_type": "code",
    "id": "MoE0ljTfGxif"
   },
   "outputs": [],
   "source": [
    "ldamodel.save('model5.gensim')\n",
    "topics = ldamodel.print_topics(num_words = 5)"
   ]
  }
 ],
 "metadata": {
  "colab": {
   "name": "Wealth Management Data Preprocessing and EDA.ipynb",
   "provenance": [],
   "toc_visible": true
  },
  "kernelspec": {
   "display_name": "Python 3",
   "language": "python",
   "name": "python3"
  },
  "language_info": {
   "codemirror_mode": {
    "name": "ipython",
    "version": 3
   },
   "file_extension": ".py",
   "mimetype": "text/x-python",
   "name": "python",
   "nbconvert_exporter": "python",
   "pygments_lexer": "ipython3",
   "version": "3.7.7"
  }
 },
 "nbformat": 4,
 "nbformat_minor": 1
}
